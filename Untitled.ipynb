{
 "cells": [
  {
   "cell_type": "markdown",
   "metadata": {},
   "source": [
    "## Final Project Submission\n",
    "\n",
    "Please fill out:\n",
    "* Student name: Jessica Forrest-Baldini\n",
    "* Student pace: Part-time\n",
    "* Scheduled project review date/time: \n",
    "* Instructor name: \n",
    "* Blog post URL:\n"
   ]
  },
  {
   "cell_type": "markdown",
   "metadata": {},
   "source": [
    "## Import Packages & Data"
   ]
  },
  {
   "cell_type": "code",
   "execution_count": 1,
   "metadata": {},
   "outputs": [],
   "source": [
    "import pandas as pd\n",
    "import numpy as np\n",
    "import seaborn as sns\n",
    "import scipy.stats as stats\n",
    "from datetime import datetime as date\n",
    "import matplotlib.pyplot as plt\n",
    "%matplotlib inline\n",
    "\n",
    "from statsmodels.formula.api import ols\n",
    "from statsmodels.stats.outliers_influence import variance_inflation_factor\n",
    "import statsmodels.api as sm\n",
    "from sklearn.model_selection import train_test_split\n",
    "from sklearn import preprocessing\n",
    "from sklearn.linear_model import LinearRegression\n",
    "\n",
    "\n",
    "data = pd.read_csv('kc_house_data.csv') \n",
    "df = pd.DataFrame(data)"
   ]
  },
  {
   "cell_type": "markdown",
   "metadata": {},
   "source": [
    "## Investigate & Clean Data"
   ]
  },
  {
   "cell_type": "code",
   "execution_count": 2,
   "metadata": {},
   "outputs": [
    {
     "data": {
      "text/html": [
       "<div>\n",
       "<style scoped>\n",
       "    .dataframe tbody tr th:only-of-type {\n",
       "        vertical-align: middle;\n",
       "    }\n",
       "\n",
       "    .dataframe tbody tr th {\n",
       "        vertical-align: top;\n",
       "    }\n",
       "\n",
       "    .dataframe thead th {\n",
       "        text-align: right;\n",
       "    }\n",
       "</style>\n",
       "<table border=\"1\" class=\"dataframe\">\n",
       "  <thead>\n",
       "    <tr style=\"text-align: right;\">\n",
       "      <th></th>\n",
       "      <th>id</th>\n",
       "      <th>date</th>\n",
       "      <th>price</th>\n",
       "      <th>bedrooms</th>\n",
       "      <th>bathrooms</th>\n",
       "      <th>sqft_living</th>\n",
       "      <th>sqft_lot</th>\n",
       "      <th>floors</th>\n",
       "      <th>waterfront</th>\n",
       "      <th>view</th>\n",
       "      <th>...</th>\n",
       "      <th>grade</th>\n",
       "      <th>sqft_above</th>\n",
       "      <th>sqft_basement</th>\n",
       "      <th>yr_built</th>\n",
       "      <th>yr_renovated</th>\n",
       "      <th>zipcode</th>\n",
       "      <th>lat</th>\n",
       "      <th>long</th>\n",
       "      <th>sqft_living15</th>\n",
       "      <th>sqft_lot15</th>\n",
       "    </tr>\n",
       "  </thead>\n",
       "  <tbody>\n",
       "    <tr>\n",
       "      <td>0</td>\n",
       "      <td>7129300520</td>\n",
       "      <td>10/13/2014</td>\n",
       "      <td>221900.0</td>\n",
       "      <td>3</td>\n",
       "      <td>1.00</td>\n",
       "      <td>1180</td>\n",
       "      <td>5650</td>\n",
       "      <td>1.0</td>\n",
       "      <td>NaN</td>\n",
       "      <td>0.0</td>\n",
       "      <td>...</td>\n",
       "      <td>7</td>\n",
       "      <td>1180</td>\n",
       "      <td>0.0</td>\n",
       "      <td>1955</td>\n",
       "      <td>0.0</td>\n",
       "      <td>98178</td>\n",
       "      <td>47.5112</td>\n",
       "      <td>-122.257</td>\n",
       "      <td>1340</td>\n",
       "      <td>5650</td>\n",
       "    </tr>\n",
       "    <tr>\n",
       "      <td>1</td>\n",
       "      <td>6414100192</td>\n",
       "      <td>12/9/2014</td>\n",
       "      <td>538000.0</td>\n",
       "      <td>3</td>\n",
       "      <td>2.25</td>\n",
       "      <td>2570</td>\n",
       "      <td>7242</td>\n",
       "      <td>2.0</td>\n",
       "      <td>0.0</td>\n",
       "      <td>0.0</td>\n",
       "      <td>...</td>\n",
       "      <td>7</td>\n",
       "      <td>2170</td>\n",
       "      <td>400.0</td>\n",
       "      <td>1951</td>\n",
       "      <td>1991.0</td>\n",
       "      <td>98125</td>\n",
       "      <td>47.7210</td>\n",
       "      <td>-122.319</td>\n",
       "      <td>1690</td>\n",
       "      <td>7639</td>\n",
       "    </tr>\n",
       "    <tr>\n",
       "      <td>2</td>\n",
       "      <td>5631500400</td>\n",
       "      <td>2/25/2015</td>\n",
       "      <td>180000.0</td>\n",
       "      <td>2</td>\n",
       "      <td>1.00</td>\n",
       "      <td>770</td>\n",
       "      <td>10000</td>\n",
       "      <td>1.0</td>\n",
       "      <td>0.0</td>\n",
       "      <td>0.0</td>\n",
       "      <td>...</td>\n",
       "      <td>6</td>\n",
       "      <td>770</td>\n",
       "      <td>0.0</td>\n",
       "      <td>1933</td>\n",
       "      <td>NaN</td>\n",
       "      <td>98028</td>\n",
       "      <td>47.7379</td>\n",
       "      <td>-122.233</td>\n",
       "      <td>2720</td>\n",
       "      <td>8062</td>\n",
       "    </tr>\n",
       "    <tr>\n",
       "      <td>3</td>\n",
       "      <td>2487200875</td>\n",
       "      <td>12/9/2014</td>\n",
       "      <td>604000.0</td>\n",
       "      <td>4</td>\n",
       "      <td>3.00</td>\n",
       "      <td>1960</td>\n",
       "      <td>5000</td>\n",
       "      <td>1.0</td>\n",
       "      <td>0.0</td>\n",
       "      <td>0.0</td>\n",
       "      <td>...</td>\n",
       "      <td>7</td>\n",
       "      <td>1050</td>\n",
       "      <td>910.0</td>\n",
       "      <td>1965</td>\n",
       "      <td>0.0</td>\n",
       "      <td>98136</td>\n",
       "      <td>47.5208</td>\n",
       "      <td>-122.393</td>\n",
       "      <td>1360</td>\n",
       "      <td>5000</td>\n",
       "    </tr>\n",
       "    <tr>\n",
       "      <td>4</td>\n",
       "      <td>1954400510</td>\n",
       "      <td>2/18/2015</td>\n",
       "      <td>510000.0</td>\n",
       "      <td>3</td>\n",
       "      <td>2.00</td>\n",
       "      <td>1680</td>\n",
       "      <td>8080</td>\n",
       "      <td>1.0</td>\n",
       "      <td>0.0</td>\n",
       "      <td>0.0</td>\n",
       "      <td>...</td>\n",
       "      <td>8</td>\n",
       "      <td>1680</td>\n",
       "      <td>0.0</td>\n",
       "      <td>1987</td>\n",
       "      <td>0.0</td>\n",
       "      <td>98074</td>\n",
       "      <td>47.6168</td>\n",
       "      <td>-122.045</td>\n",
       "      <td>1800</td>\n",
       "      <td>7503</td>\n",
       "    </tr>\n",
       "  </tbody>\n",
       "</table>\n",
       "<p>5 rows × 21 columns</p>\n",
       "</div>"
      ],
      "text/plain": [
       "           id        date     price  bedrooms  bathrooms  sqft_living  \\\n",
       "0  7129300520  10/13/2014  221900.0         3       1.00         1180   \n",
       "1  6414100192   12/9/2014  538000.0         3       2.25         2570   \n",
       "2  5631500400   2/25/2015  180000.0         2       1.00          770   \n",
       "3  2487200875   12/9/2014  604000.0         4       3.00         1960   \n",
       "4  1954400510   2/18/2015  510000.0         3       2.00         1680   \n",
       "\n",
       "   sqft_lot  floors  waterfront  view  ...  grade  sqft_above  sqft_basement  \\\n",
       "0      5650     1.0         NaN   0.0  ...      7        1180            0.0   \n",
       "1      7242     2.0         0.0   0.0  ...      7        2170          400.0   \n",
       "2     10000     1.0         0.0   0.0  ...      6         770            0.0   \n",
       "3      5000     1.0         0.0   0.0  ...      7        1050          910.0   \n",
       "4      8080     1.0         0.0   0.0  ...      8        1680            0.0   \n",
       "\n",
       "  yr_built  yr_renovated  zipcode      lat     long  sqft_living15  sqft_lot15  \n",
       "0     1955           0.0    98178  47.5112 -122.257           1340        5650  \n",
       "1     1951        1991.0    98125  47.7210 -122.319           1690        7639  \n",
       "2     1933           NaN    98028  47.7379 -122.233           2720        8062  \n",
       "3     1965           0.0    98136  47.5208 -122.393           1360        5000  \n",
       "4     1987           0.0    98074  47.6168 -122.045           1800        7503  \n",
       "\n",
       "[5 rows x 21 columns]"
      ]
     },
     "execution_count": 2,
     "metadata": {},
     "output_type": "execute_result"
    }
   ],
   "source": [
    "# Take an initial look at the columns and datatypes\n",
    "df.head()"
   ]
  },
  {
   "cell_type": "code",
   "execution_count": 3,
   "metadata": {},
   "outputs": [
    {
     "name": "stdout",
     "output_type": "stream",
     "text": [
      "<class 'pandas.core.frame.DataFrame'>\n",
      "RangeIndex: 21597 entries, 0 to 21596\n",
      "Data columns (total 21 columns):\n",
      "id               21597 non-null int64\n",
      "date             21597 non-null object\n",
      "price            21597 non-null float64\n",
      "bedrooms         21597 non-null int64\n",
      "bathrooms        21597 non-null float64\n",
      "sqft_living      21597 non-null int64\n",
      "sqft_lot         21597 non-null int64\n",
      "floors           21597 non-null float64\n",
      "waterfront       19221 non-null float64\n",
      "view             21534 non-null float64\n",
      "condition        21597 non-null int64\n",
      "grade            21597 non-null int64\n",
      "sqft_above       21597 non-null int64\n",
      "sqft_basement    21597 non-null object\n",
      "yr_built         21597 non-null int64\n",
      "yr_renovated     17755 non-null float64\n",
      "zipcode          21597 non-null int64\n",
      "lat              21597 non-null float64\n",
      "long             21597 non-null float64\n",
      "sqft_living15    21597 non-null int64\n",
      "sqft_lot15       21597 non-null int64\n",
      "dtypes: float64(8), int64(11), object(2)\n",
      "memory usage: 3.5+ MB\n"
     ]
    }
   ],
   "source": [
    "# Look for null data and check datatypes\n",
    "df.info()"
   ]
  },
  {
   "cell_type": "markdown",
   "metadata": {},
   "source": [
    "Looks like 'date' may be in string format, as well as 'sqft_basement'. We can also see that 'waterfront' and 'yr_renovated' may be missing some values.\n",
    "\n",
    "Let's go ahead and clean 'date' and 'sqft_basement'. I'm going to convert 'date' into a MATLAB style datenumber so I can use it in my model. It can always be removed if it doesn't seem relevant.\n",
    "\n",
    "We can also take a look at 'waterfront' and 'yr_renovated' with summary statistics."
   ]
  },
  {
   "cell_type": "code",
   "execution_count": 4,
   "metadata": {},
   "outputs": [],
   "source": [
    "# Define function to convert datestr to datenum\n",
    "def datenum(datestr):\n",
    "    '''\n",
    "    Convert datestring in the format MM/DD/YYYY\n",
    "    to MATLAB style datenum\n",
    "    '''\n",
    "    datenum = date.toordinal(date((int(datestr.split('/', -1)[2])),\n",
    "                                  (int(datestr.split('/', -1)[0])),\n",
    "                                  (int(datestr.split('/', -1)[1]))\n",
    "                                 ))+366\n",
    "    return datenum\n",
    "\n",
    "# Apply to date column\n",
    "df.date = df.date.map(datenum)"
   ]
  },
  {
   "cell_type": "markdown",
   "metadata": {},
   "source": [
    "Basement appears to be in string format and use '?' in place of 'NaN'. For now I'm going to replace '?' with 'NaN', and convert data type from string to float. I'll decide what I'm going to do with the 'NaN' values after some further exploration."
   ]
  },
  {
   "cell_type": "code",
   "execution_count": 5,
   "metadata": {},
   "outputs": [],
   "source": [
    "# Replace '?' with 'NaN' and change type from string to float\n",
    "df.sqft_basement = df.sqft_basement.replace('?','NaN').astype(float)"
   ]
  },
  {
   "cell_type": "code",
   "execution_count": 6,
   "metadata": {},
   "outputs": [
    {
     "data": {
      "text/html": [
       "<div>\n",
       "<style scoped>\n",
       "    .dataframe tbody tr th:only-of-type {\n",
       "        vertical-align: middle;\n",
       "    }\n",
       "\n",
       "    .dataframe tbody tr th {\n",
       "        vertical-align: top;\n",
       "    }\n",
       "\n",
       "    .dataframe thead th {\n",
       "        text-align: right;\n",
       "    }\n",
       "</style>\n",
       "<table border=\"1\" class=\"dataframe\">\n",
       "  <thead>\n",
       "    <tr style=\"text-align: right;\">\n",
       "      <th></th>\n",
       "      <th>id</th>\n",
       "      <th>date</th>\n",
       "      <th>price</th>\n",
       "      <th>bedrooms</th>\n",
       "      <th>bathrooms</th>\n",
       "      <th>sqft_living</th>\n",
       "      <th>sqft_lot</th>\n",
       "      <th>floors</th>\n",
       "      <th>waterfront</th>\n",
       "      <th>view</th>\n",
       "      <th>...</th>\n",
       "      <th>grade</th>\n",
       "      <th>sqft_above</th>\n",
       "      <th>sqft_basement</th>\n",
       "      <th>yr_built</th>\n",
       "      <th>yr_renovated</th>\n",
       "      <th>zipcode</th>\n",
       "      <th>lat</th>\n",
       "      <th>long</th>\n",
       "      <th>sqft_living15</th>\n",
       "      <th>sqft_lot15</th>\n",
       "    </tr>\n",
       "  </thead>\n",
       "  <tbody>\n",
       "    <tr>\n",
       "      <td>count</td>\n",
       "      <td>2.159700e+04</td>\n",
       "      <td>21597.00</td>\n",
       "      <td>21597.00</td>\n",
       "      <td>21597.00</td>\n",
       "      <td>21597.00</td>\n",
       "      <td>21597.00</td>\n",
       "      <td>21597.00</td>\n",
       "      <td>21597.00</td>\n",
       "      <td>19221.00</td>\n",
       "      <td>21534.00</td>\n",
       "      <td>...</td>\n",
       "      <td>21597.00</td>\n",
       "      <td>21597.00</td>\n",
       "      <td>21143.00</td>\n",
       "      <td>21597.00</td>\n",
       "      <td>17755.00</td>\n",
       "      <td>21597.00</td>\n",
       "      <td>21597.00</td>\n",
       "      <td>21597.00</td>\n",
       "      <td>21597.00</td>\n",
       "      <td>21597.00</td>\n",
       "    </tr>\n",
       "    <tr>\n",
       "      <td>mean</td>\n",
       "      <td>4.580474e+09</td>\n",
       "      <td>735901.18</td>\n",
       "      <td>540296.57</td>\n",
       "      <td>3.37</td>\n",
       "      <td>2.12</td>\n",
       "      <td>2080.32</td>\n",
       "      <td>15099.41</td>\n",
       "      <td>1.49</td>\n",
       "      <td>0.01</td>\n",
       "      <td>0.23</td>\n",
       "      <td>...</td>\n",
       "      <td>7.66</td>\n",
       "      <td>1788.60</td>\n",
       "      <td>291.85</td>\n",
       "      <td>1971.00</td>\n",
       "      <td>83.64</td>\n",
       "      <td>98077.95</td>\n",
       "      <td>47.56</td>\n",
       "      <td>-122.21</td>\n",
       "      <td>1986.62</td>\n",
       "      <td>12758.28</td>\n",
       "    </tr>\n",
       "    <tr>\n",
       "      <td>std</td>\n",
       "      <td>2.876736e+09</td>\n",
       "      <td>113.06</td>\n",
       "      <td>367368.14</td>\n",
       "      <td>0.93</td>\n",
       "      <td>0.77</td>\n",
       "      <td>918.11</td>\n",
       "      <td>41412.64</td>\n",
       "      <td>0.54</td>\n",
       "      <td>0.09</td>\n",
       "      <td>0.77</td>\n",
       "      <td>...</td>\n",
       "      <td>1.17</td>\n",
       "      <td>827.76</td>\n",
       "      <td>442.50</td>\n",
       "      <td>29.38</td>\n",
       "      <td>399.95</td>\n",
       "      <td>53.51</td>\n",
       "      <td>0.14</td>\n",
       "      <td>0.14</td>\n",
       "      <td>685.23</td>\n",
       "      <td>27274.44</td>\n",
       "    </tr>\n",
       "    <tr>\n",
       "      <td>min</td>\n",
       "      <td>1.000102e+06</td>\n",
       "      <td>735721.00</td>\n",
       "      <td>78000.00</td>\n",
       "      <td>1.00</td>\n",
       "      <td>0.50</td>\n",
       "      <td>370.00</td>\n",
       "      <td>520.00</td>\n",
       "      <td>1.00</td>\n",
       "      <td>0.00</td>\n",
       "      <td>0.00</td>\n",
       "      <td>...</td>\n",
       "      <td>3.00</td>\n",
       "      <td>370.00</td>\n",
       "      <td>0.00</td>\n",
       "      <td>1900.00</td>\n",
       "      <td>0.00</td>\n",
       "      <td>98001.00</td>\n",
       "      <td>47.16</td>\n",
       "      <td>-122.52</td>\n",
       "      <td>399.00</td>\n",
       "      <td>651.00</td>\n",
       "    </tr>\n",
       "    <tr>\n",
       "      <td>25%</td>\n",
       "      <td>2.123049e+09</td>\n",
       "      <td>735802.00</td>\n",
       "      <td>322000.00</td>\n",
       "      <td>3.00</td>\n",
       "      <td>1.75</td>\n",
       "      <td>1430.00</td>\n",
       "      <td>5040.00</td>\n",
       "      <td>1.00</td>\n",
       "      <td>0.00</td>\n",
       "      <td>0.00</td>\n",
       "      <td>...</td>\n",
       "      <td>7.00</td>\n",
       "      <td>1190.00</td>\n",
       "      <td>0.00</td>\n",
       "      <td>1951.00</td>\n",
       "      <td>0.00</td>\n",
       "      <td>98033.00</td>\n",
       "      <td>47.47</td>\n",
       "      <td>-122.33</td>\n",
       "      <td>1490.00</td>\n",
       "      <td>5100.00</td>\n",
       "    </tr>\n",
       "    <tr>\n",
       "      <td>50%</td>\n",
       "      <td>3.904930e+09</td>\n",
       "      <td>735888.00</td>\n",
       "      <td>450000.00</td>\n",
       "      <td>3.00</td>\n",
       "      <td>2.25</td>\n",
       "      <td>1910.00</td>\n",
       "      <td>7618.00</td>\n",
       "      <td>1.50</td>\n",
       "      <td>0.00</td>\n",
       "      <td>0.00</td>\n",
       "      <td>...</td>\n",
       "      <td>7.00</td>\n",
       "      <td>1560.00</td>\n",
       "      <td>0.00</td>\n",
       "      <td>1975.00</td>\n",
       "      <td>0.00</td>\n",
       "      <td>98065.00</td>\n",
       "      <td>47.57</td>\n",
       "      <td>-122.23</td>\n",
       "      <td>1840.00</td>\n",
       "      <td>7620.00</td>\n",
       "    </tr>\n",
       "    <tr>\n",
       "      <td>75%</td>\n",
       "      <td>7.308900e+09</td>\n",
       "      <td>736012.00</td>\n",
       "      <td>645000.00</td>\n",
       "      <td>4.00</td>\n",
       "      <td>2.50</td>\n",
       "      <td>2550.00</td>\n",
       "      <td>10685.00</td>\n",
       "      <td>2.00</td>\n",
       "      <td>0.00</td>\n",
       "      <td>0.00</td>\n",
       "      <td>...</td>\n",
       "      <td>8.00</td>\n",
       "      <td>2210.00</td>\n",
       "      <td>560.00</td>\n",
       "      <td>1997.00</td>\n",
       "      <td>0.00</td>\n",
       "      <td>98118.00</td>\n",
       "      <td>47.68</td>\n",
       "      <td>-122.12</td>\n",
       "      <td>2360.00</td>\n",
       "      <td>10083.00</td>\n",
       "    </tr>\n",
       "    <tr>\n",
       "      <td>max</td>\n",
       "      <td>9.900000e+09</td>\n",
       "      <td>736111.00</td>\n",
       "      <td>7700000.00</td>\n",
       "      <td>33.00</td>\n",
       "      <td>8.00</td>\n",
       "      <td>13540.00</td>\n",
       "      <td>1651359.00</td>\n",
       "      <td>3.50</td>\n",
       "      <td>1.00</td>\n",
       "      <td>4.00</td>\n",
       "      <td>...</td>\n",
       "      <td>13.00</td>\n",
       "      <td>9410.00</td>\n",
       "      <td>4820.00</td>\n",
       "      <td>2015.00</td>\n",
       "      <td>2015.00</td>\n",
       "      <td>98199.00</td>\n",
       "      <td>47.78</td>\n",
       "      <td>-121.32</td>\n",
       "      <td>6210.00</td>\n",
       "      <td>871200.00</td>\n",
       "    </tr>\n",
       "  </tbody>\n",
       "</table>\n",
       "<p>8 rows × 21 columns</p>\n",
       "</div>"
      ],
      "text/plain": [
       "                 id       date       price  bedrooms  bathrooms  sqft_living  \\\n",
       "count  2.159700e+04   21597.00    21597.00  21597.00   21597.00     21597.00   \n",
       "mean   4.580474e+09  735901.18   540296.57      3.37       2.12      2080.32   \n",
       "std    2.876736e+09     113.06   367368.14      0.93       0.77       918.11   \n",
       "min    1.000102e+06  735721.00    78000.00      1.00       0.50       370.00   \n",
       "25%    2.123049e+09  735802.00   322000.00      3.00       1.75      1430.00   \n",
       "50%    3.904930e+09  735888.00   450000.00      3.00       2.25      1910.00   \n",
       "75%    7.308900e+09  736012.00   645000.00      4.00       2.50      2550.00   \n",
       "max    9.900000e+09  736111.00  7700000.00     33.00       8.00     13540.00   \n",
       "\n",
       "         sqft_lot    floors  waterfront      view  ...     grade  sqft_above  \\\n",
       "count    21597.00  21597.00    19221.00  21534.00  ...  21597.00    21597.00   \n",
       "mean     15099.41      1.49        0.01      0.23  ...      7.66     1788.60   \n",
       "std      41412.64      0.54        0.09      0.77  ...      1.17      827.76   \n",
       "min        520.00      1.00        0.00      0.00  ...      3.00      370.00   \n",
       "25%       5040.00      1.00        0.00      0.00  ...      7.00     1190.00   \n",
       "50%       7618.00      1.50        0.00      0.00  ...      7.00     1560.00   \n",
       "75%      10685.00      2.00        0.00      0.00  ...      8.00     2210.00   \n",
       "max    1651359.00      3.50        1.00      4.00  ...     13.00     9410.00   \n",
       "\n",
       "       sqft_basement  yr_built  yr_renovated   zipcode       lat      long  \\\n",
       "count       21143.00  21597.00      17755.00  21597.00  21597.00  21597.00   \n",
       "mean          291.85   1971.00         83.64  98077.95     47.56   -122.21   \n",
       "std           442.50     29.38        399.95     53.51      0.14      0.14   \n",
       "min             0.00   1900.00          0.00  98001.00     47.16   -122.52   \n",
       "25%             0.00   1951.00          0.00  98033.00     47.47   -122.33   \n",
       "50%             0.00   1975.00          0.00  98065.00     47.57   -122.23   \n",
       "75%           560.00   1997.00          0.00  98118.00     47.68   -122.12   \n",
       "max          4820.00   2015.00       2015.00  98199.00     47.78   -121.32   \n",
       "\n",
       "       sqft_living15  sqft_lot15  \n",
       "count       21597.00    21597.00  \n",
       "mean         1986.62    12758.28  \n",
       "std           685.23    27274.44  \n",
       "min           399.00      651.00  \n",
       "25%          1490.00     5100.00  \n",
       "50%          1840.00     7620.00  \n",
       "75%          2360.00    10083.00  \n",
       "max          6210.00   871200.00  \n",
       "\n",
       "[8 rows x 21 columns]"
      ]
     },
     "execution_count": 6,
     "metadata": {},
     "output_type": "execute_result"
    }
   ],
   "source": [
    "# Take a further look with summary statistics\n",
    "df.describe().round(2)"
   ]
  },
  {
   "cell_type": "markdown",
   "metadata": {},
   "source": [
    "Bedrooms appears to have an outlier with 33 bedrooms. Upon further investigation, this home only has 1.75 bathrooms, so perhaps this was intended to be a 3 bedroom house, but the datapoint was entered incorrectly. For now I'm going to remove this value, but it could always be adjusted to 3 bedrooms and kept. "
   ]
  },
  {
   "cell_type": "code",
   "execution_count": 7,
   "metadata": {},
   "outputs": [],
   "source": [
    "# Drop outlier with 33 bedrooms\n",
    "to_drop = df[df.bedrooms == 33].index\n",
    "df = df.drop(to_drop)"
   ]
  },
  {
   "cell_type": "code",
   "execution_count": 8,
   "metadata": {},
   "outputs": [
    {
     "data": {
      "text/plain": [
       "id                  0\n",
       "date                0\n",
       "price               0\n",
       "bedrooms            0\n",
       "bathrooms           0\n",
       "sqft_living         0\n",
       "sqft_lot            0\n",
       "floors              0\n",
       "waterfront       2376\n",
       "view               63\n",
       "condition           0\n",
       "grade               0\n",
       "sqft_above          0\n",
       "sqft_basement     454\n",
       "yr_built            0\n",
       "yr_renovated     3842\n",
       "zipcode             0\n",
       "lat                 0\n",
       "long                0\n",
       "sqft_living15       0\n",
       "sqft_lot15          0\n",
       "dtype: int64"
      ]
     },
     "execution_count": 8,
     "metadata": {},
     "output_type": "execute_result"
    }
   ],
   "source": [
    "# Check for null data\n",
    "df.isna().sum()"
   ]
  },
  {
   "cell_type": "markdown",
   "metadata": {},
   "source": [
    "We can see that 'waterfront', 'view', 'sqft_basement', and 'yr_renovated' have null data. Let's explore and see what to do on a case by case basis for each variable. \n",
    "\n",
    "We'll start by taking a look at the distributions."
   ]
  },
  {
   "cell_type": "code",
   "execution_count": 9,
   "metadata": {},
   "outputs": [
    {
     "data": {
      "image/png": "[encoded data removed]",
      "text/plain": [
       "<Figure size 1152x864 with 25 Axes>"
      ]
     },
     "metadata": {
      "needs_background": "light"
     },
     "output_type": "display_data"
    }
   ],
   "source": [
    "df.hist(figsize=(16,12));"
   ]
  },
  {
   "cell_type": "markdown",
   "metadata": {},
   "source": [
    "We can see that a lot of the features that may or may not be present, but when present have continuous numerical values, are skewed right due to the presence of many zeros. This is the case with: 'sqft_above', 'sqft_basement', 'view', and 'yr_renovated'. \n",
    "\n",
    "'waterfront' appears to be categorical and can be turned into dummy variables. 'condition' and 'grade' are as well, but we're going to treat them as continuous as they are on a scale. \n",
    "\n",
    "We can also see some features are skewed right due to outliers, or just that the majority of the data points have relatively lower values.  This is the case with: 'price', 'sqft_living', 'sqft_living15', 'sqft_lot', 'sqft_lot15'."
   ]
  },
  {
   "cell_type": "code",
   "execution_count": 10,
   "metadata": {},
   "outputs": [],
   "source": [
    "# Drop 'view' and 'id' as view is how many times a home has been viewed; these are not relevant to our model\n",
    "# Drop 'lat' and 'long', although they were shown to be significant in previous models, since\n",
    "# the business case is looking at how to add value to homes, we will remove them, same with\n",
    "# 'waterfront' and 'zipcode'. \n",
    "drop = ['view','id','lat','long','waterfront','sqft_living15','sqft_lot15'] #'zipcode',\n",
    "df = df.drop(drop, axis=1)"
   ]
  },
  {
   "cell_type": "code",
   "execution_count": 11,
   "metadata": {},
   "outputs": [],
   "source": [
    "# Since 'waterfront' is binary categorical, and there are only 2376 values, \n",
    "# I'm going to replace 'NaN' with zero. \n",
    "# df.waterfront = df.waterfront.fillna(0.0)"
   ]
  },
  {
   "cell_type": "code",
   "execution_count": 12,
   "metadata": {},
   "outputs": [],
   "source": [
    "# Since 'sqft_basement' only has 454 values, and is not always present, I'm going to replace\n",
    "# with the median\n",
    "df.sqft_basement = df.sqft_basement.fillna(df.sqft_basement.median())"
   ]
  },
  {
   "cell_type": "code",
   "execution_count": 13,
   "metadata": {},
   "outputs": [],
   "source": [
    "# Since not all homes have been renovated, I'm going to replace the 'NaN' values for \n",
    "# 'yr_renovated' with '0'\n",
    "df.yr_renovated = df.yr_renovated.fillna(0)"
   ]
  },
  {
   "cell_type": "code",
   "execution_count": 14,
   "metadata": {},
   "outputs": [],
   "source": [
    "#plt.hist(df.zipcode);"
   ]
  },
  {
   "cell_type": "code",
   "execution_count": 15,
   "metadata": {},
   "outputs": [],
   "source": [
    "#plt.scatter(df.zipcode,df.price)"
   ]
  },
  {
   "cell_type": "code",
   "execution_count": 16,
   "metadata": {},
   "outputs": [
    {
     "data": {
      "text/html": [
       "<div>\n",
       "<style scoped>\n",
       "    .dataframe tbody tr th:only-of-type {\n",
       "        vertical-align: middle;\n",
       "    }\n",
       "\n",
       "    .dataframe tbody tr th {\n",
       "        vertical-align: top;\n",
       "    }\n",
       "\n",
       "    .dataframe thead th {\n",
       "        text-align: right;\n",
       "    }\n",
       "</style>\n",
       "<table border=\"1\" class=\"dataframe\">\n",
       "  <thead>\n",
       "    <tr style=\"text-align: right;\">\n",
       "      <th></th>\n",
       "      <th>date</th>\n",
       "      <th>price</th>\n",
       "      <th>bedrooms</th>\n",
       "      <th>bathrooms</th>\n",
       "      <th>sqft_living</th>\n",
       "      <th>sqft_lot</th>\n",
       "      <th>floors</th>\n",
       "      <th>condition</th>\n",
       "      <th>grade</th>\n",
       "      <th>sqft_above</th>\n",
       "      <th>sqft_basement</th>\n",
       "      <th>yr_built</th>\n",
       "      <th>yr_renovated</th>\n",
       "      <th>zipcode</th>\n",
       "    </tr>\n",
       "  </thead>\n",
       "  <tbody>\n",
       "    <tr>\n",
       "      <td>0</td>\n",
       "      <td>735885</td>\n",
       "      <td>221900.0</td>\n",
       "      <td>3</td>\n",
       "      <td>1.00</td>\n",
       "      <td>1180</td>\n",
       "      <td>5650</td>\n",
       "      <td>1.0</td>\n",
       "      <td>3</td>\n",
       "      <td>7</td>\n",
       "      <td>1180</td>\n",
       "      <td>0.0</td>\n",
       "      <td>1955</td>\n",
       "      <td>0.0</td>\n",
       "      <td>98178</td>\n",
       "    </tr>\n",
       "    <tr>\n",
       "      <td>1</td>\n",
       "      <td>735942</td>\n",
       "      <td>538000.0</td>\n",
       "      <td>3</td>\n",
       "      <td>2.25</td>\n",
       "      <td>2570</td>\n",
       "      <td>7242</td>\n",
       "      <td>2.0</td>\n",
       "      <td>3</td>\n",
       "      <td>7</td>\n",
       "      <td>2170</td>\n",
       "      <td>400.0</td>\n",
       "      <td>1951</td>\n",
       "      <td>1991.0</td>\n",
       "      <td>98125</td>\n",
       "    </tr>\n",
       "    <tr>\n",
       "      <td>2</td>\n",
       "      <td>736020</td>\n",
       "      <td>180000.0</td>\n",
       "      <td>2</td>\n",
       "      <td>1.00</td>\n",
       "      <td>770</td>\n",
       "      <td>10000</td>\n",
       "      <td>1.0</td>\n",
       "      <td>3</td>\n",
       "      <td>6</td>\n",
       "      <td>770</td>\n",
       "      <td>0.0</td>\n",
       "      <td>1933</td>\n",
       "      <td>0.0</td>\n",
       "      <td>98028</td>\n",
       "    </tr>\n",
       "    <tr>\n",
       "      <td>3</td>\n",
       "      <td>735942</td>\n",
       "      <td>604000.0</td>\n",
       "      <td>4</td>\n",
       "      <td>3.00</td>\n",
       "      <td>1960</td>\n",
       "      <td>5000</td>\n",
       "      <td>1.0</td>\n",
       "      <td>5</td>\n",
       "      <td>7</td>\n",
       "      <td>1050</td>\n",
       "      <td>910.0</td>\n",
       "      <td>1965</td>\n",
       "      <td>0.0</td>\n",
       "      <td>98136</td>\n",
       "    </tr>\n",
       "    <tr>\n",
       "      <td>4</td>\n",
       "      <td>736013</td>\n",
       "      <td>510000.0</td>\n",
       "      <td>3</td>\n",
       "      <td>2.00</td>\n",
       "      <td>1680</td>\n",
       "      <td>8080</td>\n",
       "      <td>1.0</td>\n",
       "      <td>3</td>\n",
       "      <td>8</td>\n",
       "      <td>1680</td>\n",
       "      <td>0.0</td>\n",
       "      <td>1987</td>\n",
       "      <td>0.0</td>\n",
       "      <td>98074</td>\n",
       "    </tr>\n",
       "  </tbody>\n",
       "</table>\n",
       "</div>"
      ],
      "text/plain": [
       "     date     price  bedrooms  bathrooms  sqft_living  sqft_lot  floors  \\\n",
       "0  735885  221900.0         3       1.00         1180      5650     1.0   \n",
       "1  735942  538000.0         3       2.25         2570      7242     2.0   \n",
       "2  736020  180000.0         2       1.00          770     10000     1.0   \n",
       "3  735942  604000.0         4       3.00         1960      5000     1.0   \n",
       "4  736013  510000.0         3       2.00         1680      8080     1.0   \n",
       "\n",
       "   condition  grade  sqft_above  sqft_basement  yr_built  yr_renovated  \\\n",
       "0          3      7        1180            0.0      1955           0.0   \n",
       "1          3      7        2170          400.0      1951        1991.0   \n",
       "2          3      6         770            0.0      1933           0.0   \n",
       "3          5      7        1050          910.0      1965           0.0   \n",
       "4          3      8        1680            0.0      1987           0.0   \n",
       "\n",
       "   zipcode  \n",
       "0    98178  \n",
       "1    98125  \n",
       "2    98028  \n",
       "3    98136  \n",
       "4    98074  "
      ]
     },
     "execution_count": 16,
     "metadata": {},
     "output_type": "execute_result"
    }
   ],
   "source": [
    "df.head()"
   ]
  },
  {
   "cell_type": "code",
   "execution_count": 17,
   "metadata": {},
   "outputs": [
    {
     "data": {
      "text/plain": [
       "count    21596.000000\n",
       "mean         3.409752\n",
       "std          0.650471\n",
       "min          1.000000\n",
       "25%          3.000000\n",
       "50%          3.000000\n",
       "75%          4.000000\n",
       "max          5.000000\n",
       "Name: condition, dtype: float64"
      ]
     },
     "execution_count": 17,
     "metadata": {},
     "output_type": "execute_result"
    }
   ],
   "source": [
    "df.condition.describe()"
   ]
  },
  {
   "cell_type": "code",
   "execution_count": 18,
   "metadata": {},
   "outputs": [
    {
     "data": {
      "text/plain": [
       "3    14020\n",
       "4     5677\n",
       "5     1700\n",
       "2      170\n",
       "1       29\n",
       "Name: condition, dtype: int64"
      ]
     },
     "execution_count": 18,
     "metadata": {},
     "output_type": "execute_result"
    }
   ],
   "source": [
    "df.condition.value_counts()"
   ]
  },
  {
   "cell_type": "code",
   "execution_count": 19,
   "metadata": {},
   "outputs": [
    {
     "data": {
      "text/plain": [
       "<matplotlib.collections.PathCollection at 0x1c1b1295f8>"
      ]
     },
     "execution_count": 19,
     "metadata": {},
     "output_type": "execute_result"
    },
    {
     "data": {
      "image/png": "[encoded data removed]",
      "text/plain": [
       "<Figure size 432x288 with 1 Axes>"
      ]
     },
     "metadata": {
      "needs_background": "light"
     },
     "output_type": "display_data"
    }
   ],
   "source": [
    "plt.scatter(df.yr_built,df.price)"
   ]
  },
  {
   "cell_type": "code",
   "execution_count": 20,
   "metadata": {},
   "outputs": [
    {
     "data": {
      "text/plain": [
       "<matplotlib.axes._subplots.AxesSubplot at 0x1c1afb90f0>"
      ]
     },
     "execution_count": 20,
     "metadata": {},
     "output_type": "execute_result"
    },
    {
     "data": {
      "image/png": "[encoded data removed]",
      "text/plain": [
       "<Figure size 432x288 with 1 Axes>"
      ]
     },
     "metadata": {
      "needs_background": "light"
     },
     "output_type": "display_data"
    }
   ],
   "source": [
    "sns.regplot(df.yr_renovated[df.yr_renovated > 0],df.price[df.yr_renovated > 0])"
   ]
  },
  {
   "cell_type": "markdown",
   "metadata": {},
   "source": [
    "Since there appears to be no relationship between year built and price, yet a linear relationship (with a few high price outliers) between year renovated and price, I'm going to replace year built with year renovated (if renovated) in a new column called 'yr_built_renovated'."
   ]
  },
  {
   "cell_type": "code",
   "execution_count": 21,
   "metadata": {},
   "outputs": [],
   "source": [
    "# Check and see that all renovated values are more recent than 'yr_built'\n",
    "#yr_diff = df.yr_renovated[df.yr_renovated > 0] - df.yr_built[df.yr_renovated > 0]\n",
    "\n",
    "yr_built_renovated = df.yr_built.copy()\n",
    "for i,j in enumerate(df.yr_renovated):\n",
    "    if  j > 0:\n",
    "        yr_built_renovated[i] = j"
   ]
  },
  {
   "cell_type": "code",
   "execution_count": 22,
   "metadata": {},
   "outputs": [],
   "source": [
    "df['yr_built_renovated'] = yr_built_renovated"
   ]
  },
  {
   "cell_type": "code",
   "execution_count": 23,
   "metadata": {},
   "outputs": [],
   "source": [
    "drop = ['yr_built','yr_renovated']\n",
    "df = df.drop(drop ,axis=1)"
   ]
  },
  {
   "cell_type": "code",
   "execution_count": 24,
   "metadata": {},
   "outputs": [
    {
     "data": {
      "text/plain": [
       "<matplotlib.axes._subplots.AxesSubplot at 0x1c1b30a198>"
      ]
     },
     "execution_count": 24,
     "metadata": {},
     "output_type": "execute_result"
    },
    {
     "data": {
      "image/png": "[encoded data removed]",
      "text/plain": [
       "<Figure size 432x288 with 1 Axes>"
      ]
     },
     "metadata": {
      "needs_background": "light"
     },
     "output_type": "display_data"
    }
   ],
   "source": [
    "sns.regplot(df.yr_built_renovated,df.price)"
   ]
  },
  {
   "cell_type": "code",
   "execution_count": 25,
   "metadata": {},
   "outputs": [
    {
     "data": {
      "text/html": [
       "<div>\n",
       "<style scoped>\n",
       "    .dataframe tbody tr th:only-of-type {\n",
       "        vertical-align: middle;\n",
       "    }\n",
       "\n",
       "    .dataframe tbody tr th {\n",
       "        vertical-align: top;\n",
       "    }\n",
       "\n",
       "    .dataframe thead th {\n",
       "        text-align: right;\n",
       "    }\n",
       "</style>\n",
       "<table border=\"1\" class=\"dataframe\">\n",
       "  <thead>\n",
       "    <tr style=\"text-align: right;\">\n",
       "      <th></th>\n",
       "      <th>date</th>\n",
       "      <th>price</th>\n",
       "      <th>bedrooms</th>\n",
       "      <th>bathrooms</th>\n",
       "      <th>sqft_living</th>\n",
       "      <th>sqft_lot</th>\n",
       "      <th>floors</th>\n",
       "      <th>condition</th>\n",
       "      <th>grade</th>\n",
       "      <th>sqft_above</th>\n",
       "      <th>sqft_basement</th>\n",
       "      <th>zipcode</th>\n",
       "      <th>yr_built_renovated</th>\n",
       "    </tr>\n",
       "  </thead>\n",
       "  <tbody>\n",
       "    <tr>\n",
       "      <td>0</td>\n",
       "      <td>735885</td>\n",
       "      <td>221900.0</td>\n",
       "      <td>3</td>\n",
       "      <td>1.00</td>\n",
       "      <td>1180</td>\n",
       "      <td>5650</td>\n",
       "      <td>1.0</td>\n",
       "      <td>3</td>\n",
       "      <td>7</td>\n",
       "      <td>1180</td>\n",
       "      <td>0.0</td>\n",
       "      <td>98178</td>\n",
       "      <td>1955</td>\n",
       "    </tr>\n",
       "    <tr>\n",
       "      <td>1</td>\n",
       "      <td>735942</td>\n",
       "      <td>538000.0</td>\n",
       "      <td>3</td>\n",
       "      <td>2.25</td>\n",
       "      <td>2570</td>\n",
       "      <td>7242</td>\n",
       "      <td>2.0</td>\n",
       "      <td>3</td>\n",
       "      <td>7</td>\n",
       "      <td>2170</td>\n",
       "      <td>400.0</td>\n",
       "      <td>98125</td>\n",
       "      <td>1991</td>\n",
       "    </tr>\n",
       "    <tr>\n",
       "      <td>2</td>\n",
       "      <td>736020</td>\n",
       "      <td>180000.0</td>\n",
       "      <td>2</td>\n",
       "      <td>1.00</td>\n",
       "      <td>770</td>\n",
       "      <td>10000</td>\n",
       "      <td>1.0</td>\n",
       "      <td>3</td>\n",
       "      <td>6</td>\n",
       "      <td>770</td>\n",
       "      <td>0.0</td>\n",
       "      <td>98028</td>\n",
       "      <td>1933</td>\n",
       "    </tr>\n",
       "    <tr>\n",
       "      <td>3</td>\n",
       "      <td>735942</td>\n",
       "      <td>604000.0</td>\n",
       "      <td>4</td>\n",
       "      <td>3.00</td>\n",
       "      <td>1960</td>\n",
       "      <td>5000</td>\n",
       "      <td>1.0</td>\n",
       "      <td>5</td>\n",
       "      <td>7</td>\n",
       "      <td>1050</td>\n",
       "      <td>910.0</td>\n",
       "      <td>98136</td>\n",
       "      <td>1965</td>\n",
       "    </tr>\n",
       "    <tr>\n",
       "      <td>4</td>\n",
       "      <td>736013</td>\n",
       "      <td>510000.0</td>\n",
       "      <td>3</td>\n",
       "      <td>2.00</td>\n",
       "      <td>1680</td>\n",
       "      <td>8080</td>\n",
       "      <td>1.0</td>\n",
       "      <td>3</td>\n",
       "      <td>8</td>\n",
       "      <td>1680</td>\n",
       "      <td>0.0</td>\n",
       "      <td>98074</td>\n",
       "      <td>1987</td>\n",
       "    </tr>\n",
       "  </tbody>\n",
       "</table>\n",
       "</div>"
      ],
      "text/plain": [
       "     date     price  bedrooms  bathrooms  sqft_living  sqft_lot  floors  \\\n",
       "0  735885  221900.0         3       1.00         1180      5650     1.0   \n",
       "1  735942  538000.0         3       2.25         2570      7242     2.0   \n",
       "2  736020  180000.0         2       1.00          770     10000     1.0   \n",
       "3  735942  604000.0         4       3.00         1960      5000     1.0   \n",
       "4  736013  510000.0         3       2.00         1680      8080     1.0   \n",
       "\n",
       "   condition  grade  sqft_above  sqft_basement  zipcode  yr_built_renovated  \n",
       "0          3      7        1180            0.0    98178                1955  \n",
       "1          3      7        2170          400.0    98125                1991  \n",
       "2          3      6         770            0.0    98028                1933  \n",
       "3          5      7        1050          910.0    98136                1965  \n",
       "4          3      8        1680            0.0    98074                1987  "
      ]
     },
     "execution_count": 25,
     "metadata": {},
     "output_type": "execute_result"
    }
   ],
   "source": [
    "df.head()"
   ]
  },
  {
   "cell_type": "code",
   "execution_count": 26,
   "metadata": {},
   "outputs": [],
   "source": [
    "# sns.set(style=\"ticks\", color_codes=True)\n",
    "# sns.pairplot(df);"
   ]
  },
  {
   "cell_type": "markdown",
   "metadata": {},
   "source": [
    "We can see from the pairplot that quite a few variables have linear relationships, so we'll also want to take a look at multicollinearity. \n",
    "\n",
    "Most of the features have skewed distributions as well, except for grade, so we'll want to normalize those features. "
   ]
  },
  {
   "cell_type": "markdown",
   "metadata": {},
   "source": [
    "## More Feature Exploration"
   ]
  },
  {
   "cell_type": "markdown",
   "metadata": {},
   "source": [
    "### 'sqft_basement'"
   ]
  },
  {
   "cell_type": "markdown",
   "metadata": {},
   "source": [
    "Since not all homes have basements (and will have value of 0), but I did replace null values with the mean (thus they won't be 0) let's take a look at the distribution to see what it looks like. This way I can see what the best course of action could be. "
   ]
  },
  {
   "cell_type": "code",
   "execution_count": 27,
   "metadata": {},
   "outputs": [
    {
     "data": {
      "image/png": "[encoded data removed]",
      "text/plain": [
       "<Figure size 432x288 with 1 Axes>"
      ]
     },
     "metadata": {
      "needs_background": "light"
     },
     "output_type": "display_data"
    },
    {
     "data": {
      "image/png": "[encoded data removed]",
      "text/plain": [
       "<Figure size 432x288 with 1 Axes>"
      ]
     },
     "metadata": {
      "needs_background": "light"
     },
     "output_type": "display_data"
    }
   ],
   "source": [
    "sns.distplot(df.sqft_basement);\n",
    "plt.show()\n",
    "sns.distplot(df.sqft_basement[df.sqft_basement > 0]);\n",
    "plt.show()"
   ]
  },
  {
   "cell_type": "code",
   "execution_count": 28,
   "metadata": {},
   "outputs": [
    {
     "data": {
      "text/plain": [
       "count    8316.000000\n",
       "mean      741.948172\n",
       "std       404.785557\n",
       "min        10.000000\n",
       "25%       450.000000\n",
       "50%       700.000000\n",
       "75%       980.000000\n",
       "max      4820.000000\n",
       "Name: sqft_basement, dtype: float64"
      ]
     },
     "execution_count": 28,
     "metadata": {},
     "output_type": "execute_result"
    }
   ],
   "source": [
    "# Take a look at the summary statistics for homes with basements (or nulls replaced w/median)\n",
    "df.sqft_basement[df.sqft_basement > 0].describe()"
   ]
  },
  {
   "cell_type": "markdown",
   "metadata": {},
   "source": [
    "We can see that for homes with a basement, the data do seem pretty normally distributed. I'm going to bin these values using quantile cuts. "
   ]
  },
  {
   "cell_type": "markdown",
   "metadata": {},
   "source": [
    "### 'grade'\n",
    "\n",
    "I looked up the King County Grading system to see what grade represents. Basically grade 1-3 falls short of bulding code, while 13 represents mansion level. Let's take a look at the relationship between grade and price."
   ]
  },
  {
   "cell_type": "code",
   "execution_count": 29,
   "metadata": {},
   "outputs": [
    {
     "data": {
      "image/png": "[encoded data removed]",
      "text/plain": [
       "<Figure size 576x432 with 1 Axes>"
      ]
     },
     "metadata": {
      "needs_background": "light"
     },
     "output_type": "display_data"
    }
   ],
   "source": [
    "# Use box plot to see the relationship between grade & price\n",
    "\n",
    "plt.figure(figsize=(8,6))\n",
    "fig = sns.boxplot(x='grade', y='price', data=df)\n",
    "\n",
    "# Set ymax to $6M for viewing. There are a few outliers up to around $8M.\n",
    "fig.axis(ymin=0, ymax=5600000);"
   ]
  },
  {
   "cell_type": "markdown",
   "metadata": {},
   "source": [
    "There appears to be an exponential relationship between grade and price, which makes sense. We can either treat it as linear, create a polynomial feature or make it categorical. We'll test and see how the model does."
   ]
  },
  {
   "cell_type": "markdown",
   "metadata": {},
   "source": [
    "### 'condition'\n",
    "\n",
    "I looked up the King County Grading system to see what grade represents. Condition 3 is average. Less than 3 would require repairs. 4 is good, showing regular wear, but no repairs needed. Condition 5 is very good, upgrades have been made or home is new. "
   ]
  },
  {
   "cell_type": "code",
   "execution_count": 30,
   "metadata": {},
   "outputs": [
    {
     "data": {
      "image/png": "[encoded data removed]",
      "text/plain": [
       "<Figure size 576x432 with 1 Axes>"
      ]
     },
     "metadata": {
      "needs_background": "light"
     },
     "output_type": "display_data"
    }
   ],
   "source": [
    "# Use box plot to see the relationship between condition & price\n",
    "\n",
    "plt.figure(figsize=(8,6))\n",
    "fig = sns.boxplot(x='condition', y='price', data=df)\n",
    "\n",
    "fig.axis(ymin=0, ymax=1200000);"
   ]
  },
  {
   "cell_type": "markdown",
   "metadata": {},
   "source": [
    "We can see here that homes with a condition of 1 or 2 are overall lower priced, while there are some outliers for condition 2 (a lot of outliers for 3-4). This makes since since 1 and 2 require repairs. \n",
    "\n",
    "Condition 3-5 have a lot of outliers with price. I zoomed in, so they're not all showing on the plot, but I believe these are the more luxury homes. I imagine the ones with higher grade numbers. \n",
    "\n",
    "I would guess from here that buying a 1 or 2 condition home that is already large, and upgrading everything to have the nicest features and materials (much higher grade) would give the greatest increase in the value of the home. "
   ]
  },
  {
   "cell_type": "markdown",
   "metadata": {},
   "source": [
    "### 'bathrooms'"
   ]
  },
  {
   "cell_type": "code",
   "execution_count": 31,
   "metadata": {},
   "outputs": [
    {
     "data": {
      "image/png": "[encoded data removed]",
      "text/plain": [
       "<Figure size 576x432 with 1 Axes>"
      ]
     },
     "metadata": {
      "needs_background": "light"
     },
     "output_type": "display_data"
    },
    {
     "data": {
      "image/png": "[encoded data removed]",
      "text/plain": [
       "<Figure size 576x432 with 1 Axes>"
      ]
     },
     "metadata": {
      "needs_background": "light"
     },
     "output_type": "display_data"
    }
   ],
   "source": [
    "# Use box plot to see the relationship between bathrooms & price\n",
    "\n",
    "plt.figure(figsize=(8,6))\n",
    "fig = sns.boxplot(x='bathrooms', y='price', data=df)\n",
    "plt.show()\n",
    "plt.figure(figsize=(8,6))\n",
    "sns.regplot(df.bathrooms,df.price)\n",
    "plt.show()"
   ]
  },
  {
   "cell_type": "markdown",
   "metadata": {},
   "source": [
    "This relationship looks pretty linear (possibly a slightly exponential), although heteroscedastic. We'll normalize this feature as well. "
   ]
  },
  {
   "cell_type": "markdown",
   "metadata": {},
   "source": [
    "### 'sqft_living'"
   ]
  },
  {
   "cell_type": "code",
   "execution_count": 32,
   "metadata": {},
   "outputs": [
    {
     "data": {
      "image/png": "[encoded data removed]",
      "text/plain": [
       "<Figure size 576x432 with 1 Axes>"
      ]
     },
     "metadata": {
      "needs_background": "light"
     },
     "output_type": "display_data"
    }
   ],
   "source": [
    "# Use box plot to see the relationship between bathrooms & price\n",
    "\n",
    "plt.figure(figsize=(8,6))\n",
    "fig = sns.regplot(x='sqft_living', y='price', data=df)"
   ]
  },
  {
   "cell_type": "markdown",
   "metadata": {},
   "source": [
    "This relationship is pretty linear as well, which makes sense. Also heteroscedastic. We will normalize this. Since there are a number of features with sqft, there may be some multicollinearity between them. Let's take a look at multicollinearity next."
   ]
  },
  {
   "cell_type": "markdown",
   "metadata": {},
   "source": [
    "## Multicollinearity"
   ]
  },
  {
   "cell_type": "markdown",
   "metadata": {},
   "source": [
    "I find heatmaps for lots of features isn't the easiest for me to look at. So I'm going to look at the correlation matrix, and use a boolean true/false at a set correlation value to make some assessments. \n",
    "\n",
    "A column with many trues shows multicollinearity."
   ]
  },
  {
   "cell_type": "code",
   "execution_count": 33,
   "metadata": {},
   "outputs": [
    {
     "data": {
      "text/html": [
       "<div>\n",
       "<style scoped>\n",
       "    .dataframe tbody tr th:only-of-type {\n",
       "        vertical-align: middle;\n",
       "    }\n",
       "\n",
       "    .dataframe tbody tr th {\n",
       "        vertical-align: top;\n",
       "    }\n",
       "\n",
       "    .dataframe thead th {\n",
       "        text-align: right;\n",
       "    }\n",
       "</style>\n",
       "<table border=\"1\" class=\"dataframe\">\n",
       "  <thead>\n",
       "    <tr style=\"text-align: right;\">\n",
       "      <th></th>\n",
       "      <th>date</th>\n",
       "      <th>price</th>\n",
       "      <th>bedrooms</th>\n",
       "      <th>bathrooms</th>\n",
       "      <th>sqft_living</th>\n",
       "      <th>sqft_lot</th>\n",
       "      <th>floors</th>\n",
       "      <th>condition</th>\n",
       "      <th>grade</th>\n",
       "      <th>sqft_above</th>\n",
       "      <th>sqft_basement</th>\n",
       "      <th>zipcode</th>\n",
       "      <th>yr_built_renovated</th>\n",
       "    </tr>\n",
       "  </thead>\n",
       "  <tbody>\n",
       "    <tr>\n",
       "      <td>date</td>\n",
       "      <td>True</td>\n",
       "      <td>False</td>\n",
       "      <td>False</td>\n",
       "      <td>False</td>\n",
       "      <td>False</td>\n",
       "      <td>False</td>\n",
       "      <td>False</td>\n",
       "      <td>False</td>\n",
       "      <td>False</td>\n",
       "      <td>False</td>\n",
       "      <td>False</td>\n",
       "      <td>False</td>\n",
       "      <td>False</td>\n",
       "    </tr>\n",
       "    <tr>\n",
       "      <td>price</td>\n",
       "      <td>False</td>\n",
       "      <td>True</td>\n",
       "      <td>False</td>\n",
       "      <td>False</td>\n",
       "      <td>False</td>\n",
       "      <td>False</td>\n",
       "      <td>False</td>\n",
       "      <td>False</td>\n",
       "      <td>False</td>\n",
       "      <td>False</td>\n",
       "      <td>False</td>\n",
       "      <td>False</td>\n",
       "      <td>False</td>\n",
       "    </tr>\n",
       "    <tr>\n",
       "      <td>bedrooms</td>\n",
       "      <td>False</td>\n",
       "      <td>False</td>\n",
       "      <td>True</td>\n",
       "      <td>False</td>\n",
       "      <td>False</td>\n",
       "      <td>False</td>\n",
       "      <td>False</td>\n",
       "      <td>False</td>\n",
       "      <td>False</td>\n",
       "      <td>False</td>\n",
       "      <td>False</td>\n",
       "      <td>False</td>\n",
       "      <td>False</td>\n",
       "    </tr>\n",
       "    <tr>\n",
       "      <td>bathrooms</td>\n",
       "      <td>False</td>\n",
       "      <td>False</td>\n",
       "      <td>False</td>\n",
       "      <td>True</td>\n",
       "      <td>True</td>\n",
       "      <td>False</td>\n",
       "      <td>False</td>\n",
       "      <td>False</td>\n",
       "      <td>False</td>\n",
       "      <td>False</td>\n",
       "      <td>False</td>\n",
       "      <td>False</td>\n",
       "      <td>False</td>\n",
       "    </tr>\n",
       "    <tr>\n",
       "      <td>sqft_living</td>\n",
       "      <td>False</td>\n",
       "      <td>False</td>\n",
       "      <td>False</td>\n",
       "      <td>True</td>\n",
       "      <td>True</td>\n",
       "      <td>False</td>\n",
       "      <td>False</td>\n",
       "      <td>False</td>\n",
       "      <td>True</td>\n",
       "      <td>True</td>\n",
       "      <td>False</td>\n",
       "      <td>False</td>\n",
       "      <td>False</td>\n",
       "    </tr>\n",
       "    <tr>\n",
       "      <td>sqft_lot</td>\n",
       "      <td>False</td>\n",
       "      <td>False</td>\n",
       "      <td>False</td>\n",
       "      <td>False</td>\n",
       "      <td>False</td>\n",
       "      <td>True</td>\n",
       "      <td>False</td>\n",
       "      <td>False</td>\n",
       "      <td>False</td>\n",
       "      <td>False</td>\n",
       "      <td>False</td>\n",
       "      <td>False</td>\n",
       "      <td>False</td>\n",
       "    </tr>\n",
       "    <tr>\n",
       "      <td>floors</td>\n",
       "      <td>False</td>\n",
       "      <td>False</td>\n",
       "      <td>False</td>\n",
       "      <td>False</td>\n",
       "      <td>False</td>\n",
       "      <td>False</td>\n",
       "      <td>True</td>\n",
       "      <td>False</td>\n",
       "      <td>False</td>\n",
       "      <td>False</td>\n",
       "      <td>False</td>\n",
       "      <td>False</td>\n",
       "      <td>False</td>\n",
       "    </tr>\n",
       "    <tr>\n",
       "      <td>condition</td>\n",
       "      <td>False</td>\n",
       "      <td>False</td>\n",
       "      <td>False</td>\n",
       "      <td>False</td>\n",
       "      <td>False</td>\n",
       "      <td>False</td>\n",
       "      <td>False</td>\n",
       "      <td>True</td>\n",
       "      <td>False</td>\n",
       "      <td>False</td>\n",
       "      <td>False</td>\n",
       "      <td>False</td>\n",
       "      <td>False</td>\n",
       "    </tr>\n",
       "    <tr>\n",
       "      <td>grade</td>\n",
       "      <td>False</td>\n",
       "      <td>False</td>\n",
       "      <td>False</td>\n",
       "      <td>False</td>\n",
       "      <td>True</td>\n",
       "      <td>False</td>\n",
       "      <td>False</td>\n",
       "      <td>False</td>\n",
       "      <td>True</td>\n",
       "      <td>True</td>\n",
       "      <td>False</td>\n",
       "      <td>False</td>\n",
       "      <td>False</td>\n",
       "    </tr>\n",
       "    <tr>\n",
       "      <td>sqft_above</td>\n",
       "      <td>False</td>\n",
       "      <td>False</td>\n",
       "      <td>False</td>\n",
       "      <td>False</td>\n",
       "      <td>True</td>\n",
       "      <td>False</td>\n",
       "      <td>False</td>\n",
       "      <td>False</td>\n",
       "      <td>True</td>\n",
       "      <td>True</td>\n",
       "      <td>False</td>\n",
       "      <td>False</td>\n",
       "      <td>False</td>\n",
       "    </tr>\n",
       "    <tr>\n",
       "      <td>sqft_basement</td>\n",
       "      <td>False</td>\n",
       "      <td>False</td>\n",
       "      <td>False</td>\n",
       "      <td>False</td>\n",
       "      <td>False</td>\n",
       "      <td>False</td>\n",
       "      <td>False</td>\n",
       "      <td>False</td>\n",
       "      <td>False</td>\n",
       "      <td>False</td>\n",
       "      <td>True</td>\n",
       "      <td>False</td>\n",
       "      <td>False</td>\n",
       "    </tr>\n",
       "    <tr>\n",
       "      <td>zipcode</td>\n",
       "      <td>False</td>\n",
       "      <td>False</td>\n",
       "      <td>False</td>\n",
       "      <td>False</td>\n",
       "      <td>False</td>\n",
       "      <td>False</td>\n",
       "      <td>False</td>\n",
       "      <td>False</td>\n",
       "      <td>False</td>\n",
       "      <td>False</td>\n",
       "      <td>False</td>\n",
       "      <td>True</td>\n",
       "      <td>False</td>\n",
       "    </tr>\n",
       "    <tr>\n",
       "      <td>yr_built_renovated</td>\n",
       "      <td>False</td>\n",
       "      <td>False</td>\n",
       "      <td>False</td>\n",
       "      <td>False</td>\n",
       "      <td>False</td>\n",
       "      <td>False</td>\n",
       "      <td>False</td>\n",
       "      <td>False</td>\n",
       "      <td>False</td>\n",
       "      <td>False</td>\n",
       "      <td>False</td>\n",
       "      <td>False</td>\n",
       "      <td>True</td>\n",
       "    </tr>\n",
       "  </tbody>\n",
       "</table>\n",
       "</div>"
      ],
      "text/plain": [
       "                     date  price  bedrooms  bathrooms  sqft_living  sqft_lot  \\\n",
       "date                 True  False     False      False        False     False   \n",
       "price               False   True     False      False        False     False   \n",
       "bedrooms            False  False      True      False        False     False   \n",
       "bathrooms           False  False     False       True         True     False   \n",
       "sqft_living         False  False     False       True         True     False   \n",
       "sqft_lot            False  False     False      False        False      True   \n",
       "floors              False  False     False      False        False     False   \n",
       "condition           False  False     False      False        False     False   \n",
       "grade               False  False     False      False         True     False   \n",
       "sqft_above          False  False     False      False         True     False   \n",
       "sqft_basement       False  False     False      False        False     False   \n",
       "zipcode             False  False     False      False        False     False   \n",
       "yr_built_renovated  False  False     False      False        False     False   \n",
       "\n",
       "                    floors  condition  grade  sqft_above  sqft_basement  \\\n",
       "date                 False      False  False       False          False   \n",
       "price                False      False  False       False          False   \n",
       "bedrooms             False      False  False       False          False   \n",
       "bathrooms            False      False  False       False          False   \n",
       "sqft_living          False      False   True        True          False   \n",
       "sqft_lot             False      False  False       False          False   \n",
       "floors                True      False  False       False          False   \n",
       "condition            False       True  False       False          False   \n",
       "grade                False      False   True        True          False   \n",
       "sqft_above           False      False   True        True          False   \n",
       "sqft_basement        False      False  False       False           True   \n",
       "zipcode              False      False  False       False          False   \n",
       "yr_built_renovated   False      False  False       False          False   \n",
       "\n",
       "                    zipcode  yr_built_renovated  \n",
       "date                  False               False  \n",
       "price                 False               False  \n",
       "bedrooms              False               False  \n",
       "bathrooms             False               False  \n",
       "sqft_living           False               False  \n",
       "sqft_lot              False               False  \n",
       "floors                False               False  \n",
       "condition             False               False  \n",
       "grade                 False               False  \n",
       "sqft_above            False               False  \n",
       "sqft_basement         False               False  \n",
       "zipcode                True               False  \n",
       "yr_built_renovated    False                True  "
      ]
     },
     "execution_count": 33,
     "metadata": {},
     "output_type": "execute_result"
    }
   ],
   "source": [
    "abs(df.corr()) > 0.75"
   ]
  },
  {
   "cell_type": "markdown",
   "metadata": {},
   "source": [
    "We can see here that 'sqft_living', 'sqft_above', 'grade', and 'bathrooms' may have some multicollinearity. We'll address these after feature selection and interactions. "
   ]
  },
  {
   "cell_type": "markdown",
   "metadata": {},
   "source": [
    "### Separate Categorical & Continuous Features\n",
    "\n",
    " Due to skewness and heteroscedasticity, I'm going to normalize the continuous features here. \n",
    " \n",
    " I'm going to bin 'sqft_basement' since many have a value of 0, which equates to no basement. Other than that I'm treating 'grade' and 'condition' as continuous, since they are on continuous scales. 'Grade' could be made categorical or possibly be a polynomial feature. "
   ]
  },
  {
   "cell_type": "code",
   "execution_count": 34,
   "metadata": {},
   "outputs": [
    {
     "data": {
      "text/html": [
       "<div>\n",
       "<style scoped>\n",
       "    .dataframe tbody tr th:only-of-type {\n",
       "        vertical-align: middle;\n",
       "    }\n",
       "\n",
       "    .dataframe tbody tr th {\n",
       "        vertical-align: top;\n",
       "    }\n",
       "\n",
       "    .dataframe thead th {\n",
       "        text-align: right;\n",
       "    }\n",
       "</style>\n",
       "<table border=\"1\" class=\"dataframe\">\n",
       "  <thead>\n",
       "    <tr style=\"text-align: right;\">\n",
       "      <th></th>\n",
       "      <th>date</th>\n",
       "      <th>price</th>\n",
       "      <th>bedrooms</th>\n",
       "      <th>bathrooms</th>\n",
       "      <th>sqft_living</th>\n",
       "      <th>sqft_lot</th>\n",
       "      <th>floors</th>\n",
       "      <th>condition</th>\n",
       "      <th>grade</th>\n",
       "      <th>sqft_above</th>\n",
       "      <th>sqft_basement</th>\n",
       "      <th>zipcode</th>\n",
       "      <th>yr_built_renovated</th>\n",
       "    </tr>\n",
       "  </thead>\n",
       "  <tbody>\n",
       "    <tr>\n",
       "      <td>0</td>\n",
       "      <td>735885</td>\n",
       "      <td>221900.0</td>\n",
       "      <td>3</td>\n",
       "      <td>1.00</td>\n",
       "      <td>1180</td>\n",
       "      <td>5650</td>\n",
       "      <td>1.0</td>\n",
       "      <td>3</td>\n",
       "      <td>7</td>\n",
       "      <td>1180</td>\n",
       "      <td>0.0</td>\n",
       "      <td>98178</td>\n",
       "      <td>1955</td>\n",
       "    </tr>\n",
       "    <tr>\n",
       "      <td>1</td>\n",
       "      <td>735942</td>\n",
       "      <td>538000.0</td>\n",
       "      <td>3</td>\n",
       "      <td>2.25</td>\n",
       "      <td>2570</td>\n",
       "      <td>7242</td>\n",
       "      <td>2.0</td>\n",
       "      <td>3</td>\n",
       "      <td>7</td>\n",
       "      <td>2170</td>\n",
       "      <td>400.0</td>\n",
       "      <td>98125</td>\n",
       "      <td>1991</td>\n",
       "    </tr>\n",
       "    <tr>\n",
       "      <td>2</td>\n",
       "      <td>736020</td>\n",
       "      <td>180000.0</td>\n",
       "      <td>2</td>\n",
       "      <td>1.00</td>\n",
       "      <td>770</td>\n",
       "      <td>10000</td>\n",
       "      <td>1.0</td>\n",
       "      <td>3</td>\n",
       "      <td>6</td>\n",
       "      <td>770</td>\n",
       "      <td>0.0</td>\n",
       "      <td>98028</td>\n",
       "      <td>1933</td>\n",
       "    </tr>\n",
       "    <tr>\n",
       "      <td>3</td>\n",
       "      <td>735942</td>\n",
       "      <td>604000.0</td>\n",
       "      <td>4</td>\n",
       "      <td>3.00</td>\n",
       "      <td>1960</td>\n",
       "      <td>5000</td>\n",
       "      <td>1.0</td>\n",
       "      <td>5</td>\n",
       "      <td>7</td>\n",
       "      <td>1050</td>\n",
       "      <td>910.0</td>\n",
       "      <td>98136</td>\n",
       "      <td>1965</td>\n",
       "    </tr>\n",
       "    <tr>\n",
       "      <td>4</td>\n",
       "      <td>736013</td>\n",
       "      <td>510000.0</td>\n",
       "      <td>3</td>\n",
       "      <td>2.00</td>\n",
       "      <td>1680</td>\n",
       "      <td>8080</td>\n",
       "      <td>1.0</td>\n",
       "      <td>3</td>\n",
       "      <td>8</td>\n",
       "      <td>1680</td>\n",
       "      <td>0.0</td>\n",
       "      <td>98074</td>\n",
       "      <td>1987</td>\n",
       "    </tr>\n",
       "  </tbody>\n",
       "</table>\n",
       "</div>"
      ],
      "text/plain": [
       "     date     price  bedrooms  bathrooms  sqft_living  sqft_lot  floors  \\\n",
       "0  735885  221900.0         3       1.00         1180      5650     1.0   \n",
       "1  735942  538000.0         3       2.25         2570      7242     2.0   \n",
       "2  736020  180000.0         2       1.00          770     10000     1.0   \n",
       "3  735942  604000.0         4       3.00         1960      5000     1.0   \n",
       "4  736013  510000.0         3       2.00         1680      8080     1.0   \n",
       "\n",
       "   condition  grade  sqft_above  sqft_basement  zipcode  yr_built_renovated  \n",
       "0          3      7        1180            0.0    98178                1955  \n",
       "1          3      7        2170          400.0    98125                1991  \n",
       "2          3      6         770            0.0    98028                1933  \n",
       "3          5      7        1050          910.0    98136                1965  \n",
       "4          3      8        1680            0.0    98074                1987  "
      ]
     },
     "execution_count": 34,
     "metadata": {},
     "output_type": "execute_result"
    }
   ],
   "source": [
    "df.head()"
   ]
  },
  {
   "cell_type": "code",
   "execution_count": 35,
   "metadata": {},
   "outputs": [],
   "source": [
    "df.sqft_basement = df.sqft_basement+1"
   ]
  },
  {
   "cell_type": "code",
   "execution_count": 36,
   "metadata": {},
   "outputs": [],
   "source": [
    "continuous = ['date','price','bedrooms','bathrooms','zipcode',\n",
    "              'sqft_living','sqft_lot','sqft_basement','floors','condition',\n",
    "             'grade','sqft_above','yr_built_renovated',]\n",
    "\n",
    "# Normalize continuous variables\n",
    "# def norm_feat(variable):\n",
    "#     '''\n",
    "#     Normalize input variable and output normalized variable \n",
    "#     '''\n",
    "#     return (variable - variable.mean())/variable.std()\n",
    "\n",
    "min_max_scaler = preprocessing.MinMaxScaler()\n",
    "for feat in continuous:\n",
    "    x = df[feat].values.reshape(-1,1)\n",
    "    df[feat] = min_max_scaler.fit_transform(x)\n"
   ]
  },
  {
   "cell_type": "code",
   "execution_count": 37,
   "metadata": {},
   "outputs": [
    {
     "data": {
      "text/html": [
       "<div>\n",
       "<style scoped>\n",
       "    .dataframe tbody tr th:only-of-type {\n",
       "        vertical-align: middle;\n",
       "    }\n",
       "\n",
       "    .dataframe tbody tr th {\n",
       "        vertical-align: top;\n",
       "    }\n",
       "\n",
       "    .dataframe thead th {\n",
       "        text-align: right;\n",
       "    }\n",
       "</style>\n",
       "<table border=\"1\" class=\"dataframe\">\n",
       "  <thead>\n",
       "    <tr style=\"text-align: right;\">\n",
       "      <th></th>\n",
       "      <th>date</th>\n",
       "      <th>price</th>\n",
       "      <th>bedrooms</th>\n",
       "      <th>bathrooms</th>\n",
       "      <th>sqft_living</th>\n",
       "      <th>sqft_lot</th>\n",
       "      <th>floors</th>\n",
       "      <th>condition</th>\n",
       "      <th>grade</th>\n",
       "      <th>sqft_above</th>\n",
       "      <th>sqft_basement</th>\n",
       "      <th>zipcode</th>\n",
       "      <th>yr_built_renovated</th>\n",
       "    </tr>\n",
       "  </thead>\n",
       "  <tbody>\n",
       "    <tr>\n",
       "      <td>0</td>\n",
       "      <td>0.420513</td>\n",
       "      <td>0.018880</td>\n",
       "      <td>0.2</td>\n",
       "      <td>0.066667</td>\n",
       "      <td>0.061503</td>\n",
       "      <td>0.003108</td>\n",
       "      <td>0.0</td>\n",
       "      <td>0.5</td>\n",
       "      <td>0.4</td>\n",
       "      <td>0.089602</td>\n",
       "      <td>0.000000</td>\n",
       "      <td>0.893939</td>\n",
       "      <td>0.478261</td>\n",
       "    </tr>\n",
       "    <tr>\n",
       "      <td>1</td>\n",
       "      <td>0.566667</td>\n",
       "      <td>0.060352</td>\n",
       "      <td>0.2</td>\n",
       "      <td>0.233333</td>\n",
       "      <td>0.167046</td>\n",
       "      <td>0.004072</td>\n",
       "      <td>0.4</td>\n",
       "      <td>0.5</td>\n",
       "      <td>0.4</td>\n",
       "      <td>0.199115</td>\n",
       "      <td>0.082988</td>\n",
       "      <td>0.626263</td>\n",
       "      <td>0.791304</td>\n",
       "    </tr>\n",
       "    <tr>\n",
       "      <td>2</td>\n",
       "      <td>0.766667</td>\n",
       "      <td>0.013382</td>\n",
       "      <td>0.1</td>\n",
       "      <td>0.066667</td>\n",
       "      <td>0.030372</td>\n",
       "      <td>0.005743</td>\n",
       "      <td>0.0</td>\n",
       "      <td>0.5</td>\n",
       "      <td>0.3</td>\n",
       "      <td>0.044248</td>\n",
       "      <td>0.000000</td>\n",
       "      <td>0.136364</td>\n",
       "      <td>0.286957</td>\n",
       "    </tr>\n",
       "    <tr>\n",
       "      <td>3</td>\n",
       "      <td>0.566667</td>\n",
       "      <td>0.069011</td>\n",
       "      <td>0.3</td>\n",
       "      <td>0.333333</td>\n",
       "      <td>0.120729</td>\n",
       "      <td>0.002714</td>\n",
       "      <td>0.0</td>\n",
       "      <td>1.0</td>\n",
       "      <td>0.4</td>\n",
       "      <td>0.075221</td>\n",
       "      <td>0.188797</td>\n",
       "      <td>0.681818</td>\n",
       "      <td>0.565217</td>\n",
       "    </tr>\n",
       "    <tr>\n",
       "      <td>4</td>\n",
       "      <td>0.748718</td>\n",
       "      <td>0.056678</td>\n",
       "      <td>0.2</td>\n",
       "      <td>0.200000</td>\n",
       "      <td>0.099468</td>\n",
       "      <td>0.004579</td>\n",
       "      <td>0.0</td>\n",
       "      <td>0.5</td>\n",
       "      <td>0.5</td>\n",
       "      <td>0.144912</td>\n",
       "      <td>0.000000</td>\n",
       "      <td>0.368687</td>\n",
       "      <td>0.756522</td>\n",
       "    </tr>\n",
       "  </tbody>\n",
       "</table>\n",
       "</div>"
      ],
      "text/plain": [
       "       date     price  bedrooms  bathrooms  sqft_living  sqft_lot  floors  \\\n",
       "0  0.420513  0.018880       0.2   0.066667     0.061503  0.003108     0.0   \n",
       "1  0.566667  0.060352       0.2   0.233333     0.167046  0.004072     0.4   \n",
       "2  0.766667  0.013382       0.1   0.066667     0.030372  0.005743     0.0   \n",
       "3  0.566667  0.069011       0.3   0.333333     0.120729  0.002714     0.0   \n",
       "4  0.748718  0.056678       0.2   0.200000     0.099468  0.004579     0.0   \n",
       "\n",
       "   condition  grade  sqft_above  sqft_basement   zipcode  yr_built_renovated  \n",
       "0        0.5    0.4    0.089602       0.000000  0.893939            0.478261  \n",
       "1        0.5    0.4    0.199115       0.082988  0.626263            0.791304  \n",
       "2        0.5    0.3    0.044248       0.000000  0.136364            0.286957  \n",
       "3        1.0    0.4    0.075221       0.188797  0.681818            0.565217  \n",
       "4        0.5    0.5    0.144912       0.000000  0.368687            0.756522  "
      ]
     },
     "execution_count": 37,
     "metadata": {},
     "output_type": "execute_result"
    }
   ],
   "source": [
    "df.head()"
   ]
  },
  {
   "cell_type": "markdown",
   "metadata": {},
   "source": [
    "Get bins for 'sqft_basement' using pd.qcut(df.sqft_basement[df.sqft_basement>100], 5) to separate bins over 100sq ft.\n"
   ]
  },
  {
   "cell_type": "code",
   "execution_count": 38,
   "metadata": {},
   "outputs": [],
   "source": [
    "# Bin 'sqft_basement' & one-hot encode\n",
    "# bins = [0,400,600,800,1040,4820]\n",
    "\n",
    "# # Bin data & return dummies\n",
    "# def binned_dummies(data, variables, bins):\n",
    "#     '''\n",
    "#     Input data, variables, and bins and output dummy variables\n",
    "#     '''\n",
    "#     data_bins = pd.cut(data, bins)\n",
    "#     data_bins = data_bins.cat.as_unordered()\n",
    "#     dummies = pd.get_dummies(data_bins, prefix = variables, drop_first=True)\n",
    "#     return dummies\n",
    "\n",
    "# dummies = binned_dummies(df.sqft_basement,'sqft_basement', bins)\n",
    "\n",
    "# # Remove original column from data set\n",
    "# df = df.drop(['sqft_basement'], axis=1)\n",
    "                                            \n",
    "# # Add new columns in\n",
    "# df = pd.concat([df, dummies], axis=1)"
   ]
  },
  {
   "cell_type": "markdown",
   "metadata": {},
   "source": [
    "## Build Baseline Model"
   ]
  },
  {
   "cell_type": "code",
   "execution_count": 39,
   "metadata": {},
   "outputs": [],
   "source": [
    "# Separate target and feature variables\n",
    "\n",
    "X = df.drop(['price'],axis=1)\n",
    "y = df.price"
   ]
  },
  {
   "cell_type": "code",
   "execution_count": 40,
   "metadata": {},
   "outputs": [],
   "source": [
    "# Split data with test size of 20%\n",
    "X_train, X_test, y_train, y_test = train_test_split(X, y, test_size=0.20)"
   ]
  },
  {
   "cell_type": "code",
   "execution_count": 41,
   "metadata": {},
   "outputs": [],
   "source": [
    "# Initialize the linear regression model class\n",
    "linreg = LinearRegression()\n",
    "\n",
    "# Fit the model to train data\n",
    "linreg.fit(X_train, y_train)\n",
    "\n",
    "# Calculate predictions on test set\n",
    "y_hat_test = linreg.predict(X_test)"
   ]
  },
  {
   "cell_type": "code",
   "execution_count": 42,
   "metadata": {},
   "outputs": [
    {
     "name": "stdout",
     "output_type": "stream",
     "text": [
      "RMSE: 0.03033876116873727\n"
     ]
    }
   ],
   "source": [
    "from sklearn.metrics import mean_squared_error, make_scorer\n",
    "from sklearn.model_selection import cross_val_score\n",
    "\n",
    "mse = make_scorer(mean_squared_error)\n",
    "\n",
    "# Test Errors Results\n",
    "cv_5_results = cross_val_score(linreg, X, y, cv=5, scoring=mse)\n",
    "cv_5_results\n",
    "\n",
    "\n",
    "print(f\"RMSE: {np.sqrt(cv_5_results.mean())}\")"
   ]
  },
  {
   "cell_type": "code",
   "execution_count": 43,
   "metadata": {},
   "outputs": [
    {
     "data": {
      "text/plain": [
       "0.6021245066521262"
      ]
     },
     "execution_count": 43,
     "metadata": {},
     "output_type": "execute_result"
    }
   ],
   "source": [
    "from sklearn.model_selection import KFold\n",
    "\n",
    "crossval = KFold(n_splits=3, shuffle=True, random_state=1)\n",
    "\n",
    "baseline_R2 = np.mean(cross_val_score(linreg, X, y, scoring='r2', cv=crossval))\n",
    "baseline_R2"
   ]
  },
  {
   "cell_type": "code",
   "execution_count": 44,
   "metadata": {},
   "outputs": [
    {
     "name": "stderr",
     "output_type": "stream",
     "text": [
      "/opt/anaconda3/envs/learn-env/lib/python3.6/site-packages/numpy/core/fromnumeric.py:2389: FutureWarning: Method .ptp is deprecated and will be removed in a future version. Use numpy.ptp instead.\n",
      "  return ptp(axis=axis, out=out, **kwargs)\n"
     ]
    },
    {
     "data": {
      "text/html": [
       "<table class=\"simpletable\">\n",
       "<caption>OLS Regression Results</caption>\n",
       "<tr>\n",
       "  <th>Dep. Variable:</th>          <td>price</td>      <th>  R-squared:         </th>  <td>   0.606</td> \n",
       "</tr>\n",
       "<tr>\n",
       "  <th>Model:</th>                   <td>OLS</td>       <th>  Adj. R-squared:    </th>  <td>   0.606</td> \n",
       "</tr>\n",
       "<tr>\n",
       "  <th>Method:</th>             <td>Least Squares</td>  <th>  F-statistic:       </th>  <td>   2766.</td> \n",
       "</tr>\n",
       "<tr>\n",
       "  <th>Date:</th>             <td>Mon, 11 May 2020</td> <th>  Prob (F-statistic):</th>   <td>  0.00</td>  \n",
       "</tr>\n",
       "<tr>\n",
       "  <th>Time:</th>                 <td>00:07:14</td>     <th>  Log-Likelihood:    </th>  <td>  44901.</td> \n",
       "</tr>\n",
       "<tr>\n",
       "  <th>No. Observations:</th>      <td> 21596</td>      <th>  AIC:               </th> <td>-8.978e+04</td>\n",
       "</tr>\n",
       "<tr>\n",
       "  <th>Df Residuals:</th>          <td> 21583</td>      <th>  BIC:               </th> <td>-8.967e+04</td>\n",
       "</tr>\n",
       "<tr>\n",
       "  <th>Df Model:</th>              <td>    12</td>      <th>                     </th>      <td> </td>    \n",
       "</tr>\n",
       "<tr>\n",
       "  <th>Covariance Type:</th>      <td>nonrobust</td>    <th>                     </th>      <td> </td>    \n",
       "</tr>\n",
       "</table>\n",
       "<table class=\"simpletable\">\n",
       "<tr>\n",
       "           <td></td>             <th>coef</th>     <th>std err</th>      <th>t</th>      <th>P>|t|</th>  <th>[0.025</th>    <th>0.975]</th>  \n",
       "</tr>\n",
       "<tr>\n",
       "  <th>const</th>              <td>   -0.0342</td> <td>    0.002</td> <td>  -20.078</td> <td> 0.000</td> <td>   -0.038</td> <td>   -0.031</td>\n",
       "</tr>\n",
       "<tr>\n",
       "  <th>date</th>               <td>    0.0053</td> <td>    0.001</td> <td>    7.400</td> <td> 0.000</td> <td>    0.004</td> <td>    0.007</td>\n",
       "</tr>\n",
       "<tr>\n",
       "  <th>bedrooms</th>           <td>   -0.0698</td> <td>    0.003</td> <td>  -23.638</td> <td> 0.000</td> <td>   -0.076</td> <td>   -0.064</td>\n",
       "</tr>\n",
       "<tr>\n",
       "  <th>bathrooms</th>          <td>    0.0433</td> <td>    0.004</td> <td>   11.818</td> <td> 0.000</td> <td>    0.036</td> <td>    0.051</td>\n",
       "</tr>\n",
       "<tr>\n",
       "  <th>sqft_living</th>        <td>    0.2789</td> <td>    0.036</td> <td>    7.806</td> <td> 0.000</td> <td>    0.209</td> <td>    0.349</td>\n",
       "</tr>\n",
       "<tr>\n",
       "  <th>sqft_lot</th>           <td>   -0.0508</td> <td>    0.008</td> <td>   -5.995</td> <td> 0.000</td> <td>   -0.067</td> <td>   -0.034</td>\n",
       "</tr>\n",
       "<tr>\n",
       "  <th>floors</th>             <td>    0.0074</td> <td>    0.001</td> <td>    5.531</td> <td> 0.000</td> <td>    0.005</td> <td>    0.010</td>\n",
       "</tr>\n",
       "<tr>\n",
       "  <th>condition</th>          <td>    0.0124</td> <td>    0.001</td> <td>    8.800</td> <td> 0.000</td> <td>    0.010</td> <td>    0.015</td>\n",
       "</tr>\n",
       "<tr>\n",
       "  <th>grade</th>              <td>    0.1675</td> <td>    0.003</td> <td>   55.587</td> <td> 0.000</td> <td>    0.162</td> <td>    0.173</td>\n",
       "</tr>\n",
       "<tr>\n",
       "  <th>sqft_above</th>         <td>    0.0341</td> <td>    0.024</td> <td>    1.392</td> <td> 0.164</td> <td>   -0.014</td> <td>    0.082</td>\n",
       "</tr>\n",
       "<tr>\n",
       "  <th>sqft_basement</th>      <td>    0.0363</td> <td>    0.013</td> <td>    2.799</td> <td> 0.005</td> <td>    0.011</td> <td>    0.062</td>\n",
       "</tr>\n",
       "<tr>\n",
       "  <th>zipcode</th>            <td>    0.0044</td> <td>    0.001</td> <td>    5.252</td> <td> 0.000</td> <td>    0.003</td> <td>    0.006</td>\n",
       "</tr>\n",
       "<tr>\n",
       "  <th>yr_built_renovated</th> <td>   -0.0510</td> <td>    0.001</td> <td>  -44.266</td> <td> 0.000</td> <td>   -0.053</td> <td>   -0.049</td>\n",
       "</tr>\n",
       "</table>\n",
       "<table class=\"simpletable\">\n",
       "<tr>\n",
       "  <th>Omnibus:</th>       <td>17372.918</td> <th>  Durbin-Watson:     </th>  <td>   1.988</td>  \n",
       "</tr>\n",
       "<tr>\n",
       "  <th>Prob(Omnibus):</th>  <td> 0.000</td>   <th>  Jarque-Bera (JB):  </th> <td>1240435.236</td>\n",
       "</tr>\n",
       "<tr>\n",
       "  <th>Skew:</th>           <td> 3.368</td>   <th>  Prob(JB):          </th>  <td>    0.00</td>  \n",
       "</tr>\n",
       "<tr>\n",
       "  <th>Kurtosis:</th>       <td>39.512</td>   <th>  Cond. No.          </th>  <td>    349.</td>  \n",
       "</tr>\n",
       "</table><br/><br/>Warnings:<br/>[1] Standard Errors assume that the covariance matrix of the errors is correctly specified."
      ],
      "text/plain": [
       "<class 'statsmodels.iolib.summary.Summary'>\n",
       "\"\"\"\n",
       "                            OLS Regression Results                            \n",
       "==============================================================================\n",
       "Dep. Variable:                  price   R-squared:                       0.606\n",
       "Model:                            OLS   Adj. R-squared:                  0.606\n",
       "Method:                 Least Squares   F-statistic:                     2766.\n",
       "Date:                Mon, 11 May 2020   Prob (F-statistic):               0.00\n",
       "Time:                        00:07:14   Log-Likelihood:                 44901.\n",
       "No. Observations:               21596   AIC:                        -8.978e+04\n",
       "Df Residuals:                   21583   BIC:                        -8.967e+04\n",
       "Df Model:                          12                                         \n",
       "Covariance Type:            nonrobust                                         \n",
       "======================================================================================\n",
       "                         coef    std err          t      P>|t|      [0.025      0.975]\n",
       "--------------------------------------------------------------------------------------\n",
       "const                 -0.0342      0.002    -20.078      0.000      -0.038      -0.031\n",
       "date                   0.0053      0.001      7.400      0.000       0.004       0.007\n",
       "bedrooms              -0.0698      0.003    -23.638      0.000      -0.076      -0.064\n",
       "bathrooms              0.0433      0.004     11.818      0.000       0.036       0.051\n",
       "sqft_living            0.2789      0.036      7.806      0.000       0.209       0.349\n",
       "sqft_lot              -0.0508      0.008     -5.995      0.000      -0.067      -0.034\n",
       "floors                 0.0074      0.001      5.531      0.000       0.005       0.010\n",
       "condition              0.0124      0.001      8.800      0.000       0.010       0.015\n",
       "grade                  0.1675      0.003     55.587      0.000       0.162       0.173\n",
       "sqft_above             0.0341      0.024      1.392      0.164      -0.014       0.082\n",
       "sqft_basement          0.0363      0.013      2.799      0.005       0.011       0.062\n",
       "zipcode                0.0044      0.001      5.252      0.000       0.003       0.006\n",
       "yr_built_renovated    -0.0510      0.001    -44.266      0.000      -0.053      -0.049\n",
       "==============================================================================\n",
       "Omnibus:                    17372.918   Durbin-Watson:                   1.988\n",
       "Prob(Omnibus):                  0.000   Jarque-Bera (JB):          1240435.236\n",
       "Skew:                           3.368   Prob(JB):                         0.00\n",
       "Kurtosis:                      39.512   Cond. No.                         349.\n",
       "==============================================================================\n",
       "\n",
       "Warnings:\n",
       "[1] Standard Errors assume that the covariance matrix of the errors is correctly specified.\n",
       "\"\"\""
      ]
     },
     "execution_count": 44,
     "metadata": {},
     "output_type": "execute_result"
    }
   ],
   "source": [
    "import statsmodels.api as sm\n",
    "X = sm.add_constant(X)\n",
    "model = sm.OLS(y,X)\n",
    "results = model.fit()\n",
    "\n",
    "results.summary()"
   ]
  },
  {
   "cell_type": "code",
   "execution_count": 45,
   "metadata": {},
   "outputs": [
    {
     "name": "stdout",
     "output_type": "stream",
     "text": [
      "Top 3 interactions: [('sqft_living', 'grade', 0.64024), ('bathrooms', 'grade', 0.6322), ('grade', 'sqft_above', 0.62665)]\n"
     ]
    }
   ],
   "source": [
    "from itertools import combinations\n",
    "\n",
    "# Find top interactions by R^2 value\n",
    "\n",
    "# Use combinations from itertools to create all possible combinations of two features\n",
    "feat_combinations = combinations(X_train.columns, 2)\n",
    "\n",
    "# Empty list to fill for interactons values\n",
    "interactions = []\n",
    "\n",
    "# for i, (feature1,feature2) in feature_combinations:\n",
    "for i, (a, b) in enumerate(feat_combinations):\n",
    "    # fill interatctions list with feature a * feature b\n",
    "    X_train['interaction'] = X_train[a] * X_train[b]\n",
    "    R2 = np.mean(cross_val_score(linreg, X_train, y_train, scoring='r2', cv=crossval))\n",
    "    if R2 > baseline_R2:\n",
    "        interactions.append((a, b, round(R2,5)))\n",
    "            \n",
    "print('Top 3 interactions: %s' %sorted(interactions, key=lambda inter: inter[2], reverse=True)[:3])"
   ]
  },
  {
   "cell_type": "markdown",
   "metadata": {},
   "source": [
    "It seems there is multicollinearity between 'sqft_living','grade', and 'bathrooms'."
   ]
  },
  {
   "cell_type": "code",
   "execution_count": 46,
   "metadata": {},
   "outputs": [],
   "source": [
    "X['sqft_living*grade'] = X['sqft_living'] * X['grade']"
   ]
  },
  {
   "cell_type": "code",
   "execution_count": 47,
   "metadata": {},
   "outputs": [
    {
     "name": "stdout",
     "output_type": "stream",
     "text": [
      "0.6438520192936955\n"
     ]
    },
    {
     "name": "stderr",
     "output_type": "stream",
     "text": [
      "/opt/anaconda3/envs/learn-env/lib/python3.6/site-packages/numpy/core/fromnumeric.py:2389: FutureWarning: Method .ptp is deprecated and will be removed in a future version. Use numpy.ptp instead.\n",
      "  return ptp(axis=axis, out=out, **kwargs)\n"
     ]
    },
    {
     "data": {
      "text/html": [
       "<table class=\"simpletable\">\n",
       "<caption>OLS Regression Results</caption>\n",
       "<tr>\n",
       "  <th>Dep. Variable:</th>          <td>price</td>      <th>  R-squared:         </th>  <td>   0.650</td> \n",
       "</tr>\n",
       "<tr>\n",
       "  <th>Model:</th>                   <td>OLS</td>       <th>  Adj. R-squared:    </th>  <td>   0.650</td> \n",
       "</tr>\n",
       "<tr>\n",
       "  <th>Method:</th>             <td>Least Squares</td>  <th>  F-statistic:       </th>  <td>   3080.</td> \n",
       "</tr>\n",
       "<tr>\n",
       "  <th>Date:</th>             <td>Mon, 11 May 2020</td> <th>  Prob (F-statistic):</th>   <td>  0.00</td>  \n",
       "</tr>\n",
       "<tr>\n",
       "  <th>Time:</th>                 <td>00:07:16</td>     <th>  Log-Likelihood:    </th>  <td>  46174.</td> \n",
       "</tr>\n",
       "<tr>\n",
       "  <th>No. Observations:</th>      <td> 21596</td>      <th>  AIC:               </th> <td>-9.232e+04</td>\n",
       "</tr>\n",
       "<tr>\n",
       "  <th>Df Residuals:</th>          <td> 21582</td>      <th>  BIC:               </th> <td>-9.221e+04</td>\n",
       "</tr>\n",
       "<tr>\n",
       "  <th>Df Model:</th>              <td>    13</td>      <th>                     </th>      <td> </td>    \n",
       "</tr>\n",
       "<tr>\n",
       "  <th>Covariance Type:</th>      <td>nonrobust</td>    <th>                     </th>      <td> </td>    \n",
       "</tr>\n",
       "</table>\n",
       "<table class=\"simpletable\">\n",
       "<tr>\n",
       "           <td></td>             <th>coef</th>     <th>std err</th>      <th>t</th>      <th>P>|t|</th>  <th>[0.025</th>    <th>0.975]</th>  \n",
       "</tr>\n",
       "<tr>\n",
       "  <th>const</th>              <td>    0.0183</td> <td>    0.002</td> <td>    9.662</td> <td> 0.000</td> <td>    0.015</td> <td>    0.022</td>\n",
       "</tr>\n",
       "<tr>\n",
       "  <th>date</th>               <td>    0.0051</td> <td>    0.001</td> <td>    7.598</td> <td> 0.000</td> <td>    0.004</td> <td>    0.006</td>\n",
       "</tr>\n",
       "<tr>\n",
       "  <th>bedrooms</th>           <td>   -0.0296</td> <td>    0.003</td> <td>  -10.251</td> <td> 0.000</td> <td>   -0.035</td> <td>   -0.024</td>\n",
       "</tr>\n",
       "<tr>\n",
       "  <th>bathrooms</th>          <td>    0.0485</td> <td>    0.003</td> <td>   14.030</td> <td> 0.000</td> <td>    0.042</td> <td>    0.055</td>\n",
       "</tr>\n",
       "<tr>\n",
       "  <th>sqft_living</th>        <td>   -0.2274</td> <td>    0.035</td> <td>   -6.486</td> <td> 0.000</td> <td>   -0.296</td> <td>   -0.159</td>\n",
       "</tr>\n",
       "<tr>\n",
       "  <th>sqft_lot</th>           <td>   -0.0540</td> <td>    0.008</td> <td>   -6.756</td> <td> 0.000</td> <td>   -0.070</td> <td>   -0.038</td>\n",
       "</tr>\n",
       "<tr>\n",
       "  <th>floors</th>             <td>    0.0159</td> <td>    0.001</td> <td>   12.517</td> <td> 0.000</td> <td>    0.013</td> <td>    0.018</td>\n",
       "</tr>\n",
       "<tr>\n",
       "  <th>condition</th>          <td>    0.0166</td> <td>    0.001</td> <td>   12.472</td> <td> 0.000</td> <td>    0.014</td> <td>    0.019</td>\n",
       "</tr>\n",
       "<tr>\n",
       "  <th>grade</th>              <td>    0.0428</td> <td>    0.004</td> <td>   11.516</td> <td> 0.000</td> <td>    0.036</td> <td>    0.050</td>\n",
       "</tr>\n",
       "<tr>\n",
       "  <th>sqft_above</th>         <td>   -0.0126</td> <td>    0.023</td> <td>   -0.544</td> <td> 0.587</td> <td>   -0.058</td> <td>    0.033</td>\n",
       "</tr>\n",
       "<tr>\n",
       "  <th>sqft_basement</th>      <td>    0.0357</td> <td>    0.012</td> <td>    2.919</td> <td> 0.004</td> <td>    0.012</td> <td>    0.060</td>\n",
       "</tr>\n",
       "<tr>\n",
       "  <th>zipcode</th>            <td>    0.0032</td> <td>    0.001</td> <td>    3.947</td> <td> 0.000</td> <td>    0.002</td> <td>    0.005</td>\n",
       "</tr>\n",
       "<tr>\n",
       "  <th>yr_built_renovated</th> <td>   -0.0430</td> <td>    0.001</td> <td>  -39.201</td> <td> 0.000</td> <td>   -0.045</td> <td>   -0.041</td>\n",
       "</tr>\n",
       "<tr>\n",
       "  <th>sqft_living*grade</th>  <td>    0.8891</td> <td>    0.017</td> <td>   51.970</td> <td> 0.000</td> <td>    0.856</td> <td>    0.923</td>\n",
       "</tr>\n",
       "</table>\n",
       "<table class=\"simpletable\">\n",
       "<tr>\n",
       "  <th>Omnibus:</th>       <td>12139.268</td> <th>  Durbin-Watson:     </th>  <td>   1.988</td> \n",
       "</tr>\n",
       "<tr>\n",
       "  <th>Prob(Omnibus):</th>  <td> 0.000</td>   <th>  Jarque-Bera (JB):  </th> <td>404859.444</td>\n",
       "</tr>\n",
       "<tr>\n",
       "  <th>Skew:</th>           <td> 2.120</td>   <th>  Prob(JB):          </th>  <td>    0.00</td> \n",
       "</tr>\n",
       "<tr>\n",
       "  <th>Kurtosis:</th>       <td>23.783</td>   <th>  Cond. No.          </th>  <td>    356.</td> \n",
       "</tr>\n",
       "</table><br/><br/>Warnings:<br/>[1] Standard Errors assume that the covariance matrix of the errors is correctly specified."
      ],
      "text/plain": [
       "<class 'statsmodels.iolib.summary.Summary'>\n",
       "\"\"\"\n",
       "                            OLS Regression Results                            \n",
       "==============================================================================\n",
       "Dep. Variable:                  price   R-squared:                       0.650\n",
       "Model:                            OLS   Adj. R-squared:                  0.650\n",
       "Method:                 Least Squares   F-statistic:                     3080.\n",
       "Date:                Mon, 11 May 2020   Prob (F-statistic):               0.00\n",
       "Time:                        00:07:16   Log-Likelihood:                 46174.\n",
       "No. Observations:               21596   AIC:                        -9.232e+04\n",
       "Df Residuals:                   21582   BIC:                        -9.221e+04\n",
       "Df Model:                          13                                         \n",
       "Covariance Type:            nonrobust                                         \n",
       "======================================================================================\n",
       "                         coef    std err          t      P>|t|      [0.025      0.975]\n",
       "--------------------------------------------------------------------------------------\n",
       "const                  0.0183      0.002      9.662      0.000       0.015       0.022\n",
       "date                   0.0051      0.001      7.598      0.000       0.004       0.006\n",
       "bedrooms              -0.0296      0.003    -10.251      0.000      -0.035      -0.024\n",
       "bathrooms              0.0485      0.003     14.030      0.000       0.042       0.055\n",
       "sqft_living           -0.2274      0.035     -6.486      0.000      -0.296      -0.159\n",
       "sqft_lot              -0.0540      0.008     -6.756      0.000      -0.070      -0.038\n",
       "floors                 0.0159      0.001     12.517      0.000       0.013       0.018\n",
       "condition              0.0166      0.001     12.472      0.000       0.014       0.019\n",
       "grade                  0.0428      0.004     11.516      0.000       0.036       0.050\n",
       "sqft_above            -0.0126      0.023     -0.544      0.587      -0.058       0.033\n",
       "sqft_basement          0.0357      0.012      2.919      0.004       0.012       0.060\n",
       "zipcode                0.0032      0.001      3.947      0.000       0.002       0.005\n",
       "yr_built_renovated    -0.0430      0.001    -39.201      0.000      -0.045      -0.041\n",
       "sqft_living*grade      0.8891      0.017     51.970      0.000       0.856       0.923\n",
       "==============================================================================\n",
       "Omnibus:                    12139.268   Durbin-Watson:                   1.988\n",
       "Prob(Omnibus):                  0.000   Jarque-Bera (JB):           404859.444\n",
       "Skew:                           2.120   Prob(JB):                         0.00\n",
       "Kurtosis:                      23.783   Cond. No.                         356.\n",
       "==============================================================================\n",
       "\n",
       "Warnings:\n",
       "[1] Standard Errors assume that the covariance matrix of the errors is correctly specified.\n",
       "\"\"\""
      ]
     },
     "execution_count": 47,
     "metadata": {},
     "output_type": "execute_result"
    }
   ],
   "source": [
    "X_R2 = np.mean(cross_val_score(linreg, X, y, scoring='r2', cv=crossval))\n",
    "\n",
    "print(X_R2)\n",
    "\n",
    "import statsmodels.api as sm\n",
    "df_inter_sm = sm.add_constant(X)\n",
    "model = sm.OLS(y,X)\n",
    "results = model.fit()\n",
    "\n",
    "results.summary()"
   ]
  },
  {
   "cell_type": "code",
   "execution_count": 48,
   "metadata": {},
   "outputs": [
    {
     "name": "stdout",
     "output_type": "stream",
     "text": [
      "RMSE: 0.028620611945537527\n"
     ]
    }
   ],
   "source": [
    "# Test Errors Results\n",
    "cv_5_results = cross_val_score(linreg, X, y, cv=5, scoring=mse)\n",
    "cv_5_results\n",
    "\n",
    "\n",
    "print(f\"RMSE: {np.sqrt(cv_5_results.mean())}\")"
   ]
  },
  {
   "cell_type": "markdown",
   "metadata": {},
   "source": [
    "We can see 'sqft_above' is no longer significant, so let's go ahead and remove it. "
   ]
  },
  {
   "cell_type": "code",
   "execution_count": 49,
   "metadata": {},
   "outputs": [
    {
     "name": "stdout",
     "output_type": "stream",
     "text": [
      "0.6438536381346337\n",
      "RMSE: 0.028620735217241768\n"
     ]
    },
    {
     "name": "stderr",
     "output_type": "stream",
     "text": [
      "/opt/anaconda3/envs/learn-env/lib/python3.6/site-packages/numpy/core/fromnumeric.py:2389: FutureWarning: Method .ptp is deprecated and will be removed in a future version. Use numpy.ptp instead.\n",
      "  return ptp(axis=axis, out=out, **kwargs)\n"
     ]
    },
    {
     "data": {
      "text/html": [
       "<table class=\"simpletable\">\n",
       "<caption>OLS Regression Results</caption>\n",
       "<tr>\n",
       "  <th>Dep. Variable:</th>          <td>price</td>      <th>  R-squared:         </th>  <td>   0.650</td> \n",
       "</tr>\n",
       "<tr>\n",
       "  <th>Model:</th>                   <td>OLS</td>       <th>  Adj. R-squared:    </th>  <td>   0.650</td> \n",
       "</tr>\n",
       "<tr>\n",
       "  <th>Method:</th>             <td>Least Squares</td>  <th>  F-statistic:       </th>  <td>   3337.</td> \n",
       "</tr>\n",
       "<tr>\n",
       "  <th>Date:</th>             <td>Mon, 11 May 2020</td> <th>  Prob (F-statistic):</th>   <td>  0.00</td>  \n",
       "</tr>\n",
       "<tr>\n",
       "  <th>Time:</th>                 <td>00:07:16</td>     <th>  Log-Likelihood:    </th>  <td>  46174.</td> \n",
       "</tr>\n",
       "<tr>\n",
       "  <th>No. Observations:</th>      <td> 21596</td>      <th>  AIC:               </th> <td>-9.232e+04</td>\n",
       "</tr>\n",
       "<tr>\n",
       "  <th>Df Residuals:</th>          <td> 21583</td>      <th>  BIC:               </th> <td>-9.222e+04</td>\n",
       "</tr>\n",
       "<tr>\n",
       "  <th>Df Model:</th>              <td>    12</td>      <th>                     </th>      <td> </td>    \n",
       "</tr>\n",
       "<tr>\n",
       "  <th>Covariance Type:</th>      <td>nonrobust</td>    <th>                     </th>      <td> </td>    \n",
       "</tr>\n",
       "</table>\n",
       "<table class=\"simpletable\">\n",
       "<tr>\n",
       "           <td></td>             <th>coef</th>     <th>std err</th>      <th>t</th>      <th>P>|t|</th>  <th>[0.025</th>    <th>0.975]</th>  \n",
       "</tr>\n",
       "<tr>\n",
       "  <th>const</th>              <td>    0.0183</td> <td>    0.002</td> <td>    9.649</td> <td> 0.000</td> <td>    0.015</td> <td>    0.022</td>\n",
       "</tr>\n",
       "<tr>\n",
       "  <th>date</th>               <td>    0.0051</td> <td>    0.001</td> <td>    7.594</td> <td> 0.000</td> <td>    0.004</td> <td>    0.006</td>\n",
       "</tr>\n",
       "<tr>\n",
       "  <th>bedrooms</th>           <td>   -0.0296</td> <td>    0.003</td> <td>  -10.253</td> <td> 0.000</td> <td>   -0.035</td> <td>   -0.024</td>\n",
       "</tr>\n",
       "<tr>\n",
       "  <th>bathrooms</th>          <td>    0.0486</td> <td>    0.003</td> <td>   14.069</td> <td> 0.000</td> <td>    0.042</td> <td>    0.055</td>\n",
       "</tr>\n",
       "<tr>\n",
       "  <th>sqft_living</th>        <td>   -0.2452</td> <td>    0.013</td> <td>  -19.450</td> <td> 0.000</td> <td>   -0.270</td> <td>   -0.221</td>\n",
       "</tr>\n",
       "<tr>\n",
       "  <th>sqft_lot</th>           <td>   -0.0541</td> <td>    0.008</td> <td>   -6.767</td> <td> 0.000</td> <td>   -0.070</td> <td>   -0.038</td>\n",
       "</tr>\n",
       "<tr>\n",
       "  <th>floors</th>             <td>    0.0158</td> <td>    0.001</td> <td>   12.529</td> <td> 0.000</td> <td>    0.013</td> <td>    0.018</td>\n",
       "</tr>\n",
       "<tr>\n",
       "  <th>condition</th>          <td>    0.0166</td> <td>    0.001</td> <td>   12.498</td> <td> 0.000</td> <td>    0.014</td> <td>    0.019</td>\n",
       "</tr>\n",
       "<tr>\n",
       "  <th>grade</th>              <td>    0.0428</td> <td>    0.004</td> <td>   11.516</td> <td> 0.000</td> <td>    0.036</td> <td>    0.050</td>\n",
       "</tr>\n",
       "<tr>\n",
       "  <th>sqft_basement</th>      <td>    0.0422</td> <td>    0.003</td> <td>   14.760</td> <td> 0.000</td> <td>    0.037</td> <td>    0.048</td>\n",
       "</tr>\n",
       "<tr>\n",
       "  <th>zipcode</th>            <td>    0.0032</td> <td>    0.001</td> <td>    3.979</td> <td> 0.000</td> <td>    0.002</td> <td>    0.005</td>\n",
       "</tr>\n",
       "<tr>\n",
       "  <th>yr_built_renovated</th> <td>   -0.0430</td> <td>    0.001</td> <td>  -39.212</td> <td> 0.000</td> <td>   -0.045</td> <td>   -0.041</td>\n",
       "</tr>\n",
       "<tr>\n",
       "  <th>sqft_living*grade</th>  <td>    0.8887</td> <td>    0.017</td> <td>   51.989</td> <td> 0.000</td> <td>    0.855</td> <td>    0.922</td>\n",
       "</tr>\n",
       "</table>\n",
       "<table class=\"simpletable\">\n",
       "<tr>\n",
       "  <th>Omnibus:</th>       <td>12137.118</td> <th>  Durbin-Watson:     </th>  <td>   1.988</td> \n",
       "</tr>\n",
       "<tr>\n",
       "  <th>Prob(Omnibus):</th>  <td> 0.000</td>   <th>  Jarque-Bera (JB):  </th> <td>404609.932</td>\n",
       "</tr>\n",
       "<tr>\n",
       "  <th>Skew:</th>           <td> 2.120</td>   <th>  Prob(JB):          </th>  <td>    0.00</td> \n",
       "</tr>\n",
       "<tr>\n",
       "  <th>Kurtosis:</th>       <td>23.777</td>   <th>  Cond. No.          </th>  <td>    171.</td> \n",
       "</tr>\n",
       "</table><br/><br/>Warnings:<br/>[1] Standard Errors assume that the covariance matrix of the errors is correctly specified."
      ],
      "text/plain": [
       "<class 'statsmodels.iolib.summary.Summary'>\n",
       "\"\"\"\n",
       "                            OLS Regression Results                            \n",
       "==============================================================================\n",
       "Dep. Variable:                  price   R-squared:                       0.650\n",
       "Model:                            OLS   Adj. R-squared:                  0.650\n",
       "Method:                 Least Squares   F-statistic:                     3337.\n",
       "Date:                Mon, 11 May 2020   Prob (F-statistic):               0.00\n",
       "Time:                        00:07:16   Log-Likelihood:                 46174.\n",
       "No. Observations:               21596   AIC:                        -9.232e+04\n",
       "Df Residuals:                   21583   BIC:                        -9.222e+04\n",
       "Df Model:                          12                                         \n",
       "Covariance Type:            nonrobust                                         \n",
       "======================================================================================\n",
       "                         coef    std err          t      P>|t|      [0.025      0.975]\n",
       "--------------------------------------------------------------------------------------\n",
       "const                  0.0183      0.002      9.649      0.000       0.015       0.022\n",
       "date                   0.0051      0.001      7.594      0.000       0.004       0.006\n",
       "bedrooms              -0.0296      0.003    -10.253      0.000      -0.035      -0.024\n",
       "bathrooms              0.0486      0.003     14.069      0.000       0.042       0.055\n",
       "sqft_living           -0.2452      0.013    -19.450      0.000      -0.270      -0.221\n",
       "sqft_lot              -0.0541      0.008     -6.767      0.000      -0.070      -0.038\n",
       "floors                 0.0158      0.001     12.529      0.000       0.013       0.018\n",
       "condition              0.0166      0.001     12.498      0.000       0.014       0.019\n",
       "grade                  0.0428      0.004     11.516      0.000       0.036       0.050\n",
       "sqft_basement          0.0422      0.003     14.760      0.000       0.037       0.048\n",
       "zipcode                0.0032      0.001      3.979      0.000       0.002       0.005\n",
       "yr_built_renovated    -0.0430      0.001    -39.212      0.000      -0.045      -0.041\n",
       "sqft_living*grade      0.8887      0.017     51.989      0.000       0.855       0.922\n",
       "==============================================================================\n",
       "Omnibus:                    12137.118   Durbin-Watson:                   1.988\n",
       "Prob(Omnibus):                  0.000   Jarque-Bera (JB):           404609.932\n",
       "Skew:                           2.120   Prob(JB):                         0.00\n",
       "Kurtosis:                      23.777   Cond. No.                         171.\n",
       "==============================================================================\n",
       "\n",
       "Warnings:\n",
       "[1] Standard Errors assume that the covariance matrix of the errors is correctly specified.\n",
       "\"\"\""
      ]
     },
     "execution_count": 49,
     "metadata": {},
     "output_type": "execute_result"
    }
   ],
   "source": [
    "X = X.drop(['sqft_above'],axis=1)\n",
    "\n",
    "\n",
    "X_R2 = np.mean(cross_val_score(linreg, X, y, scoring='r2', cv=crossval))\n",
    "\n",
    "print(X_R2)\n",
    "\n",
    "# Test Errors Results\n",
    "cv_5_results = cross_val_score(linreg, X, y, cv=5, scoring=mse)\n",
    "cv_5_results\n",
    "\n",
    "print(f\"RMSE: {np.sqrt(cv_5_results.mean())}\")\n",
    "\n",
    "import statsmodels.api as sm\n",
    "df_inter_sm = sm.add_constant(X)\n",
    "model = sm.OLS(y,X)\n",
    "results = model.fit()\n",
    "\n",
    "results.summary()"
   ]
  },
  {
   "cell_type": "code",
   "execution_count": 50,
   "metadata": {},
   "outputs": [
    {
     "data": {
      "image/png": "[encoded data removed]",
      "text/plain": [
       "<Figure size 432x288 with 1 Axes>"
      ]
     },
     "metadata": {
      "needs_background": "light"
     },
     "output_type": "display_data"
    }
   ],
   "source": [
    "fig = sm.graphics.qqplot(results.resid, dist=stats.norm, line='45', fit=True)"
   ]
  },
  {
   "cell_type": "markdown",
   "metadata": {},
   "source": [
    "We can see here that outliers are skewing our data. Let's investigate the outliers."
   ]
  },
  {
   "cell_type": "code",
   "execution_count": 51,
   "metadata": {},
   "outputs": [
    {
     "data": {
      "image/png": "[encoded data removed]",
      "text/plain": [
       "<Figure size 432x288 with 1 Axes>"
      ]
     },
     "metadata": {
      "needs_background": "light"
     },
     "output_type": "display_data"
    }
   ],
   "source": [
    "sns.distplot(results.resid);"
   ]
  },
  {
   "cell_type": "code",
   "execution_count": 52,
   "metadata": {},
   "outputs": [
    {
     "name": "stdout",
     "output_type": "stream",
     "text": [
      "0.8 percentile: 0.08167147730254526\n",
      "0.81 percentile: 0.0839674626082393\n",
      "0.82 percentile: 0.08554197061138809\n",
      "0.83 percentile: 0.08815927578063498\n",
      "0.84 percentile: 0.08947835213854631\n",
      "0.85 percentile: 0.09207655471004984\n",
      "0.86 percentile: 0.0945945945945946\n",
      "0.87 percentile: 0.09669378115980058\n",
      "0.88 percentile: 0.09955392285489363\n",
      "0.89 percentile: 0.1025940697979533\n",
      "0.9 percentile: 0.1061401207032275\n",
      "0.91 percentile: 0.11046897139858305\n",
      "0.92 percentile: 0.11440566780372607\n",
      "0.93 percentile: 0.12069896352663345\n",
      "0.94 percentile: 0.12883757543951718\n",
      "0.95 percentile: 0.14195749147205458\n",
      "0.96 percentile: 0.15507740750459198\n",
      "0.97 percentile: 0.1721332983468906\n",
      "0.98 percentile: 0.1996851220152191\n",
      "0.99 percentile: 0.24822881133560748\n"
     ]
    }
   ],
   "source": [
    "for i in range(80,100):\n",
    "    q = i/100\n",
    "    print(\"{} percentile: {}\".format(q, df.price.quantile(q=q)))"
   ]
  },
  {
   "cell_type": "code",
   "execution_count": 53,
   "metadata": {},
   "outputs": [
    {
     "name": "stdout",
     "output_type": "stream",
     "text": [
      "Percent removed: 0.01972587516206705\n"
     ]
    }
   ],
   "source": [
    "orig_tot = len(df)\n",
    "df = df[df.price < 0.20] # Subsetting to remove extreme outliers\n",
    "print('Percent removed:', (orig_tot -len(df))/orig_tot)\n",
    "\n",
    "# Separate target and feature variables\n",
    "\n",
    "X = df.drop(['price'],axis=1)\n",
    "y = df.price\n",
    "\n",
    "# Split data with test size of 20%\n",
    "X_train, X_test, y_train, y_test = train_test_split(X, y, test_size=0.20)"
   ]
  },
  {
   "cell_type": "code",
   "execution_count": 54,
   "metadata": {},
   "outputs": [],
   "source": [
    "# Initialize the linear regression model class\n",
    "linreg = LinearRegression()\n",
    "\n",
    "# Fit the model to train data\n",
    "linreg.fit(X_train, y_train)\n",
    "\n",
    "# Calculate predictions on test set\n",
    "y_hat_test = linreg.predict(X_test)"
   ]
  },
  {
   "cell_type": "code",
   "execution_count": 55,
   "metadata": {},
   "outputs": [
    {
     "name": "stdout",
     "output_type": "stream",
     "text": [
      "0.5954708315352436\n",
      "RMSE: 0.021493422449249972\n"
     ]
    },
    {
     "name": "stderr",
     "output_type": "stream",
     "text": [
      "/opt/anaconda3/envs/learn-env/lib/python3.6/site-packages/numpy/core/fromnumeric.py:2389: FutureWarning: Method .ptp is deprecated and will be removed in a future version. Use numpy.ptp instead.\n",
      "  return ptp(axis=axis, out=out, **kwargs)\n"
     ]
    },
    {
     "data": {
      "text/html": [
       "<table class=\"simpletable\">\n",
       "<caption>OLS Regression Results</caption>\n",
       "<tr>\n",
       "  <th>Dep. Variable:</th>          <td>price</td>      <th>  R-squared (uncentered):</th>       <td>   0.891</td> \n",
       "</tr>\n",
       "<tr>\n",
       "  <th>Model:</th>                   <td>OLS</td>       <th>  Adj. R-squared (uncentered):</th>  <td>   0.890</td> \n",
       "</tr>\n",
       "<tr>\n",
       "  <th>Method:</th>             <td>Least Squares</td>  <th>  F-statistic:       </th>           <td>1.434e+04</td>\n",
       "</tr>\n",
       "<tr>\n",
       "  <th>Date:</th>             <td>Mon, 11 May 2020</td> <th>  Prob (F-statistic):</th>            <td>  0.00</td>  \n",
       "</tr>\n",
       "<tr>\n",
       "  <th>Time:</th>                 <td>00:07:17</td>     <th>  Log-Likelihood:    </th>           <td>  51075.</td> \n",
       "</tr>\n",
       "<tr>\n",
       "  <th>No. Observations:</th>      <td> 21170</td>      <th>  AIC:               </th>          <td>-1.021e+05</td>\n",
       "</tr>\n",
       "<tr>\n",
       "  <th>Df Residuals:</th>          <td> 21158</td>      <th>  BIC:               </th>          <td>-1.020e+05</td>\n",
       "</tr>\n",
       "<tr>\n",
       "  <th>Df Model:</th>              <td>    12</td>      <th>                     </th>               <td> </td>    \n",
       "</tr>\n",
       "<tr>\n",
       "  <th>Covariance Type:</th>      <td>nonrobust</td>    <th>                     </th>               <td> </td>    \n",
       "</tr>\n",
       "</table>\n",
       "<table class=\"simpletable\">\n",
       "<tr>\n",
       "           <td></td>             <th>coef</th>     <th>std err</th>      <th>t</th>      <th>P>|t|</th>  <th>[0.025</th>    <th>0.975]</th>  \n",
       "</tr>\n",
       "<tr>\n",
       "  <th>date</th>               <td>    0.0012</td> <td>    0.001</td> <td>    2.429</td> <td> 0.015</td> <td>    0.000</td> <td>    0.002</td>\n",
       "</tr>\n",
       "<tr>\n",
       "  <th>bedrooms</th>           <td>   -0.0452</td> <td>    0.002</td> <td>  -21.846</td> <td> 0.000</td> <td>   -0.049</td> <td>   -0.041</td>\n",
       "</tr>\n",
       "<tr>\n",
       "  <th>bathrooms</th>          <td>    0.0329</td> <td>    0.003</td> <td>   12.241</td> <td> 0.000</td> <td>    0.028</td> <td>    0.038</td>\n",
       "</tr>\n",
       "<tr>\n",
       "  <th>sqft_living</th>        <td>    0.2451</td> <td>    0.026</td> <td>    9.300</td> <td> 0.000</td> <td>    0.193</td> <td>    0.297</td>\n",
       "</tr>\n",
       "<tr>\n",
       "  <th>sqft_lot</th>           <td>   -0.0142</td> <td>    0.006</td> <td>   -2.258</td> <td> 0.024</td> <td>   -0.026</td> <td>   -0.002</td>\n",
       "</tr>\n",
       "<tr>\n",
       "  <th>floors</th>             <td>    0.0155</td> <td>    0.001</td> <td>   16.030</td> <td> 0.000</td> <td>    0.014</td> <td>    0.017</td>\n",
       "</tr>\n",
       "<tr>\n",
       "  <th>condition</th>          <td>   -0.0020</td> <td>    0.001</td> <td>   -2.585</td> <td> 0.010</td> <td>   -0.004</td> <td>   -0.000</td>\n",
       "</tr>\n",
       "<tr>\n",
       "  <th>grade</th>              <td>    0.1317</td> <td>    0.002</td> <td>   68.666</td> <td> 0.000</td> <td>    0.128</td> <td>    0.135</td>\n",
       "</tr>\n",
       "<tr>\n",
       "  <th>sqft_above</th>         <td>   -0.0245</td> <td>    0.018</td> <td>   -1.353</td> <td> 0.176</td> <td>   -0.060</td> <td>    0.011</td>\n",
       "</tr>\n",
       "<tr>\n",
       "  <th>sqft_basement</th>      <td>    0.0098</td> <td>    0.010</td> <td>    1.018</td> <td> 0.309</td> <td>   -0.009</td> <td>    0.029</td>\n",
       "</tr>\n",
       "<tr>\n",
       "  <th>zipcode</th>            <td>   -0.0004</td> <td>    0.001</td> <td>   -0.726</td> <td> 0.468</td> <td>   -0.002</td> <td>    0.001</td>\n",
       "</tr>\n",
       "<tr>\n",
       "  <th>yr_built_renovated</th> <td>   -0.0479</td> <td>    0.001</td> <td>  -62.396</td> <td> 0.000</td> <td>   -0.049</td> <td>   -0.046</td>\n",
       "</tr>\n",
       "</table>\n",
       "<table class=\"simpletable\">\n",
       "<tr>\n",
       "  <th>Omnibus:</th>       <td>3764.337</td> <th>  Durbin-Watson:     </th> <td>   1.966</td> \n",
       "</tr>\n",
       "<tr>\n",
       "  <th>Prob(Omnibus):</th>  <td> 0.000</td>  <th>  Jarque-Bera (JB):  </th> <td>10328.025</td>\n",
       "</tr>\n",
       "<tr>\n",
       "  <th>Skew:</th>           <td> 0.958</td>  <th>  Prob(JB):          </th> <td>    0.00</td> \n",
       "</tr>\n",
       "<tr>\n",
       "  <th>Kurtosis:</th>       <td> 5.835</td>  <th>  Cond. No.          </th> <td>    278.</td> \n",
       "</tr>\n",
       "</table><br/><br/>Warnings:<br/>[1] Standard Errors assume that the covariance matrix of the errors is correctly specified."
      ],
      "text/plain": [
       "<class 'statsmodels.iolib.summary.Summary'>\n",
       "\"\"\"\n",
       "                                 OLS Regression Results                                \n",
       "=======================================================================================\n",
       "Dep. Variable:                  price   R-squared (uncentered):                   0.891\n",
       "Model:                            OLS   Adj. R-squared (uncentered):              0.890\n",
       "Method:                 Least Squares   F-statistic:                          1.434e+04\n",
       "Date:                Mon, 11 May 2020   Prob (F-statistic):                        0.00\n",
       "Time:                        00:07:17   Log-Likelihood:                          51075.\n",
       "No. Observations:               21170   AIC:                                 -1.021e+05\n",
       "Df Residuals:                   21158   BIC:                                 -1.020e+05\n",
       "Df Model:                          12                                                  \n",
       "Covariance Type:            nonrobust                                                  \n",
       "======================================================================================\n",
       "                         coef    std err          t      P>|t|      [0.025      0.975]\n",
       "--------------------------------------------------------------------------------------\n",
       "date                   0.0012      0.001      2.429      0.015       0.000       0.002\n",
       "bedrooms              -0.0452      0.002    -21.846      0.000      -0.049      -0.041\n",
       "bathrooms              0.0329      0.003     12.241      0.000       0.028       0.038\n",
       "sqft_living            0.2451      0.026      9.300      0.000       0.193       0.297\n",
       "sqft_lot              -0.0142      0.006     -2.258      0.024      -0.026      -0.002\n",
       "floors                 0.0155      0.001     16.030      0.000       0.014       0.017\n",
       "condition             -0.0020      0.001     -2.585      0.010      -0.004      -0.000\n",
       "grade                  0.1317      0.002     68.666      0.000       0.128       0.135\n",
       "sqft_above            -0.0245      0.018     -1.353      0.176      -0.060       0.011\n",
       "sqft_basement          0.0098      0.010      1.018      0.309      -0.009       0.029\n",
       "zipcode               -0.0004      0.001     -0.726      0.468      -0.002       0.001\n",
       "yr_built_renovated    -0.0479      0.001    -62.396      0.000      -0.049      -0.046\n",
       "==============================================================================\n",
       "Omnibus:                     3764.337   Durbin-Watson:                   1.966\n",
       "Prob(Omnibus):                  0.000   Jarque-Bera (JB):            10328.025\n",
       "Skew:                           0.958   Prob(JB):                         0.00\n",
       "Kurtosis:                       5.835   Cond. No.                         278.\n",
       "==============================================================================\n",
       "\n",
       "Warnings:\n",
       "[1] Standard Errors assume that the covariance matrix of the errors is correctly specified.\n",
       "\"\"\""
      ]
     },
     "execution_count": 55,
     "metadata": {},
     "output_type": "execute_result"
    }
   ],
   "source": [
    "X_R2 = np.mean(cross_val_score(linreg, X, y, scoring='r2', cv=crossval))\n",
    "\n",
    "print(X_R2)\n",
    "\n",
    "# Test Errors Results\n",
    "cv_5_results = cross_val_score(linreg, X, y, cv=5, scoring=mse)\n",
    "cv_5_results\n",
    "\n",
    "print(f\"RMSE: {np.sqrt(cv_5_results.mean())}\")\n",
    "\n",
    "import statsmodels.api as sm\n",
    "df_inter_sm = sm.add_constant(X)\n",
    "model = sm.OLS(y,X)\n",
    "results = model.fit()\n",
    "\n",
    "results.summary()"
   ]
  },
  {
   "cell_type": "code",
   "execution_count": 56,
   "metadata": {},
   "outputs": [
    {
     "data": {
      "image/png": "[encoded data removed]",
      "text/plain": [
       "<Figure size 432x288 with 1 Axes>"
      ]
     },
     "metadata": {
      "needs_background": "light"
     },
     "output_type": "display_data"
    }
   ],
   "source": [
    "fig = sm.graphics.qqplot(results.resid, dist=stats.norm, line='45', fit=True)"
   ]
  },
  {
   "cell_type": "code",
   "execution_count": 57,
   "metadata": {},
   "outputs": [
    {
     "data": {
      "image/png": "[encoded data removed]",
      "text/plain": [
       "<Figure size 432x288 with 1 Axes>"
      ]
     },
     "metadata": {
      "needs_background": "light"
     },
     "output_type": "display_data"
    }
   ],
   "source": [
    "sns.distplot(results.resid);"
   ]
  },
  {
   "cell_type": "markdown",
   "metadata": {},
   "source": [
    "Add multicollinearity interaction back in."
   ]
  },
  {
   "cell_type": "code",
   "execution_count": 58,
   "metadata": {},
   "outputs": [],
   "source": [
    "X['sqft_living*grade'] = X['sqft_living'] * X['grade']"
   ]
  },
  {
   "cell_type": "code",
   "execution_count": 59,
   "metadata": {},
   "outputs": [
    {
     "data": {
      "text/html": [
       "<div>\n",
       "<style scoped>\n",
       "    .dataframe tbody tr th:only-of-type {\n",
       "        vertical-align: middle;\n",
       "    }\n",
       "\n",
       "    .dataframe tbody tr th {\n",
       "        vertical-align: top;\n",
       "    }\n",
       "\n",
       "    .dataframe thead th {\n",
       "        text-align: right;\n",
       "    }\n",
       "</style>\n",
       "<table border=\"1\" class=\"dataframe\">\n",
       "  <thead>\n",
       "    <tr style=\"text-align: right;\">\n",
       "      <th></th>\n",
       "      <th>date</th>\n",
       "      <th>bedrooms</th>\n",
       "      <th>bathrooms</th>\n",
       "      <th>sqft_living</th>\n",
       "      <th>sqft_lot</th>\n",
       "      <th>floors</th>\n",
       "      <th>condition</th>\n",
       "      <th>grade</th>\n",
       "      <th>sqft_above</th>\n",
       "      <th>sqft_basement</th>\n",
       "      <th>zipcode</th>\n",
       "      <th>yr_built_renovated</th>\n",
       "      <th>sqft_living*grade</th>\n",
       "    </tr>\n",
       "  </thead>\n",
       "  <tbody>\n",
       "    <tr>\n",
       "      <td>0</td>\n",
       "      <td>0.420513</td>\n",
       "      <td>0.2</td>\n",
       "      <td>0.066667</td>\n",
       "      <td>0.061503</td>\n",
       "      <td>0.003108</td>\n",
       "      <td>0.0</td>\n",
       "      <td>0.5</td>\n",
       "      <td>0.4</td>\n",
       "      <td>0.089602</td>\n",
       "      <td>0.000000</td>\n",
       "      <td>0.893939</td>\n",
       "      <td>0.478261</td>\n",
       "      <td>0.024601</td>\n",
       "    </tr>\n",
       "    <tr>\n",
       "      <td>1</td>\n",
       "      <td>0.566667</td>\n",
       "      <td>0.2</td>\n",
       "      <td>0.233333</td>\n",
       "      <td>0.167046</td>\n",
       "      <td>0.004072</td>\n",
       "      <td>0.4</td>\n",
       "      <td>0.5</td>\n",
       "      <td>0.4</td>\n",
       "      <td>0.199115</td>\n",
       "      <td>0.082988</td>\n",
       "      <td>0.626263</td>\n",
       "      <td>0.791304</td>\n",
       "      <td>0.066819</td>\n",
       "    </tr>\n",
       "    <tr>\n",
       "      <td>2</td>\n",
       "      <td>0.766667</td>\n",
       "      <td>0.1</td>\n",
       "      <td>0.066667</td>\n",
       "      <td>0.030372</td>\n",
       "      <td>0.005743</td>\n",
       "      <td>0.0</td>\n",
       "      <td>0.5</td>\n",
       "      <td>0.3</td>\n",
       "      <td>0.044248</td>\n",
       "      <td>0.000000</td>\n",
       "      <td>0.136364</td>\n",
       "      <td>0.286957</td>\n",
       "      <td>0.009112</td>\n",
       "    </tr>\n",
       "    <tr>\n",
       "      <td>3</td>\n",
       "      <td>0.566667</td>\n",
       "      <td>0.3</td>\n",
       "      <td>0.333333</td>\n",
       "      <td>0.120729</td>\n",
       "      <td>0.002714</td>\n",
       "      <td>0.0</td>\n",
       "      <td>1.0</td>\n",
       "      <td>0.4</td>\n",
       "      <td>0.075221</td>\n",
       "      <td>0.188797</td>\n",
       "      <td>0.681818</td>\n",
       "      <td>0.565217</td>\n",
       "      <td>0.048292</td>\n",
       "    </tr>\n",
       "    <tr>\n",
       "      <td>4</td>\n",
       "      <td>0.748718</td>\n",
       "      <td>0.2</td>\n",
       "      <td>0.200000</td>\n",
       "      <td>0.099468</td>\n",
       "      <td>0.004579</td>\n",
       "      <td>0.0</td>\n",
       "      <td>0.5</td>\n",
       "      <td>0.5</td>\n",
       "      <td>0.144912</td>\n",
       "      <td>0.000000</td>\n",
       "      <td>0.368687</td>\n",
       "      <td>0.756522</td>\n",
       "      <td>0.049734</td>\n",
       "    </tr>\n",
       "  </tbody>\n",
       "</table>\n",
       "</div>"
      ],
      "text/plain": [
       "       date  bedrooms  bathrooms  sqft_living  sqft_lot  floors  condition  \\\n",
       "0  0.420513       0.2   0.066667     0.061503  0.003108     0.0        0.5   \n",
       "1  0.566667       0.2   0.233333     0.167046  0.004072     0.4        0.5   \n",
       "2  0.766667       0.1   0.066667     0.030372  0.005743     0.0        0.5   \n",
       "3  0.566667       0.3   0.333333     0.120729  0.002714     0.0        1.0   \n",
       "4  0.748718       0.2   0.200000     0.099468  0.004579     0.0        0.5   \n",
       "\n",
       "   grade  sqft_above  sqft_basement   zipcode  yr_built_renovated  \\\n",
       "0    0.4    0.089602       0.000000  0.893939            0.478261   \n",
       "1    0.4    0.199115       0.082988  0.626263            0.791304   \n",
       "2    0.3    0.044248       0.000000  0.136364            0.286957   \n",
       "3    0.4    0.075221       0.188797  0.681818            0.565217   \n",
       "4    0.5    0.144912       0.000000  0.368687            0.756522   \n",
       "\n",
       "   sqft_living*grade  \n",
       "0           0.024601  \n",
       "1           0.066819  \n",
       "2           0.009112  \n",
       "3           0.048292  \n",
       "4           0.049734  "
      ]
     },
     "execution_count": 59,
     "metadata": {},
     "output_type": "execute_result"
    }
   ],
   "source": [
    "X.head()"
   ]
  },
  {
   "cell_type": "code",
   "execution_count": 60,
   "metadata": {},
   "outputs": [
    {
     "name": "stdout",
     "output_type": "stream",
     "text": [
      "0.5986870837348462\n",
      "RMSE: 0.021401511727344846\n"
     ]
    },
    {
     "name": "stderr",
     "output_type": "stream",
     "text": [
      "/opt/anaconda3/envs/learn-env/lib/python3.6/site-packages/numpy/core/fromnumeric.py:2389: FutureWarning: Method .ptp is deprecated and will be removed in a future version. Use numpy.ptp instead.\n",
      "  return ptp(axis=axis, out=out, **kwargs)\n"
     ]
    },
    {
     "data": {
      "text/html": [
       "<table class=\"simpletable\">\n",
       "<caption>OLS Regression Results</caption>\n",
       "<tr>\n",
       "  <th>Dep. Variable:</th>          <td>price</td>      <th>  R-squared (uncentered):</th>       <td>   0.893</td> \n",
       "</tr>\n",
       "<tr>\n",
       "  <th>Model:</th>                   <td>OLS</td>       <th>  Adj. R-squared (uncentered):</th>  <td>   0.893</td> \n",
       "</tr>\n",
       "<tr>\n",
       "  <th>Method:</th>             <td>Least Squares</td>  <th>  F-statistic:       </th>           <td>1.363e+04</td>\n",
       "</tr>\n",
       "<tr>\n",
       "  <th>Date:</th>             <td>Mon, 11 May 2020</td> <th>  Prob (F-statistic):</th>            <td>  0.00</td>  \n",
       "</tr>\n",
       "<tr>\n",
       "  <th>Time:</th>                 <td>00:07:18</td>     <th>  Log-Likelihood:    </th>           <td>  51349.</td> \n",
       "</tr>\n",
       "<tr>\n",
       "  <th>No. Observations:</th>      <td> 21170</td>      <th>  AIC:               </th>          <td>-1.027e+05</td>\n",
       "</tr>\n",
       "<tr>\n",
       "  <th>Df Residuals:</th>          <td> 21157</td>      <th>  BIC:               </th>          <td>-1.026e+05</td>\n",
       "</tr>\n",
       "<tr>\n",
       "  <th>Df Model:</th>              <td>    13</td>      <th>                     </th>               <td> </td>    \n",
       "</tr>\n",
       "<tr>\n",
       "  <th>Covariance Type:</th>      <td>nonrobust</td>    <th>                     </th>               <td> </td>    \n",
       "</tr>\n",
       "</table>\n",
       "<table class=\"simpletable\">\n",
       "<tr>\n",
       "           <td></td>             <th>coef</th>     <th>std err</th>      <th>t</th>      <th>P>|t|</th>  <th>[0.025</th>    <th>0.975]</th>  \n",
       "</tr>\n",
       "<tr>\n",
       "  <th>date</th>               <td>    0.0031</td> <td>    0.000</td> <td>    6.120</td> <td> 0.000</td> <td>    0.002</td> <td>    0.004</td>\n",
       "</tr>\n",
       "<tr>\n",
       "  <th>bedrooms</th>           <td>   -0.0264</td> <td>    0.002</td> <td>  -12.028</td> <td> 0.000</td> <td>   -0.031</td> <td>   -0.022</td>\n",
       "</tr>\n",
       "<tr>\n",
       "  <th>bathrooms</th>          <td>    0.0327</td> <td>    0.003</td> <td>   12.329</td> <td> 0.000</td> <td>    0.028</td> <td>    0.038</td>\n",
       "</tr>\n",
       "<tr>\n",
       "  <th>sqft_living</th>        <td>    0.0555</td> <td>    0.027</td> <td>    2.037</td> <td> 0.042</td> <td>    0.002</td> <td>    0.109</td>\n",
       "</tr>\n",
       "<tr>\n",
       "  <th>sqft_lot</th>           <td>   -0.0112</td> <td>    0.006</td> <td>   -1.811</td> <td> 0.070</td> <td>   -0.023</td> <td>    0.001</td>\n",
       "</tr>\n",
       "<tr>\n",
       "  <th>floors</th>             <td>    0.0161</td> <td>    0.001</td> <td>   16.945</td> <td> 0.000</td> <td>    0.014</td> <td>    0.018</td>\n",
       "</tr>\n",
       "<tr>\n",
       "  <th>condition</th>          <td>    0.0087</td> <td>    0.001</td> <td>    9.754</td> <td> 0.000</td> <td>    0.007</td> <td>    0.010</td>\n",
       "</tr>\n",
       "<tr>\n",
       "  <th>grade</th>              <td>    0.1039</td> <td>    0.002</td> <td>   46.562</td> <td> 0.000</td> <td>    0.100</td> <td>    0.108</td>\n",
       "</tr>\n",
       "<tr>\n",
       "  <th>sqft_above</th>         <td>   -0.0316</td> <td>    0.018</td> <td>   -1.768</td> <td> 0.077</td> <td>   -0.067</td> <td>    0.003</td>\n",
       "</tr>\n",
       "<tr>\n",
       "  <th>sqft_basement</th>      <td>    0.0135</td> <td>    0.009</td> <td>    1.426</td> <td> 0.154</td> <td>   -0.005</td> <td>    0.032</td>\n",
       "</tr>\n",
       "<tr>\n",
       "  <th>zipcode</th>            <td>    0.0029</td> <td>    0.001</td> <td>    5.030</td> <td> 0.000</td> <td>    0.002</td> <td>    0.004</td>\n",
       "</tr>\n",
       "<tr>\n",
       "  <th>yr_built_renovated</th> <td>   -0.0410</td> <td>    0.001</td> <td>  -50.347</td> <td> 0.000</td> <td>   -0.043</td> <td>   -0.039</td>\n",
       "</tr>\n",
       "<tr>\n",
       "  <th>sqft_living*grade</th>  <td>    0.3129</td> <td>    0.013</td> <td>   23.536</td> <td> 0.000</td> <td>    0.287</td> <td>    0.339</td>\n",
       "</tr>\n",
       "</table>\n",
       "<table class=\"simpletable\">\n",
       "<tr>\n",
       "  <th>Omnibus:</th>       <td>3853.246</td> <th>  Durbin-Watson:     </th> <td>   1.970</td> \n",
       "</tr>\n",
       "<tr>\n",
       "  <th>Prob(Omnibus):</th>  <td> 0.000</td>  <th>  Jarque-Bera (JB):  </th> <td>12107.325</td>\n",
       "</tr>\n",
       "<tr>\n",
       "  <th>Skew:</th>           <td> 0.936</td>  <th>  Prob(JB):          </th> <td>    0.00</td> \n",
       "</tr>\n",
       "<tr>\n",
       "  <th>Kurtosis:</th>       <td> 6.198</td>  <th>  Cond. No.          </th> <td>    285.</td> \n",
       "</tr>\n",
       "</table><br/><br/>Warnings:<br/>[1] Standard Errors assume that the covariance matrix of the errors is correctly specified."
      ],
      "text/plain": [
       "<class 'statsmodels.iolib.summary.Summary'>\n",
       "\"\"\"\n",
       "                                 OLS Regression Results                                \n",
       "=======================================================================================\n",
       "Dep. Variable:                  price   R-squared (uncentered):                   0.893\n",
       "Model:                            OLS   Adj. R-squared (uncentered):              0.893\n",
       "Method:                 Least Squares   F-statistic:                          1.363e+04\n",
       "Date:                Mon, 11 May 2020   Prob (F-statistic):                        0.00\n",
       "Time:                        00:07:18   Log-Likelihood:                          51349.\n",
       "No. Observations:               21170   AIC:                                 -1.027e+05\n",
       "Df Residuals:                   21157   BIC:                                 -1.026e+05\n",
       "Df Model:                          13                                                  \n",
       "Covariance Type:            nonrobust                                                  \n",
       "======================================================================================\n",
       "                         coef    std err          t      P>|t|      [0.025      0.975]\n",
       "--------------------------------------------------------------------------------------\n",
       "date                   0.0031      0.000      6.120      0.000       0.002       0.004\n",
       "bedrooms              -0.0264      0.002    -12.028      0.000      -0.031      -0.022\n",
       "bathrooms              0.0327      0.003     12.329      0.000       0.028       0.038\n",
       "sqft_living            0.0555      0.027      2.037      0.042       0.002       0.109\n",
       "sqft_lot              -0.0112      0.006     -1.811      0.070      -0.023       0.001\n",
       "floors                 0.0161      0.001     16.945      0.000       0.014       0.018\n",
       "condition              0.0087      0.001      9.754      0.000       0.007       0.010\n",
       "grade                  0.1039      0.002     46.562      0.000       0.100       0.108\n",
       "sqft_above            -0.0316      0.018     -1.768      0.077      -0.067       0.003\n",
       "sqft_basement          0.0135      0.009      1.426      0.154      -0.005       0.032\n",
       "zipcode                0.0029      0.001      5.030      0.000       0.002       0.004\n",
       "yr_built_renovated    -0.0410      0.001    -50.347      0.000      -0.043      -0.039\n",
       "sqft_living*grade      0.3129      0.013     23.536      0.000       0.287       0.339\n",
       "==============================================================================\n",
       "Omnibus:                     3853.246   Durbin-Watson:                   1.970\n",
       "Prob(Omnibus):                  0.000   Jarque-Bera (JB):            12107.325\n",
       "Skew:                           0.936   Prob(JB):                         0.00\n",
       "Kurtosis:                       6.198   Cond. No.                         285.\n",
       "==============================================================================\n",
       "\n",
       "Warnings:\n",
       "[1] Standard Errors assume that the covariance matrix of the errors is correctly specified.\n",
       "\"\"\""
      ]
     },
     "execution_count": 60,
     "metadata": {},
     "output_type": "execute_result"
    }
   ],
   "source": [
    "X_R2 = np.mean(cross_val_score(linreg, X, y, scoring='r2', cv=crossval))\n",
    "\n",
    "print(X_R2)\n",
    "\n",
    "# Test Errors Results\n",
    "cv_5_results = cross_val_score(linreg, X, y, cv=5, scoring=mse)\n",
    "cv_5_results\n",
    "\n",
    "print(f\"RMSE: {np.sqrt(cv_5_results.mean())}\")\n",
    "\n",
    "import statsmodels.api as sm\n",
    "df_inter_sm = sm.add_constant(X)\n",
    "model = sm.OLS(y,X)\n",
    "results = model.fit()\n",
    "\n",
    "results.summary()"
   ]
  },
  {
   "cell_type": "markdown",
   "metadata": {},
   "source": [
    "We can see now 'sqft_living', 'sqft_above', and 'sqft_basement' are no longer significant. Let's try removing the largest first, which is 'sqft_basement'."
   ]
  },
  {
   "cell_type": "code",
   "execution_count": 61,
   "metadata": {},
   "outputs": [],
   "source": [
    "X = X.drop(['sqft_basement'], axis=1) "
   ]
  },
  {
   "cell_type": "code",
   "execution_count": 62,
   "metadata": {},
   "outputs": [
    {
     "name": "stdout",
     "output_type": "stream",
     "text": [
      "0.5986972781035703\n"
     ]
    },
    {
     "name": "stderr",
     "output_type": "stream",
     "text": [
      "/opt/anaconda3/envs/learn-env/lib/python3.6/site-packages/numpy/core/fromnumeric.py:2389: FutureWarning: Method .ptp is deprecated and will be removed in a future version. Use numpy.ptp instead.\n",
      "  return ptp(axis=axis, out=out, **kwargs)\n"
     ]
    },
    {
     "name": "stdout",
     "output_type": "stream",
     "text": [
      "RMSE: 0.02140214505100746\n"
     ]
    },
    {
     "data": {
      "text/html": [
       "<table class=\"simpletable\">\n",
       "<caption>OLS Regression Results</caption>\n",
       "<tr>\n",
       "  <th>Dep. Variable:</th>          <td>price</td>      <th>  R-squared (uncentered):</th>       <td>   0.893</td> \n",
       "</tr>\n",
       "<tr>\n",
       "  <th>Model:</th>                   <td>OLS</td>       <th>  Adj. R-squared (uncentered):</th>  <td>   0.893</td> \n",
       "</tr>\n",
       "<tr>\n",
       "  <th>Method:</th>             <td>Least Squares</td>  <th>  F-statistic:       </th>           <td>1.476e+04</td>\n",
       "</tr>\n",
       "<tr>\n",
       "  <th>Date:</th>             <td>Mon, 11 May 2020</td> <th>  Prob (F-statistic):</th>            <td>  0.00</td>  \n",
       "</tr>\n",
       "<tr>\n",
       "  <th>Time:</th>                 <td>00:07:18</td>     <th>  Log-Likelihood:    </th>           <td>  51348.</td> \n",
       "</tr>\n",
       "<tr>\n",
       "  <th>No. Observations:</th>      <td> 21170</td>      <th>  AIC:               </th>          <td>-1.027e+05</td>\n",
       "</tr>\n",
       "<tr>\n",
       "  <th>Df Residuals:</th>          <td> 21158</td>      <th>  BIC:               </th>          <td>-1.026e+05</td>\n",
       "</tr>\n",
       "<tr>\n",
       "  <th>Df Model:</th>              <td>    12</td>      <th>                     </th>               <td> </td>    \n",
       "</tr>\n",
       "<tr>\n",
       "  <th>Covariance Type:</th>      <td>nonrobust</td>    <th>                     </th>               <td> </td>    \n",
       "</tr>\n",
       "</table>\n",
       "<table class=\"simpletable\">\n",
       "<tr>\n",
       "           <td></td>             <th>coef</th>     <th>std err</th>      <th>t</th>      <th>P>|t|</th>  <th>[0.025</th>    <th>0.975]</th>  \n",
       "</tr>\n",
       "<tr>\n",
       "  <th>date</th>               <td>    0.0031</td> <td>    0.000</td> <td>    6.132</td> <td> 0.000</td> <td>    0.002</td> <td>    0.004</td>\n",
       "</tr>\n",
       "<tr>\n",
       "  <th>bedrooms</th>           <td>   -0.0264</td> <td>    0.002</td> <td>  -12.041</td> <td> 0.000</td> <td>   -0.031</td> <td>   -0.022</td>\n",
       "</tr>\n",
       "<tr>\n",
       "  <th>bathrooms</th>          <td>    0.0327</td> <td>    0.003</td> <td>   12.324</td> <td> 0.000</td> <td>    0.028</td> <td>    0.038</td>\n",
       "</tr>\n",
       "<tr>\n",
       "  <th>sqft_living</th>        <td>    0.0917</td> <td>    0.010</td> <td>    9.400</td> <td> 0.000</td> <td>    0.073</td> <td>    0.111</td>\n",
       "</tr>\n",
       "<tr>\n",
       "  <th>sqft_lot</th>           <td>   -0.0112</td> <td>    0.006</td> <td>   -1.812</td> <td> 0.070</td> <td>   -0.023</td> <td>    0.001</td>\n",
       "</tr>\n",
       "<tr>\n",
       "  <th>floors</th>             <td>    0.0161</td> <td>    0.001</td> <td>   16.940</td> <td> 0.000</td> <td>    0.014</td> <td>    0.018</td>\n",
       "</tr>\n",
       "<tr>\n",
       "  <th>condition</th>          <td>    0.0087</td> <td>    0.001</td> <td>    9.731</td> <td> 0.000</td> <td>    0.007</td> <td>    0.010</td>\n",
       "</tr>\n",
       "<tr>\n",
       "  <th>grade</th>              <td>    0.1040</td> <td>    0.002</td> <td>   46.583</td> <td> 0.000</td> <td>    0.100</td> <td>    0.108</td>\n",
       "</tr>\n",
       "<tr>\n",
       "  <th>sqft_above</th>         <td>   -0.0563</td> <td>    0.004</td> <td>  -13.435</td> <td> 0.000</td> <td>   -0.065</td> <td>   -0.048</td>\n",
       "</tr>\n",
       "<tr>\n",
       "  <th>zipcode</th>            <td>    0.0029</td> <td>    0.001</td> <td>    5.024</td> <td> 0.000</td> <td>    0.002</td> <td>    0.004</td>\n",
       "</tr>\n",
       "<tr>\n",
       "  <th>yr_built_renovated</th> <td>   -0.0410</td> <td>    0.001</td> <td>  -50.350</td> <td> 0.000</td> <td>   -0.043</td> <td>   -0.039</td>\n",
       "</tr>\n",
       "<tr>\n",
       "  <th>sqft_living*grade</th>  <td>    0.3125</td> <td>    0.013</td> <td>   23.514</td> <td> 0.000</td> <td>    0.286</td> <td>    0.339</td>\n",
       "</tr>\n",
       "</table>\n",
       "<table class=\"simpletable\">\n",
       "<tr>\n",
       "  <th>Omnibus:</th>       <td>3852.013</td> <th>  Durbin-Watson:     </th> <td>   1.970</td> \n",
       "</tr>\n",
       "<tr>\n",
       "  <th>Prob(Omnibus):</th>  <td> 0.000</td>  <th>  Jarque-Bera (JB):  </th> <td>12094.082</td>\n",
       "</tr>\n",
       "<tr>\n",
       "  <th>Skew:</th>           <td> 0.936</td>  <th>  Prob(JB):          </th> <td>    0.00</td> \n",
       "</tr>\n",
       "<tr>\n",
       "  <th>Kurtosis:</th>       <td> 6.195</td>  <th>  Cond. No.          </th> <td>    134.</td> \n",
       "</tr>\n",
       "</table><br/><br/>Warnings:<br/>[1] Standard Errors assume that the covariance matrix of the errors is correctly specified."
      ],
      "text/plain": [
       "<class 'statsmodels.iolib.summary.Summary'>\n",
       "\"\"\"\n",
       "                                 OLS Regression Results                                \n",
       "=======================================================================================\n",
       "Dep. Variable:                  price   R-squared (uncentered):                   0.893\n",
       "Model:                            OLS   Adj. R-squared (uncentered):              0.893\n",
       "Method:                 Least Squares   F-statistic:                          1.476e+04\n",
       "Date:                Mon, 11 May 2020   Prob (F-statistic):                        0.00\n",
       "Time:                        00:07:18   Log-Likelihood:                          51348.\n",
       "No. Observations:               21170   AIC:                                 -1.027e+05\n",
       "Df Residuals:                   21158   BIC:                                 -1.026e+05\n",
       "Df Model:                          12                                                  \n",
       "Covariance Type:            nonrobust                                                  \n",
       "======================================================================================\n",
       "                         coef    std err          t      P>|t|      [0.025      0.975]\n",
       "--------------------------------------------------------------------------------------\n",
       "date                   0.0031      0.000      6.132      0.000       0.002       0.004\n",
       "bedrooms              -0.0264      0.002    -12.041      0.000      -0.031      -0.022\n",
       "bathrooms              0.0327      0.003     12.324      0.000       0.028       0.038\n",
       "sqft_living            0.0917      0.010      9.400      0.000       0.073       0.111\n",
       "sqft_lot              -0.0112      0.006     -1.812      0.070      -0.023       0.001\n",
       "floors                 0.0161      0.001     16.940      0.000       0.014       0.018\n",
       "condition              0.0087      0.001      9.731      0.000       0.007       0.010\n",
       "grade                  0.1040      0.002     46.583      0.000       0.100       0.108\n",
       "sqft_above            -0.0563      0.004    -13.435      0.000      -0.065      -0.048\n",
       "zipcode                0.0029      0.001      5.024      0.000       0.002       0.004\n",
       "yr_built_renovated    -0.0410      0.001    -50.350      0.000      -0.043      -0.039\n",
       "sqft_living*grade      0.3125      0.013     23.514      0.000       0.286       0.339\n",
       "==============================================================================\n",
       "Omnibus:                     3852.013   Durbin-Watson:                   1.970\n",
       "Prob(Omnibus):                  0.000   Jarque-Bera (JB):            12094.082\n",
       "Skew:                           0.936   Prob(JB):                         0.00\n",
       "Kurtosis:                       6.195   Cond. No.                         134.\n",
       "==============================================================================\n",
       "\n",
       "Warnings:\n",
       "[1] Standard Errors assume that the covariance matrix of the errors is correctly specified.\n",
       "\"\"\""
      ]
     },
     "execution_count": 62,
     "metadata": {},
     "output_type": "execute_result"
    }
   ],
   "source": [
    "X_R2 = np.mean(cross_val_score(linreg, X, y, scoring='r2', cv=crossval))\n",
    "\n",
    "print(X_R2)\n",
    "\n",
    "# Test Errors Results\n",
    "cv_5_results = cross_val_score(linreg, X, y, cv=5, scoring=mse)\n",
    "cv_5_results\n",
    "\n",
    "print(f\"RMSE: {np.sqrt(cv_5_results.mean())}\")\n",
    "\n",
    "import statsmodels.api as sm\n",
    "df_inter_sm = sm.add_constant(X)\n",
    "model = sm.OLS(y,X)\n",
    "results = model.fit()\n",
    "\n",
    "results.summary()"
   ]
  },
  {
   "cell_type": "markdown",
   "metadata": {},
   "source": [
    "And 'sqft_lot'."
   ]
  },
  {
   "cell_type": "code",
   "execution_count": 63,
   "metadata": {},
   "outputs": [],
   "source": [
    "X = X.drop(['sqft_lot'], axis=1) "
   ]
  },
  {
   "cell_type": "code",
   "execution_count": 64,
   "metadata": {},
   "outputs": [
    {
     "name": "stdout",
     "output_type": "stream",
     "text": [
      "0.5987257364504946\n",
      "RMSE: 0.02139798613845402\n"
     ]
    },
    {
     "name": "stderr",
     "output_type": "stream",
     "text": [
      "/opt/anaconda3/envs/learn-env/lib/python3.6/site-packages/numpy/core/fromnumeric.py:2389: FutureWarning: Method .ptp is deprecated and will be removed in a future version. Use numpy.ptp instead.\n",
      "  return ptp(axis=axis, out=out, **kwargs)\n"
     ]
    },
    {
     "data": {
      "text/html": [
       "<table class=\"simpletable\">\n",
       "<caption>OLS Regression Results</caption>\n",
       "<tr>\n",
       "  <th>Dep. Variable:</th>          <td>price</td>      <th>  R-squared (uncentered):</th>       <td>   0.893</td> \n",
       "</tr>\n",
       "<tr>\n",
       "  <th>Model:</th>                   <td>OLS</td>       <th>  Adj. R-squared (uncentered):</th>  <td>   0.893</td> \n",
       "</tr>\n",
       "<tr>\n",
       "  <th>Method:</th>             <td>Least Squares</td>  <th>  F-statistic:       </th>           <td>1.610e+04</td>\n",
       "</tr>\n",
       "<tr>\n",
       "  <th>Date:</th>             <td>Mon, 11 May 2020</td> <th>  Prob (F-statistic):</th>            <td>  0.00</td>  \n",
       "</tr>\n",
       "<tr>\n",
       "  <th>Time:</th>                 <td>00:07:18</td>     <th>  Log-Likelihood:    </th>           <td>  51346.</td> \n",
       "</tr>\n",
       "<tr>\n",
       "  <th>No. Observations:</th>      <td> 21170</td>      <th>  AIC:               </th>          <td>-1.027e+05</td>\n",
       "</tr>\n",
       "<tr>\n",
       "  <th>Df Residuals:</th>          <td> 21159</td>      <th>  BIC:               </th>          <td>-1.026e+05</td>\n",
       "</tr>\n",
       "<tr>\n",
       "  <th>Df Model:</th>              <td>    11</td>      <th>                     </th>               <td> </td>    \n",
       "</tr>\n",
       "<tr>\n",
       "  <th>Covariance Type:</th>      <td>nonrobust</td>    <th>                     </th>               <td> </td>    \n",
       "</tr>\n",
       "</table>\n",
       "<table class=\"simpletable\">\n",
       "<tr>\n",
       "           <td></td>             <th>coef</th>     <th>std err</th>      <th>t</th>      <th>P>|t|</th>  <th>[0.025</th>    <th>0.975]</th>  \n",
       "</tr>\n",
       "<tr>\n",
       "  <th>date</th>               <td>    0.0030</td> <td>    0.000</td> <td>    6.093</td> <td> 0.000</td> <td>    0.002</td> <td>    0.004</td>\n",
       "</tr>\n",
       "<tr>\n",
       "  <th>bedrooms</th>           <td>   -0.0261</td> <td>    0.002</td> <td>  -11.937</td> <td> 0.000</td> <td>   -0.030</td> <td>   -0.022</td>\n",
       "</tr>\n",
       "<tr>\n",
       "  <th>bathrooms</th>          <td>    0.0328</td> <td>    0.003</td> <td>   12.358</td> <td> 0.000</td> <td>    0.028</td> <td>    0.038</td>\n",
       "</tr>\n",
       "<tr>\n",
       "  <th>sqft_living</th>        <td>    0.0910</td> <td>    0.010</td> <td>    9.330</td> <td> 0.000</td> <td>    0.072</td> <td>    0.110</td>\n",
       "</tr>\n",
       "<tr>\n",
       "  <th>floors</th>             <td>    0.0163</td> <td>    0.001</td> <td>   17.191</td> <td> 0.000</td> <td>    0.014</td> <td>    0.018</td>\n",
       "</tr>\n",
       "<tr>\n",
       "  <th>condition</th>          <td>    0.0087</td> <td>    0.001</td> <td>    9.673</td> <td> 0.000</td> <td>    0.007</td> <td>    0.010</td>\n",
       "</tr>\n",
       "<tr>\n",
       "  <th>grade</th>              <td>    0.1039</td> <td>    0.002</td> <td>   46.569</td> <td> 0.000</td> <td>    0.100</td> <td>    0.108</td>\n",
       "</tr>\n",
       "<tr>\n",
       "  <th>sqft_above</th>         <td>   -0.0570</td> <td>    0.004</td> <td>  -13.658</td> <td> 0.000</td> <td>   -0.065</td> <td>   -0.049</td>\n",
       "</tr>\n",
       "<tr>\n",
       "  <th>zipcode</th>            <td>    0.0029</td> <td>    0.001</td> <td>    5.149</td> <td> 0.000</td> <td>    0.002</td> <td>    0.004</td>\n",
       "</tr>\n",
       "<tr>\n",
       "  <th>yr_built_renovated</th> <td>   -0.0410</td> <td>    0.001</td> <td>  -50.382</td> <td> 0.000</td> <td>   -0.043</td> <td>   -0.039</td>\n",
       "</tr>\n",
       "<tr>\n",
       "  <th>sqft_living*grade</th>  <td>    0.3130</td> <td>    0.013</td> <td>   23.555</td> <td> 0.000</td> <td>    0.287</td> <td>    0.339</td>\n",
       "</tr>\n",
       "</table>\n",
       "<table class=\"simpletable\">\n",
       "<tr>\n",
       "  <th>Omnibus:</th>       <td>3862.629</td> <th>  Durbin-Watson:     </th> <td>   1.970</td> \n",
       "</tr>\n",
       "<tr>\n",
       "  <th>Prob(Omnibus):</th>  <td> 0.000</td>  <th>  Jarque-Bera (JB):  </th> <td>12158.746</td>\n",
       "</tr>\n",
       "<tr>\n",
       "  <th>Skew:</th>           <td> 0.937</td>  <th>  Prob(JB):          </th> <td>    0.00</td> \n",
       "</tr>\n",
       "<tr>\n",
       "  <th>Kurtosis:</th>       <td> 6.205</td>  <th>  Cond. No.          </th> <td>    134.</td> \n",
       "</tr>\n",
       "</table><br/><br/>Warnings:<br/>[1] Standard Errors assume that the covariance matrix of the errors is correctly specified."
      ],
      "text/plain": [
       "<class 'statsmodels.iolib.summary.Summary'>\n",
       "\"\"\"\n",
       "                                 OLS Regression Results                                \n",
       "=======================================================================================\n",
       "Dep. Variable:                  price   R-squared (uncentered):                   0.893\n",
       "Model:                            OLS   Adj. R-squared (uncentered):              0.893\n",
       "Method:                 Least Squares   F-statistic:                          1.610e+04\n",
       "Date:                Mon, 11 May 2020   Prob (F-statistic):                        0.00\n",
       "Time:                        00:07:18   Log-Likelihood:                          51346.\n",
       "No. Observations:               21170   AIC:                                 -1.027e+05\n",
       "Df Residuals:                   21159   BIC:                                 -1.026e+05\n",
       "Df Model:                          11                                                  \n",
       "Covariance Type:            nonrobust                                                  \n",
       "======================================================================================\n",
       "                         coef    std err          t      P>|t|      [0.025      0.975]\n",
       "--------------------------------------------------------------------------------------\n",
       "date                   0.0030      0.000      6.093      0.000       0.002       0.004\n",
       "bedrooms              -0.0261      0.002    -11.937      0.000      -0.030      -0.022\n",
       "bathrooms              0.0328      0.003     12.358      0.000       0.028       0.038\n",
       "sqft_living            0.0910      0.010      9.330      0.000       0.072       0.110\n",
       "floors                 0.0163      0.001     17.191      0.000       0.014       0.018\n",
       "condition              0.0087      0.001      9.673      0.000       0.007       0.010\n",
       "grade                  0.1039      0.002     46.569      0.000       0.100       0.108\n",
       "sqft_above            -0.0570      0.004    -13.658      0.000      -0.065      -0.049\n",
       "zipcode                0.0029      0.001      5.149      0.000       0.002       0.004\n",
       "yr_built_renovated    -0.0410      0.001    -50.382      0.000      -0.043      -0.039\n",
       "sqft_living*grade      0.3130      0.013     23.555      0.000       0.287       0.339\n",
       "==============================================================================\n",
       "Omnibus:                     3862.629   Durbin-Watson:                   1.970\n",
       "Prob(Omnibus):                  0.000   Jarque-Bera (JB):            12158.746\n",
       "Skew:                           0.937   Prob(JB):                         0.00\n",
       "Kurtosis:                       6.205   Cond. No.                         134.\n",
       "==============================================================================\n",
       "\n",
       "Warnings:\n",
       "[1] Standard Errors assume that the covariance matrix of the errors is correctly specified.\n",
       "\"\"\""
      ]
     },
     "execution_count": 64,
     "metadata": {},
     "output_type": "execute_result"
    }
   ],
   "source": [
    "X_R2 = np.mean(cross_val_score(linreg, X, y, scoring='r2', cv=crossval))\n",
    "\n",
    "print(X_R2)\n",
    "\n",
    "# Test Errors Results\n",
    "cv_5_results = cross_val_score(linreg, X, y, cv=5, scoring=mse)\n",
    "cv_5_results\n",
    "\n",
    "print(f\"RMSE: {np.sqrt(cv_5_results.mean())}\")\n",
    "\n",
    "import statsmodels.api as sm\n",
    "df_inter_sm = sm.add_constant(X)\n",
    "model = sm.OLS(y,X)\n",
    "results = model.fit()\n",
    "\n",
    "results.summary()"
   ]
  },
  {
   "cell_type": "code",
   "execution_count": 65,
   "metadata": {},
   "outputs": [
    {
     "data": {
      "image/png": "[encoded data removed]",
      "text/plain": [
       "<Figure size 432x288 with 1 Axes>"
      ]
     },
     "metadata": {
      "needs_background": "light"
     },
     "output_type": "display_data"
    }
   ],
   "source": [
    "fig = sm.graphics.qqplot(results.resid, dist=stats.norm, line='45', fit=True)"
   ]
  },
  {
   "cell_type": "code",
   "execution_count": 66,
   "metadata": {},
   "outputs": [
    {
     "data": {
      "image/png": "[encoded data removed]",
      "text/plain": [
       "<Figure size 432x288 with 1 Axes>"
      ]
     },
     "metadata": {
      "needs_background": "light"
     },
     "output_type": "display_data"
    }
   ],
   "source": [
    "sns.distplot(results.resid);"
   ]
  },
  {
   "cell_type": "code",
   "execution_count": 67,
   "metadata": {},
   "outputs": [
    {
     "data": {
      "text/html": [
       "<div>\n",
       "<style scoped>\n",
       "    .dataframe tbody tr th:only-of-type {\n",
       "        vertical-align: middle;\n",
       "    }\n",
       "\n",
       "    .dataframe tbody tr th {\n",
       "        vertical-align: top;\n",
       "    }\n",
       "\n",
       "    .dataframe thead th {\n",
       "        text-align: right;\n",
       "    }\n",
       "</style>\n",
       "<table border=\"1\" class=\"dataframe\">\n",
       "  <thead>\n",
       "    <tr style=\"text-align: right;\">\n",
       "      <th></th>\n",
       "      <th>date</th>\n",
       "      <th>price</th>\n",
       "      <th>bedrooms</th>\n",
       "      <th>bathrooms</th>\n",
       "      <th>sqft_living</th>\n",
       "      <th>sqft_lot</th>\n",
       "      <th>floors</th>\n",
       "      <th>condition</th>\n",
       "      <th>grade</th>\n",
       "      <th>sqft_above</th>\n",
       "      <th>sqft_basement</th>\n",
       "      <th>zipcode</th>\n",
       "      <th>yr_built_renovated</th>\n",
       "    </tr>\n",
       "  </thead>\n",
       "  <tbody>\n",
       "    <tr>\n",
       "      <td>count</td>\n",
       "      <td>21170.000000</td>\n",
       "      <td>21170.000000</td>\n",
       "      <td>21170.000000</td>\n",
       "      <td>21170.000000</td>\n",
       "      <td>21170.000000</td>\n",
       "      <td>21170.000000</td>\n",
       "      <td>21170.000000</td>\n",
       "      <td>21170.000000</td>\n",
       "      <td>21170.000000</td>\n",
       "      <td>21170.000000</td>\n",
       "      <td>21170.000000</td>\n",
       "      <td>21170.000000</td>\n",
       "      <td>21170.000000</td>\n",
       "    </tr>\n",
       "    <tr>\n",
       "      <td>mean</td>\n",
       "      <td>0.461959</td>\n",
       "      <td>0.056147</td>\n",
       "      <td>0.235409</td>\n",
       "      <td>0.211526</td>\n",
       "      <td>0.126095</td>\n",
       "      <td>0.008661</td>\n",
       "      <td>0.194596</td>\n",
       "      <td>0.601996</td>\n",
       "      <td>0.460288</td>\n",
       "      <td>0.152672</td>\n",
       "      <td>0.056965</td>\n",
       "      <td>0.390426</td>\n",
       "      <td>0.631228</td>\n",
       "    </tr>\n",
       "    <tr>\n",
       "      <td>std</td>\n",
       "      <td>0.289822</td>\n",
       "      <td>0.033759</td>\n",
       "      <td>0.089460</td>\n",
       "      <td>0.098045</td>\n",
       "      <td>0.063372</td>\n",
       "      <td>0.024475</td>\n",
       "      <td>0.215260</td>\n",
       "      <td>0.162203</td>\n",
       "      <td>0.110617</td>\n",
       "      <td>0.085239</td>\n",
       "      <td>0.087541</td>\n",
       "      <td>0.269736</td>\n",
       "      <td>0.251774</td>\n",
       "    </tr>\n",
       "    <tr>\n",
       "      <td>min</td>\n",
       "      <td>0.000000</td>\n",
       "      <td>0.000000</td>\n",
       "      <td>0.000000</td>\n",
       "      <td>0.000000</td>\n",
       "      <td>0.000000</td>\n",
       "      <td>0.000000</td>\n",
       "      <td>0.000000</td>\n",
       "      <td>0.000000</td>\n",
       "      <td>0.000000</td>\n",
       "      <td>0.000000</td>\n",
       "      <td>0.000000</td>\n",
       "      <td>0.000000</td>\n",
       "      <td>0.000000</td>\n",
       "    </tr>\n",
       "    <tr>\n",
       "      <td>25%</td>\n",
       "      <td>0.207692</td>\n",
       "      <td>0.031750</td>\n",
       "      <td>0.200000</td>\n",
       "      <td>0.133333</td>\n",
       "      <td>0.078967</td>\n",
       "      <td>0.002716</td>\n",
       "      <td>0.000000</td>\n",
       "      <td>0.500000</td>\n",
       "      <td>0.400000</td>\n",
       "      <td>0.089602</td>\n",
       "      <td>0.000000</td>\n",
       "      <td>0.161616</td>\n",
       "      <td>0.460870</td>\n",
       "    </tr>\n",
       "    <tr>\n",
       "      <td>50%</td>\n",
       "      <td>0.428205</td>\n",
       "      <td>0.048327</td>\n",
       "      <td>0.200000</td>\n",
       "      <td>0.233333</td>\n",
       "      <td>0.115414</td>\n",
       "      <td>0.004264</td>\n",
       "      <td>0.000000</td>\n",
       "      <td>0.500000</td>\n",
       "      <td>0.400000</td>\n",
       "      <td>0.129425</td>\n",
       "      <td>0.000000</td>\n",
       "      <td>0.323232</td>\n",
       "      <td>0.669565</td>\n",
       "    </tr>\n",
       "    <tr>\n",
       "      <td>75%</td>\n",
       "      <td>0.746154</td>\n",
       "      <td>0.071897</td>\n",
       "      <td>0.300000</td>\n",
       "      <td>0.266667</td>\n",
       "      <td>0.161731</td>\n",
       "      <td>0.006038</td>\n",
       "      <td>0.400000</td>\n",
       "      <td>0.750000</td>\n",
       "      <td>0.500000</td>\n",
       "      <td>0.198009</td>\n",
       "      <td>0.109959</td>\n",
       "      <td>0.590909</td>\n",
       "      <td>0.852174</td>\n",
       "    </tr>\n",
       "    <tr>\n",
       "      <td>max</td>\n",
       "      <td>1.000000</td>\n",
       "      <td>0.199685</td>\n",
       "      <td>1.000000</td>\n",
       "      <td>0.933333</td>\n",
       "      <td>0.539863</td>\n",
       "      <td>1.000000</td>\n",
       "      <td>1.000000</td>\n",
       "      <td>1.000000</td>\n",
       "      <td>0.900000</td>\n",
       "      <td>0.768805</td>\n",
       "      <td>0.591286</td>\n",
       "      <td>1.000000</td>\n",
       "      <td>1.000000</td>\n",
       "    </tr>\n",
       "  </tbody>\n",
       "</table>\n",
       "</div>"
      ],
      "text/plain": [
       "               date         price      bedrooms     bathrooms   sqft_living  \\\n",
       "count  21170.000000  21170.000000  21170.000000  21170.000000  21170.000000   \n",
       "mean       0.461959      0.056147      0.235409      0.211526      0.126095   \n",
       "std        0.289822      0.033759      0.089460      0.098045      0.063372   \n",
       "min        0.000000      0.000000      0.000000      0.000000      0.000000   \n",
       "25%        0.207692      0.031750      0.200000      0.133333      0.078967   \n",
       "50%        0.428205      0.048327      0.200000      0.233333      0.115414   \n",
       "75%        0.746154      0.071897      0.300000      0.266667      0.161731   \n",
       "max        1.000000      0.199685      1.000000      0.933333      0.539863   \n",
       "\n",
       "           sqft_lot        floors     condition         grade    sqft_above  \\\n",
       "count  21170.000000  21170.000000  21170.000000  21170.000000  21170.000000   \n",
       "mean       0.008661      0.194596      0.601996      0.460288      0.152672   \n",
       "std        0.024475      0.215260      0.162203      0.110617      0.085239   \n",
       "min        0.000000      0.000000      0.000000      0.000000      0.000000   \n",
       "25%        0.002716      0.000000      0.500000      0.400000      0.089602   \n",
       "50%        0.004264      0.000000      0.500000      0.400000      0.129425   \n",
       "75%        0.006038      0.400000      0.750000      0.500000      0.198009   \n",
       "max        1.000000      1.000000      1.000000      0.900000      0.768805   \n",
       "\n",
       "       sqft_basement       zipcode  yr_built_renovated  \n",
       "count   21170.000000  21170.000000        21170.000000  \n",
       "mean        0.056965      0.390426            0.631228  \n",
       "std         0.087541      0.269736            0.251774  \n",
       "min         0.000000      0.000000            0.000000  \n",
       "25%         0.000000      0.161616            0.460870  \n",
       "50%         0.000000      0.323232            0.669565  \n",
       "75%         0.109959      0.590909            0.852174  \n",
       "max         0.591286      1.000000            1.000000  "
      ]
     },
     "execution_count": 67,
     "metadata": {},
     "output_type": "execute_result"
    }
   ],
   "source": [
    "df.describe()"
   ]
  },
  {
   "cell_type": "code",
   "execution_count": null,
   "metadata": {},
   "outputs": [],
   "source": []
  },
  {
   "cell_type": "code",
   "execution_count": null,
   "metadata": {},
   "outputs": [],
   "source": []
  }
 ],
 "metadata": {
  "kernelspec": {
   "display_name": "Python [conda env:learn-env] *",
   "language": "python",
   "name": "conda-env-learn-env-py"
  },
  "language_info": {
   "codemirror_mode": {
    "name": "ipython",
    "version": 3
   },
   "file_extension": ".py",
   "mimetype": "text/x-python",
   "name": "python",
   "nbconvert_exporter": "python",
   "pygments_lexer": "ipython3",
   "version": "3.6.9"
  }
 },
 "nbformat": 4,
 "nbformat_minor": 2
}
