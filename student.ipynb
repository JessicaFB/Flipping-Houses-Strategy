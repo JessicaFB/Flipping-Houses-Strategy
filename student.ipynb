{
 "cells": [
  {
   "cell_type": "markdown",
   "metadata": {},
   "source": [
    "## Final Project Submission\n",
    "\n",
    "Please fill out:\n",
    "* Student name: Jessica Forrest-Baldini\n",
    "* Student pace: Part-time\n",
    "* Scheduled project review date/time: \n",
    "* Instructor name: \n",
    "* Blog post URL:\n"
   ]
  },
  {
   "cell_type": "markdown",
   "metadata": {},
   "source": [
    "## Import Packages & Data"
   ]
  },
  {
   "cell_type": "code",
   "execution_count": 1,
   "metadata": {},
   "outputs": [],
   "source": [
    "import pandas as pd\n",
    "import numpy as np\n",
    "import seaborn as sns\n",
    "import scipy.stats as stats\n",
    "from datetime import datetime as date\n",
    "import matplotlib.pyplot as plt\n",
    "%matplotlib inline\n",
    "\n",
    "data = pd.read_csv('kc_house_data.csv') \n",
    "df = pd.DataFrame(data)"
   ]
  },
  {
   "cell_type": "markdown",
   "metadata": {},
   "source": [
    "## Clean  & Explore Data"
   ]
  },
  {
   "cell_type": "markdown",
   "metadata": {},
   "source": [
    "Let's take a look at what we're working with here and check the column names, data types and any null data there might be."
   ]
  },
  {
   "cell_type": "code",
   "execution_count": 2,
   "metadata": {},
   "outputs": [
    {
     "data": {
      "text/html": [
       "<div>\n",
       "<style scoped>\n",
       "    .dataframe tbody tr th:only-of-type {\n",
       "        vertical-align: middle;\n",
       "    }\n",
       "\n",
       "    .dataframe tbody tr th {\n",
       "        vertical-align: top;\n",
       "    }\n",
       "\n",
       "    .dataframe thead th {\n",
       "        text-align: right;\n",
       "    }\n",
       "</style>\n",
       "<table border=\"1\" class=\"dataframe\">\n",
       "  <thead>\n",
       "    <tr style=\"text-align: right;\">\n",
       "      <th></th>\n",
       "      <th>id</th>\n",
       "      <th>date</th>\n",
       "      <th>price</th>\n",
       "      <th>bedrooms</th>\n",
       "      <th>bathrooms</th>\n",
       "      <th>sqft_living</th>\n",
       "      <th>sqft_lot</th>\n",
       "      <th>floors</th>\n",
       "      <th>waterfront</th>\n",
       "      <th>view</th>\n",
       "      <th>...</th>\n",
       "      <th>grade</th>\n",
       "      <th>sqft_above</th>\n",
       "      <th>sqft_basement</th>\n",
       "      <th>yr_built</th>\n",
       "      <th>yr_renovated</th>\n",
       "      <th>zipcode</th>\n",
       "      <th>lat</th>\n",
       "      <th>long</th>\n",
       "      <th>sqft_living15</th>\n",
       "      <th>sqft_lot15</th>\n",
       "    </tr>\n",
       "  </thead>\n",
       "  <tbody>\n",
       "    <tr>\n",
       "      <td>0</td>\n",
       "      <td>7129300520</td>\n",
       "      <td>10/13/2014</td>\n",
       "      <td>221900.0</td>\n",
       "      <td>3</td>\n",
       "      <td>1.00</td>\n",
       "      <td>1180</td>\n",
       "      <td>5650</td>\n",
       "      <td>1.0</td>\n",
       "      <td>NaN</td>\n",
       "      <td>0.0</td>\n",
       "      <td>...</td>\n",
       "      <td>7</td>\n",
       "      <td>1180</td>\n",
       "      <td>0.0</td>\n",
       "      <td>1955</td>\n",
       "      <td>0.0</td>\n",
       "      <td>98178</td>\n",
       "      <td>47.5112</td>\n",
       "      <td>-122.257</td>\n",
       "      <td>1340</td>\n",
       "      <td>5650</td>\n",
       "    </tr>\n",
       "    <tr>\n",
       "      <td>1</td>\n",
       "      <td>6414100192</td>\n",
       "      <td>12/9/2014</td>\n",
       "      <td>538000.0</td>\n",
       "      <td>3</td>\n",
       "      <td>2.25</td>\n",
       "      <td>2570</td>\n",
       "      <td>7242</td>\n",
       "      <td>2.0</td>\n",
       "      <td>0.0</td>\n",
       "      <td>0.0</td>\n",
       "      <td>...</td>\n",
       "      <td>7</td>\n",
       "      <td>2170</td>\n",
       "      <td>400.0</td>\n",
       "      <td>1951</td>\n",
       "      <td>1991.0</td>\n",
       "      <td>98125</td>\n",
       "      <td>47.7210</td>\n",
       "      <td>-122.319</td>\n",
       "      <td>1690</td>\n",
       "      <td>7639</td>\n",
       "    </tr>\n",
       "    <tr>\n",
       "      <td>2</td>\n",
       "      <td>5631500400</td>\n",
       "      <td>2/25/2015</td>\n",
       "      <td>180000.0</td>\n",
       "      <td>2</td>\n",
       "      <td>1.00</td>\n",
       "      <td>770</td>\n",
       "      <td>10000</td>\n",
       "      <td>1.0</td>\n",
       "      <td>0.0</td>\n",
       "      <td>0.0</td>\n",
       "      <td>...</td>\n",
       "      <td>6</td>\n",
       "      <td>770</td>\n",
       "      <td>0.0</td>\n",
       "      <td>1933</td>\n",
       "      <td>NaN</td>\n",
       "      <td>98028</td>\n",
       "      <td>47.7379</td>\n",
       "      <td>-122.233</td>\n",
       "      <td>2720</td>\n",
       "      <td>8062</td>\n",
       "    </tr>\n",
       "    <tr>\n",
       "      <td>3</td>\n",
       "      <td>2487200875</td>\n",
       "      <td>12/9/2014</td>\n",
       "      <td>604000.0</td>\n",
       "      <td>4</td>\n",
       "      <td>3.00</td>\n",
       "      <td>1960</td>\n",
       "      <td>5000</td>\n",
       "      <td>1.0</td>\n",
       "      <td>0.0</td>\n",
       "      <td>0.0</td>\n",
       "      <td>...</td>\n",
       "      <td>7</td>\n",
       "      <td>1050</td>\n",
       "      <td>910.0</td>\n",
       "      <td>1965</td>\n",
       "      <td>0.0</td>\n",
       "      <td>98136</td>\n",
       "      <td>47.5208</td>\n",
       "      <td>-122.393</td>\n",
       "      <td>1360</td>\n",
       "      <td>5000</td>\n",
       "    </tr>\n",
       "    <tr>\n",
       "      <td>4</td>\n",
       "      <td>1954400510</td>\n",
       "      <td>2/18/2015</td>\n",
       "      <td>510000.0</td>\n",
       "      <td>3</td>\n",
       "      <td>2.00</td>\n",
       "      <td>1680</td>\n",
       "      <td>8080</td>\n",
       "      <td>1.0</td>\n",
       "      <td>0.0</td>\n",
       "      <td>0.0</td>\n",
       "      <td>...</td>\n",
       "      <td>8</td>\n",
       "      <td>1680</td>\n",
       "      <td>0.0</td>\n",
       "      <td>1987</td>\n",
       "      <td>0.0</td>\n",
       "      <td>98074</td>\n",
       "      <td>47.6168</td>\n",
       "      <td>-122.045</td>\n",
       "      <td>1800</td>\n",
       "      <td>7503</td>\n",
       "    </tr>\n",
       "  </tbody>\n",
       "</table>\n",
       "<p>5 rows × 21 columns</p>\n",
       "</div>"
      ],
      "text/plain": [
       "           id        date     price  bedrooms  bathrooms  sqft_living  \\\n",
       "0  7129300520  10/13/2014  221900.0         3       1.00         1180   \n",
       "1  6414100192   12/9/2014  538000.0         3       2.25         2570   \n",
       "2  5631500400   2/25/2015  180000.0         2       1.00          770   \n",
       "3  2487200875   12/9/2014  604000.0         4       3.00         1960   \n",
       "4  1954400510   2/18/2015  510000.0         3       2.00         1680   \n",
       "\n",
       "   sqft_lot  floors  waterfront  view  ...  grade  sqft_above  sqft_basement  \\\n",
       "0      5650     1.0         NaN   0.0  ...      7        1180            0.0   \n",
       "1      7242     2.0         0.0   0.0  ...      7        2170          400.0   \n",
       "2     10000     1.0         0.0   0.0  ...      6         770            0.0   \n",
       "3      5000     1.0         0.0   0.0  ...      7        1050          910.0   \n",
       "4      8080     1.0         0.0   0.0  ...      8        1680            0.0   \n",
       "\n",
       "  yr_built  yr_renovated  zipcode      lat     long  sqft_living15  sqft_lot15  \n",
       "0     1955           0.0    98178  47.5112 -122.257           1340        5650  \n",
       "1     1951        1991.0    98125  47.7210 -122.319           1690        7639  \n",
       "2     1933           NaN    98028  47.7379 -122.233           2720        8062  \n",
       "3     1965           0.0    98136  47.5208 -122.393           1360        5000  \n",
       "4     1987           0.0    98074  47.6168 -122.045           1800        7503  \n",
       "\n",
       "[5 rows x 21 columns]"
      ]
     },
     "execution_count": 2,
     "metadata": {},
     "output_type": "execute_result"
    }
   ],
   "source": [
    "# Look at column names and first 5 rows\n",
    "df.head()"
   ]
  },
  {
   "cell_type": "markdown",
   "metadata": {},
   "source": [
    "We'll start by dropping the columns we know we won't be using. Referenced in the file 'column_names.md' in this repository."
   ]
  },
  {
   "cell_type": "code",
   "execution_count": 3,
   "metadata": {
    "code_folding": []
   },
   "outputs": [],
   "source": [
    "# Drop waterfront - only 146 homes with waterfronts\n",
    "# Drop view - this represent if the property has been viewed\n",
    "# Drop id\n",
    "\n",
    "to_drop = ['waterfront','view','id']\n",
    "df = df.drop(to_drop, axis=1)"
   ]
  },
  {
   "cell_type": "code",
   "execution_count": 4,
   "metadata": {},
   "outputs": [
    {
     "name": "stdout",
     "output_type": "stream",
     "text": [
      "<class 'pandas.core.frame.DataFrame'>\n",
      "RangeIndex: 21597 entries, 0 to 21596\n",
      "Data columns (total 18 columns):\n",
      "date             21597 non-null object\n",
      "price            21597 non-null float64\n",
      "bedrooms         21597 non-null int64\n",
      "bathrooms        21597 non-null float64\n",
      "sqft_living      21597 non-null int64\n",
      "sqft_lot         21597 non-null int64\n",
      "floors           21597 non-null float64\n",
      "condition        21597 non-null int64\n",
      "grade            21597 non-null int64\n",
      "sqft_above       21597 non-null int64\n",
      "sqft_basement    21597 non-null object\n",
      "yr_built         21597 non-null int64\n",
      "yr_renovated     17755 non-null float64\n",
      "zipcode          21597 non-null int64\n",
      "lat              21597 non-null float64\n",
      "long             21597 non-null float64\n",
      "sqft_living15    21597 non-null int64\n",
      "sqft_lot15       21597 non-null int64\n",
      "dtypes: float64(6), int64(10), object(2)\n",
      "memory usage: 3.0+ MB\n"
     ]
    }
   ],
   "source": [
    "df.info()"
   ]
  },
  {
   "cell_type": "markdown",
   "metadata": {},
   "source": [
    "We can see date and sqft_basement are objects, so we'll go ahead and clean those."
   ]
  },
  {
   "cell_type": "code",
   "execution_count": 5,
   "metadata": {},
   "outputs": [
    {
     "data": {
      "text/plain": [
       "'10/13/2014'"
      ]
     },
     "execution_count": 5,
     "metadata": {},
     "output_type": "execute_result"
    }
   ],
   "source": [
    "# Let's take a look at date\n",
    "df.date[0]"
   ]
  },
  {
   "cell_type": "markdown",
   "metadata": {},
   "source": [
    "We can see date is in string format. Let's go ahead and clean it up by converting it to number format. I'm actually going to convert it to a MATLAB style datenumber so I can include it in the model. "
   ]
  },
  {
   "cell_type": "code",
   "execution_count": 6,
   "metadata": {},
   "outputs": [],
   "source": [
    "# Define function to convert datestr to datenum\n",
    "def datenum(datestr):\n",
    "    '''\n",
    "    Convert datestring in the format MM/DD/YYYY\n",
    "    to MATLAB style datenum\n",
    "    '''\n",
    "    datenum = date.toordinal(date((int(datestr.split('/', -1)[2])),\n",
    "                                  (int(datestr.split('/', -1)[0])),\n",
    "                                  (int(datestr.split('/', -1)[1]))\n",
    "                                 ))+366\n",
    "    return datenum\n",
    "\n",
    "# Apply to date column\n",
    "df.date = df.date.map(datenum)"
   ]
  },
  {
   "cell_type": "markdown",
   "metadata": {},
   "source": [
    "Now let's take care of sqft_basement. Let's take a look."
   ]
  },
  {
   "cell_type": "code",
   "execution_count": 7,
   "metadata": {},
   "outputs": [
    {
     "data": {
      "text/plain": [
       "array(['0.0', '400.0', '910.0', '1530.0', '?', '730.0', '1700.0', '300.0',\n",
       "       '970.0', '760.0', '720.0', '700.0', '820.0', '780.0', '790.0',\n",
       "       '330.0', '1620.0', '360.0', '588.0', '1510.0', '410.0', '990.0',\n",
       "       '600.0', '560.0', '550.0', '1000.0', '1600.0', '500.0', '1040.0',\n",
       "       '880.0', '1010.0', '240.0', '265.0', '290.0', '800.0', '540.0',\n",
       "       '710.0', '840.0', '380.0', '770.0', '480.0', '570.0', '1490.0',\n",
       "       '620.0', '1250.0', '1270.0', '120.0', '650.0', '180.0', '1130.0',\n",
       "       '450.0', '1640.0', '1460.0', '1020.0', '1030.0', '750.0', '640.0',\n",
       "       '1070.0', '490.0', '1310.0', '630.0', '2000.0', '390.0', '430.0',\n",
       "       '850.0', '210.0', '1430.0', '1950.0', '440.0', '220.0', '1160.0',\n",
       "       '860.0', '580.0', '2060.0', '1820.0', '1180.0', '200.0', '1150.0',\n",
       "       '1200.0', '680.0', '530.0', '1450.0', '1170.0', '1080.0', '960.0',\n",
       "       '280.0', '870.0', '1100.0', '460.0', '1400.0', '660.0', '1220.0',\n",
       "       '900.0', '420.0', '1580.0', '1380.0', '475.0', '690.0', '270.0',\n",
       "       '350.0', '935.0', '1370.0', '980.0', '1470.0', '160.0', '950.0',\n",
       "       '50.0', '740.0', '1780.0', '1900.0', '340.0', '470.0', '370.0',\n",
       "       '140.0', '1760.0', '130.0', '520.0', '890.0', '1110.0', '150.0',\n",
       "       '1720.0', '810.0', '190.0', '1290.0', '670.0', '1800.0', '1120.0',\n",
       "       '1810.0', '60.0', '1050.0', '940.0', '310.0', '930.0', '1390.0',\n",
       "       '610.0', '1830.0', '1300.0', '510.0', '1330.0', '1590.0', '920.0',\n",
       "       '1320.0', '1420.0', '1240.0', '1960.0', '1560.0', '2020.0',\n",
       "       '1190.0', '2110.0', '1280.0', '250.0', '2390.0', '1230.0', '170.0',\n",
       "       '830.0', '1260.0', '1410.0', '1340.0', '590.0', '1500.0', '1140.0',\n",
       "       '260.0', '100.0', '320.0', '1480.0', '1060.0', '1284.0', '1670.0',\n",
       "       '1350.0', '2570.0', '1090.0', '110.0', '2500.0', '90.0', '1940.0',\n",
       "       '1550.0', '2350.0', '2490.0', '1481.0', '1360.0', '1135.0',\n",
       "       '1520.0', '1850.0', '1660.0', '2130.0', '2600.0', '1690.0',\n",
       "       '243.0', '1210.0', '1024.0', '1798.0', '1610.0', '1440.0',\n",
       "       '1570.0', '1650.0', '704.0', '1910.0', '1630.0', '2360.0',\n",
       "       '1852.0', '2090.0', '2400.0', '1790.0', '2150.0', '230.0', '70.0',\n",
       "       '1680.0', '2100.0', '3000.0', '1870.0', '1710.0', '2030.0',\n",
       "       '875.0', '1540.0', '2850.0', '2170.0', '506.0', '906.0', '145.0',\n",
       "       '2040.0', '784.0', '1750.0', '374.0', '518.0', '2720.0', '2730.0',\n",
       "       '1840.0', '3480.0', '2160.0', '1920.0', '2330.0', '1860.0',\n",
       "       '2050.0', '4820.0', '1913.0', '80.0', '2010.0', '3260.0', '2200.0',\n",
       "       '415.0', '1730.0', '652.0', '2196.0', '1930.0', '515.0', '40.0',\n",
       "       '2080.0', '2580.0', '1548.0', '1740.0', '235.0', '861.0', '1890.0',\n",
       "       '2220.0', '792.0', '2070.0', '4130.0', '2250.0', '2240.0',\n",
       "       '1990.0', '768.0', '2550.0', '435.0', '1008.0', '2300.0', '2610.0',\n",
       "       '666.0', '3500.0', '172.0', '1816.0', '2190.0', '1245.0', '1525.0',\n",
       "       '1880.0', '862.0', '946.0', '1281.0', '414.0', '2180.0', '276.0',\n",
       "       '1248.0', '602.0', '516.0', '176.0', '225.0', '1275.0', '266.0',\n",
       "       '283.0', '65.0', '2310.0', '10.0', '1770.0', '2120.0', '295.0',\n",
       "       '207.0', '915.0', '556.0', '417.0', '143.0', '508.0', '2810.0',\n",
       "       '20.0', '274.0', '248.0'], dtype=object)"
      ]
     },
     "execution_count": 7,
     "metadata": {},
     "output_type": "execute_result"
    }
   ],
   "source": [
    "# Check out the unique values\n",
    "df.sqft_basement.unique()"
   ]
  },
  {
   "cell_type": "markdown",
   "metadata": {},
   "source": [
    "We can see the null values are input as '?' and that the column is in string format. Let's go ahead and correct that. "
   ]
  },
  {
   "cell_type": "code",
   "execution_count": 8,
   "metadata": {},
   "outputs": [],
   "source": [
    "# Replace NaN basement values with 0 as there are only 454 of them \n",
    "df.sqft_basement = df.sqft_basement.replace('?','0.0').astype(float)"
   ]
  },
  {
   "cell_type": "markdown",
   "metadata": {},
   "source": [
    "Let's take a look at the columns to see which ones have null data."
   ]
  },
  {
   "cell_type": "code",
   "execution_count": 9,
   "metadata": {},
   "outputs": [
    {
     "data": {
      "text/plain": [
       "date                0\n",
       "price               0\n",
       "bedrooms            0\n",
       "bathrooms           0\n",
       "sqft_living         0\n",
       "sqft_lot            0\n",
       "floors              0\n",
       "condition           0\n",
       "grade               0\n",
       "sqft_above          0\n",
       "sqft_basement       0\n",
       "yr_built            0\n",
       "yr_renovated     3842\n",
       "zipcode             0\n",
       "lat                 0\n",
       "long                0\n",
       "sqft_living15       0\n",
       "sqft_lot15          0\n",
       "dtype: int64"
      ]
     },
     "execution_count": 9,
     "metadata": {},
     "output_type": "execute_result"
    }
   ],
   "source": [
    "# Count NaNs in each column\n",
    "df.isna().sum()"
   ]
  },
  {
   "cell_type": "markdown",
   "metadata": {},
   "source": [
    "It looks like yr_renovated has some null values. Let's take a closer look."
   ]
  },
  {
   "cell_type": "code",
   "execution_count": 10,
   "metadata": {},
   "outputs": [
    {
     "data": {
      "text/plain": [
       "2    NaN\n",
       "12   NaN\n",
       "23   NaN\n",
       "26   NaN\n",
       "28   NaN\n",
       "Name: yr_renovated, dtype: float64"
      ]
     },
     "execution_count": 10,
     "metadata": {},
     "output_type": "execute_result"
    }
   ],
   "source": [
    "# Sort column with NaNs first\n",
    "df.yr_renovated.sort_values(na_position='first').head()"
   ]
  },
  {
   "cell_type": "code",
   "execution_count": 11,
   "metadata": {},
   "outputs": [
    {
     "data": {
      "text/plain": [
       "count    17755.000000\n",
       "mean        83.636778\n",
       "std        399.946414\n",
       "min          0.000000\n",
       "25%          0.000000\n",
       "50%          0.000000\n",
       "75%          0.000000\n",
       "max       2015.000000\n",
       "Name: yr_renovated, dtype: float64"
      ]
     },
     "execution_count": 11,
     "metadata": {},
     "output_type": "execute_result"
    }
   ],
   "source": [
    "# Let's take a look at the summary statistics\n",
    "df.yr_renovated.describe()"
   ]
  },
  {
   "cell_type": "code",
   "execution_count": 12,
   "metadata": {},
   "outputs": [
    {
     "data": {
      "text/plain": [
       "744"
      ]
     },
     "execution_count": 12,
     "metadata": {},
     "output_type": "execute_result"
    }
   ],
   "source": [
    "# How many homes were renovated? \n",
    "sum(df.yr_renovated > 0)"
   ]
  },
  {
   "cell_type": "markdown",
   "metadata": {},
   "source": [
    "It looks like there are NaN values, and also that a home not renovated is entered as '0'. Since only 744 homes have been renovated out of about 21,000, I'm going to fill the 'NaN' values with '0'."
   ]
  },
  {
   "cell_type": "code",
   "execution_count": 13,
   "metadata": {},
   "outputs": [],
   "source": [
    "# Fill with 0\n",
    "df.yr_renovated = df.yr_renovated.fillna(0)"
   ]
  },
  {
   "cell_type": "markdown",
   "metadata": {},
   "source": [
    "Let's take a look at our summary statistics for the dataset."
   ]
  },
  {
   "cell_type": "code",
   "execution_count": 14,
   "metadata": {},
   "outputs": [
    {
     "data": {
      "text/html": [
       "<div>\n",
       "<style scoped>\n",
       "    .dataframe tbody tr th:only-of-type {\n",
       "        vertical-align: middle;\n",
       "    }\n",
       "\n",
       "    .dataframe tbody tr th {\n",
       "        vertical-align: top;\n",
       "    }\n",
       "\n",
       "    .dataframe thead th {\n",
       "        text-align: right;\n",
       "    }\n",
       "</style>\n",
       "<table border=\"1\" class=\"dataframe\">\n",
       "  <thead>\n",
       "    <tr style=\"text-align: right;\">\n",
       "      <th></th>\n",
       "      <th>date</th>\n",
       "      <th>price</th>\n",
       "      <th>bedrooms</th>\n",
       "      <th>bathrooms</th>\n",
       "      <th>sqft_living</th>\n",
       "      <th>sqft_lot</th>\n",
       "      <th>floors</th>\n",
       "      <th>condition</th>\n",
       "      <th>grade</th>\n",
       "      <th>sqft_above</th>\n",
       "      <th>sqft_basement</th>\n",
       "      <th>yr_built</th>\n",
       "      <th>yr_renovated</th>\n",
       "      <th>zipcode</th>\n",
       "      <th>lat</th>\n",
       "      <th>long</th>\n",
       "      <th>sqft_living15</th>\n",
       "      <th>sqft_lot15</th>\n",
       "    </tr>\n",
       "  </thead>\n",
       "  <tbody>\n",
       "    <tr>\n",
       "      <td>count</td>\n",
       "      <td>21597.0</td>\n",
       "      <td>21597.0</td>\n",
       "      <td>21597.0</td>\n",
       "      <td>21597.0</td>\n",
       "      <td>21597.0</td>\n",
       "      <td>21597.0</td>\n",
       "      <td>21597.0</td>\n",
       "      <td>21597.0</td>\n",
       "      <td>21597.0</td>\n",
       "      <td>21597.0</td>\n",
       "      <td>21597.0</td>\n",
       "      <td>21597.0</td>\n",
       "      <td>21597.0</td>\n",
       "      <td>21597.0</td>\n",
       "      <td>21597.0</td>\n",
       "      <td>21597.0</td>\n",
       "      <td>21597.0</td>\n",
       "      <td>21597.0</td>\n",
       "    </tr>\n",
       "    <tr>\n",
       "      <td>mean</td>\n",
       "      <td>735901.0</td>\n",
       "      <td>540297.0</td>\n",
       "      <td>3.0</td>\n",
       "      <td>2.0</td>\n",
       "      <td>2080.0</td>\n",
       "      <td>15099.0</td>\n",
       "      <td>1.0</td>\n",
       "      <td>3.0</td>\n",
       "      <td>8.0</td>\n",
       "      <td>1789.0</td>\n",
       "      <td>286.0</td>\n",
       "      <td>1971.0</td>\n",
       "      <td>69.0</td>\n",
       "      <td>98078.0</td>\n",
       "      <td>48.0</td>\n",
       "      <td>-122.0</td>\n",
       "      <td>1987.0</td>\n",
       "      <td>12758.0</td>\n",
       "    </tr>\n",
       "    <tr>\n",
       "      <td>std</td>\n",
       "      <td>113.0</td>\n",
       "      <td>367368.0</td>\n",
       "      <td>1.0</td>\n",
       "      <td>1.0</td>\n",
       "      <td>918.0</td>\n",
       "      <td>41413.0</td>\n",
       "      <td>1.0</td>\n",
       "      <td>1.0</td>\n",
       "      <td>1.0</td>\n",
       "      <td>828.0</td>\n",
       "      <td>440.0</td>\n",
       "      <td>29.0</td>\n",
       "      <td>364.0</td>\n",
       "      <td>54.0</td>\n",
       "      <td>0.0</td>\n",
       "      <td>0.0</td>\n",
       "      <td>685.0</td>\n",
       "      <td>27274.0</td>\n",
       "    </tr>\n",
       "    <tr>\n",
       "      <td>min</td>\n",
       "      <td>735721.0</td>\n",
       "      <td>78000.0</td>\n",
       "      <td>1.0</td>\n",
       "      <td>0.0</td>\n",
       "      <td>370.0</td>\n",
       "      <td>520.0</td>\n",
       "      <td>1.0</td>\n",
       "      <td>1.0</td>\n",
       "      <td>3.0</td>\n",
       "      <td>370.0</td>\n",
       "      <td>0.0</td>\n",
       "      <td>1900.0</td>\n",
       "      <td>0.0</td>\n",
       "      <td>98001.0</td>\n",
       "      <td>47.0</td>\n",
       "      <td>-123.0</td>\n",
       "      <td>399.0</td>\n",
       "      <td>651.0</td>\n",
       "    </tr>\n",
       "    <tr>\n",
       "      <td>25%</td>\n",
       "      <td>735802.0</td>\n",
       "      <td>322000.0</td>\n",
       "      <td>3.0</td>\n",
       "      <td>2.0</td>\n",
       "      <td>1430.0</td>\n",
       "      <td>5040.0</td>\n",
       "      <td>1.0</td>\n",
       "      <td>3.0</td>\n",
       "      <td>7.0</td>\n",
       "      <td>1190.0</td>\n",
       "      <td>0.0</td>\n",
       "      <td>1951.0</td>\n",
       "      <td>0.0</td>\n",
       "      <td>98033.0</td>\n",
       "      <td>47.0</td>\n",
       "      <td>-122.0</td>\n",
       "      <td>1490.0</td>\n",
       "      <td>5100.0</td>\n",
       "    </tr>\n",
       "    <tr>\n",
       "      <td>50%</td>\n",
       "      <td>735888.0</td>\n",
       "      <td>450000.0</td>\n",
       "      <td>3.0</td>\n",
       "      <td>2.0</td>\n",
       "      <td>1910.0</td>\n",
       "      <td>7618.0</td>\n",
       "      <td>2.0</td>\n",
       "      <td>3.0</td>\n",
       "      <td>7.0</td>\n",
       "      <td>1560.0</td>\n",
       "      <td>0.0</td>\n",
       "      <td>1975.0</td>\n",
       "      <td>0.0</td>\n",
       "      <td>98065.0</td>\n",
       "      <td>48.0</td>\n",
       "      <td>-122.0</td>\n",
       "      <td>1840.0</td>\n",
       "      <td>7620.0</td>\n",
       "    </tr>\n",
       "    <tr>\n",
       "      <td>75%</td>\n",
       "      <td>736012.0</td>\n",
       "      <td>645000.0</td>\n",
       "      <td>4.0</td>\n",
       "      <td>2.0</td>\n",
       "      <td>2550.0</td>\n",
       "      <td>10685.0</td>\n",
       "      <td>2.0</td>\n",
       "      <td>4.0</td>\n",
       "      <td>8.0</td>\n",
       "      <td>2210.0</td>\n",
       "      <td>550.0</td>\n",
       "      <td>1997.0</td>\n",
       "      <td>0.0</td>\n",
       "      <td>98118.0</td>\n",
       "      <td>48.0</td>\n",
       "      <td>-122.0</td>\n",
       "      <td>2360.0</td>\n",
       "      <td>10083.0</td>\n",
       "    </tr>\n",
       "    <tr>\n",
       "      <td>max</td>\n",
       "      <td>736111.0</td>\n",
       "      <td>7700000.0</td>\n",
       "      <td>33.0</td>\n",
       "      <td>8.0</td>\n",
       "      <td>13540.0</td>\n",
       "      <td>1651359.0</td>\n",
       "      <td>4.0</td>\n",
       "      <td>5.0</td>\n",
       "      <td>13.0</td>\n",
       "      <td>9410.0</td>\n",
       "      <td>4820.0</td>\n",
       "      <td>2015.0</td>\n",
       "      <td>2015.0</td>\n",
       "      <td>98199.0</td>\n",
       "      <td>48.0</td>\n",
       "      <td>-121.0</td>\n",
       "      <td>6210.0</td>\n",
       "      <td>871200.0</td>\n",
       "    </tr>\n",
       "  </tbody>\n",
       "</table>\n",
       "</div>"
      ],
      "text/plain": [
       "           date      price  bedrooms  bathrooms  sqft_living   sqft_lot  \\\n",
       "count   21597.0    21597.0   21597.0    21597.0      21597.0    21597.0   \n",
       "mean   735901.0   540297.0       3.0        2.0       2080.0    15099.0   \n",
       "std       113.0   367368.0       1.0        1.0        918.0    41413.0   \n",
       "min    735721.0    78000.0       1.0        0.0        370.0      520.0   \n",
       "25%    735802.0   322000.0       3.0        2.0       1430.0     5040.0   \n",
       "50%    735888.0   450000.0       3.0        2.0       1910.0     7618.0   \n",
       "75%    736012.0   645000.0       4.0        2.0       2550.0    10685.0   \n",
       "max    736111.0  7700000.0      33.0        8.0      13540.0  1651359.0   \n",
       "\n",
       "        floors  condition    grade  sqft_above  sqft_basement  yr_built  \\\n",
       "count  21597.0    21597.0  21597.0     21597.0        21597.0   21597.0   \n",
       "mean       1.0        3.0      8.0      1789.0          286.0    1971.0   \n",
       "std        1.0        1.0      1.0       828.0          440.0      29.0   \n",
       "min        1.0        1.0      3.0       370.0            0.0    1900.0   \n",
       "25%        1.0        3.0      7.0      1190.0            0.0    1951.0   \n",
       "50%        2.0        3.0      7.0      1560.0            0.0    1975.0   \n",
       "75%        2.0        4.0      8.0      2210.0          550.0    1997.0   \n",
       "max        4.0        5.0     13.0      9410.0         4820.0    2015.0   \n",
       "\n",
       "       yr_renovated  zipcode      lat     long  sqft_living15  sqft_lot15  \n",
       "count       21597.0  21597.0  21597.0  21597.0        21597.0     21597.0  \n",
       "mean           69.0  98078.0     48.0   -122.0         1987.0     12758.0  \n",
       "std           364.0     54.0      0.0      0.0          685.0     27274.0  \n",
       "min             0.0  98001.0     47.0   -123.0          399.0       651.0  \n",
       "25%             0.0  98033.0     47.0   -122.0         1490.0      5100.0  \n",
       "50%             0.0  98065.0     48.0   -122.0         1840.0      7620.0  \n",
       "75%             0.0  98118.0     48.0   -122.0         2360.0     10083.0  \n",
       "max          2015.0  98199.0     48.0   -121.0         6210.0    871200.0  "
      ]
     },
     "execution_count": 14,
     "metadata": {},
     "output_type": "execute_result"
    }
   ],
   "source": [
    "# Summary statistics\n",
    "df.describe().round()"
   ]
  },
  {
   "cell_type": "markdown",
   "metadata": {},
   "source": [
    "It looks like bedrooms may have an oulier at 33. Let's take a closer look. "
   ]
  },
  {
   "cell_type": "code",
   "execution_count": 15,
   "metadata": {
    "code_folding": []
   },
   "outputs": [
    {
     "data": {
      "text/html": [
       "<div>\n",
       "<style scoped>\n",
       "    .dataframe tbody tr th:only-of-type {\n",
       "        vertical-align: middle;\n",
       "    }\n",
       "\n",
       "    .dataframe tbody tr th {\n",
       "        vertical-align: top;\n",
       "    }\n",
       "\n",
       "    .dataframe thead th {\n",
       "        text-align: right;\n",
       "    }\n",
       "</style>\n",
       "<table border=\"1\" class=\"dataframe\">\n",
       "  <thead>\n",
       "    <tr style=\"text-align: right;\">\n",
       "      <th></th>\n",
       "      <th>date</th>\n",
       "      <th>price</th>\n",
       "      <th>bedrooms</th>\n",
       "      <th>bathrooms</th>\n",
       "      <th>sqft_living</th>\n",
       "      <th>sqft_lot</th>\n",
       "      <th>floors</th>\n",
       "      <th>condition</th>\n",
       "      <th>grade</th>\n",
       "      <th>sqft_above</th>\n",
       "      <th>sqft_basement</th>\n",
       "      <th>yr_built</th>\n",
       "      <th>yr_renovated</th>\n",
       "      <th>zipcode</th>\n",
       "      <th>lat</th>\n",
       "      <th>long</th>\n",
       "      <th>sqft_living15</th>\n",
       "      <th>sqft_lot15</th>\n",
       "    </tr>\n",
       "  </thead>\n",
       "  <tbody>\n",
       "    <tr>\n",
       "      <td>8748</td>\n",
       "      <td>735832</td>\n",
       "      <td>520000.0</td>\n",
       "      <td>11</td>\n",
       "      <td>3.00</td>\n",
       "      <td>3000</td>\n",
       "      <td>4960</td>\n",
       "      <td>2.0</td>\n",
       "      <td>3</td>\n",
       "      <td>7</td>\n",
       "      <td>2400</td>\n",
       "      <td>600.0</td>\n",
       "      <td>1918</td>\n",
       "      <td>1999.0</td>\n",
       "      <td>98106</td>\n",
       "      <td>47.5560</td>\n",
       "      <td>-122.363</td>\n",
       "      <td>1420</td>\n",
       "      <td>4960</td>\n",
       "    </tr>\n",
       "    <tr>\n",
       "      <td>13301</td>\n",
       "      <td>735825</td>\n",
       "      <td>1150000.0</td>\n",
       "      <td>10</td>\n",
       "      <td>5.25</td>\n",
       "      <td>4590</td>\n",
       "      <td>10920</td>\n",
       "      <td>1.0</td>\n",
       "      <td>3</td>\n",
       "      <td>9</td>\n",
       "      <td>2500</td>\n",
       "      <td>2090.0</td>\n",
       "      <td>2008</td>\n",
       "      <td>0.0</td>\n",
       "      <td>98004</td>\n",
       "      <td>47.5861</td>\n",
       "      <td>-122.113</td>\n",
       "      <td>2730</td>\n",
       "      <td>10400</td>\n",
       "    </tr>\n",
       "    <tr>\n",
       "      <td>15147</td>\n",
       "      <td>735901</td>\n",
       "      <td>650000.0</td>\n",
       "      <td>10</td>\n",
       "      <td>2.00</td>\n",
       "      <td>3610</td>\n",
       "      <td>11914</td>\n",
       "      <td>2.0</td>\n",
       "      <td>4</td>\n",
       "      <td>7</td>\n",
       "      <td>3010</td>\n",
       "      <td>600.0</td>\n",
       "      <td>1958</td>\n",
       "      <td>0.0</td>\n",
       "      <td>98006</td>\n",
       "      <td>47.5705</td>\n",
       "      <td>-122.175</td>\n",
       "      <td>2040</td>\n",
       "      <td>11914</td>\n",
       "    </tr>\n",
       "    <tr>\n",
       "      <td>15856</td>\n",
       "      <td>735775</td>\n",
       "      <td>640000.0</td>\n",
       "      <td>33</td>\n",
       "      <td>1.75</td>\n",
       "      <td>1620</td>\n",
       "      <td>6000</td>\n",
       "      <td>1.0</td>\n",
       "      <td>5</td>\n",
       "      <td>7</td>\n",
       "      <td>1040</td>\n",
       "      <td>580.0</td>\n",
       "      <td>1947</td>\n",
       "      <td>0.0</td>\n",
       "      <td>98103</td>\n",
       "      <td>47.6878</td>\n",
       "      <td>-122.331</td>\n",
       "      <td>1330</td>\n",
       "      <td>4700</td>\n",
       "    </tr>\n",
       "    <tr>\n",
       "      <td>19239</td>\n",
       "      <td>735962</td>\n",
       "      <td>660000.0</td>\n",
       "      <td>10</td>\n",
       "      <td>3.00</td>\n",
       "      <td>2920</td>\n",
       "      <td>3745</td>\n",
       "      <td>2.0</td>\n",
       "      <td>4</td>\n",
       "      <td>7</td>\n",
       "      <td>1860</td>\n",
       "      <td>1060.0</td>\n",
       "      <td>1913</td>\n",
       "      <td>0.0</td>\n",
       "      <td>98105</td>\n",
       "      <td>47.6635</td>\n",
       "      <td>-122.320</td>\n",
       "      <td>1810</td>\n",
       "      <td>3745</td>\n",
       "    </tr>\n",
       "  </tbody>\n",
       "</table>\n",
       "</div>"
      ],
      "text/plain": [
       "         date      price  bedrooms  bathrooms  sqft_living  sqft_lot  floors  \\\n",
       "8748   735832   520000.0        11       3.00         3000      4960     2.0   \n",
       "13301  735825  1150000.0        10       5.25         4590     10920     1.0   \n",
       "15147  735901   650000.0        10       2.00         3610     11914     2.0   \n",
       "15856  735775   640000.0        33       1.75         1620      6000     1.0   \n",
       "19239  735962   660000.0        10       3.00         2920      3745     2.0   \n",
       "\n",
       "       condition  grade  sqft_above  sqft_basement  yr_built  yr_renovated  \\\n",
       "8748           3      7        2400          600.0      1918        1999.0   \n",
       "13301          3      9        2500         2090.0      2008           0.0   \n",
       "15147          4      7        3010          600.0      1958           0.0   \n",
       "15856          5      7        1040          580.0      1947           0.0   \n",
       "19239          4      7        1860         1060.0      1913           0.0   \n",
       "\n",
       "       zipcode      lat     long  sqft_living15  sqft_lot15  \n",
       "8748     98106  47.5560 -122.363           1420        4960  \n",
       "13301    98004  47.5861 -122.113           2730       10400  \n",
       "15147    98006  47.5705 -122.175           2040       11914  \n",
       "15856    98103  47.6878 -122.331           1330        4700  \n",
       "19239    98105  47.6635 -122.320           1810        3745  "
      ]
     },
     "execution_count": 15,
     "metadata": {},
     "output_type": "execute_result"
    }
   ],
   "source": [
    "# Compare with other homes in data set that have high number of bedrooms\n",
    "df[df.bedrooms > 9] "
   ]
  },
  {
   "cell_type": "markdown",
   "metadata": {},
   "source": [
    "33 bedrooms and only 1.75 bathrooms doesn't seem right. It is a pretty small home for 33 rooms at 1,620sqft. This may have been intended to be 3 bedrooms, so it could be changed to '3'. For now though, I'm going to remove it."
   ]
  },
  {
   "cell_type": "code",
   "execution_count": 16,
   "metadata": {
    "code_folding": []
   },
   "outputs": [],
   "source": [
    "# Drop outlier\n",
    "to_drop = df[df.bedrooms == 33].index\n",
    "df = df.drop(to_drop)"
   ]
  },
  {
   "cell_type": "markdown",
   "metadata": {},
   "source": [
    "Longitude is in negative values, but I want to include it in my model, so I'm going to take the absolute value. This way I can normalize it later on."
   ]
  },
  {
   "cell_type": "code",
   "execution_count": 17,
   "metadata": {},
   "outputs": [],
   "source": [
    "# Take abs of longitude for normalization later on\n",
    "df.long = abs(df.long)"
   ]
  },
  {
   "cell_type": "markdown",
   "metadata": {},
   "source": [
    "Let's take another look at the summary statistics."
   ]
  },
  {
   "cell_type": "code",
   "execution_count": 18,
   "metadata": {},
   "outputs": [
    {
     "data": {
      "text/html": [
       "<div>\n",
       "<style scoped>\n",
       "    .dataframe tbody tr th:only-of-type {\n",
       "        vertical-align: middle;\n",
       "    }\n",
       "\n",
       "    .dataframe tbody tr th {\n",
       "        vertical-align: top;\n",
       "    }\n",
       "\n",
       "    .dataframe thead th {\n",
       "        text-align: right;\n",
       "    }\n",
       "</style>\n",
       "<table border=\"1\" class=\"dataframe\">\n",
       "  <thead>\n",
       "    <tr style=\"text-align: right;\">\n",
       "      <th></th>\n",
       "      <th>date</th>\n",
       "      <th>price</th>\n",
       "      <th>bedrooms</th>\n",
       "      <th>bathrooms</th>\n",
       "      <th>sqft_living</th>\n",
       "      <th>sqft_lot</th>\n",
       "      <th>floors</th>\n",
       "      <th>condition</th>\n",
       "      <th>grade</th>\n",
       "      <th>sqft_above</th>\n",
       "      <th>sqft_basement</th>\n",
       "      <th>yr_built</th>\n",
       "      <th>yr_renovated</th>\n",
       "      <th>zipcode</th>\n",
       "      <th>lat</th>\n",
       "      <th>long</th>\n",
       "      <th>sqft_living15</th>\n",
       "      <th>sqft_lot15</th>\n",
       "    </tr>\n",
       "  </thead>\n",
       "  <tbody>\n",
       "    <tr>\n",
       "      <td>count</td>\n",
       "      <td>21596.0</td>\n",
       "      <td>21596.0</td>\n",
       "      <td>21596.0</td>\n",
       "      <td>21596.0</td>\n",
       "      <td>21596.0</td>\n",
       "      <td>21596.0</td>\n",
       "      <td>21596.0</td>\n",
       "      <td>21596.0</td>\n",
       "      <td>21596.0</td>\n",
       "      <td>21596.0</td>\n",
       "      <td>21596.0</td>\n",
       "      <td>21596.0</td>\n",
       "      <td>21596.0</td>\n",
       "      <td>21596.0</td>\n",
       "      <td>21596.0</td>\n",
       "      <td>21596.0</td>\n",
       "      <td>21596.0</td>\n",
       "      <td>21596.0</td>\n",
       "    </tr>\n",
       "    <tr>\n",
       "      <td>mean</td>\n",
       "      <td>735901.0</td>\n",
       "      <td>540292.0</td>\n",
       "      <td>3.0</td>\n",
       "      <td>2.0</td>\n",
       "      <td>2080.0</td>\n",
       "      <td>15100.0</td>\n",
       "      <td>1.0</td>\n",
       "      <td>3.0</td>\n",
       "      <td>8.0</td>\n",
       "      <td>1789.0</td>\n",
       "      <td>286.0</td>\n",
       "      <td>1971.0</td>\n",
       "      <td>69.0</td>\n",
       "      <td>98078.0</td>\n",
       "      <td>48.0</td>\n",
       "      <td>122.0</td>\n",
       "      <td>1987.0</td>\n",
       "      <td>12759.0</td>\n",
       "    </tr>\n",
       "    <tr>\n",
       "      <td>std</td>\n",
       "      <td>113.0</td>\n",
       "      <td>367376.0</td>\n",
       "      <td>1.0</td>\n",
       "      <td>1.0</td>\n",
       "      <td>918.0</td>\n",
       "      <td>41414.0</td>\n",
       "      <td>1.0</td>\n",
       "      <td>1.0</td>\n",
       "      <td>1.0</td>\n",
       "      <td>828.0</td>\n",
       "      <td>440.0</td>\n",
       "      <td>29.0</td>\n",
       "      <td>364.0</td>\n",
       "      <td>54.0</td>\n",
       "      <td>0.0</td>\n",
       "      <td>0.0</td>\n",
       "      <td>685.0</td>\n",
       "      <td>27275.0</td>\n",
       "    </tr>\n",
       "    <tr>\n",
       "      <td>min</td>\n",
       "      <td>735721.0</td>\n",
       "      <td>78000.0</td>\n",
       "      <td>1.0</td>\n",
       "      <td>0.0</td>\n",
       "      <td>370.0</td>\n",
       "      <td>520.0</td>\n",
       "      <td>1.0</td>\n",
       "      <td>1.0</td>\n",
       "      <td>3.0</td>\n",
       "      <td>370.0</td>\n",
       "      <td>0.0</td>\n",
       "      <td>1900.0</td>\n",
       "      <td>0.0</td>\n",
       "      <td>98001.0</td>\n",
       "      <td>47.0</td>\n",
       "      <td>121.0</td>\n",
       "      <td>399.0</td>\n",
       "      <td>651.0</td>\n",
       "    </tr>\n",
       "    <tr>\n",
       "      <td>25%</td>\n",
       "      <td>735802.0</td>\n",
       "      <td>322000.0</td>\n",
       "      <td>3.0</td>\n",
       "      <td>2.0</td>\n",
       "      <td>1430.0</td>\n",
       "      <td>5040.0</td>\n",
       "      <td>1.0</td>\n",
       "      <td>3.0</td>\n",
       "      <td>7.0</td>\n",
       "      <td>1190.0</td>\n",
       "      <td>0.0</td>\n",
       "      <td>1951.0</td>\n",
       "      <td>0.0</td>\n",
       "      <td>98033.0</td>\n",
       "      <td>47.0</td>\n",
       "      <td>122.0</td>\n",
       "      <td>1490.0</td>\n",
       "      <td>5100.0</td>\n",
       "    </tr>\n",
       "    <tr>\n",
       "      <td>50%</td>\n",
       "      <td>735888.0</td>\n",
       "      <td>450000.0</td>\n",
       "      <td>3.0</td>\n",
       "      <td>2.0</td>\n",
       "      <td>1910.0</td>\n",
       "      <td>7619.0</td>\n",
       "      <td>2.0</td>\n",
       "      <td>3.0</td>\n",
       "      <td>7.0</td>\n",
       "      <td>1560.0</td>\n",
       "      <td>0.0</td>\n",
       "      <td>1975.0</td>\n",
       "      <td>0.0</td>\n",
       "      <td>98065.0</td>\n",
       "      <td>48.0</td>\n",
       "      <td>122.0</td>\n",
       "      <td>1840.0</td>\n",
       "      <td>7620.0</td>\n",
       "    </tr>\n",
       "    <tr>\n",
       "      <td>75%</td>\n",
       "      <td>736012.0</td>\n",
       "      <td>645000.0</td>\n",
       "      <td>4.0</td>\n",
       "      <td>2.0</td>\n",
       "      <td>2550.0</td>\n",
       "      <td>10686.0</td>\n",
       "      <td>2.0</td>\n",
       "      <td>4.0</td>\n",
       "      <td>8.0</td>\n",
       "      <td>2210.0</td>\n",
       "      <td>550.0</td>\n",
       "      <td>1997.0</td>\n",
       "      <td>0.0</td>\n",
       "      <td>98118.0</td>\n",
       "      <td>48.0</td>\n",
       "      <td>122.0</td>\n",
       "      <td>2360.0</td>\n",
       "      <td>10083.0</td>\n",
       "    </tr>\n",
       "    <tr>\n",
       "      <td>max</td>\n",
       "      <td>736111.0</td>\n",
       "      <td>7700000.0</td>\n",
       "      <td>11.0</td>\n",
       "      <td>8.0</td>\n",
       "      <td>13540.0</td>\n",
       "      <td>1651359.0</td>\n",
       "      <td>4.0</td>\n",
       "      <td>5.0</td>\n",
       "      <td>13.0</td>\n",
       "      <td>9410.0</td>\n",
       "      <td>4820.0</td>\n",
       "      <td>2015.0</td>\n",
       "      <td>2015.0</td>\n",
       "      <td>98199.0</td>\n",
       "      <td>48.0</td>\n",
       "      <td>123.0</td>\n",
       "      <td>6210.0</td>\n",
       "      <td>871200.0</td>\n",
       "    </tr>\n",
       "  </tbody>\n",
       "</table>\n",
       "</div>"
      ],
      "text/plain": [
       "           date      price  bedrooms  bathrooms  sqft_living   sqft_lot  \\\n",
       "count   21596.0    21596.0   21596.0    21596.0      21596.0    21596.0   \n",
       "mean   735901.0   540292.0       3.0        2.0       2080.0    15100.0   \n",
       "std       113.0   367376.0       1.0        1.0        918.0    41414.0   \n",
       "min    735721.0    78000.0       1.0        0.0        370.0      520.0   \n",
       "25%    735802.0   322000.0       3.0        2.0       1430.0     5040.0   \n",
       "50%    735888.0   450000.0       3.0        2.0       1910.0     7619.0   \n",
       "75%    736012.0   645000.0       4.0        2.0       2550.0    10686.0   \n",
       "max    736111.0  7700000.0      11.0        8.0      13540.0  1651359.0   \n",
       "\n",
       "        floors  condition    grade  sqft_above  sqft_basement  yr_built  \\\n",
       "count  21596.0    21596.0  21596.0     21596.0        21596.0   21596.0   \n",
       "mean       1.0        3.0      8.0      1789.0          286.0    1971.0   \n",
       "std        1.0        1.0      1.0       828.0          440.0      29.0   \n",
       "min        1.0        1.0      3.0       370.0            0.0    1900.0   \n",
       "25%        1.0        3.0      7.0      1190.0            0.0    1951.0   \n",
       "50%        2.0        3.0      7.0      1560.0            0.0    1975.0   \n",
       "75%        2.0        4.0      8.0      2210.0          550.0    1997.0   \n",
       "max        4.0        5.0     13.0      9410.0         4820.0    2015.0   \n",
       "\n",
       "       yr_renovated  zipcode      lat     long  sqft_living15  sqft_lot15  \n",
       "count       21596.0  21596.0  21596.0  21596.0        21596.0     21596.0  \n",
       "mean           69.0  98078.0     48.0    122.0         1987.0     12759.0  \n",
       "std           364.0     54.0      0.0      0.0          685.0     27275.0  \n",
       "min             0.0  98001.0     47.0    121.0          399.0       651.0  \n",
       "25%             0.0  98033.0     47.0    122.0         1490.0      5100.0  \n",
       "50%             0.0  98065.0     48.0    122.0         1840.0      7620.0  \n",
       "75%             0.0  98118.0     48.0    122.0         2360.0     10083.0  \n",
       "max          2015.0  98199.0     48.0    123.0         6210.0    871200.0  "
      ]
     },
     "execution_count": 18,
     "metadata": {},
     "output_type": "execute_result"
    }
   ],
   "source": [
    "# Summary stats \n",
    "df.describe().round()"
   ]
  },
  {
   "cell_type": "markdown",
   "metadata": {},
   "source": [
    "Price looks like it has some big outliers. The 75th percentile is \\\\$ 645,000 and the max is \\\\$ 7,700,000, which is \\\\$ 7M more. \n",
    "\n",
    "In addition, sqft_lot appears to have some big outliers with the 75th percentile being just 10,686 sq. ft. while the max is 1,651,359 sq. ft.\n",
    "\n",
    "We'll take a closer look during feature engineering to remove extreme outliers."
   ]
  },
  {
   "cell_type": "markdown",
   "metadata": {},
   "source": [
    "Alright, it looks like out data are pretty well cleaned up. Let's continue on with our exploratory data analysis so we can gain some valuable insights before we begin modeling.\n",
    "\n",
    "We'll start by looking at our feature distributions to see which ones appear to be normally distributed and which ones are skewed. That way we'll know which ones we're going to log transform.\n",
    "\n",
    "We'll also be able to see which features are categorical and if any features require binning."
   ]
  },
  {
   "cell_type": "code",
   "execution_count": 19,
   "metadata": {},
   "outputs": [
    {
     "data": {
      "image/png": "[encoded data removed]",
      "text/plain": [
       "<Figure size 1152x1152 with 20 Axes>"
      ]
     },
     "metadata": {
      "needs_background": "light"
     },
     "output_type": "display_data"
    }
   ],
   "source": [
    "# Check out feature distributions\n",
    "df.hist(figsize=(16,16) );"
   ]
  },
  {
   "cell_type": "markdown",
   "metadata": {},
   "source": [
    "We can see that condition and grade are technically categorical, but since they're on a scale I'm going to treat them as continuous. \n",
    "\n",
    "Most of the data are skewed, so we will log transform and since we're log transforming, we won't be able to get an exact estimate of price. Since I want to know which variables or features have the greatest influence on price, I will min-max scale as well and compare the coefficients. \n",
    "\n",
    "And since sqft_basement and yr_renovated are combined continuous, but also sort of binary since some have the feature and some don't, I'm going to bin these and drop the first bin of '0' for one-hot encoding."
   ]
  },
  {
   "cell_type": "markdown",
   "metadata": {},
   "source": [
    "## Exploratory Analysis"
   ]
  },
  {
   "cell_type": "markdown",
   "metadata": {},
   "source": [
    "### Price vs. Sqft Basement\n",
    "I'm curious to see if there is a relationship between sqft_basement and price."
   ]
  },
  {
   "cell_type": "code",
   "execution_count": 20,
   "metadata": {},
   "outputs": [
    {
     "data": {
      "image/png": "[encoded data removed]",
      "text/plain": [
       "<Figure size 432x288 with 1 Axes>"
      ]
     },
     "metadata": {
      "needs_background": "light"
     },
     "output_type": "display_data"
    }
   ],
   "source": [
    "# Regression plot for all homes with basements\n",
    "\n",
    "sns.regplot(df[df.sqft_basement > 0].sqft_basement,df[df.sqft_basement > 0].price)\n",
    "plt.title('Price vs. Sqft Basement');"
   ]
  },
  {
   "cell_type": "markdown",
   "metadata": {},
   "source": [
    "We can see there does appear to be a relationship between the size of a home's basement and its selling price.\n",
    "\n",
    "### Price vs. Year Renovated\n",
    "Now let's take a look at the relationship between year renovated and price."
   ]
  },
  {
   "cell_type": "code",
   "execution_count": 21,
   "metadata": {},
   "outputs": [
    {
     "data": {
      "image/png": "[encoded data removed]",
      "text/plain": [
       "<Figure size 432x288 with 1 Axes>"
      ]
     },
     "metadata": {
      "needs_background": "light"
     },
     "output_type": "display_data"
    }
   ],
   "source": [
    "# Regression plot for all homes that have been renovated\n",
    "\n",
    "sns.regplot(df.yr_renovated[df.yr_renovated > 0],df.price[df.yr_renovated > 0])\n",
    "plt.title('Price vs. Year Renovated');"
   ]
  },
  {
   "cell_type": "markdown",
   "metadata": {},
   "source": [
    "We can see there does appear to be a slight linear relationship between the size of a home's basement and its selling price with a lot of variation most likely due to other features that affect price. "
   ]
  },
  {
   "cell_type": "markdown",
   "metadata": {},
   "source": [
    "### Price vs. Grade\n",
    "\n",
    "I looked up the King County Grading system to see what grade represents. Basically grade 1-3 falls short of bulding code, while 13 represents mansion level. Let's take a look at the relationship between grade and price."
   ]
  },
  {
   "cell_type": "code",
   "execution_count": 22,
   "metadata": {},
   "outputs": [
    {
     "data": {
      "image/png": "[encoded data removed]",
      "text/plain": [
       "<Figure size 576x432 with 1 Axes>"
      ]
     },
     "metadata": {
      "needs_background": "light"
     },
     "output_type": "display_data"
    }
   ],
   "source": [
    "# Use box plot to see the relationship between grade & price\n",
    "\n",
    "plt.figure(figsize=(8,6))\n",
    "fig = sns.boxplot(x='grade', y='price', data=df)\n",
    "plt.title('Price vs. Grade');\n",
    "\n",
    "# Set ymax to $6M for viewing. There are a few outliers up to around $8M.\n",
    "fig.axis(ymin=0, ymax=6000000);"
   ]
  },
  {
   "cell_type": "markdown",
   "metadata": {},
   "source": [
    "We can see there is a definite relationship here between grade and price. It appears to be exponential. This feature could be added as a polynomial feature, but to start I'm going to leave it linear and see how the model does. \n",
    "\n",
    "Something to note is that the top 1% of home prices were removed as extreme outliers. These were homes that were priced up to almost \\\\$8M. Grade 13 is mansion. There were mansions, but it looks like all of them except for 1 were removed. A some of the extreme outliers in grades 11-12 were removed as well as they were included in the top 1% of price. \n",
    "\n",
    "The link to the grading scale can be found here: https://info.kingcounty.gov/assessor/esales/Glossary.aspx?type=r."
   ]
  },
  {
   "cell_type": "markdown",
   "metadata": {},
   "source": [
    "### Price vs. Condition\n",
    "\n",
    "I looked up the King County Grading system to see what condition represents. Condition 3 is average. Less than 3 would require repairs. 4 is good, showing regular wear, but no repairs needed. Condition 5 is very good, upgrades have been made or home is new. \n",
    "\n",
    "I imagine this would have a relationship with the price as well. "
   ]
  },
  {
   "cell_type": "code",
   "execution_count": 23,
   "metadata": {},
   "outputs": [
    {
     "data": {
      "image/png": "[encoded data removed]",
      "text/plain": [
       "<Figure size 576x432 with 1 Axes>"
      ]
     },
     "metadata": {
      "needs_background": "light"
     },
     "output_type": "display_data"
    }
   ],
   "source": [
    "# Use box plot to see the relationship between condition & price\n",
    "\n",
    "plt.figure(figsize=(8,6))\n",
    "fig = sns.boxplot(x='condition', y='price', data=df)"
   ]
  },
  {
   "cell_type": "markdown",
   "metadata": {},
   "source": [
    "While there does appear to be an increase in price with each level of condition, we can see there are a lot of outliers. This is most likely due to other features that interact with condition to affect price, such as grade, I imagine square foot living, number of bedrooms, etc."
   ]
  },
  {
   "cell_type": "markdown",
   "metadata": {},
   "source": [
    "### Price vs. Bedrooms"
   ]
  },
  {
   "cell_type": "code",
   "execution_count": 24,
   "metadata": {},
   "outputs": [
    {
     "data": {
      "image/png": "[encoded data removed]",
      "text/plain": [
       "<Figure size 576x432 with 1 Axes>"
      ]
     },
     "metadata": {
      "needs_background": "light"
     },
     "output_type": "display_data"
    }
   ],
   "source": [
    "# Use box plot to see the relationship between bedrooms & price\n",
    "\n",
    "plt.figure(figsize=(8,6))\n",
    "fig = sns.boxplot(x='bedrooms', y='price', data=df)"
   ]
  },
  {
   "cell_type": "markdown",
   "metadata": {},
   "source": [
    "There does appear to be a relationship here as well, but again with a lot of outliers, which are probably due to other features playing a role. "
   ]
  },
  {
   "cell_type": "markdown",
   "metadata": {},
   "source": [
    "### Price vs. Bathrooms"
   ]
  },
  {
   "cell_type": "code",
   "execution_count": 25,
   "metadata": {},
   "outputs": [
    {
     "data": {
      "image/png": "[encoded data removed]",
      "text/plain": [
       "<Figure size 864x720 with 1 Axes>"
      ]
     },
     "metadata": {
      "needs_background": "light"
     },
     "output_type": "display_data"
    }
   ],
   "source": [
    "# Use box plot to see the relationship between bathrooms & price\n",
    "\n",
    "plt.figure(figsize=(12,10))\n",
    "fig = sns.boxplot(x='bathrooms', y='price', data=df)"
   ]
  },
  {
   "cell_type": "markdown",
   "metadata": {},
   "source": [
    "## Feature Engineering\n",
    "\n",
    "- Remove extreme outliers in the data\n",
    "- One-hot encode\n",
    "- Normalize"
   ]
  },
  {
   "cell_type": "markdown",
   "metadata": {},
   "source": [
    "### Remove Extreme Outliers\n",
    "\n",
    "We could see during the EDA and data cleaning that there were some extreme outliers when it came to price and square feet. These are the mansion level homes. So, we're going to take a closer look at the percentiles here to remove the extreme outliers. "
   ]
  },
  {
   "cell_type": "code",
   "execution_count": 26,
   "metadata": {
    "code_folding": []
   },
   "outputs": [
    {
     "name": "stdout",
     "output_type": "stream",
     "text": [
      "0.0 percentile: 78000.0\n",
      "0.01 percentile: 154000.0\n",
      "0.99 percentile: 1970000.0\n",
      "1.0 percentile: 7700000.0\n"
     ]
    }
   ],
   "source": [
    "# Percentiles for price\n",
    "\n",
    "# Define percentiles\n",
    "percentiles = [0,1,99,100]\n",
    "\n",
    "# Print them out\n",
    "for i in percentiles:\n",
    "    q = i/100\n",
    "    print(\"{} percentile: {}\".format(q, df.price.quantile(q=q)))"
   ]
  },
  {
   "cell_type": "code",
   "execution_count": 27,
   "metadata": {},
   "outputs": [
    {
     "name": "stdout",
     "output_type": "stream",
     "text": [
      "Percent removed: 0.019864789775884423\n"
     ]
    }
   ],
   "source": [
    "# Remove extreme outliers in the lower and upper 1%\n",
    "\n",
    "# Get original length to see percent removed\n",
    "orig_tot = len(df)\n",
    "\n",
    "# Subset to remove extreme outliers\n",
    "df = df[(df.price >= 154000.0) & (df.price <= 1970000.0)] \n",
    "\n",
    "# Calculate percent removed\n",
    "print('Percent removed:', (orig_tot -len(df))/orig_tot)"
   ]
  },
  {
   "cell_type": "markdown",
   "metadata": {},
   "source": [
    "Now for sqft_lot."
   ]
  },
  {
   "cell_type": "code",
   "execution_count": 28,
   "metadata": {
    "code_folding": []
   },
   "outputs": [
    {
     "name": "stdout",
     "output_type": "stream",
     "text": [
      "0.0 percentile: 520.0\n",
      "0.01 percentile: 1010.6600000000001\n",
      "0.99 percentile: 213008.0\n",
      "1.0 percentile: 1651359.0\n"
     ]
    }
   ],
   "source": [
    "# Percentiles for sqft_lot\n",
    "\n",
    "# Print them out\n",
    "for i in percentiles:\n",
    "    q = i/100\n",
    "    print(\"{} percentile: {}\".format(q, df.sqft_lot.quantile(q=q)))"
   ]
  },
  {
   "cell_type": "code",
   "execution_count": 29,
   "metadata": {},
   "outputs": [
    {
     "name": "stdout",
     "output_type": "stream",
     "text": [
      "Percent removed: 0.019842207209335286\n"
     ]
    }
   ],
   "source": [
    "# Remove extreme outliers in the lower and upper 1%\n",
    "\n",
    "# Get original length to see percent removed\n",
    "orig_tot = len(df)\n",
    "\n",
    "# Subset to remove extreme outliers\n",
    "df = df[(df.sqft_lot >= 1010.61) & (df.sqft_lot <= 213008.0)]\n",
    "\n",
    "# Calculate percent removed\n",
    "print('Percent removed:', (orig_tot -len(df))/orig_tot)"
   ]
  },
  {
   "cell_type": "markdown",
   "metadata": {},
   "source": [
    "### One-Hot Encode"
   ]
  },
  {
   "cell_type": "markdown",
   "metadata": {},
   "source": [
    "Let's bin and one-hot encode sqft_basement and yr_renovated."
   ]
  },
  {
   "cell_type": "code",
   "execution_count": 30,
   "metadata": {
    "code_folding": []
   },
   "outputs": [
    {
     "data": {
      "text/plain": [
       "(9.999, 450.0]     2048\n",
       "(450.0, 700.0]     2035\n",
       "(960.0, 3260.0]    1983\n",
       "(700.0, 960.0]     1914\n",
       "Name: sqft_basement, dtype: int64"
      ]
     },
     "execution_count": 30,
     "metadata": {},
     "output_type": "execute_result"
    }
   ],
   "source": [
    "# Get quartile cuts for homes with a basement\n",
    "\n",
    "bins = pd.qcut(df.sqft_basement[df.sqft_basement > 0],q=4)\n",
    "bins.value_counts()"
   ]
  },
  {
   "cell_type": "code",
   "execution_count": 31,
   "metadata": {
    "code_folding": []
   },
   "outputs": [],
   "source": [
    "# Bin sqft_basement\n",
    "\n",
    "bins_sqft_basement = [0,10,450,980,5000]\n",
    "\n",
    "# Define function to return dummies\n",
    "def binned_dummies(data, features, bins):\n",
    "    data_bins = pd.cut(data, bins)\n",
    "    data_bins = data_bins.cat.as_unordered()\n",
    "    dummies = pd.get_dummies(data_bins, prefix = features, drop_first=True)\n",
    "    return dummies\n",
    "\n",
    "dummies_sqft_basement = binned_dummies(df.sqft_basement,'sqft_basement', bins_sqft_basement)\n",
    "\n",
    "# Remove original column from data set\n",
    "df = df.drop(['sqft_basement'], axis=1)\n",
    "                                            \n",
    "# Add new columns in\n",
    "df = pd.concat([df, dummies_sqft_basement], axis=1)"
   ]
  },
  {
   "cell_type": "markdown",
   "metadata": {},
   "source": [
    "Let's do the same for yr_renovated."
   ]
  },
  {
   "cell_type": "code",
   "execution_count": 32,
   "metadata": {},
   "outputs": [
    {
     "data": {
      "text/plain": [
       "(1987.0, 2000.0]      191\n",
       "(1933.999, 1987.0]    181\n",
       "(2008.0, 2015.0]      166\n",
       "(2000.0, 2008.0]      166\n",
       "Name: yr_renovated, dtype: int64"
      ]
     },
     "execution_count": 32,
     "metadata": {},
     "output_type": "execute_result"
    }
   ],
   "source": [
    "# Get quartile cuts for homes that have been renovated\n",
    "\n",
    "bins = pd.qcut(df.yr_renovated[df.yr_renovated > 0],q=4)\n",
    "bins.value_counts()"
   ]
  },
  {
   "cell_type": "code",
   "execution_count": 33,
   "metadata": {},
   "outputs": [],
   "source": [
    "# Bin 'yr_renovated'\n",
    "\n",
    "bins_yr_renovated = [0,1933,1987,2000,2008,2015]\n",
    "\n",
    "dummies_yr_renovated = binned_dummies(df.yr_renovated,'yr_renovated', bins_yr_renovated)\n",
    "\n",
    "# Remove original column from data set\n",
    "df = df.drop(['yr_renovated'], axis=1)\n",
    "                                            \n",
    "# Add new columns in\n",
    "df = pd.concat([df, dummies_yr_renovated], axis=1)"
   ]
  },
  {
   "cell_type": "markdown",
   "metadata": {},
   "source": [
    "### Normalize \n",
    "\n",
    "Normalize data by log transforming, normalizing and min-max scaling. We're doing this to meet the normal assumption as many of our features have skewed data."
   ]
  },
  {
   "cell_type": "code",
   "execution_count": 34,
   "metadata": {},
   "outputs": [],
   "source": [
    "# Normalize Data\n",
    "\n",
    "# Continuous features\n",
    "features = ['date','price','sqft_living','lat','long','bedrooms',\n",
    "            'bathrooms','floors','condition','grade','sqft_lot',\n",
    "            'sqft_above','yr_built','sqft_living15','sqft_lot15',\n",
    "            'zipcode']\n",
    "\n",
    "df_cont_features = df[features]\n",
    "\n",
    "### Log transform ###\n",
    "\n",
    "df_log = np.log(df_cont_features)\n",
    "#df_log.columns = log_names\n",
    "\n",
    "\n",
    "### Normalize ###\n",
    "\n",
    "# Define function to normalize\n",
    "def normalize(feature):\n",
    "    return (feature - feature.mean()) / feature.std()\n",
    "\n",
    "# Apply function to normalize\n",
    "df_log_norm = df_log.apply(normalize)\n",
    "\n",
    "### Min-Max Scale ###\n",
    "\n",
    "# Define function to min-max scale\n",
    "def minmaxscale(feature):\n",
    "    return (feature-min(feature))/(max(feature)-min(feature))\n",
    "\n",
    "# Apply function to min-max scale\n",
    "df_log_norm_scale = df_log.apply(minmaxscale)\n",
    "\n",
    "# Remove original column from data set\n",
    "df = df.drop(features, axis=1)\n",
    "\n",
    "# Add new columns in\n",
    "df = pd.concat([df, df_log_norm_scale], axis=1) "
   ]
  },
  {
   "cell_type": "code",
   "execution_count": 35,
   "metadata": {},
   "outputs": [],
   "source": [
    "# df.head()"
   ]
  },
  {
   "cell_type": "markdown",
   "metadata": {},
   "source": [
    "## Check for Multicollinearity "
   ]
  },
  {
   "cell_type": "markdown",
   "metadata": {},
   "source": [
    "### Multicollinearity"
   ]
  },
  {
   "cell_type": "markdown",
   "metadata": {},
   "source": [
    "Let's take a look at our continuous features to check for multicollinearity. I prefer to look at a boolean correlation matrix so I can easily search for instances of 'True' in a column as I find that easier to look at than a heatmap.  So we're doing to take a look here. "
   ]
  },
  {
   "cell_type": "code",
   "execution_count": 67,
   "metadata": {
    "code_folding": []
   },
   "outputs": [
    {
     "data": {
      "text/html": [
       "<div>\n",
       "<style scoped>\n",
       "    .dataframe tbody tr th:only-of-type {\n",
       "        vertical-align: middle;\n",
       "    }\n",
       "\n",
       "    .dataframe tbody tr th {\n",
       "        vertical-align: top;\n",
       "    }\n",
       "\n",
       "    .dataframe thead th {\n",
       "        text-align: right;\n",
       "    }\n",
       "</style>\n",
       "<table border=\"1\" class=\"dataframe\">\n",
       "  <thead>\n",
       "    <tr style=\"text-align: right;\">\n",
       "      <th></th>\n",
       "      <th>date</th>\n",
       "      <th>price</th>\n",
       "      <th>sqft_living</th>\n",
       "      <th>lat</th>\n",
       "      <th>long</th>\n",
       "      <th>bedrooms</th>\n",
       "      <th>bathrooms</th>\n",
       "      <th>floors</th>\n",
       "      <th>condition</th>\n",
       "      <th>grade</th>\n",
       "      <th>sqft_lot</th>\n",
       "      <th>sqft_above</th>\n",
       "      <th>yr_built</th>\n",
       "      <th>sqft_living15</th>\n",
       "      <th>sqft_lot15</th>\n",
       "      <th>zipcode</th>\n",
       "    </tr>\n",
       "  </thead>\n",
       "  <tbody>\n",
       "    <tr>\n",
       "      <td>date</td>\n",
       "      <td>True</td>\n",
       "      <td>False</td>\n",
       "      <td>False</td>\n",
       "      <td>False</td>\n",
       "      <td>False</td>\n",
       "      <td>False</td>\n",
       "      <td>False</td>\n",
       "      <td>False</td>\n",
       "      <td>False</td>\n",
       "      <td>False</td>\n",
       "      <td>False</td>\n",
       "      <td>False</td>\n",
       "      <td>False</td>\n",
       "      <td>False</td>\n",
       "      <td>False</td>\n",
       "      <td>False</td>\n",
       "    </tr>\n",
       "    <tr>\n",
       "      <td>price</td>\n",
       "      <td>False</td>\n",
       "      <td>True</td>\n",
       "      <td>False</td>\n",
       "      <td>False</td>\n",
       "      <td>False</td>\n",
       "      <td>False</td>\n",
       "      <td>False</td>\n",
       "      <td>False</td>\n",
       "      <td>False</td>\n",
       "      <td>False</td>\n",
       "      <td>False</td>\n",
       "      <td>False</td>\n",
       "      <td>False</td>\n",
       "      <td>False</td>\n",
       "      <td>False</td>\n",
       "      <td>False</td>\n",
       "    </tr>\n",
       "    <tr>\n",
       "      <td>sqft_living</td>\n",
       "      <td>False</td>\n",
       "      <td>False</td>\n",
       "      <td>True</td>\n",
       "      <td>False</td>\n",
       "      <td>False</td>\n",
       "      <td>False</td>\n",
       "      <td>True</td>\n",
       "      <td>False</td>\n",
       "      <td>False</td>\n",
       "      <td>False</td>\n",
       "      <td>False</td>\n",
       "      <td>True</td>\n",
       "      <td>False</td>\n",
       "      <td>False</td>\n",
       "      <td>False</td>\n",
       "      <td>False</td>\n",
       "    </tr>\n",
       "    <tr>\n",
       "      <td>lat</td>\n",
       "      <td>False</td>\n",
       "      <td>False</td>\n",
       "      <td>False</td>\n",
       "      <td>True</td>\n",
       "      <td>False</td>\n",
       "      <td>False</td>\n",
       "      <td>False</td>\n",
       "      <td>False</td>\n",
       "      <td>False</td>\n",
       "      <td>False</td>\n",
       "      <td>False</td>\n",
       "      <td>False</td>\n",
       "      <td>False</td>\n",
       "      <td>False</td>\n",
       "      <td>False</td>\n",
       "      <td>False</td>\n",
       "    </tr>\n",
       "    <tr>\n",
       "      <td>long</td>\n",
       "      <td>False</td>\n",
       "      <td>False</td>\n",
       "      <td>False</td>\n",
       "      <td>False</td>\n",
       "      <td>True</td>\n",
       "      <td>False</td>\n",
       "      <td>False</td>\n",
       "      <td>False</td>\n",
       "      <td>False</td>\n",
       "      <td>False</td>\n",
       "      <td>False</td>\n",
       "      <td>False</td>\n",
       "      <td>False</td>\n",
       "      <td>False</td>\n",
       "      <td>False</td>\n",
       "      <td>False</td>\n",
       "    </tr>\n",
       "    <tr>\n",
       "      <td>bedrooms</td>\n",
       "      <td>False</td>\n",
       "      <td>False</td>\n",
       "      <td>False</td>\n",
       "      <td>False</td>\n",
       "      <td>False</td>\n",
       "      <td>True</td>\n",
       "      <td>False</td>\n",
       "      <td>False</td>\n",
       "      <td>False</td>\n",
       "      <td>False</td>\n",
       "      <td>False</td>\n",
       "      <td>False</td>\n",
       "      <td>False</td>\n",
       "      <td>False</td>\n",
       "      <td>False</td>\n",
       "      <td>False</td>\n",
       "    </tr>\n",
       "    <tr>\n",
       "      <td>bathrooms</td>\n",
       "      <td>False</td>\n",
       "      <td>False</td>\n",
       "      <td>True</td>\n",
       "      <td>False</td>\n",
       "      <td>False</td>\n",
       "      <td>False</td>\n",
       "      <td>True</td>\n",
       "      <td>False</td>\n",
       "      <td>False</td>\n",
       "      <td>False</td>\n",
       "      <td>False</td>\n",
       "      <td>False</td>\n",
       "      <td>False</td>\n",
       "      <td>False</td>\n",
       "      <td>False</td>\n",
       "      <td>False</td>\n",
       "    </tr>\n",
       "    <tr>\n",
       "      <td>floors</td>\n",
       "      <td>False</td>\n",
       "      <td>False</td>\n",
       "      <td>False</td>\n",
       "      <td>False</td>\n",
       "      <td>False</td>\n",
       "      <td>False</td>\n",
       "      <td>False</td>\n",
       "      <td>True</td>\n",
       "      <td>False</td>\n",
       "      <td>False</td>\n",
       "      <td>False</td>\n",
       "      <td>False</td>\n",
       "      <td>False</td>\n",
       "      <td>False</td>\n",
       "      <td>False</td>\n",
       "      <td>False</td>\n",
       "    </tr>\n",
       "    <tr>\n",
       "      <td>condition</td>\n",
       "      <td>False</td>\n",
       "      <td>False</td>\n",
       "      <td>False</td>\n",
       "      <td>False</td>\n",
       "      <td>False</td>\n",
       "      <td>False</td>\n",
       "      <td>False</td>\n",
       "      <td>False</td>\n",
       "      <td>True</td>\n",
       "      <td>False</td>\n",
       "      <td>False</td>\n",
       "      <td>False</td>\n",
       "      <td>False</td>\n",
       "      <td>False</td>\n",
       "      <td>False</td>\n",
       "      <td>False</td>\n",
       "    </tr>\n",
       "    <tr>\n",
       "      <td>grade</td>\n",
       "      <td>False</td>\n",
       "      <td>False</td>\n",
       "      <td>False</td>\n",
       "      <td>False</td>\n",
       "      <td>False</td>\n",
       "      <td>False</td>\n",
       "      <td>False</td>\n",
       "      <td>False</td>\n",
       "      <td>False</td>\n",
       "      <td>True</td>\n",
       "      <td>False</td>\n",
       "      <td>False</td>\n",
       "      <td>False</td>\n",
       "      <td>False</td>\n",
       "      <td>False</td>\n",
       "      <td>False</td>\n",
       "    </tr>\n",
       "    <tr>\n",
       "      <td>sqft_lot</td>\n",
       "      <td>False</td>\n",
       "      <td>False</td>\n",
       "      <td>False</td>\n",
       "      <td>False</td>\n",
       "      <td>False</td>\n",
       "      <td>False</td>\n",
       "      <td>False</td>\n",
       "      <td>False</td>\n",
       "      <td>False</td>\n",
       "      <td>False</td>\n",
       "      <td>True</td>\n",
       "      <td>False</td>\n",
       "      <td>False</td>\n",
       "      <td>False</td>\n",
       "      <td>True</td>\n",
       "      <td>False</td>\n",
       "    </tr>\n",
       "    <tr>\n",
       "      <td>sqft_above</td>\n",
       "      <td>False</td>\n",
       "      <td>False</td>\n",
       "      <td>True</td>\n",
       "      <td>False</td>\n",
       "      <td>False</td>\n",
       "      <td>False</td>\n",
       "      <td>False</td>\n",
       "      <td>False</td>\n",
       "      <td>False</td>\n",
       "      <td>False</td>\n",
       "      <td>False</td>\n",
       "      <td>True</td>\n",
       "      <td>False</td>\n",
       "      <td>False</td>\n",
       "      <td>False</td>\n",
       "      <td>False</td>\n",
       "    </tr>\n",
       "    <tr>\n",
       "      <td>yr_built</td>\n",
       "      <td>False</td>\n",
       "      <td>False</td>\n",
       "      <td>False</td>\n",
       "      <td>False</td>\n",
       "      <td>False</td>\n",
       "      <td>False</td>\n",
       "      <td>False</td>\n",
       "      <td>False</td>\n",
       "      <td>False</td>\n",
       "      <td>False</td>\n",
       "      <td>False</td>\n",
       "      <td>False</td>\n",
       "      <td>True</td>\n",
       "      <td>False</td>\n",
       "      <td>False</td>\n",
       "      <td>False</td>\n",
       "    </tr>\n",
       "    <tr>\n",
       "      <td>sqft_living15</td>\n",
       "      <td>False</td>\n",
       "      <td>False</td>\n",
       "      <td>False</td>\n",
       "      <td>False</td>\n",
       "      <td>False</td>\n",
       "      <td>False</td>\n",
       "      <td>False</td>\n",
       "      <td>False</td>\n",
       "      <td>False</td>\n",
       "      <td>False</td>\n",
       "      <td>False</td>\n",
       "      <td>False</td>\n",
       "      <td>False</td>\n",
       "      <td>True</td>\n",
       "      <td>False</td>\n",
       "      <td>False</td>\n",
       "    </tr>\n",
       "    <tr>\n",
       "      <td>sqft_lot15</td>\n",
       "      <td>False</td>\n",
       "      <td>False</td>\n",
       "      <td>False</td>\n",
       "      <td>False</td>\n",
       "      <td>False</td>\n",
       "      <td>False</td>\n",
       "      <td>False</td>\n",
       "      <td>False</td>\n",
       "      <td>False</td>\n",
       "      <td>False</td>\n",
       "      <td>True</td>\n",
       "      <td>False</td>\n",
       "      <td>False</td>\n",
       "      <td>False</td>\n",
       "      <td>True</td>\n",
       "      <td>False</td>\n",
       "    </tr>\n",
       "    <tr>\n",
       "      <td>zipcode</td>\n",
       "      <td>False</td>\n",
       "      <td>False</td>\n",
       "      <td>False</td>\n",
       "      <td>False</td>\n",
       "      <td>False</td>\n",
       "      <td>False</td>\n",
       "      <td>False</td>\n",
       "      <td>False</td>\n",
       "      <td>False</td>\n",
       "      <td>False</td>\n",
       "      <td>False</td>\n",
       "      <td>False</td>\n",
       "      <td>False</td>\n",
       "      <td>False</td>\n",
       "      <td>False</td>\n",
       "      <td>True</td>\n",
       "    </tr>\n",
       "  </tbody>\n",
       "</table>\n",
       "</div>"
      ],
      "text/plain": [
       "                date  price  sqft_living    lat   long  bedrooms  bathrooms  \\\n",
       "date            True  False        False  False  False     False      False   \n",
       "price          False   True        False  False  False     False      False   \n",
       "sqft_living    False  False         True  False  False     False       True   \n",
       "lat            False  False        False   True  False     False      False   \n",
       "long           False  False        False  False   True     False      False   \n",
       "bedrooms       False  False        False  False  False      True      False   \n",
       "bathrooms      False  False         True  False  False     False       True   \n",
       "floors         False  False        False  False  False     False      False   \n",
       "condition      False  False        False  False  False     False      False   \n",
       "grade          False  False        False  False  False     False      False   \n",
       "sqft_lot       False  False        False  False  False     False      False   \n",
       "sqft_above     False  False         True  False  False     False      False   \n",
       "yr_built       False  False        False  False  False     False      False   \n",
       "sqft_living15  False  False        False  False  False     False      False   \n",
       "sqft_lot15     False  False        False  False  False     False      False   \n",
       "zipcode        False  False        False  False  False     False      False   \n",
       "\n",
       "               floors  condition  grade  sqft_lot  sqft_above  yr_built  \\\n",
       "date            False      False  False     False       False     False   \n",
       "price           False      False  False     False       False     False   \n",
       "sqft_living     False      False  False     False        True     False   \n",
       "lat             False      False  False     False       False     False   \n",
       "long            False      False  False     False       False     False   \n",
       "bedrooms        False      False  False     False       False     False   \n",
       "bathrooms       False      False  False     False       False     False   \n",
       "floors           True      False  False     False       False     False   \n",
       "condition       False       True  False     False       False     False   \n",
       "grade           False      False   True     False       False     False   \n",
       "sqft_lot        False      False  False      True       False     False   \n",
       "sqft_above      False      False  False     False        True     False   \n",
       "yr_built        False      False  False     False       False      True   \n",
       "sqft_living15   False      False  False     False       False     False   \n",
       "sqft_lot15      False      False  False      True       False     False   \n",
       "zipcode         False      False  False     False       False     False   \n",
       "\n",
       "               sqft_living15  sqft_lot15  zipcode  \n",
       "date                   False       False    False  \n",
       "price                  False       False    False  \n",
       "sqft_living            False       False    False  \n",
       "lat                    False       False    False  \n",
       "long                   False       False    False  \n",
       "bedrooms               False       False    False  \n",
       "bathrooms              False       False    False  \n",
       "floors                 False       False    False  \n",
       "condition              False       False    False  \n",
       "grade                  False       False    False  \n",
       "sqft_lot               False        True    False  \n",
       "sqft_above             False       False    False  \n",
       "yr_built               False       False    False  \n",
       "sqft_living15           True       False    False  \n",
       "sqft_lot15             False        True    False  \n",
       "zipcode                False       False     True  "
      ]
     },
     "execution_count": 67,
     "metadata": {},
     "output_type": "execute_result"
    }
   ],
   "source": [
    "# Take a look at the correlation matrix to check for multicollinearity\n",
    "abs(df[features].corr()) > 0.75"
   ]
  },
  {
   "cell_type": "code",
   "execution_count": 37,
   "metadata": {
    "code_folding": [
     0
    ],
    "scrolled": false
   },
   "outputs": [],
   "source": [
    "# # Check & see if sqft_lot15 & sqft_living15 are correlated with sqft_lot & sqft_living\n",
    "# sns.regplot(df.sqft_lot,df.sqft_lot15)\n",
    "# plt.show()\n",
    "# sns.regplot(df.sqft_living,df.sqft_living15)\n",
    "# plt.show()"
   ]
  },
  {
   "cell_type": "markdown",
   "metadata": {},
   "source": [
    "We can see that 'sqft_lot15' & 'sqft_living15' are correlated with 'sqft_lot' & 'sqft_living', which makes sense because the features appended with 15 represent the average of the 15 nearest neighbors. \n",
    "\n",
    "We will remove these values to prevent multicollinearity in our model. "
   ]
  },
  {
   "cell_type": "code",
   "execution_count": 38,
   "metadata": {
    "code_folding": [
     0
    ]
   },
   "outputs": [],
   "source": [
    "# # Remove sqft_lot15 & sqft_living15\n",
    "# df = df.drop(['sqft_lot15','sqft_living15'], axis=1)"
   ]
  },
  {
   "cell_type": "code",
   "execution_count": 39,
   "metadata": {
    "code_folding": [
     0
    ]
   },
   "outputs": [],
   "source": [
    "# # Take a look at the correlation matrix to check for multicollinearity\n",
    "# df.corr() > 0.75"
   ]
  },
  {
   "cell_type": "markdown",
   "metadata": {},
   "source": [
    "We can see here that 'sqft_living' seems to be highly correlated with multiple features such as 'bathrooms', 'grade', and 'sqft_above'. 'sqft_living' represents the square footage of the entire home and seems that it would be a strong indicator of home price. The squarefoot of other features are essentially subsets of the overall home squarefootage. So for now I am going to remove it. However, it could be kept in place and other features removed later on to see if this improves the overall performance of the model."
   ]
  },
  {
   "cell_type": "code",
   "execution_count": 40,
   "metadata": {
    "code_folding": [
     0
    ]
   },
   "outputs": [],
   "source": [
    "# # Remove 'sqft_living' to prevent multicollinearity \n",
    "# # as it is highly correlated with multiple features\n",
    "\n",
    "# df = df.drop(['sqft_living'], axis=1)"
   ]
  },
  {
   "cell_type": "code",
   "execution_count": 41,
   "metadata": {},
   "outputs": [],
   "source": [
    "# abs(df.corr()) > 0.75"
   ]
  },
  {
   "cell_type": "markdown",
   "metadata": {},
   "source": [
    "It looks like 'sqft_above' and 'grade' are highly correlated, so we should only keep one to prevent multicollinearity. \n",
    "\n",
    "For now I'm going to keep 'sqft_above', but can also test removing 'sqft_above' and one-hot-encoding 'grade' later on to see if it improves performance of the model. "
   ]
  },
  {
   "cell_type": "code",
   "execution_count": 42,
   "metadata": {
    "code_folding": [
     0
    ]
   },
   "outputs": [],
   "source": [
    "# # We can see the relationship here between 'sqft_above' and 'grade', it appears to possibly\n",
    "# # be polynomial. While grade is categorical, it is continuous\n",
    "# sns.regplot(df.grade,df.sqft_above);"
   ]
  },
  {
   "cell_type": "markdown",
   "metadata": {},
   "source": [
    "Since the relationship looks slightly polynomial, and 'grade' technically is categorical, I want to look at their distributions to further explore the relationship. Let's look at the histograms/distplot."
   ]
  },
  {
   "cell_type": "code",
   "execution_count": 43,
   "metadata": {
    "code_folding": [
     0
    ]
   },
   "outputs": [],
   "source": [
    "# sns.distplot(df.sqft_above)\n",
    "# plt.show()\n",
    "# plt.hist(df.grade)\n",
    "# plt.show()"
   ]
  },
  {
   "cell_type": "markdown",
   "metadata": {},
   "source": [
    "Both do appear to be skewed in the same direction, so perhaps they are linearly related. Okay, I will remove grade. "
   ]
  },
  {
   "cell_type": "code",
   "execution_count": 44,
   "metadata": {},
   "outputs": [],
   "source": [
    "# df = df.drop(['grade'], axis=1)"
   ]
  },
  {
   "cell_type": "code",
   "execution_count": 45,
   "metadata": {},
   "outputs": [],
   "source": [
    "# df.head()"
   ]
  },
  {
   "cell_type": "markdown",
   "metadata": {},
   "source": [
    "### Separate Target & Feature Variables"
   ]
  },
  {
   "cell_type": "code",
   "execution_count": 46,
   "metadata": {},
   "outputs": [],
   "source": [
    "# Separate target and feature variables\n",
    "\n",
    "X = df.drop(['price'],axis=1)\n",
    "y = df.price"
   ]
  },
  {
   "cell_type": "markdown",
   "metadata": {},
   "source": [
    "# Start Modeling"
   ]
  },
  {
   "cell_type": "markdown",
   "metadata": {},
   "source": [
    "## First with Scikit Learn"
   ]
  },
  {
   "cell_type": "code",
   "execution_count": 47,
   "metadata": {},
   "outputs": [],
   "source": [
    "# Import train_test_split from sklearn\n",
    "from sklearn.model_selection import train_test_split\n",
    "\n",
    "# Split data with test size of 20%\n",
    "X_train, X_test, y_train, y_test = train_test_split(X, y, test_size=0.20)"
   ]
  },
  {
   "cell_type": "code",
   "execution_count": 48,
   "metadata": {},
   "outputs": [
    {
     "name": "stdout",
     "output_type": "stream",
     "text": [
      "y-int: -0.596670489470916\n",
      "coeffs: [ 0.03323113  0.03075886  0.05558006 -0.00626979  0.03450812  0.06211167\n",
      "  0.05594553  0.02791826  0.21742476  0.32055823  0.04237018 -0.125417\n",
      "  0.07955617  0.04369477  0.1265163   0.68191512  0.0065509   0.22455542\n",
      " -0.17900662  0.2851505  -0.08223129 -0.02973393]\n",
      "MSE test: 0.00967528316824186\n"
     ]
    }
   ],
   "source": [
    "# Fit Model & Calculate Predictions\n",
    "\n",
    "# Import Packages\n",
    "from sklearn.linear_model import LinearRegression\n",
    "from sklearn.metrics import mean_squared_error, make_scorer\n",
    "\n",
    "# Initialize the linear regression model class\n",
    "linreg = LinearRegression()\n",
    "\n",
    "# Fit the model to train data\n",
    "linreg.fit(X_train, y_train)\n",
    "\n",
    "# Calculate predictions on test set\n",
    "y_hat_test = linreg.predict(X_test)\n",
    "\n",
    "# Calculate RMSE of test set\n",
    "test_mse = mean_squared_error(y_test, y_hat_test)\n",
    "\n",
    "# Assign coefficients & intercept\n",
    "intercept=linreg.intercept_\n",
    "coefficients=linreg.coef_\n",
    "\n",
    "# Output y-int, coeffs & RMSE of the test set\n",
    "print(f\"y-int: {intercept}\")\n",
    "print(f\"coeffs: {coefficients}\")\n",
    "print(f\"MSE test: {test_mse}\")"
   ]
  },
  {
   "cell_type": "markdown",
   "metadata": {},
   "source": [
    "### Cross-validate Model"
   ]
  },
  {
   "cell_type": "code",
   "execution_count": 49,
   "metadata": {},
   "outputs": [
    {
     "name": "stdout",
     "output_type": "stream",
     "text": [
      "Crossval MSE: 0.009538607018340355\n",
      "Baseline R^2: 0.7383319935874338\n"
     ]
    }
   ],
   "source": [
    "# Cross-validate & Output RMSE & R^2 \n",
    "\n",
    "# Import Packages\n",
    "from sklearn.model_selection import cross_val_score\n",
    "\n",
    "# Cross-validate Model\n",
    "\n",
    "# Test Errors\n",
    "mse = make_scorer(mean_squared_error)\n",
    "cv_5_results = cross_val_score(linreg, X, y, cv=5, scoring=mse)\n",
    "print(f\"Crossval MSE: {cv_5_results.mean()}\")\n",
    "\n",
    "# R-squared\n",
    "from sklearn.model_selection import KFold\n",
    "crossval = KFold(n_splits=10, shuffle=True, random_state=1)\n",
    "baseline_R2 = np.mean(cross_val_score(linreg, X, y, scoring='r2', cv=crossval))\n",
    "print(f\"Baseline R^2: {baseline_R2}\")"
   ]
  },
  {
   "cell_type": "markdown",
   "metadata": {},
   "source": [
    "## Now with OLS"
   ]
  },
  {
   "cell_type": "markdown",
   "metadata": {},
   "source": [
    "### Model 1: All Features w/o Interactions"
   ]
  },
  {
   "cell_type": "code",
   "execution_count": 50,
   "metadata": {},
   "outputs": [
    {
     "name": "stdout",
     "output_type": "stream",
     "text": [
      "MSE: 0.00944518831695659\n"
     ]
    },
    {
     "name": "stderr",
     "output_type": "stream",
     "text": [
      "/opt/anaconda3/envs/learn-env/lib/python3.6/site-packages/numpy/core/fromnumeric.py:2389: FutureWarning: Method .ptp is deprecated and will be removed in a future version. Use numpy.ptp instead.\n",
      "  return ptp(axis=axis, out=out, **kwargs)\n"
     ]
    },
    {
     "data": {
      "text/html": [
       "<table class=\"simpletable\">\n",
       "<caption>OLS Regression Results</caption>\n",
       "<tr>\n",
       "  <th>Dep. Variable:</th>          <td>price</td>      <th>  R-squared:         </th>  <td>   0.739</td> \n",
       "</tr>\n",
       "<tr>\n",
       "  <th>Model:</th>                   <td>OLS</td>       <th>  Adj. R-squared:    </th>  <td>   0.739</td> \n",
       "</tr>\n",
       "<tr>\n",
       "  <th>Method:</th>             <td>Least Squares</td>  <th>  F-statistic:       </th>  <td>   2674.</td> \n",
       "</tr>\n",
       "<tr>\n",
       "  <th>Date:</th>             <td>Fri, 15 May 2020</td> <th>  Prob (F-statistic):</th>   <td>  0.00</td>  \n",
       "</tr>\n",
       "<tr>\n",
       "  <th>Time:</th>                 <td>17:03:27</td>     <th>  Log-Likelihood:    </th>  <td>  18937.</td> \n",
       "</tr>\n",
       "<tr>\n",
       "  <th>No. Observations:</th>      <td> 20747</td>      <th>  AIC:               </th> <td>-3.783e+04</td>\n",
       "</tr>\n",
       "<tr>\n",
       "  <th>Df Residuals:</th>          <td> 20724</td>      <th>  BIC:               </th> <td>-3.764e+04</td>\n",
       "</tr>\n",
       "<tr>\n",
       "  <th>Df Model:</th>              <td>    22</td>      <th>                     </th>      <td> </td>    \n",
       "</tr>\n",
       "<tr>\n",
       "  <th>Covariance Type:</th>      <td>nonrobust</td>    <th>                     </th>      <td> </td>    \n",
       "</tr>\n",
       "</table>\n",
       "<table class=\"simpletable\">\n",
       "<tr>\n",
       "              <td></td>                 <th>coef</th>     <th>std err</th>      <th>t</th>      <th>P>|t|</th>  <th>[0.025</th>    <th>0.975]</th>  \n",
       "</tr>\n",
       "<tr>\n",
       "  <th>const</th>                     <td>   -0.6073</td> <td>    0.011</td> <td>  -56.634</td> <td> 0.000</td> <td>   -0.628</td> <td>   -0.586</td>\n",
       "</tr>\n",
       "<tr>\n",
       "  <th>sqft_basement_(10, 450]</th>   <td>    0.0317</td> <td>    0.003</td> <td>   10.828</td> <td> 0.000</td> <td>    0.026</td> <td>    0.037</td>\n",
       "</tr>\n",
       "<tr>\n",
       "  <th>sqft_basement_(450, 980]</th>  <td>    0.0302</td> <td>    0.004</td> <td>    7.694</td> <td> 0.000</td> <td>    0.023</td> <td>    0.038</td>\n",
       "</tr>\n",
       "<tr>\n",
       "  <th>sqft_basement_(980, 5000]</th> <td>    0.0553</td> <td>    0.005</td> <td>   10.271</td> <td> 0.000</td> <td>    0.045</td> <td>    0.066</td>\n",
       "</tr>\n",
       "<tr>\n",
       "  <th>yr_renovated_(1933, 1987]</th> <td>   -0.0133</td> <td>    0.007</td> <td>   -1.803</td> <td> 0.071</td> <td>   -0.028</td> <td>    0.001</td>\n",
       "</tr>\n",
       "<tr>\n",
       "  <th>yr_renovated_(1987, 2000]</th> <td>    0.0414</td> <td>    0.007</td> <td>    5.762</td> <td> 0.000</td> <td>    0.027</td> <td>    0.056</td>\n",
       "</tr>\n",
       "<tr>\n",
       "  <th>yr_renovated_(2000, 2008]</th> <td>    0.0592</td> <td>    0.008</td> <td>    7.668</td> <td> 0.000</td> <td>    0.044</td> <td>    0.074</td>\n",
       "</tr>\n",
       "<tr>\n",
       "  <th>yr_renovated_(2008, 2015]</th> <td>    0.0559</td> <td>    0.008</td> <td>    7.263</td> <td> 0.000</td> <td>    0.041</td> <td>    0.071</td>\n",
       "</tr>\n",
       "<tr>\n",
       "  <th>date</th>                      <td>    0.0290</td> <td>    0.002</td> <td>   12.422</td> <td> 0.000</td> <td>    0.024</td> <td>    0.034</td>\n",
       "</tr>\n",
       "<tr>\n",
       "  <th>sqft_living</th>               <td>    0.2037</td> <td>    0.028</td> <td>    7.301</td> <td> 0.000</td> <td>    0.149</td> <td>    0.258</td>\n",
       "</tr>\n",
       "<tr>\n",
       "  <th>lat</th>                       <td>    0.3226</td> <td>    0.003</td> <td>   98.008</td> <td> 0.000</td> <td>    0.316</td> <td>    0.329</td>\n",
       "</tr>\n",
       "<tr>\n",
       "  <th>long</th>                      <td>    0.0449</td> <td>    0.008</td> <td>    5.656</td> <td> 0.000</td> <td>    0.029</td> <td>    0.060</td>\n",
       "</tr>\n",
       "<tr>\n",
       "  <th>bedrooms</th>                  <td>   -0.1253</td> <td>    0.008</td> <td>  -15.945</td> <td> 0.000</td> <td>   -0.141</td> <td>   -0.110</td>\n",
       "</tr>\n",
       "<tr>\n",
       "  <th>bathrooms</th>                 <td>    0.0852</td> <td>    0.009</td> <td>    9.877</td> <td> 0.000</td> <td>    0.068</td> <td>    0.102</td>\n",
       "</tr>\n",
       "<tr>\n",
       "  <th>floors</th>                    <td>    0.0457</td> <td>    0.004</td> <td>   11.876</td> <td> 0.000</td> <td>    0.038</td> <td>    0.053</td>\n",
       "</tr>\n",
       "<tr>\n",
       "  <th>condition</th>                 <td>    0.1311</td> <td>    0.007</td> <td>   19.451</td> <td> 0.000</td> <td>    0.118</td> <td>    0.144</td>\n",
       "</tr>\n",
       "<tr>\n",
       "  <th>grade</th>                     <td>    0.6957</td> <td>    0.012</td> <td>   58.044</td> <td> 0.000</td> <td>    0.672</td> <td>    0.719</td>\n",
       "</tr>\n",
       "<tr>\n",
       "  <th>sqft_lot</th>                  <td>    0.0089</td> <td>    0.011</td> <td>    0.779</td> <td> 0.436</td> <td>   -0.014</td> <td>    0.031</td>\n",
       "</tr>\n",
       "<tr>\n",
       "  <th>sqft_above</th>                <td>    0.2211</td> <td>    0.026</td> <td>    8.583</td> <td> 0.000</td> <td>    0.171</td> <td>    0.272</td>\n",
       "</tr>\n",
       "<tr>\n",
       "  <th>yr_built</th>                  <td>   -0.1810</td> <td>    0.004</td> <td>  -43.868</td> <td> 0.000</td> <td>   -0.189</td> <td>   -0.173</td>\n",
       "</tr>\n",
       "<tr>\n",
       "  <th>sqft_living15</th>             <td>    0.2880</td> <td>    0.009</td> <td>   30.821</td> <td> 0.000</td> <td>    0.270</td> <td>    0.306</td>\n",
       "</tr>\n",
       "<tr>\n",
       "  <th>sqft_lot15</th>                <td>   -0.0791</td> <td>    0.015</td> <td>   -5.408</td> <td> 0.000</td> <td>   -0.108</td> <td>   -0.050</td>\n",
       "</tr>\n",
       "<tr>\n",
       "  <th>zipcode</th>                   <td>   -0.0333</td> <td>    0.003</td> <td>  -10.356</td> <td> 0.000</td> <td>   -0.040</td> <td>   -0.027</td>\n",
       "</tr>\n",
       "</table>\n",
       "<table class=\"simpletable\">\n",
       "<tr>\n",
       "  <th>Omnibus:</th>       <td>525.021</td> <th>  Durbin-Watson:     </th> <td>   1.991</td> \n",
       "</tr>\n",
       "<tr>\n",
       "  <th>Prob(Omnibus):</th> <td> 0.000</td>  <th>  Jarque-Bera (JB):  </th> <td> 880.752</td> \n",
       "</tr>\n",
       "<tr>\n",
       "  <th>Skew:</th>          <td> 0.231</td>  <th>  Prob(JB):          </th> <td>5.59e-192</td>\n",
       "</tr>\n",
       "<tr>\n",
       "  <th>Kurtosis:</th>      <td> 3.898</td>  <th>  Cond. No.          </th> <td>    131.</td> \n",
       "</tr>\n",
       "</table><br/><br/>Warnings:<br/>[1] Standard Errors assume that the covariance matrix of the errors is correctly specified."
      ],
      "text/plain": [
       "<class 'statsmodels.iolib.summary.Summary'>\n",
       "\"\"\"\n",
       "                            OLS Regression Results                            \n",
       "==============================================================================\n",
       "Dep. Variable:                  price   R-squared:                       0.739\n",
       "Model:                            OLS   Adj. R-squared:                  0.739\n",
       "Method:                 Least Squares   F-statistic:                     2674.\n",
       "Date:                Fri, 15 May 2020   Prob (F-statistic):               0.00\n",
       "Time:                        17:03:27   Log-Likelihood:                 18937.\n",
       "No. Observations:               20747   AIC:                        -3.783e+04\n",
       "Df Residuals:                   20724   BIC:                        -3.764e+04\n",
       "Df Model:                          22                                         \n",
       "Covariance Type:            nonrobust                                         \n",
       "=============================================================================================\n",
       "                                coef    std err          t      P>|t|      [0.025      0.975]\n",
       "---------------------------------------------------------------------------------------------\n",
       "const                        -0.6073      0.011    -56.634      0.000      -0.628      -0.586\n",
       "sqft_basement_(10, 450]       0.0317      0.003     10.828      0.000       0.026       0.037\n",
       "sqft_basement_(450, 980]      0.0302      0.004      7.694      0.000       0.023       0.038\n",
       "sqft_basement_(980, 5000]     0.0553      0.005     10.271      0.000       0.045       0.066\n",
       "yr_renovated_(1933, 1987]    -0.0133      0.007     -1.803      0.071      -0.028       0.001\n",
       "yr_renovated_(1987, 2000]     0.0414      0.007      5.762      0.000       0.027       0.056\n",
       "yr_renovated_(2000, 2008]     0.0592      0.008      7.668      0.000       0.044       0.074\n",
       "yr_renovated_(2008, 2015]     0.0559      0.008      7.263      0.000       0.041       0.071\n",
       "date                          0.0290      0.002     12.422      0.000       0.024       0.034\n",
       "sqft_living                   0.2037      0.028      7.301      0.000       0.149       0.258\n",
       "lat                           0.3226      0.003     98.008      0.000       0.316       0.329\n",
       "long                          0.0449      0.008      5.656      0.000       0.029       0.060\n",
       "bedrooms                     -0.1253      0.008    -15.945      0.000      -0.141      -0.110\n",
       "bathrooms                     0.0852      0.009      9.877      0.000       0.068       0.102\n",
       "floors                        0.0457      0.004     11.876      0.000       0.038       0.053\n",
       "condition                     0.1311      0.007     19.451      0.000       0.118       0.144\n",
       "grade                         0.6957      0.012     58.044      0.000       0.672       0.719\n",
       "sqft_lot                      0.0089      0.011      0.779      0.436      -0.014       0.031\n",
       "sqft_above                    0.2211      0.026      8.583      0.000       0.171       0.272\n",
       "yr_built                     -0.1810      0.004    -43.868      0.000      -0.189      -0.173\n",
       "sqft_living15                 0.2880      0.009     30.821      0.000       0.270       0.306\n",
       "sqft_lot15                   -0.0791      0.015     -5.408      0.000      -0.108      -0.050\n",
       "zipcode                      -0.0333      0.003    -10.356      0.000      -0.040      -0.027\n",
       "==============================================================================\n",
       "Omnibus:                      525.021   Durbin-Watson:                   1.991\n",
       "Prob(Omnibus):                  0.000   Jarque-Bera (JB):              880.752\n",
       "Skew:                           0.231   Prob(JB):                    5.59e-192\n",
       "Kurtosis:                       3.898   Cond. No.                         131.\n",
       "==============================================================================\n",
       "\n",
       "Warnings:\n",
       "[1] Standard Errors assume that the covariance matrix of the errors is correctly specified.\n",
       "\"\"\""
      ]
     },
     "execution_count": 50,
     "metadata": {},
     "output_type": "execute_result"
    }
   ],
   "source": [
    "# Fit Model & Output Regression Results Summary\n",
    "\n",
    "# Import Package\n",
    "import statsmodels.api as sm\n",
    "from statsmodels.api import add_constant\n",
    "\n",
    "# Build Model\n",
    "X = sm.add_constant(X)\n",
    "model1 = sm.OLS(y,X)\n",
    "results1 = model1.fit()\n",
    "\n",
    "# MSE of the residuals\n",
    "print(f\"MSE: {results1.mse_resid}\")\n",
    "\n",
    "# Output Results\n",
    "results1.summary()"
   ]
  },
  {
   "cell_type": "markdown",
   "metadata": {},
   "source": [
    "We can see here that 'sqft_lot' is no longer significant. We can remove that, but first let's take a look at the residuals and the coefficients."
   ]
  },
  {
   "cell_type": "markdown",
   "metadata": {},
   "source": [
    "### Q-Q Plot of the Model Residuals\n",
    "\n",
    "Test for normality assumption."
   ]
  },
  {
   "cell_type": "code",
   "execution_count": 51,
   "metadata": {
    "code_folding": [],
    "scrolled": true
   },
   "outputs": [],
   "source": [
    "# Q-Q Plot\n",
    "\n",
    "# Define function \n",
    "def qqplot(results):\n",
    "    '''\n",
    "    Takes in OLS Regression Results and outputs q-q plot \n",
    "    of the model residuals.\n",
    "    '''\n",
    "    fig = sm.graphics.qqplot(results.resid, dist=stats.norm, line='45', fit=True)\n",
    "    return plt.show()"
   ]
  },
  {
   "cell_type": "code",
   "execution_count": 52,
   "metadata": {},
   "outputs": [
    {
     "data": {
      "image/png": "[encoded data removed]",
      "text/plain": [
       "<Figure size 432x288 with 1 Axes>"
      ]
     },
     "metadata": {
      "needs_background": "light"
     },
     "output_type": "display_data"
    }
   ],
   "source": [
    "qqplot(results1)"
   ]
  },
  {
   "cell_type": "markdown",
   "metadata": {},
   "source": [
    "Looks good. We previously removed extreme outliers during the cleaning of the data. There may still be some, but in order to preserve as much of the data as possible, this looks pretty good and we can leave it as is (not remove more outliers)."
   ]
  },
  {
   "cell_type": "markdown",
   "metadata": {},
   "source": [
    "### Residuals vs. Fitted Plot \n",
    "\n",
    "Test for heteroskedasticity."
   ]
  },
  {
   "cell_type": "code",
   "execution_count": 53,
   "metadata": {
    "code_folding": [
     2
    ]
   },
   "outputs": [],
   "source": [
    "# Plot model residuals vs. fitted to test for heteroskedasticity\n",
    "\n",
    "def heterosk(results):\n",
    "    '''\n",
    "    Takes in results from the fitted model and outputs a plot \n",
    "    of the residuals vs. the fitted values. \n",
    "    '''\n",
    "    plt.scatter(results.fittedvalues, results.resid, alpha=0.5,s=5)\n",
    "    plt.plot(results.fittedvalues, [0 for i in range(len(results.fittedvalues))]);\n",
    "    return plt.show()"
   ]
  },
  {
   "cell_type": "code",
   "execution_count": 54,
   "metadata": {},
   "outputs": [
    {
     "data": {
      "image/png": "[encoded data removed]",
      "text/plain": [
       "<Figure size 432x288 with 1 Axes>"
      ]
     },
     "metadata": {
      "needs_background": "light"
     },
     "output_type": "display_data"
    }
   ],
   "source": [
    "heterosk(results1)"
   ]
  },
  {
   "cell_type": "markdown",
   "metadata": {},
   "source": [
    "Looks homoskedastic rather than heteroskedastic. Looks good. "
   ]
  },
  {
   "cell_type": "code",
   "execution_count": 55,
   "metadata": {
    "code_folding": [
     2
    ]
   },
   "outputs": [],
   "source": [
    "# Define function to output plot of the model coefficients\n",
    "\n",
    "def coefplot(results):\n",
    "    '''\n",
    "    Takes in results of OLS model and returns a plot of \n",
    "    the coefficients with 95% confidence intervals.\n",
    "    \n",
    "    Removes intercept, so if uncentered will return error.\n",
    "    '''\n",
    "    # Create dataframe of results summary \n",
    "    coef_df = pd.DataFrame(results.summary().tables[1].data)\n",
    "    \n",
    "    # Add column names\n",
    "    coef_df.columns = coef_df.iloc[0]\n",
    "\n",
    "    # Drop the extra row with column labels\n",
    "    coef_df=coef_df.drop(0)\n",
    "\n",
    "    # Set index to variable names \n",
    "    coef_df = coef_df.set_index(coef_df.columns[0])\n",
    "\n",
    "    # Change datatype from object to float\n",
    "    coef_df = coef_df.astype(float)\n",
    "\n",
    "    # Get errors; (coef - lower bound of conf interval)\n",
    "    errors = coef_df['coef'] - coef_df['[0.025']\n",
    "    \n",
    "    # Append errors column to dataframe\n",
    "    coef_df['errors'] = errors\n",
    "\n",
    "    # Drop the constant for plotting\n",
    "    coef_df = coef_df.drop(['const'])\n",
    "\n",
    "    # Sort values by coef ascending\n",
    "    coef_df = coef_df.sort_values(by=['coef'])\n",
    "\n",
    "    ### Plot Coefficients ###\n",
    "\n",
    "    # x-labels\n",
    "    variables = list(coef_df.index.values)\n",
    "    \n",
    "    # Add variables column to dataframe\n",
    "    coef_df['variables'] = variables\n",
    "\n",
    "    # Define figure, axes, and plot\n",
    "    fig, ax = plt.subplots(figsize=(15, 10))\n",
    "    # Error bars for 95% confidence interval\n",
    "    coef_df.plot(x='variables', y='coef', kind='bar',\n",
    "                 ax=ax, color='none', fontsize=18, \n",
    "                 ecolor='black',capsize=7,\n",
    "                 yerr='errors', legend=False)\n",
    "    # Set title & labels\n",
    "    plt.title('')\n",
    "    ax.set_ylabel('Coefficients',fontsize=18)\n",
    "    ax.set_xlabel('Features',fontsize=18)\n",
    "    # Coefficients\n",
    "    ax.scatter(x=pd.np.arange(coef_df.shape[0]), \n",
    "               marker='s', s=40, \n",
    "               y=coef_df['coef'], color='black')\n",
    "    # Line to define zero on the y-axis\n",
    "    ax.axhline(y=0, linestyle='--', color='red', linewidth=1);\n",
    "    return plt.show()"
   ]
  },
  {
   "cell_type": "markdown",
   "metadata": {},
   "source": [
    "Let's check out the residuals. I'm excited to see which coefficients have the greatest effect on the price of a house. (The highest coefficient that is.)"
   ]
  },
  {
   "cell_type": "code",
   "execution_count": 56,
   "metadata": {},
   "outputs": [
    {
     "data": {
      "image/png": "[encoded data removed]",
      "text/plain": [
       "<Figure size 1080x720 with 1 Axes>"
      ]
     },
     "metadata": {
      "needs_background": "light"
     },
     "output_type": "display_data"
    }
   ],
   "source": [
    "# Plot coefficients w/95% confidence intervals for Model 1\n",
    "coefplot(results1)"
   ]
  },
  {
   "cell_type": "markdown",
   "metadata": {},
   "source": [
    "No big suprise here. As we guessed earlier, it appears to be grade. This makes sense as higher grade is more of a luxury home and we could see the relationship appeared to be slightly exponential. \n",
    "\n",
    "We could add this as a polynomial feature instead and see how the model does, but our R^2 looks pretty good and we are able to interpret results. If need be we can always revisit later. For now let's keep moving along.\n",
    "\n",
    "Next we'll take a look at the interactions between our feature variables to see if there are any interactions going on that better predict price than the features alone."
   ]
  },
  {
   "cell_type": "markdown",
   "metadata": {},
   "source": [
    "### Interactions"
   ]
  },
  {
   "cell_type": "code",
   "execution_count": 57,
   "metadata": {},
   "outputs": [
    {
     "name": "stdout",
     "output_type": "stream",
     "text": [
      "Top 5 interactions: [('sqft_living', 'grade', 0.74528), ('bathrooms', 'grade', 0.74463), ('sqft_living', 'bathrooms', 0.74384), ('lat', 'sqft_lot15', 0.7432), ('long', 'zipcode', 0.7432)]\n"
     ]
    }
   ],
   "source": [
    "# Import package we'll be using\n",
    "from itertools import combinations\n",
    "\n",
    "# Find top interactions using R^2 value\n",
    "\n",
    "# Use combinations from itertools to create all possible combinations of two features\n",
    "feat_combinations = combinations(X_train.columns, 2)\n",
    "\n",
    "# Initiate empty list to fill for interactons values\n",
    "interactions = []\n",
    "\n",
    "# for i, (feature1,feature2) in feature_combinations:\n",
    "for i, (a, b) in enumerate(feat_combinations):\n",
    "    # fill interatctions list with feature a * feature b\n",
    "    X_train['interaction'] = X_train[a] * X_train[b]\n",
    "    R2 = np.mean(cross_val_score(linreg, X_train, y_train, scoring='r2', cv=crossval))\n",
    "    if R2 > baseline_R2:\n",
    "        interactions.append((a, b, round(R2,5)))\n",
    "\n",
    "# Print out the top 5 interactions\n",
    "print('Top 5 interactions: %s' %sorted(interactions, key=lambda inter: inter[2], reverse=True)[:5])"
   ]
  },
  {
   "cell_type": "markdown",
   "metadata": {},
   "source": [
    "We can see here that the top 3 interactions are all between sqft_living, grade, and bathrooms. This is affirming as we could see in our EDA that these three each had apparent relationships with price.\n",
    "\n",
    "\"Top 3 interactions: [('sqft_living', 'grade', 0.74664), ('bathrooms', 'grade', 0.7455), ('sqft_living', 'bathrooms', 0.74479)]\". Each time we run this model, sometimes the 3rd one switches, but this is the one that outputs the most, so we're going to go ahead with these three.\n",
    "\n",
    "Let's add these interactions into our model one at a time to see how they affect the R^2 and MSE values of our model."
   ]
  },
  {
   "cell_type": "markdown",
   "metadata": {},
   "source": [
    "### Model 1: All Features w/Top 3 Interactions"
   ]
  },
  {
   "cell_type": "code",
   "execution_count": 58,
   "metadata": {},
   "outputs": [],
   "source": [
    "#Build a final model with interactions\n",
    "\n",
    "final = X.copy()\n",
    "\n",
    "final['sqft_living*grade'] = final['sqft_living'] * final['grade']\n",
    "final['bathrooms*grade'] = final['bathrooms'] * final['grade']\n",
    "final['sqft_living*bathrooms'] = final['sqft_living'] * final['bathrooms']"
   ]
  },
  {
   "cell_type": "code",
   "execution_count": 59,
   "metadata": {},
   "outputs": [
    {
     "name": "stdout",
     "output_type": "stream",
     "text": [
      "MSE: 0.009121549164761869\n"
     ]
    },
    {
     "name": "stderr",
     "output_type": "stream",
     "text": [
      "/opt/anaconda3/envs/learn-env/lib/python3.6/site-packages/numpy/core/fromnumeric.py:2389: FutureWarning: Method .ptp is deprecated and will be removed in a future version. Use numpy.ptp instead.\n",
      "  return ptp(axis=axis, out=out, **kwargs)\n"
     ]
    },
    {
     "data": {
      "text/html": [
       "<table class=\"simpletable\">\n",
       "<caption>OLS Regression Results</caption>\n",
       "<tr>\n",
       "  <th>Dep. Variable:</th>          <td>price</td>      <th>  R-squared:         </th>  <td>   0.748</td> \n",
       "</tr>\n",
       "<tr>\n",
       "  <th>Model:</th>                   <td>OLS</td>       <th>  Adj. R-squared:    </th>  <td>   0.748</td> \n",
       "</tr>\n",
       "<tr>\n",
       "  <th>Method:</th>             <td>Least Squares</td>  <th>  F-statistic:       </th>  <td>   2466.</td> \n",
       "</tr>\n",
       "<tr>\n",
       "  <th>Date:</th>             <td>Fri, 15 May 2020</td> <th>  Prob (F-statistic):</th>   <td>  0.00</td>  \n",
       "</tr>\n",
       "<tr>\n",
       "  <th>Time:</th>                 <td>17:04:01</td>     <th>  Log-Likelihood:    </th>  <td>  19300.</td> \n",
       "</tr>\n",
       "<tr>\n",
       "  <th>No. Observations:</th>      <td> 20747</td>      <th>  AIC:               </th> <td>-3.855e+04</td>\n",
       "</tr>\n",
       "<tr>\n",
       "  <th>Df Residuals:</th>          <td> 20721</td>      <th>  BIC:               </th> <td>-3.834e+04</td>\n",
       "</tr>\n",
       "<tr>\n",
       "  <th>Df Model:</th>              <td>    25</td>      <th>                     </th>      <td> </td>    \n",
       "</tr>\n",
       "<tr>\n",
       "  <th>Covariance Type:</th>      <td>nonrobust</td>    <th>                     </th>      <td> </td>    \n",
       "</tr>\n",
       "</table>\n",
       "<table class=\"simpletable\">\n",
       "<tr>\n",
       "              <td></td>                 <th>coef</th>     <th>std err</th>      <th>t</th>      <th>P>|t|</th>  <th>[0.025</th>    <th>0.975]</th>  \n",
       "</tr>\n",
       "<tr>\n",
       "  <th>const</th>                     <td>   -0.2376</td> <td>    0.019</td> <td>  -12.692</td> <td> 0.000</td> <td>   -0.274</td> <td>   -0.201</td>\n",
       "</tr>\n",
       "<tr>\n",
       "  <th>sqft_basement_(10, 450]</th>   <td>    0.0296</td> <td>    0.003</td> <td>   10.246</td> <td> 0.000</td> <td>    0.024</td> <td>    0.035</td>\n",
       "</tr>\n",
       "<tr>\n",
       "  <th>sqft_basement_(450, 980]</th>  <td>    0.0191</td> <td>    0.004</td> <td>    4.891</td> <td> 0.000</td> <td>    0.011</td> <td>    0.027</td>\n",
       "</tr>\n",
       "<tr>\n",
       "  <th>sqft_basement_(980, 5000]</th> <td>    0.0285</td> <td>    0.005</td> <td>    5.229</td> <td> 0.000</td> <td>    0.018</td> <td>    0.039</td>\n",
       "</tr>\n",
       "<tr>\n",
       "  <th>yr_renovated_(1933, 1987]</th> <td>   -0.0071</td> <td>    0.007</td> <td>   -0.983</td> <td> 0.326</td> <td>   -0.021</td> <td>    0.007</td>\n",
       "</tr>\n",
       "<tr>\n",
       "  <th>yr_renovated_(1987, 2000]</th> <td>    0.0456</td> <td>    0.007</td> <td>    6.446</td> <td> 0.000</td> <td>    0.032</td> <td>    0.059</td>\n",
       "</tr>\n",
       "<tr>\n",
       "  <th>yr_renovated_(2000, 2008]</th> <td>    0.0580</td> <td>    0.008</td> <td>    7.640</td> <td> 0.000</td> <td>    0.043</td> <td>    0.073</td>\n",
       "</tr>\n",
       "<tr>\n",
       "  <th>yr_renovated_(2008, 2015]</th> <td>    0.0583</td> <td>    0.008</td> <td>    7.708</td> <td> 0.000</td> <td>    0.043</td> <td>    0.073</td>\n",
       "</tr>\n",
       "<tr>\n",
       "  <th>date</th>                      <td>    0.0289</td> <td>    0.002</td> <td>   12.563</td> <td> 0.000</td> <td>    0.024</td> <td>    0.033</td>\n",
       "</tr>\n",
       "<tr>\n",
       "  <th>sqft_living</th>               <td>   -0.2233</td> <td>    0.055</td> <td>   -4.025</td> <td> 0.000</td> <td>   -0.332</td> <td>   -0.115</td>\n",
       "</tr>\n",
       "<tr>\n",
       "  <th>lat</th>                       <td>    0.3222</td> <td>    0.003</td> <td>   99.539</td> <td> 0.000</td> <td>    0.316</td> <td>    0.329</td>\n",
       "</tr>\n",
       "<tr>\n",
       "  <th>long</th>                      <td>    0.0462</td> <td>    0.008</td> <td>    5.921</td> <td> 0.000</td> <td>    0.031</td> <td>    0.062</td>\n",
       "</tr>\n",
       "<tr>\n",
       "  <th>bedrooms</th>                  <td>   -0.0995</td> <td>    0.008</td> <td>  -12.752</td> <td> 0.000</td> <td>   -0.115</td> <td>   -0.084</td>\n",
       "</tr>\n",
       "<tr>\n",
       "  <th>bathrooms</th>                 <td>   -0.1901</td> <td>    0.054</td> <td>   -3.554</td> <td> 0.000</td> <td>   -0.295</td> <td>   -0.085</td>\n",
       "</tr>\n",
       "<tr>\n",
       "  <th>floors</th>                    <td>    0.0430</td> <td>    0.004</td> <td>   11.285</td> <td> 0.000</td> <td>    0.036</td> <td>    0.050</td>\n",
       "</tr>\n",
       "<tr>\n",
       "  <th>condition</th>                 <td>    0.1418</td> <td>    0.007</td> <td>   21.351</td> <td> 0.000</td> <td>    0.129</td> <td>    0.155</td>\n",
       "</tr>\n",
       "<tr>\n",
       "  <th>grade</th>                     <td>    0.1698</td> <td>    0.040</td> <td>    4.275</td> <td> 0.000</td> <td>    0.092</td> <td>    0.248</td>\n",
       "</tr>\n",
       "<tr>\n",
       "  <th>sqft_lot</th>                  <td>    0.0016</td> <td>    0.011</td> <td>    0.144</td> <td> 0.885</td> <td>   -0.020</td> <td>    0.024</td>\n",
       "</tr>\n",
       "<tr>\n",
       "  <th>sqft_above</th>                <td>    0.0972</td> <td>    0.026</td> <td>    3.743</td> <td> 0.000</td> <td>    0.046</td> <td>    0.148</td>\n",
       "</tr>\n",
       "<tr>\n",
       "  <th>yr_built</th>                  <td>   -0.1720</td> <td>    0.004</td> <td>  -42.245</td> <td> 0.000</td> <td>   -0.180</td> <td>   -0.164</td>\n",
       "</tr>\n",
       "<tr>\n",
       "  <th>sqft_living15</th>             <td>    0.2626</td> <td>    0.009</td> <td>   28.371</td> <td> 0.000</td> <td>    0.244</td> <td>    0.281</td>\n",
       "</tr>\n",
       "<tr>\n",
       "  <th>sqft_lot15</th>                <td>   -0.0964</td> <td>    0.014</td> <td>   -6.702</td> <td> 0.000</td> <td>   -0.125</td> <td>   -0.068</td>\n",
       "</tr>\n",
       "<tr>\n",
       "  <th>zipcode</th>                   <td>   -0.0372</td> <td>    0.003</td> <td>  -11.761</td> <td> 0.000</td> <td>   -0.043</td> <td>   -0.031</td>\n",
       "</tr>\n",
       "<tr>\n",
       "  <th>sqft_living*grade</th>         <td>    0.6761</td> <td>    0.083</td> <td>    8.148</td> <td> 0.000</td> <td>    0.513</td> <td>    0.839</td>\n",
       "</tr>\n",
       "<tr>\n",
       "  <th>bathrooms*grade</th>           <td>    0.2525</td> <td>    0.093</td> <td>    2.728</td> <td> 0.006</td> <td>    0.071</td> <td>    0.434</td>\n",
       "</tr>\n",
       "<tr>\n",
       "  <th>sqft_living*bathrooms</th>     <td>    0.2692</td> <td>    0.052</td> <td>    5.153</td> <td> 0.000</td> <td>    0.167</td> <td>    0.372</td>\n",
       "</tr>\n",
       "</table>\n",
       "<table class=\"simpletable\">\n",
       "<tr>\n",
       "  <th>Omnibus:</th>       <td>434.939</td> <th>  Durbin-Watson:     </th> <td>   1.992</td> \n",
       "</tr>\n",
       "<tr>\n",
       "  <th>Prob(Omnibus):</th> <td> 0.000</td>  <th>  Jarque-Bera (JB):  </th> <td> 705.865</td> \n",
       "</tr>\n",
       "<tr>\n",
       "  <th>Skew:</th>          <td> 0.202</td>  <th>  Prob(JB):          </th> <td>5.29e-154</td>\n",
       "</tr>\n",
       "<tr>\n",
       "  <th>Kurtosis:</th>      <td> 3.808</td>  <th>  Cond. No.          </th> <td>    487.</td> \n",
       "</tr>\n",
       "</table><br/><br/>Warnings:<br/>[1] Standard Errors assume that the covariance matrix of the errors is correctly specified."
      ],
      "text/plain": [
       "<class 'statsmodels.iolib.summary.Summary'>\n",
       "\"\"\"\n",
       "                            OLS Regression Results                            \n",
       "==============================================================================\n",
       "Dep. Variable:                  price   R-squared:                       0.748\n",
       "Model:                            OLS   Adj. R-squared:                  0.748\n",
       "Method:                 Least Squares   F-statistic:                     2466.\n",
       "Date:                Fri, 15 May 2020   Prob (F-statistic):               0.00\n",
       "Time:                        17:04:01   Log-Likelihood:                 19300.\n",
       "No. Observations:               20747   AIC:                        -3.855e+04\n",
       "Df Residuals:                   20721   BIC:                        -3.834e+04\n",
       "Df Model:                          25                                         \n",
       "Covariance Type:            nonrobust                                         \n",
       "=============================================================================================\n",
       "                                coef    std err          t      P>|t|      [0.025      0.975]\n",
       "---------------------------------------------------------------------------------------------\n",
       "const                        -0.2376      0.019    -12.692      0.000      -0.274      -0.201\n",
       "sqft_basement_(10, 450]       0.0296      0.003     10.246      0.000       0.024       0.035\n",
       "sqft_basement_(450, 980]      0.0191      0.004      4.891      0.000       0.011       0.027\n",
       "sqft_basement_(980, 5000]     0.0285      0.005      5.229      0.000       0.018       0.039\n",
       "yr_renovated_(1933, 1987]    -0.0071      0.007     -0.983      0.326      -0.021       0.007\n",
       "yr_renovated_(1987, 2000]     0.0456      0.007      6.446      0.000       0.032       0.059\n",
       "yr_renovated_(2000, 2008]     0.0580      0.008      7.640      0.000       0.043       0.073\n",
       "yr_renovated_(2008, 2015]     0.0583      0.008      7.708      0.000       0.043       0.073\n",
       "date                          0.0289      0.002     12.563      0.000       0.024       0.033\n",
       "sqft_living                  -0.2233      0.055     -4.025      0.000      -0.332      -0.115\n",
       "lat                           0.3222      0.003     99.539      0.000       0.316       0.329\n",
       "long                          0.0462      0.008      5.921      0.000       0.031       0.062\n",
       "bedrooms                     -0.0995      0.008    -12.752      0.000      -0.115      -0.084\n",
       "bathrooms                    -0.1901      0.054     -3.554      0.000      -0.295      -0.085\n",
       "floors                        0.0430      0.004     11.285      0.000       0.036       0.050\n",
       "condition                     0.1418      0.007     21.351      0.000       0.129       0.155\n",
       "grade                         0.1698      0.040      4.275      0.000       0.092       0.248\n",
       "sqft_lot                      0.0016      0.011      0.144      0.885      -0.020       0.024\n",
       "sqft_above                    0.0972      0.026      3.743      0.000       0.046       0.148\n",
       "yr_built                     -0.1720      0.004    -42.245      0.000      -0.180      -0.164\n",
       "sqft_living15                 0.2626      0.009     28.371      0.000       0.244       0.281\n",
       "sqft_lot15                   -0.0964      0.014     -6.702      0.000      -0.125      -0.068\n",
       "zipcode                      -0.0372      0.003    -11.761      0.000      -0.043      -0.031\n",
       "sqft_living*grade             0.6761      0.083      8.148      0.000       0.513       0.839\n",
       "bathrooms*grade               0.2525      0.093      2.728      0.006       0.071       0.434\n",
       "sqft_living*bathrooms         0.2692      0.052      5.153      0.000       0.167       0.372\n",
       "==============================================================================\n",
       "Omnibus:                      434.939   Durbin-Watson:                   1.992\n",
       "Prob(Omnibus):                  0.000   Jarque-Bera (JB):              705.865\n",
       "Skew:                           0.202   Prob(JB):                    5.29e-154\n",
       "Kurtosis:                       3.808   Cond. No.                         487.\n",
       "==============================================================================\n",
       "\n",
       "Warnings:\n",
       "[1] Standard Errors assume that the covariance matrix of the errors is correctly specified.\n",
       "\"\"\""
      ]
     },
     "execution_count": 59,
     "metadata": {},
     "output_type": "execute_result"
    }
   ],
   "source": [
    "# Build Model\n",
    "\n",
    "final = sm.add_constant(final)\n",
    "model = sm.OLS(y,final)\n",
    "results2a = model.fit()\n",
    "\n",
    "# MSE of the residuals\n",
    "print(f\"MSE: {results2a.mse_resid}\")\n",
    "\n",
    "results2a.summary()"
   ]
  },
  {
   "cell_type": "markdown",
   "metadata": {},
   "source": [
    "We can see that sqft_lot is no longer significant. Let's go ahead and remove it and see how it affects our model."
   ]
  },
  {
   "cell_type": "code",
   "execution_count": 60,
   "metadata": {
    "code_folding": []
   },
   "outputs": [],
   "source": [
    "final = final.drop(['sqft_lot','yr_renovated_(1933, 1987]'], axis=1)"
   ]
  },
  {
   "cell_type": "code",
   "execution_count": 61,
   "metadata": {},
   "outputs": [
    {
     "name": "stdout",
     "output_type": "stream",
     "text": [
      "MSE: 0.009121103625239048\n"
     ]
    },
    {
     "data": {
      "text/html": [
       "<table class=\"simpletable\">\n",
       "<caption>OLS Regression Results</caption>\n",
       "<tr>\n",
       "  <th>Dep. Variable:</th>          <td>price</td>      <th>  R-squared:         </th>  <td>   0.748</td> \n",
       "</tr>\n",
       "<tr>\n",
       "  <th>Model:</th>                   <td>OLS</td>       <th>  Adj. R-squared:    </th>  <td>   0.748</td> \n",
       "</tr>\n",
       "<tr>\n",
       "  <th>Method:</th>             <td>Least Squares</td>  <th>  F-statistic:       </th>  <td>   2681.</td> \n",
       "</tr>\n",
       "<tr>\n",
       "  <th>Date:</th>             <td>Fri, 15 May 2020</td> <th>  Prob (F-statistic):</th>   <td>  0.00</td>  \n",
       "</tr>\n",
       "<tr>\n",
       "  <th>Time:</th>                 <td>17:04:02</td>     <th>  Log-Likelihood:    </th>  <td>  19299.</td> \n",
       "</tr>\n",
       "<tr>\n",
       "  <th>No. Observations:</th>      <td> 20747</td>      <th>  AIC:               </th> <td>-3.855e+04</td>\n",
       "</tr>\n",
       "<tr>\n",
       "  <th>Df Residuals:</th>          <td> 20723</td>      <th>  BIC:               </th> <td>-3.836e+04</td>\n",
       "</tr>\n",
       "<tr>\n",
       "  <th>Df Model:</th>              <td>    23</td>      <th>                     </th>      <td> </td>    \n",
       "</tr>\n",
       "<tr>\n",
       "  <th>Covariance Type:</th>      <td>nonrobust</td>    <th>                     </th>      <td> </td>    \n",
       "</tr>\n",
       "</table>\n",
       "<table class=\"simpletable\">\n",
       "<tr>\n",
       "              <td></td>                 <th>coef</th>     <th>std err</th>      <th>t</th>      <th>P>|t|</th>  <th>[0.025</th>    <th>0.975]</th>  \n",
       "</tr>\n",
       "<tr>\n",
       "  <th>const</th>                     <td>   -0.2378</td> <td>    0.019</td> <td>  -12.708</td> <td> 0.000</td> <td>   -0.274</td> <td>   -0.201</td>\n",
       "</tr>\n",
       "<tr>\n",
       "  <th>sqft_basement_(10, 450]</th>   <td>    0.0296</td> <td>    0.003</td> <td>   10.242</td> <td> 0.000</td> <td>    0.024</td> <td>    0.035</td>\n",
       "</tr>\n",
       "<tr>\n",
       "  <th>sqft_basement_(450, 980]</th>  <td>    0.0191</td> <td>    0.004</td> <td>    4.885</td> <td> 0.000</td> <td>    0.011</td> <td>    0.027</td>\n",
       "</tr>\n",
       "<tr>\n",
       "  <th>sqft_basement_(980, 5000]</th> <td>    0.0285</td> <td>    0.005</td> <td>    5.218</td> <td> 0.000</td> <td>    0.018</td> <td>    0.039</td>\n",
       "</tr>\n",
       "<tr>\n",
       "  <th>yr_renovated_(1987, 2000]</th> <td>    0.0458</td> <td>    0.007</td> <td>    6.486</td> <td> 0.000</td> <td>    0.032</td> <td>    0.060</td>\n",
       "</tr>\n",
       "<tr>\n",
       "  <th>yr_renovated_(2000, 2008]</th> <td>    0.0582</td> <td>    0.008</td> <td>    7.674</td> <td> 0.000</td> <td>    0.043</td> <td>    0.073</td>\n",
       "</tr>\n",
       "<tr>\n",
       "  <th>yr_renovated_(2008, 2015]</th> <td>    0.0585</td> <td>    0.008</td> <td>    7.739</td> <td> 0.000</td> <td>    0.044</td> <td>    0.073</td>\n",
       "</tr>\n",
       "<tr>\n",
       "  <th>date</th>                      <td>    0.0289</td> <td>    0.002</td> <td>   12.573</td> <td> 0.000</td> <td>    0.024</td> <td>    0.033</td>\n",
       "</tr>\n",
       "<tr>\n",
       "  <th>sqft_living</th>               <td>   -0.2248</td> <td>    0.055</td> <td>   -4.054</td> <td> 0.000</td> <td>   -0.333</td> <td>   -0.116</td>\n",
       "</tr>\n",
       "<tr>\n",
       "  <th>lat</th>                       <td>    0.3223</td> <td>    0.003</td> <td>   99.686</td> <td> 0.000</td> <td>    0.316</td> <td>    0.329</td>\n",
       "</tr>\n",
       "<tr>\n",
       "  <th>long</th>                      <td>    0.0462</td> <td>    0.008</td> <td>    5.936</td> <td> 0.000</td> <td>    0.031</td> <td>    0.061</td>\n",
       "</tr>\n",
       "<tr>\n",
       "  <th>bedrooms</th>                  <td>   -0.0992</td> <td>    0.008</td> <td>  -12.723</td> <td> 0.000</td> <td>   -0.114</td> <td>   -0.084</td>\n",
       "</tr>\n",
       "<tr>\n",
       "  <th>bathrooms</th>                 <td>   -0.1894</td> <td>    0.053</td> <td>   -3.541</td> <td> 0.000</td> <td>   -0.294</td> <td>   -0.085</td>\n",
       "</tr>\n",
       "<tr>\n",
       "  <th>floors</th>                    <td>    0.0428</td> <td>    0.004</td> <td>   11.391</td> <td> 0.000</td> <td>    0.035</td> <td>    0.050</td>\n",
       "</tr>\n",
       "<tr>\n",
       "  <th>condition</th>                 <td>    0.1420</td> <td>    0.007</td> <td>   21.434</td> <td> 0.000</td> <td>    0.129</td> <td>    0.155</td>\n",
       "</tr>\n",
       "<tr>\n",
       "  <th>grade</th>                     <td>    0.1691</td> <td>    0.040</td> <td>    4.261</td> <td> 0.000</td> <td>    0.091</td> <td>    0.247</td>\n",
       "</tr>\n",
       "<tr>\n",
       "  <th>sqft_above</th>                <td>    0.0969</td> <td>    0.026</td> <td>    3.739</td> <td> 0.000</td> <td>    0.046</td> <td>    0.148</td>\n",
       "</tr>\n",
       "<tr>\n",
       "  <th>yr_built</th>                  <td>   -0.1715</td> <td>    0.004</td> <td>  -42.778</td> <td> 0.000</td> <td>   -0.179</td> <td>   -0.164</td>\n",
       "</tr>\n",
       "<tr>\n",
       "  <th>sqft_living15</th>             <td>    0.2626</td> <td>    0.009</td> <td>   28.390</td> <td> 0.000</td> <td>    0.244</td> <td>    0.281</td>\n",
       "</tr>\n",
       "<tr>\n",
       "  <th>sqft_lot15</th>                <td>   -0.0948</td> <td>    0.007</td> <td>  -12.653</td> <td> 0.000</td> <td>   -0.110</td> <td>   -0.080</td>\n",
       "</tr>\n",
       "<tr>\n",
       "  <th>zipcode</th>                   <td>   -0.0372</td> <td>    0.003</td> <td>  -11.766</td> <td> 0.000</td> <td>   -0.043</td> <td>   -0.031</td>\n",
       "</tr>\n",
       "<tr>\n",
       "  <th>sqft_living*grade</th>         <td>    0.6790</td> <td>    0.083</td> <td>    8.189</td> <td> 0.000</td> <td>    0.516</td> <td>    0.841</td>\n",
       "</tr>\n",
       "<tr>\n",
       "  <th>bathrooms*grade</th>           <td>    0.2509</td> <td>    0.093</td> <td>    2.711</td> <td> 0.007</td> <td>    0.070</td> <td>    0.432</td>\n",
       "</tr>\n",
       "<tr>\n",
       "  <th>sqft_living*bathrooms</th>     <td>    0.2692</td> <td>    0.052</td> <td>    5.154</td> <td> 0.000</td> <td>    0.167</td> <td>    0.372</td>\n",
       "</tr>\n",
       "</table>\n",
       "<table class=\"simpletable\">\n",
       "<tr>\n",
       "  <th>Omnibus:</th>       <td>433.682</td> <th>  Durbin-Watson:     </th> <td>   1.992</td> \n",
       "</tr>\n",
       "<tr>\n",
       "  <th>Prob(Omnibus):</th> <td> 0.000</td>  <th>  Jarque-Bera (JB):  </th> <td> 703.244</td> \n",
       "</tr>\n",
       "<tr>\n",
       "  <th>Skew:</th>          <td> 0.202</td>  <th>  Prob(JB):          </th> <td>1.96e-153</td>\n",
       "</tr>\n",
       "<tr>\n",
       "  <th>Kurtosis:</th>      <td> 3.807</td>  <th>  Cond. No.          </th> <td>    481.</td> \n",
       "</tr>\n",
       "</table><br/><br/>Warnings:<br/>[1] Standard Errors assume that the covariance matrix of the errors is correctly specified."
      ],
      "text/plain": [
       "<class 'statsmodels.iolib.summary.Summary'>\n",
       "\"\"\"\n",
       "                            OLS Regression Results                            \n",
       "==============================================================================\n",
       "Dep. Variable:                  price   R-squared:                       0.748\n",
       "Model:                            OLS   Adj. R-squared:                  0.748\n",
       "Method:                 Least Squares   F-statistic:                     2681.\n",
       "Date:                Fri, 15 May 2020   Prob (F-statistic):               0.00\n",
       "Time:                        17:04:02   Log-Likelihood:                 19299.\n",
       "No. Observations:               20747   AIC:                        -3.855e+04\n",
       "Df Residuals:                   20723   BIC:                        -3.836e+04\n",
       "Df Model:                          23                                         \n",
       "Covariance Type:            nonrobust                                         \n",
       "=============================================================================================\n",
       "                                coef    std err          t      P>|t|      [0.025      0.975]\n",
       "---------------------------------------------------------------------------------------------\n",
       "const                        -0.2378      0.019    -12.708      0.000      -0.274      -0.201\n",
       "sqft_basement_(10, 450]       0.0296      0.003     10.242      0.000       0.024       0.035\n",
       "sqft_basement_(450, 980]      0.0191      0.004      4.885      0.000       0.011       0.027\n",
       "sqft_basement_(980, 5000]     0.0285      0.005      5.218      0.000       0.018       0.039\n",
       "yr_renovated_(1987, 2000]     0.0458      0.007      6.486      0.000       0.032       0.060\n",
       "yr_renovated_(2000, 2008]     0.0582      0.008      7.674      0.000       0.043       0.073\n",
       "yr_renovated_(2008, 2015]     0.0585      0.008      7.739      0.000       0.044       0.073\n",
       "date                          0.0289      0.002     12.573      0.000       0.024       0.033\n",
       "sqft_living                  -0.2248      0.055     -4.054      0.000      -0.333      -0.116\n",
       "lat                           0.3223      0.003     99.686      0.000       0.316       0.329\n",
       "long                          0.0462      0.008      5.936      0.000       0.031       0.061\n",
       "bedrooms                     -0.0992      0.008    -12.723      0.000      -0.114      -0.084\n",
       "bathrooms                    -0.1894      0.053     -3.541      0.000      -0.294      -0.085\n",
       "floors                        0.0428      0.004     11.391      0.000       0.035       0.050\n",
       "condition                     0.1420      0.007     21.434      0.000       0.129       0.155\n",
       "grade                         0.1691      0.040      4.261      0.000       0.091       0.247\n",
       "sqft_above                    0.0969      0.026      3.739      0.000       0.046       0.148\n",
       "yr_built                     -0.1715      0.004    -42.778      0.000      -0.179      -0.164\n",
       "sqft_living15                 0.2626      0.009     28.390      0.000       0.244       0.281\n",
       "sqft_lot15                   -0.0948      0.007    -12.653      0.000      -0.110      -0.080\n",
       "zipcode                      -0.0372      0.003    -11.766      0.000      -0.043      -0.031\n",
       "sqft_living*grade             0.6790      0.083      8.189      0.000       0.516       0.841\n",
       "bathrooms*grade               0.2509      0.093      2.711      0.007       0.070       0.432\n",
       "sqft_living*bathrooms         0.2692      0.052      5.154      0.000       0.167       0.372\n",
       "==============================================================================\n",
       "Omnibus:                      433.682   Durbin-Watson:                   1.992\n",
       "Prob(Omnibus):                  0.000   Jarque-Bera (JB):              703.244\n",
       "Skew:                           0.202   Prob(JB):                    1.96e-153\n",
       "Kurtosis:                       3.807   Cond. No.                         481.\n",
       "==============================================================================\n",
       "\n",
       "Warnings:\n",
       "[1] Standard Errors assume that the covariance matrix of the errors is correctly specified.\n",
       "\"\"\""
      ]
     },
     "execution_count": 61,
     "metadata": {},
     "output_type": "execute_result"
    }
   ],
   "source": [
    "# Build Model\n",
    "\n",
    "final = sm.add_constant(final)\n",
    "model = sm.OLS(y,final)\n",
    "results2b = model.fit()\n",
    "\n",
    "# MSE of the residuals\n",
    "print(f\"MSE: {results2b.mse_resid}\")\n",
    "\n",
    "results2b.summary()"
   ]
  },
  {
   "cell_type": "code",
   "execution_count": 62,
   "metadata": {},
   "outputs": [
    {
     "data": {
      "image/png": "[encoded data removed]",
      "text/plain": [
       "<Figure size 432x288 with 1 Axes>"
      ]
     },
     "metadata": {
      "needs_background": "light"
     },
     "output_type": "display_data"
    }
   ],
   "source": [
    "# Plot q-q for Model 2 residuals\n",
    "qqplot(results2b)"
   ]
  },
  {
   "cell_type": "code",
   "execution_count": 63,
   "metadata": {},
   "outputs": [
    {
     "data": {
      "image/png": "[encoded data removed]",
      "text/plain": [
       "<Figure size 1080x720 with 1 Axes>"
      ]
     },
     "metadata": {
      "needs_background": "light"
     },
     "output_type": "display_data"
    }
   ],
   "source": [
    "# Plot coefficients w/95% confidence intervals for Model 2\n",
    "coefplot(results2b)"
   ]
  },
  {
   "cell_type": "markdown",
   "metadata": {},
   "source": [
    "### Model 3: All Features w/Top 5 Interactions"
   ]
  },
  {
   "cell_type": "markdown",
   "metadata": {},
   "source": [
    "Since the top 5 interactions were all so close to each other in R^2 values, I'm curious to see how the Model performs with all 5, and if we can gain any additional insights with the resulting coefficients."
   ]
  },
  {
   "cell_type": "code",
   "execution_count": 64,
   "metadata": {},
   "outputs": [],
   "source": [
    "# Add 4th & 5th ranked interactions\n",
    "final['sqft_living*sqft_above'] = final['sqft_living'] * final['sqft_above']\n",
    "final['grade*sqft_above'] = final['grade'] * final['sqft_above']"
   ]
  },
  {
   "cell_type": "code",
   "execution_count": 65,
   "metadata": {},
   "outputs": [
    {
     "name": "stdout",
     "output_type": "stream",
     "text": [
      "MSE: 0.00910481681898887\n"
     ]
    },
    {
     "data": {
      "text/html": [
       "<table class=\"simpletable\">\n",
       "<caption>OLS Regression Results</caption>\n",
       "<tr>\n",
       "  <th>Dep. Variable:</th>          <td>price</td>      <th>  R-squared:         </th>  <td>   0.749</td> \n",
       "</tr>\n",
       "<tr>\n",
       "  <th>Model:</th>                   <td>OLS</td>       <th>  Adj. R-squared:    </th>  <td>   0.749</td> \n",
       "</tr>\n",
       "<tr>\n",
       "  <th>Method:</th>             <td>Least Squares</td>  <th>  F-statistic:       </th>  <td>   2472.</td> \n",
       "</tr>\n",
       "<tr>\n",
       "  <th>Date:</th>             <td>Fri, 15 May 2020</td> <th>  Prob (F-statistic):</th>   <td>  0.00</td>  \n",
       "</tr>\n",
       "<tr>\n",
       "  <th>Time:</th>                 <td>17:04:02</td>     <th>  Log-Likelihood:    </th>  <td>  19319.</td> \n",
       "</tr>\n",
       "<tr>\n",
       "  <th>No. Observations:</th>      <td> 20747</td>      <th>  AIC:               </th> <td>-3.859e+04</td>\n",
       "</tr>\n",
       "<tr>\n",
       "  <th>Df Residuals:</th>          <td> 20721</td>      <th>  BIC:               </th> <td>-3.838e+04</td>\n",
       "</tr>\n",
       "<tr>\n",
       "  <th>Df Model:</th>              <td>    25</td>      <th>                     </th>      <td> </td>    \n",
       "</tr>\n",
       "<tr>\n",
       "  <th>Covariance Type:</th>      <td>nonrobust</td>    <th>                     </th>      <td> </td>    \n",
       "</tr>\n",
       "</table>\n",
       "<table class=\"simpletable\">\n",
       "<tr>\n",
       "              <td></td>                 <th>coef</th>     <th>std err</th>      <th>t</th>      <th>P>|t|</th>  <th>[0.025</th>    <th>0.975]</th>  \n",
       "</tr>\n",
       "<tr>\n",
       "  <th>const</th>                     <td>   -0.2445</td> <td>    0.019</td> <td>  -12.860</td> <td> 0.000</td> <td>   -0.282</td> <td>   -0.207</td>\n",
       "</tr>\n",
       "<tr>\n",
       "  <th>sqft_basement_(10, 450]</th>   <td>    0.0257</td> <td>    0.003</td> <td>    8.685</td> <td> 0.000</td> <td>    0.020</td> <td>    0.031</td>\n",
       "</tr>\n",
       "<tr>\n",
       "  <th>sqft_basement_(450, 980]</th>  <td>    0.0122</td> <td>    0.004</td> <td>    3.002</td> <td> 0.003</td> <td>    0.004</td> <td>    0.020</td>\n",
       "</tr>\n",
       "<tr>\n",
       "  <th>sqft_basement_(980, 5000]</th> <td>    0.0146</td> <td>    0.006</td> <td>    2.440</td> <td> 0.015</td> <td>    0.003</td> <td>    0.026</td>\n",
       "</tr>\n",
       "<tr>\n",
       "  <th>yr_renovated_(1987, 2000]</th> <td>    0.0449</td> <td>    0.007</td> <td>    6.353</td> <td> 0.000</td> <td>    0.031</td> <td>    0.059</td>\n",
       "</tr>\n",
       "<tr>\n",
       "  <th>yr_renovated_(2000, 2008]</th> <td>    0.0560</td> <td>    0.008</td> <td>    7.387</td> <td> 0.000</td> <td>    0.041</td> <td>    0.071</td>\n",
       "</tr>\n",
       "<tr>\n",
       "  <th>yr_renovated_(2008, 2015]</th> <td>    0.0576</td> <td>    0.008</td> <td>    7.628</td> <td> 0.000</td> <td>    0.043</td> <td>    0.072</td>\n",
       "</tr>\n",
       "<tr>\n",
       "  <th>date</th>                      <td>    0.0288</td> <td>    0.002</td> <td>   12.566</td> <td> 0.000</td> <td>    0.024</td> <td>    0.033</td>\n",
       "</tr>\n",
       "<tr>\n",
       "  <th>sqft_living</th>               <td>   -0.5491</td> <td>    0.082</td> <td>   -6.706</td> <td> 0.000</td> <td>   -0.710</td> <td>   -0.389</td>\n",
       "</tr>\n",
       "<tr>\n",
       "  <th>lat</th>                       <td>    0.3226</td> <td>    0.003</td> <td>   99.816</td> <td> 0.000</td> <td>    0.316</td> <td>    0.329</td>\n",
       "</tr>\n",
       "<tr>\n",
       "  <th>long</th>                      <td>    0.0446</td> <td>    0.008</td> <td>    5.733</td> <td> 0.000</td> <td>    0.029</td> <td>    0.060</td>\n",
       "</tr>\n",
       "<tr>\n",
       "  <th>bedrooms</th>                  <td>   -0.0983</td> <td>    0.008</td> <td>  -12.558</td> <td> 0.000</td> <td>   -0.114</td> <td>   -0.083</td>\n",
       "</tr>\n",
       "<tr>\n",
       "  <th>bathrooms</th>                 <td>   -0.1913</td> <td>    0.054</td> <td>   -3.571</td> <td> 0.000</td> <td>   -0.296</td> <td>   -0.086</td>\n",
       "</tr>\n",
       "<tr>\n",
       "  <th>floors</th>                    <td>    0.0435</td> <td>    0.004</td> <td>   11.464</td> <td> 0.000</td> <td>    0.036</td> <td>    0.051</td>\n",
       "</tr>\n",
       "<tr>\n",
       "  <th>condition</th>                 <td>    0.1405</td> <td>    0.007</td> <td>   21.219</td> <td> 0.000</td> <td>    0.128</td> <td>    0.154</td>\n",
       "</tr>\n",
       "<tr>\n",
       "  <th>grade</th>                     <td>    0.1989</td> <td>    0.043</td> <td>    4.647</td> <td> 0.000</td> <td>    0.115</td> <td>    0.283</td>\n",
       "</tr>\n",
       "<tr>\n",
       "  <th>sqft_above</th>                <td>    0.4404</td> <td>    0.071</td> <td>    6.190</td> <td> 0.000</td> <td>    0.301</td> <td>    0.580</td>\n",
       "</tr>\n",
       "<tr>\n",
       "  <th>yr_built</th>                  <td>   -0.1728</td> <td>    0.004</td> <td>  -42.932</td> <td> 0.000</td> <td>   -0.181</td> <td>   -0.165</td>\n",
       "</tr>\n",
       "<tr>\n",
       "  <th>sqft_living15</th>             <td>    0.2626</td> <td>    0.009</td> <td>   28.410</td> <td> 0.000</td> <td>    0.245</td> <td>    0.281</td>\n",
       "</tr>\n",
       "<tr>\n",
       "  <th>sqft_lot15</th>                <td>   -0.0929</td> <td>    0.007</td> <td>  -12.392</td> <td> 0.000</td> <td>   -0.108</td> <td>   -0.078</td>\n",
       "</tr>\n",
       "<tr>\n",
       "  <th>zipcode</th>                   <td>   -0.0370</td> <td>    0.003</td> <td>  -11.679</td> <td> 0.000</td> <td>   -0.043</td> <td>   -0.031</td>\n",
       "</tr>\n",
       "<tr>\n",
       "  <th>sqft_living*grade</th>         <td>    1.2645</td> <td>    0.145</td> <td>    8.733</td> <td> 0.000</td> <td>    0.981</td> <td>    1.548</td>\n",
       "</tr>\n",
       "<tr>\n",
       "  <th>bathrooms*grade</th>           <td>    0.3616</td> <td>    0.105</td> <td>    3.457</td> <td> 0.001</td> <td>    0.157</td> <td>    0.567</td>\n",
       "</tr>\n",
       "<tr>\n",
       "  <th>sqft_living*bathrooms</th>     <td>    0.1394</td> <td>    0.073</td> <td>    1.907</td> <td> 0.057</td> <td>   -0.004</td> <td>    0.283</td>\n",
       "</tr>\n",
       "<tr>\n",
       "  <th>sqft_living*sqft_above</th>    <td>    0.1863</td> <td>    0.077</td> <td>    2.422</td> <td> 0.015</td> <td>    0.036</td> <td>    0.337</td>\n",
       "</tr>\n",
       "<tr>\n",
       "  <th>grade*sqft_above</th>          <td>   -0.8028</td> <td>    0.128</td> <td>   -6.250</td> <td> 0.000</td> <td>   -1.055</td> <td>   -0.551</td>\n",
       "</tr>\n",
       "</table>\n",
       "<table class=\"simpletable\">\n",
       "<tr>\n",
       "  <th>Omnibus:</th>       <td>440.599</td> <th>  Durbin-Watson:     </th> <td>   1.991</td> \n",
       "</tr>\n",
       "<tr>\n",
       "  <th>Prob(Omnibus):</th> <td> 0.000</td>  <th>  Jarque-Bera (JB):  </th> <td> 724.623</td> \n",
       "</tr>\n",
       "<tr>\n",
       "  <th>Skew:</th>          <td> 0.200</td>  <th>  Prob(JB):          </th> <td>4.47e-158</td>\n",
       "</tr>\n",
       "<tr>\n",
       "  <th>Kurtosis:</th>      <td> 3.824</td>  <th>  Cond. No.          </th> <td>    750.</td> \n",
       "</tr>\n",
       "</table><br/><br/>Warnings:<br/>[1] Standard Errors assume that the covariance matrix of the errors is correctly specified."
      ],
      "text/plain": [
       "<class 'statsmodels.iolib.summary.Summary'>\n",
       "\"\"\"\n",
       "                            OLS Regression Results                            \n",
       "==============================================================================\n",
       "Dep. Variable:                  price   R-squared:                       0.749\n",
       "Model:                            OLS   Adj. R-squared:                  0.749\n",
       "Method:                 Least Squares   F-statistic:                     2472.\n",
       "Date:                Fri, 15 May 2020   Prob (F-statistic):               0.00\n",
       "Time:                        17:04:02   Log-Likelihood:                 19319.\n",
       "No. Observations:               20747   AIC:                        -3.859e+04\n",
       "Df Residuals:                   20721   BIC:                        -3.838e+04\n",
       "Df Model:                          25                                         \n",
       "Covariance Type:            nonrobust                                         \n",
       "=============================================================================================\n",
       "                                coef    std err          t      P>|t|      [0.025      0.975]\n",
       "---------------------------------------------------------------------------------------------\n",
       "const                        -0.2445      0.019    -12.860      0.000      -0.282      -0.207\n",
       "sqft_basement_(10, 450]       0.0257      0.003      8.685      0.000       0.020       0.031\n",
       "sqft_basement_(450, 980]      0.0122      0.004      3.002      0.003       0.004       0.020\n",
       "sqft_basement_(980, 5000]     0.0146      0.006      2.440      0.015       0.003       0.026\n",
       "yr_renovated_(1987, 2000]     0.0449      0.007      6.353      0.000       0.031       0.059\n",
       "yr_renovated_(2000, 2008]     0.0560      0.008      7.387      0.000       0.041       0.071\n",
       "yr_renovated_(2008, 2015]     0.0576      0.008      7.628      0.000       0.043       0.072\n",
       "date                          0.0288      0.002     12.566      0.000       0.024       0.033\n",
       "sqft_living                  -0.5491      0.082     -6.706      0.000      -0.710      -0.389\n",
       "lat                           0.3226      0.003     99.816      0.000       0.316       0.329\n",
       "long                          0.0446      0.008      5.733      0.000       0.029       0.060\n",
       "bedrooms                     -0.0983      0.008    -12.558      0.000      -0.114      -0.083\n",
       "bathrooms                    -0.1913      0.054     -3.571      0.000      -0.296      -0.086\n",
       "floors                        0.0435      0.004     11.464      0.000       0.036       0.051\n",
       "condition                     0.1405      0.007     21.219      0.000       0.128       0.154\n",
       "grade                         0.1989      0.043      4.647      0.000       0.115       0.283\n",
       "sqft_above                    0.4404      0.071      6.190      0.000       0.301       0.580\n",
       "yr_built                     -0.1728      0.004    -42.932      0.000      -0.181      -0.165\n",
       "sqft_living15                 0.2626      0.009     28.410      0.000       0.245       0.281\n",
       "sqft_lot15                   -0.0929      0.007    -12.392      0.000      -0.108      -0.078\n",
       "zipcode                      -0.0370      0.003    -11.679      0.000      -0.043      -0.031\n",
       "sqft_living*grade             1.2645      0.145      8.733      0.000       0.981       1.548\n",
       "bathrooms*grade               0.3616      0.105      3.457      0.001       0.157       0.567\n",
       "sqft_living*bathrooms         0.1394      0.073      1.907      0.057      -0.004       0.283\n",
       "sqft_living*sqft_above        0.1863      0.077      2.422      0.015       0.036       0.337\n",
       "grade*sqft_above             -0.8028      0.128     -6.250      0.000      -1.055      -0.551\n",
       "==============================================================================\n",
       "Omnibus:                      440.599   Durbin-Watson:                   1.991\n",
       "Prob(Omnibus):                  0.000   Jarque-Bera (JB):              724.623\n",
       "Skew:                           0.200   Prob(JB):                    4.47e-158\n",
       "Kurtosis:                       3.824   Cond. No.                         750.\n",
       "==============================================================================\n",
       "\n",
       "Warnings:\n",
       "[1] Standard Errors assume that the covariance matrix of the errors is correctly specified.\n",
       "\"\"\""
      ]
     },
     "execution_count": 65,
     "metadata": {},
     "output_type": "execute_result"
    }
   ],
   "source": [
    "# Build Model 3\n",
    "\n",
    "final_const = sm.add_constant(final)\n",
    "model = sm.OLS(y,final_const)\n",
    "results3 = model.fit()\n",
    "\n",
    "# MSE of the residuals\n",
    "print(f\"MSE: {results3.mse_resid}\")\n",
    "\n",
    "results3.summary()"
   ]
  },
  {
   "cell_type": "code",
   "execution_count": 66,
   "metadata": {},
   "outputs": [
    {
     "data": {
      "image/png": "[encoded data removed]",
      "text/plain": [
       "<Figure size 432x288 with 1 Axes>"
      ]
     },
     "metadata": {
      "needs_background": "light"
     },
     "output_type": "display_data"
    },
    {
     "data": {
      "image/png": "[encoded data removed]",
      "text/plain": [
       "<Figure size 1080x720 with 1 Axes>"
      ]
     },
     "metadata": {
      "needs_background": "light"
     },
     "output_type": "display_data"
    }
   ],
   "source": [
    "# Plot q-q for Model 3 residuals\n",
    "qqplot(results3)\n",
    "\n",
    "# Plot coefficients w/95% confidence intervals for Model 3\n",
    "coefplot(results3)"
   ]
  },
  {
   "cell_type": "markdown",
   "metadata": {},
   "source": [
    "## Further Research"
   ]
  },
  {
   "cell_type": "markdown",
   "metadata": {},
   "source": [
    "There appears to be a neighborhood effect. It would be great to explore the different neighborhoods by creating a map or conducting a cluster analysis [look up cluster analysis to see if it's fitting here] that shows the different neighborhoods and home prices.\n",
    "\n",
    "Getting a good deal on an older home or lower grade home that's in a higher price range neighborhood, or perhaps on the fringe of such a neighborhood, and upgrading its grade through utilizing high-end materials and luxury appliances would greatly increase the value of a home and thus the return on investment.\n",
    "\n",
    "The data in this model were normalized (log transformed) and min-max scaled to meet the normality assumption and so all features could be equally compared. For further research it would be great to create a model that may not meet the normality assumption, but without normalized data so one could enter in the prospective home details along with the grade intended to upgrade to and estimate the amount of value the upgrade would add to the home. "
   ]
  },
  {
   "cell_type": "code",
   "execution_count": null,
   "metadata": {},
   "outputs": [],
   "source": []
  }
 ],
 "metadata": {
  "kernelspec": {
   "display_name": "Python [conda env:learn-env] *",
   "language": "python",
   "name": "conda-env-learn-env-py"
  },
  "language_info": {
   "codemirror_mode": {
    "name": "ipython",
    "version": 3
   },
   "file_extension": ".py",
   "mimetype": "text/x-python",
   "name": "python",
   "nbconvert_exporter": "python",
   "pygments_lexer": "ipython3",
   "version": "3.6.9"
  }
 },
 "nbformat": 4,
 "nbformat_minor": 2
}
