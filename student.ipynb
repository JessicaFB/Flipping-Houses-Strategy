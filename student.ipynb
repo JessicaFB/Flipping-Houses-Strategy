{
 "cells": [
  {
   "cell_type": "markdown",
   "metadata": {},
   "source": [
    "## Final Project Submission\n",
    "\n",
    "Please fill out:\n",
    "* Student name: Jessica Forrest-Baldini\n",
    "* Student pace: Part-time\n",
    "* Scheduled project review date/time: \n",
    "* Instructor name: \n",
    "* Blog post URL:\n"
   ]
  },
  {
   "cell_type": "markdown",
   "metadata": {},
   "source": [
    "## Import Packages & Data"
   ]
  },
  {
   "cell_type": "code",
   "execution_count": 1,
   "metadata": {},
   "outputs": [],
   "source": [
    "import pandas as pd\n",
    "import numpy as np\n",
    "import seaborn as sns\n",
    "import scipy.stats as stats\n",
    "from datetime import datetime as date\n",
    "import matplotlib.pyplot as plt\n",
    "%matplotlib inline\n",
    "\n",
    "data = pd.read_csv('kc_house_data.csv') \n",
    "df = pd.DataFrame(data)\n",
    "#df.head()"
   ]
  },
  {
   "cell_type": "markdown",
   "metadata": {},
   "source": [
    "## Clean Data"
   ]
  },
  {
   "cell_type": "code",
   "execution_count": 2,
   "metadata": {
    "code_folding": []
   },
   "outputs": [],
   "source": [
    "# Drop yr_renovated - only 744 homes renovated\n",
    "# Drop waterfront - only 146 homes with waterfronts\n",
    "# Drop view - this represent if the property has been viewed\n",
    "# Drop id\n",
    "# Drop zipcode for now until I learn how to effectively utilize its data\n",
    "\n",
    "to_drop = ['yr_renovated','waterfront','view','id'] # ,'zipcode'\n",
    "df = df.drop(to_drop, axis=1)"
   ]
  },
  {
   "cell_type": "code",
   "execution_count": 3,
   "metadata": {},
   "outputs": [],
   "source": [
    "# Replace NaN basement values with 0 as there are only 454 of them \n",
    "# Test median values for these later to see if it improves model\n",
    "\n",
    "df.sqft_basement = df.sqft_basement.replace('?','0.0').astype(float)\n",
    "#df.sqft_basement = df.sqft_basement+1"
   ]
  },
  {
   "cell_type": "code",
   "execution_count": 4,
   "metadata": {},
   "outputs": [],
   "source": [
    "# Take abs of longitude for normalization later on\n",
    "df.long = abs(df.long)"
   ]
  },
  {
   "cell_type": "code",
   "execution_count": 5,
   "metadata": {},
   "outputs": [
    {
     "name": "stdout",
     "output_type": "stream",
     "text": [
      "8317\n"
     ]
    },
    {
     "data": {
      "image/png": "[encoded data removed]",
      "text/plain": [
       "<Figure size 432x288 with 1 Axes>"
      ]
     },
     "metadata": {
      "needs_background": "light"
     },
     "output_type": "display_data"
    }
   ],
   "source": [
    "#print(df.sqft_basement.describe())\n",
    "#df.sqft_basement.value_counts()\n",
    "#df[df.sqft_basement > 100].sort_values(by='sqft_basement', ascending=True).head(20)\n",
    "print(sum(df.sqft_basement > 0))\n",
    "#sns.regplot(df.sqft_basement,df.price);\n",
    "sns.regplot(df[df.sqft_basement >= 110].sqft_basement,df[df.sqft_basement >= 110].price);"
   ]
  },
  {
   "cell_type": "markdown",
   "metadata": {},
   "source": [
    "Only 8,317 of the 32,000+ homes have basements, so we're going to bin them. I used zero as one bin and then did a quartile split for all the 'sqft_basement' values for homes with basements. "
   ]
  },
  {
   "cell_type": "code",
   "execution_count": 6,
   "metadata": {
    "code_folding": [
     0
    ]
   },
   "outputs": [],
   "source": [
    "# # Bin 'sqft_basement' starting at the min square footage for homes with a basement\n",
    "# bins = pd.qcut(df.sqft_basement[df.sqft_basement >= 110],q=4)\n",
    "# bins.value_counts()"
   ]
  },
  {
   "cell_type": "code",
   "execution_count": 7,
   "metadata": {
    "code_folding": []
   },
   "outputs": [],
   "source": [
    "# Bin sqft_basement\n",
    "\n",
    "bins_sqft_basement = [0,109,450,980,5000]\n",
    "\n",
    "# Bin data & return dummies\n",
    "def binned_dummies(data, features, bins):\n",
    "    data_bins = pd.cut(data, bins)\n",
    "    data_bins = data_bins.cat.as_unordered()\n",
    "    dummies = pd.get_dummies(data_bins, prefix = features, drop_first=True)\n",
    "    return dummies\n",
    "\n",
    "dummies_sqft_basement = binned_dummies(df.sqft_basement,'sqft_basement', bins_sqft_basement)\n",
    "\n",
    "# Remove original column from data set\n",
    "df = df.drop(['sqft_basement'], axis=1)\n",
    "                                            \n",
    "# Add new columns in\n",
    "df = pd.concat([df, dummies_sqft_basement], axis=1)"
   ]
  },
  {
   "cell_type": "code",
   "execution_count": 8,
   "metadata": {
    "code_folding": []
   },
   "outputs": [],
   "source": [
    "# plt.hist(df.grade);"
   ]
  },
  {
   "cell_type": "code",
   "execution_count": 9,
   "metadata": {},
   "outputs": [],
   "source": [
    "# plt.hist(df.condition);"
   ]
  },
  {
   "cell_type": "code",
   "execution_count": 10,
   "metadata": {},
   "outputs": [],
   "source": [
    "# df.condition.describe()"
   ]
  },
  {
   "cell_type": "code",
   "execution_count": 11,
   "metadata": {},
   "outputs": [],
   "source": [
    "# plt.hist(df.long);"
   ]
  },
  {
   "cell_type": "code",
   "execution_count": 12,
   "metadata": {},
   "outputs": [],
   "source": [
    "# Define function to convert datestr to datenum\n",
    "def datenum(datestr):\n",
    "    '''\n",
    "    Convert datestring in the format MM/DD/YYYY\n",
    "    to MATLAB style datenum\n",
    "    '''\n",
    "    datenum = date.toordinal(date((int(datestr.split('/', -1)[2])),\n",
    "                                  (int(datestr.split('/', -1)[0])),\n",
    "                                  (int(datestr.split('/', -1)[1]))\n",
    "                                 ))+366\n",
    "    return datenum\n",
    "\n",
    "# Apply to date column\n",
    "df.date = df.date.map(datenum)"
   ]
  },
  {
   "cell_type": "markdown",
   "metadata": {},
   "source": [
    "Explore the data and check for any outliers."
   ]
  },
  {
   "cell_type": "code",
   "execution_count": 13,
   "metadata": {},
   "outputs": [],
   "source": [
    "# round(df.describe(),1)"
   ]
  },
  {
   "cell_type": "markdown",
   "metadata": {},
   "source": [
    "We can see here that bedrooms has what seems to be a major outlier, 33 bedrooms. Let's take a deeper look. "
   ]
  },
  {
   "cell_type": "code",
   "execution_count": 14,
   "metadata": {
    "code_folding": [
     0
    ]
   },
   "outputs": [],
   "source": [
    "# # Compare with other homes in data set that have high number of bedrooms\n",
    "# df[df.bedrooms > 9] "
   ]
  },
  {
   "cell_type": "code",
   "execution_count": 15,
   "metadata": {
    "code_folding": [
     0
    ]
   },
   "outputs": [],
   "source": [
    "# 33 bedrooms and only 1.75 bathrooms doesn't seem right. It is a pretty big lot at 6,000sqft\n",
    "# but 33 bedrooms doesn't seem right. Remove. \n",
    "\n",
    "to_drop = df[df.bedrooms == 33].index\n",
    "df = df.drop(to_drop)"
   ]
  },
  {
   "cell_type": "markdown",
   "metadata": {},
   "source": [
    "'sqft_lot' seems to have a major outlier at 1,651,359 sqft. Let's take a closer look."
   ]
  },
  {
   "cell_type": "code",
   "execution_count": 16,
   "metadata": {
    "code_folding": [
     0
    ]
   },
   "outputs": [],
   "source": [
    "# print(df.sqft_lot.median())\n",
    "# display(df.sort_values(by='sqft_lot', ascending=False).head(5))"
   ]
  },
  {
   "cell_type": "markdown",
   "metadata": {},
   "source": [
    "This appears to be the highest, but not necessarily an outlier. Let's go ahead and leave it for now. "
   ]
  },
  {
   "cell_type": "code",
   "execution_count": 17,
   "metadata": {},
   "outputs": [],
   "source": [
    "# df.long.describe()"
   ]
  },
  {
   "cell_type": "code",
   "execution_count": 18,
   "metadata": {},
   "outputs": [],
   "source": [
    "# plt.hist(df.long);"
   ]
  },
  {
   "cell_type": "markdown",
   "metadata": {},
   "source": [
    "## Normalize, MinMax Scale, Standardize, \n",
    "One-Hot Encode"
   ]
  },
  {
   "cell_type": "markdown",
   "metadata": {},
   "source": [
    "First, check for normality, heteroscedasticity & discover categorical data. Can get a good idea of categorical features from looking at the data above, but let's explore normality, categorical and any relationships using a pairplot."
   ]
  },
  {
   "cell_type": "code",
   "execution_count": 19,
   "metadata": {},
   "outputs": [],
   "source": [
    "# Commented out because takes a long time to run\n",
    "#sns.pairplot(df)"
   ]
  },
  {
   "cell_type": "markdown",
   "metadata": {},
   "source": [
    "While 'condition' and 'grade' are technically categorical, they are on a scale, so I am going to leave them as is, and will min-max scale them. "
   ]
  },
  {
   "cell_type": "code",
   "execution_count": 20,
   "metadata": {},
   "outputs": [],
   "source": [
    "# Normalize Data\n",
    "\n",
    "# Log Transform \n",
    "\n",
    "# Continuous variables\n",
    "features = ['date','price','sqft_living', #'sqft_basement',\n",
    "            'sqft_lot','sqft_above','yr_built',\n",
    "            'sqft_living15','sqft_lot15','zipcode']\n",
    "\n",
    "df_cont_features = df[features]\n",
    "\n",
    "# Add '_log' to continuous variable column names\n",
    "log_names = [f'{column}_log' for column in df_cont_features.columns]\n",
    "\n",
    "# Log transform continuous variables\n",
    "df_log = np.log(df_cont_features)\n",
    "df_log.columns = log_names\n",
    "\n",
    "\n",
    "### Normalize (subract mean and divide by std)\n",
    "\n",
    "# Define function to normalize\n",
    "def normalize(feature):\n",
    "    return (feature - feature.mean()) / feature.std()\n",
    "\n",
    "# Apply function to normalize\n",
    "df_log_norm = df_log.apply(normalize)\n",
    "\n",
    "# Define function to min-max scale\n",
    "def minmaxscale(feature):\n",
    "    return (feature-min(feature))/(max(feature)-min(feature))\n",
    "\n",
    "# Apply function to min-max scale\n",
    "df_log_norm_scale = df_log.apply(minmaxscale)\n",
    "\n",
    "# Remove original column from data set\n",
    "df = df.drop(features, axis=1)\n",
    "\n",
    "# Add new columns in\n",
    "df = pd.concat([df, df_log_norm_scale], axis=1)"
   ]
  },
  {
   "cell_type": "code",
   "execution_count": 21,
   "metadata": {},
   "outputs": [],
   "source": [
    "# df.head()"
   ]
  },
  {
   "cell_type": "markdown",
   "metadata": {},
   "source": [
    "## Check for Multicollinearity "
   ]
  },
  {
   "cell_type": "markdown",
   "metadata": {},
   "source": [
    "### Multicollinearity"
   ]
  },
  {
   "cell_type": "code",
   "execution_count": 22,
   "metadata": {
    "code_folding": [
     0
    ]
   },
   "outputs": [
    {
     "data": {
      "text/html": [
       "<div>\n",
       "<style scoped>\n",
       "    .dataframe tbody tr th:only-of-type {\n",
       "        vertical-align: middle;\n",
       "    }\n",
       "\n",
       "    .dataframe tbody tr th {\n",
       "        vertical-align: top;\n",
       "    }\n",
       "\n",
       "    .dataframe thead th {\n",
       "        text-align: right;\n",
       "    }\n",
       "</style>\n",
       "<table border=\"1\" class=\"dataframe\">\n",
       "  <thead>\n",
       "    <tr style=\"text-align: right;\">\n",
       "      <th></th>\n",
       "      <th>bedrooms</th>\n",
       "      <th>bathrooms</th>\n",
       "      <th>floors</th>\n",
       "      <th>condition</th>\n",
       "      <th>grade</th>\n",
       "      <th>lat</th>\n",
       "      <th>long</th>\n",
       "      <th>sqft_basement_(109, 450]</th>\n",
       "      <th>sqft_basement_(450, 980]</th>\n",
       "      <th>sqft_basement_(980, 5000]</th>\n",
       "      <th>date_log</th>\n",
       "      <th>price_log</th>\n",
       "      <th>sqft_living_log</th>\n",
       "      <th>sqft_lot_log</th>\n",
       "      <th>sqft_above_log</th>\n",
       "      <th>yr_built_log</th>\n",
       "      <th>sqft_living15_log</th>\n",
       "      <th>sqft_lot15_log</th>\n",
       "      <th>zipcode_log</th>\n",
       "    </tr>\n",
       "  </thead>\n",
       "  <tbody>\n",
       "    <tr>\n",
       "      <td>bedrooms</td>\n",
       "      <td>True</td>\n",
       "      <td>False</td>\n",
       "      <td>False</td>\n",
       "      <td>False</td>\n",
       "      <td>False</td>\n",
       "      <td>False</td>\n",
       "      <td>False</td>\n",
       "      <td>False</td>\n",
       "      <td>False</td>\n",
       "      <td>False</td>\n",
       "      <td>False</td>\n",
       "      <td>False</td>\n",
       "      <td>False</td>\n",
       "      <td>False</td>\n",
       "      <td>False</td>\n",
       "      <td>False</td>\n",
       "      <td>False</td>\n",
       "      <td>False</td>\n",
       "      <td>False</td>\n",
       "    </tr>\n",
       "    <tr>\n",
       "      <td>bathrooms</td>\n",
       "      <td>False</td>\n",
       "      <td>True</td>\n",
       "      <td>False</td>\n",
       "      <td>False</td>\n",
       "      <td>False</td>\n",
       "      <td>False</td>\n",
       "      <td>False</td>\n",
       "      <td>False</td>\n",
       "      <td>False</td>\n",
       "      <td>False</td>\n",
       "      <td>False</td>\n",
       "      <td>False</td>\n",
       "      <td>True</td>\n",
       "      <td>False</td>\n",
       "      <td>False</td>\n",
       "      <td>False</td>\n",
       "      <td>False</td>\n",
       "      <td>False</td>\n",
       "      <td>False</td>\n",
       "    </tr>\n",
       "    <tr>\n",
       "      <td>floors</td>\n",
       "      <td>False</td>\n",
       "      <td>False</td>\n",
       "      <td>True</td>\n",
       "      <td>False</td>\n",
       "      <td>False</td>\n",
       "      <td>False</td>\n",
       "      <td>False</td>\n",
       "      <td>False</td>\n",
       "      <td>False</td>\n",
       "      <td>False</td>\n",
       "      <td>False</td>\n",
       "      <td>False</td>\n",
       "      <td>False</td>\n",
       "      <td>False</td>\n",
       "      <td>False</td>\n",
       "      <td>False</td>\n",
       "      <td>False</td>\n",
       "      <td>False</td>\n",
       "      <td>False</td>\n",
       "    </tr>\n",
       "    <tr>\n",
       "      <td>condition</td>\n",
       "      <td>False</td>\n",
       "      <td>False</td>\n",
       "      <td>False</td>\n",
       "      <td>True</td>\n",
       "      <td>False</td>\n",
       "      <td>False</td>\n",
       "      <td>False</td>\n",
       "      <td>False</td>\n",
       "      <td>False</td>\n",
       "      <td>False</td>\n",
       "      <td>False</td>\n",
       "      <td>False</td>\n",
       "      <td>False</td>\n",
       "      <td>False</td>\n",
       "      <td>False</td>\n",
       "      <td>False</td>\n",
       "      <td>False</td>\n",
       "      <td>False</td>\n",
       "      <td>False</td>\n",
       "    </tr>\n",
       "    <tr>\n",
       "      <td>grade</td>\n",
       "      <td>False</td>\n",
       "      <td>False</td>\n",
       "      <td>False</td>\n",
       "      <td>False</td>\n",
       "      <td>True</td>\n",
       "      <td>False</td>\n",
       "      <td>False</td>\n",
       "      <td>False</td>\n",
       "      <td>False</td>\n",
       "      <td>False</td>\n",
       "      <td>False</td>\n",
       "      <td>False</td>\n",
       "      <td>False</td>\n",
       "      <td>False</td>\n",
       "      <td>False</td>\n",
       "      <td>False</td>\n",
       "      <td>False</td>\n",
       "      <td>False</td>\n",
       "      <td>False</td>\n",
       "    </tr>\n",
       "    <tr>\n",
       "      <td>lat</td>\n",
       "      <td>False</td>\n",
       "      <td>False</td>\n",
       "      <td>False</td>\n",
       "      <td>False</td>\n",
       "      <td>False</td>\n",
       "      <td>True</td>\n",
       "      <td>False</td>\n",
       "      <td>False</td>\n",
       "      <td>False</td>\n",
       "      <td>False</td>\n",
       "      <td>False</td>\n",
       "      <td>False</td>\n",
       "      <td>False</td>\n",
       "      <td>False</td>\n",
       "      <td>False</td>\n",
       "      <td>False</td>\n",
       "      <td>False</td>\n",
       "      <td>False</td>\n",
       "      <td>False</td>\n",
       "    </tr>\n",
       "    <tr>\n",
       "      <td>long</td>\n",
       "      <td>False</td>\n",
       "      <td>False</td>\n",
       "      <td>False</td>\n",
       "      <td>False</td>\n",
       "      <td>False</td>\n",
       "      <td>False</td>\n",
       "      <td>True</td>\n",
       "      <td>False</td>\n",
       "      <td>False</td>\n",
       "      <td>False</td>\n",
       "      <td>False</td>\n",
       "      <td>False</td>\n",
       "      <td>False</td>\n",
       "      <td>False</td>\n",
       "      <td>False</td>\n",
       "      <td>False</td>\n",
       "      <td>False</td>\n",
       "      <td>False</td>\n",
       "      <td>False</td>\n",
       "    </tr>\n",
       "    <tr>\n",
       "      <td>sqft_basement_(109, 450]</td>\n",
       "      <td>False</td>\n",
       "      <td>False</td>\n",
       "      <td>False</td>\n",
       "      <td>False</td>\n",
       "      <td>False</td>\n",
       "      <td>False</td>\n",
       "      <td>False</td>\n",
       "      <td>True</td>\n",
       "      <td>False</td>\n",
       "      <td>False</td>\n",
       "      <td>False</td>\n",
       "      <td>False</td>\n",
       "      <td>False</td>\n",
       "      <td>False</td>\n",
       "      <td>False</td>\n",
       "      <td>False</td>\n",
       "      <td>False</td>\n",
       "      <td>False</td>\n",
       "      <td>False</td>\n",
       "    </tr>\n",
       "    <tr>\n",
       "      <td>sqft_basement_(450, 980]</td>\n",
       "      <td>False</td>\n",
       "      <td>False</td>\n",
       "      <td>False</td>\n",
       "      <td>False</td>\n",
       "      <td>False</td>\n",
       "      <td>False</td>\n",
       "      <td>False</td>\n",
       "      <td>False</td>\n",
       "      <td>True</td>\n",
       "      <td>False</td>\n",
       "      <td>False</td>\n",
       "      <td>False</td>\n",
       "      <td>False</td>\n",
       "      <td>False</td>\n",
       "      <td>False</td>\n",
       "      <td>False</td>\n",
       "      <td>False</td>\n",
       "      <td>False</td>\n",
       "      <td>False</td>\n",
       "    </tr>\n",
       "    <tr>\n",
       "      <td>sqft_basement_(980, 5000]</td>\n",
       "      <td>False</td>\n",
       "      <td>False</td>\n",
       "      <td>False</td>\n",
       "      <td>False</td>\n",
       "      <td>False</td>\n",
       "      <td>False</td>\n",
       "      <td>False</td>\n",
       "      <td>False</td>\n",
       "      <td>False</td>\n",
       "      <td>True</td>\n",
       "      <td>False</td>\n",
       "      <td>False</td>\n",
       "      <td>False</td>\n",
       "      <td>False</td>\n",
       "      <td>False</td>\n",
       "      <td>False</td>\n",
       "      <td>False</td>\n",
       "      <td>False</td>\n",
       "      <td>False</td>\n",
       "    </tr>\n",
       "    <tr>\n",
       "      <td>date_log</td>\n",
       "      <td>False</td>\n",
       "      <td>False</td>\n",
       "      <td>False</td>\n",
       "      <td>False</td>\n",
       "      <td>False</td>\n",
       "      <td>False</td>\n",
       "      <td>False</td>\n",
       "      <td>False</td>\n",
       "      <td>False</td>\n",
       "      <td>False</td>\n",
       "      <td>True</td>\n",
       "      <td>False</td>\n",
       "      <td>False</td>\n",
       "      <td>False</td>\n",
       "      <td>False</td>\n",
       "      <td>False</td>\n",
       "      <td>False</td>\n",
       "      <td>False</td>\n",
       "      <td>False</td>\n",
       "    </tr>\n",
       "    <tr>\n",
       "      <td>price_log</td>\n",
       "      <td>False</td>\n",
       "      <td>False</td>\n",
       "      <td>False</td>\n",
       "      <td>False</td>\n",
       "      <td>False</td>\n",
       "      <td>False</td>\n",
       "      <td>False</td>\n",
       "      <td>False</td>\n",
       "      <td>False</td>\n",
       "      <td>False</td>\n",
       "      <td>False</td>\n",
       "      <td>True</td>\n",
       "      <td>False</td>\n",
       "      <td>False</td>\n",
       "      <td>False</td>\n",
       "      <td>False</td>\n",
       "      <td>False</td>\n",
       "      <td>False</td>\n",
       "      <td>False</td>\n",
       "    </tr>\n",
       "    <tr>\n",
       "      <td>sqft_living_log</td>\n",
       "      <td>False</td>\n",
       "      <td>True</td>\n",
       "      <td>False</td>\n",
       "      <td>False</td>\n",
       "      <td>False</td>\n",
       "      <td>False</td>\n",
       "      <td>False</td>\n",
       "      <td>False</td>\n",
       "      <td>False</td>\n",
       "      <td>False</td>\n",
       "      <td>False</td>\n",
       "      <td>False</td>\n",
       "      <td>True</td>\n",
       "      <td>False</td>\n",
       "      <td>True</td>\n",
       "      <td>False</td>\n",
       "      <td>False</td>\n",
       "      <td>False</td>\n",
       "      <td>False</td>\n",
       "    </tr>\n",
       "    <tr>\n",
       "      <td>sqft_lot_log</td>\n",
       "      <td>False</td>\n",
       "      <td>False</td>\n",
       "      <td>False</td>\n",
       "      <td>False</td>\n",
       "      <td>False</td>\n",
       "      <td>False</td>\n",
       "      <td>False</td>\n",
       "      <td>False</td>\n",
       "      <td>False</td>\n",
       "      <td>False</td>\n",
       "      <td>False</td>\n",
       "      <td>False</td>\n",
       "      <td>False</td>\n",
       "      <td>True</td>\n",
       "      <td>False</td>\n",
       "      <td>False</td>\n",
       "      <td>False</td>\n",
       "      <td>True</td>\n",
       "      <td>False</td>\n",
       "    </tr>\n",
       "    <tr>\n",
       "      <td>sqft_above_log</td>\n",
       "      <td>False</td>\n",
       "      <td>False</td>\n",
       "      <td>False</td>\n",
       "      <td>False</td>\n",
       "      <td>False</td>\n",
       "      <td>False</td>\n",
       "      <td>False</td>\n",
       "      <td>False</td>\n",
       "      <td>False</td>\n",
       "      <td>False</td>\n",
       "      <td>False</td>\n",
       "      <td>False</td>\n",
       "      <td>True</td>\n",
       "      <td>False</td>\n",
       "      <td>True</td>\n",
       "      <td>False</td>\n",
       "      <td>False</td>\n",
       "      <td>False</td>\n",
       "      <td>False</td>\n",
       "    </tr>\n",
       "    <tr>\n",
       "      <td>yr_built_log</td>\n",
       "      <td>False</td>\n",
       "      <td>False</td>\n",
       "      <td>False</td>\n",
       "      <td>False</td>\n",
       "      <td>False</td>\n",
       "      <td>False</td>\n",
       "      <td>False</td>\n",
       "      <td>False</td>\n",
       "      <td>False</td>\n",
       "      <td>False</td>\n",
       "      <td>False</td>\n",
       "      <td>False</td>\n",
       "      <td>False</td>\n",
       "      <td>False</td>\n",
       "      <td>False</td>\n",
       "      <td>True</td>\n",
       "      <td>False</td>\n",
       "      <td>False</td>\n",
       "      <td>False</td>\n",
       "    </tr>\n",
       "    <tr>\n",
       "      <td>sqft_living15_log</td>\n",
       "      <td>False</td>\n",
       "      <td>False</td>\n",
       "      <td>False</td>\n",
       "      <td>False</td>\n",
       "      <td>False</td>\n",
       "      <td>False</td>\n",
       "      <td>False</td>\n",
       "      <td>False</td>\n",
       "      <td>False</td>\n",
       "      <td>False</td>\n",
       "      <td>False</td>\n",
       "      <td>False</td>\n",
       "      <td>False</td>\n",
       "      <td>False</td>\n",
       "      <td>False</td>\n",
       "      <td>False</td>\n",
       "      <td>True</td>\n",
       "      <td>False</td>\n",
       "      <td>False</td>\n",
       "    </tr>\n",
       "    <tr>\n",
       "      <td>sqft_lot15_log</td>\n",
       "      <td>False</td>\n",
       "      <td>False</td>\n",
       "      <td>False</td>\n",
       "      <td>False</td>\n",
       "      <td>False</td>\n",
       "      <td>False</td>\n",
       "      <td>False</td>\n",
       "      <td>False</td>\n",
       "      <td>False</td>\n",
       "      <td>False</td>\n",
       "      <td>False</td>\n",
       "      <td>False</td>\n",
       "      <td>False</td>\n",
       "      <td>True</td>\n",
       "      <td>False</td>\n",
       "      <td>False</td>\n",
       "      <td>False</td>\n",
       "      <td>True</td>\n",
       "      <td>False</td>\n",
       "    </tr>\n",
       "    <tr>\n",
       "      <td>zipcode_log</td>\n",
       "      <td>False</td>\n",
       "      <td>False</td>\n",
       "      <td>False</td>\n",
       "      <td>False</td>\n",
       "      <td>False</td>\n",
       "      <td>False</td>\n",
       "      <td>False</td>\n",
       "      <td>False</td>\n",
       "      <td>False</td>\n",
       "      <td>False</td>\n",
       "      <td>False</td>\n",
       "      <td>False</td>\n",
       "      <td>False</td>\n",
       "      <td>False</td>\n",
       "      <td>False</td>\n",
       "      <td>False</td>\n",
       "      <td>False</td>\n",
       "      <td>False</td>\n",
       "      <td>True</td>\n",
       "    </tr>\n",
       "  </tbody>\n",
       "</table>\n",
       "</div>"
      ],
      "text/plain": [
       "                           bedrooms  bathrooms  floors  condition  grade  \\\n",
       "bedrooms                       True      False   False      False  False   \n",
       "bathrooms                     False       True   False      False  False   \n",
       "floors                        False      False    True      False  False   \n",
       "condition                     False      False   False       True  False   \n",
       "grade                         False      False   False      False   True   \n",
       "lat                           False      False   False      False  False   \n",
       "long                          False      False   False      False  False   \n",
       "sqft_basement_(109, 450]      False      False   False      False  False   \n",
       "sqft_basement_(450, 980]      False      False   False      False  False   \n",
       "sqft_basement_(980, 5000]     False      False   False      False  False   \n",
       "date_log                      False      False   False      False  False   \n",
       "price_log                     False      False   False      False  False   \n",
       "sqft_living_log               False       True   False      False  False   \n",
       "sqft_lot_log                  False      False   False      False  False   \n",
       "sqft_above_log                False      False   False      False  False   \n",
       "yr_built_log                  False      False   False      False  False   \n",
       "sqft_living15_log             False      False   False      False  False   \n",
       "sqft_lot15_log                False      False   False      False  False   \n",
       "zipcode_log                   False      False   False      False  False   \n",
       "\n",
       "                             lat   long  sqft_basement_(109, 450]  \\\n",
       "bedrooms                   False  False                     False   \n",
       "bathrooms                  False  False                     False   \n",
       "floors                     False  False                     False   \n",
       "condition                  False  False                     False   \n",
       "grade                      False  False                     False   \n",
       "lat                         True  False                     False   \n",
       "long                       False   True                     False   \n",
       "sqft_basement_(109, 450]   False  False                      True   \n",
       "sqft_basement_(450, 980]   False  False                     False   \n",
       "sqft_basement_(980, 5000]  False  False                     False   \n",
       "date_log                   False  False                     False   \n",
       "price_log                  False  False                     False   \n",
       "sqft_living_log            False  False                     False   \n",
       "sqft_lot_log               False  False                     False   \n",
       "sqft_above_log             False  False                     False   \n",
       "yr_built_log               False  False                     False   \n",
       "sqft_living15_log          False  False                     False   \n",
       "sqft_lot15_log             False  False                     False   \n",
       "zipcode_log                False  False                     False   \n",
       "\n",
       "                           sqft_basement_(450, 980]  \\\n",
       "bedrooms                                      False   \n",
       "bathrooms                                     False   \n",
       "floors                                        False   \n",
       "condition                                     False   \n",
       "grade                                         False   \n",
       "lat                                           False   \n",
       "long                                          False   \n",
       "sqft_basement_(109, 450]                      False   \n",
       "sqft_basement_(450, 980]                       True   \n",
       "sqft_basement_(980, 5000]                     False   \n",
       "date_log                                      False   \n",
       "price_log                                     False   \n",
       "sqft_living_log                               False   \n",
       "sqft_lot_log                                  False   \n",
       "sqft_above_log                                False   \n",
       "yr_built_log                                  False   \n",
       "sqft_living15_log                             False   \n",
       "sqft_lot15_log                                False   \n",
       "zipcode_log                                   False   \n",
       "\n",
       "                           sqft_basement_(980, 5000]  date_log  price_log  \\\n",
       "bedrooms                                       False     False      False   \n",
       "bathrooms                                      False     False      False   \n",
       "floors                                         False     False      False   \n",
       "condition                                      False     False      False   \n",
       "grade                                          False     False      False   \n",
       "lat                                            False     False      False   \n",
       "long                                           False     False      False   \n",
       "sqft_basement_(109, 450]                       False     False      False   \n",
       "sqft_basement_(450, 980]                       False     False      False   \n",
       "sqft_basement_(980, 5000]                       True     False      False   \n",
       "date_log                                       False      True      False   \n",
       "price_log                                      False     False       True   \n",
       "sqft_living_log                                False     False      False   \n",
       "sqft_lot_log                                   False     False      False   \n",
       "sqft_above_log                                 False     False      False   \n",
       "yr_built_log                                   False     False      False   \n",
       "sqft_living15_log                              False     False      False   \n",
       "sqft_lot15_log                                 False     False      False   \n",
       "zipcode_log                                    False     False      False   \n",
       "\n",
       "                           sqft_living_log  sqft_lot_log  sqft_above_log  \\\n",
       "bedrooms                             False         False           False   \n",
       "bathrooms                             True         False           False   \n",
       "floors                               False         False           False   \n",
       "condition                            False         False           False   \n",
       "grade                                False         False           False   \n",
       "lat                                  False         False           False   \n",
       "long                                 False         False           False   \n",
       "sqft_basement_(109, 450]             False         False           False   \n",
       "sqft_basement_(450, 980]             False         False           False   \n",
       "sqft_basement_(980, 5000]            False         False           False   \n",
       "date_log                             False         False           False   \n",
       "price_log                            False         False           False   \n",
       "sqft_living_log                       True         False            True   \n",
       "sqft_lot_log                         False          True           False   \n",
       "sqft_above_log                        True         False            True   \n",
       "yr_built_log                         False         False           False   \n",
       "sqft_living15_log                    False         False           False   \n",
       "sqft_lot15_log                       False          True           False   \n",
       "zipcode_log                          False         False           False   \n",
       "\n",
       "                           yr_built_log  sqft_living15_log  sqft_lot15_log  \\\n",
       "bedrooms                          False              False           False   \n",
       "bathrooms                         False              False           False   \n",
       "floors                            False              False           False   \n",
       "condition                         False              False           False   \n",
       "grade                             False              False           False   \n",
       "lat                               False              False           False   \n",
       "long                              False              False           False   \n",
       "sqft_basement_(109, 450]          False              False           False   \n",
       "sqft_basement_(450, 980]          False              False           False   \n",
       "sqft_basement_(980, 5000]         False              False           False   \n",
       "date_log                          False              False           False   \n",
       "price_log                         False              False           False   \n",
       "sqft_living_log                   False              False           False   \n",
       "sqft_lot_log                      False              False            True   \n",
       "sqft_above_log                    False              False           False   \n",
       "yr_built_log                       True              False           False   \n",
       "sqft_living15_log                 False               True           False   \n",
       "sqft_lot15_log                    False              False            True   \n",
       "zipcode_log                       False              False           False   \n",
       "\n",
       "                           zipcode_log  \n",
       "bedrooms                         False  \n",
       "bathrooms                        False  \n",
       "floors                           False  \n",
       "condition                        False  \n",
       "grade                            False  \n",
       "lat                              False  \n",
       "long                             False  \n",
       "sqft_basement_(109, 450]         False  \n",
       "sqft_basement_(450, 980]         False  \n",
       "sqft_basement_(980, 5000]        False  \n",
       "date_log                         False  \n",
       "price_log                        False  \n",
       "sqft_living_log                  False  \n",
       "sqft_lot_log                     False  \n",
       "sqft_above_log                   False  \n",
       "yr_built_log                     False  \n",
       "sqft_living15_log                False  \n",
       "sqft_lot15_log                   False  \n",
       "zipcode_log                       True  "
      ]
     },
     "execution_count": 22,
     "metadata": {},
     "output_type": "execute_result"
    }
   ],
   "source": [
    "# Take a look at the correlation matrix to check for multicollinearity\n",
    "abs(df.corr()) > 0.75"
   ]
  },
  {
   "cell_type": "code",
   "execution_count": 23,
   "metadata": {
    "code_folding": [
     0
    ],
    "scrolled": false
   },
   "outputs": [],
   "source": [
    "# # Check & see if sqft_lot15 & sqft_living15 are correlated with sqft_lot & sqft_living\n",
    "# sns.regplot(df.sqft_lot,df.sqft_lot15)\n",
    "# plt.show()\n",
    "# sns.regplot(df.sqft_living,df.sqft_living15)\n",
    "# plt.show()"
   ]
  },
  {
   "cell_type": "markdown",
   "metadata": {},
   "source": [
    "We can see that 'sqft_lot15' & 'sqft_living15' are correlated with 'sqft_lot' & 'sqft_living', which makes sense because the features appended with 15 represent the average of the 15 nearest neighbors. \n",
    "\n",
    "We will remove these values to prevent multicollinearity in our model. "
   ]
  },
  {
   "cell_type": "code",
   "execution_count": 24,
   "metadata": {
    "code_folding": [
     0
    ]
   },
   "outputs": [],
   "source": [
    "# # Remove sqft_lot15 & sqft_living15\n",
    "# df = df.drop(['sqft_lot15','sqft_living15'], axis=1)"
   ]
  },
  {
   "cell_type": "code",
   "execution_count": 25,
   "metadata": {
    "code_folding": [
     0
    ]
   },
   "outputs": [],
   "source": [
    "# # Take a look at the correlation matrix to check for multicollinearity\n",
    "# df.corr() > 0.75"
   ]
  },
  {
   "cell_type": "markdown",
   "metadata": {},
   "source": [
    "We can see here that 'sqft_living' seems to be highly correlated with multiple features such as 'bathrooms', 'grade', and 'sqft_above'. 'sqft_living' represents the square footage of the entire home and seems that it would be a strong indicator of home price. The squarefoot of other features are essentially subsets of the overall home squarefootage. So for now I am going to remove it. However, it could be kept in place and other features removed later on to see if this improves the overall performance of the model."
   ]
  },
  {
   "cell_type": "code",
   "execution_count": 26,
   "metadata": {
    "code_folding": [
     0
    ]
   },
   "outputs": [],
   "source": [
    "# # Remove 'sqft_living' to prevent multicollinearity \n",
    "# # as it is highly correlated with multiple features\n",
    "\n",
    "# df = df.drop(['sqft_living'], axis=1)"
   ]
  },
  {
   "cell_type": "code",
   "execution_count": 27,
   "metadata": {},
   "outputs": [],
   "source": [
    "# abs(df.corr()) > 0.75"
   ]
  },
  {
   "cell_type": "markdown",
   "metadata": {},
   "source": [
    "It looks like 'sqft_above' and 'grade' are highly correlated, so we should only keep one to prevent multicollinearity. \n",
    "\n",
    "For now I'm going to keep 'sqft_above', but can also test removing 'sqft_above' and one-hot-encoding 'grade' later on to see if it improves performance of the model. "
   ]
  },
  {
   "cell_type": "code",
   "execution_count": 28,
   "metadata": {
    "code_folding": [
     0
    ]
   },
   "outputs": [],
   "source": [
    "# # We can see the relationship here between 'sqft_above' and 'grade', it appears to possibly\n",
    "# # be polynomial. While grade is categorical, it is continuous\n",
    "# sns.regplot(df.grade,df.sqft_above);"
   ]
  },
  {
   "cell_type": "markdown",
   "metadata": {},
   "source": [
    "Since the relationship looks slightly polynomial, and 'grade' technically is categorical, I want to look at their distributions to further explore the relationship. Let's look at the histograms/distplot."
   ]
  },
  {
   "cell_type": "code",
   "execution_count": 29,
   "metadata": {
    "code_folding": [
     0
    ]
   },
   "outputs": [],
   "source": [
    "# sns.distplot(df.sqft_above)\n",
    "# plt.show()\n",
    "# plt.hist(df.grade)\n",
    "# plt.show()"
   ]
  },
  {
   "cell_type": "markdown",
   "metadata": {},
   "source": [
    "Both do appear to be skewed in the same direction, so perhaps they are linearly related. Okay, I will remove grade. "
   ]
  },
  {
   "cell_type": "code",
   "execution_count": 30,
   "metadata": {},
   "outputs": [],
   "source": [
    "# df = df.drop(['grade'], axis=1)"
   ]
  },
  {
   "cell_type": "code",
   "execution_count": 31,
   "metadata": {},
   "outputs": [],
   "source": [
    "# df.head()"
   ]
  },
  {
   "cell_type": "markdown",
   "metadata": {},
   "source": [
    "## Start Modeling"
   ]
  },
  {
   "cell_type": "markdown",
   "metadata": {},
   "source": [
    "### Split train/test datasets"
   ]
  },
  {
   "cell_type": "code",
   "execution_count": 32,
   "metadata": {},
   "outputs": [],
   "source": [
    "# Separate target and feature variables\n",
    "\n",
    "X = df.drop(['price_log'],axis=1)\n",
    "y = df.price_log"
   ]
  },
  {
   "cell_type": "code",
   "execution_count": 33,
   "metadata": {},
   "outputs": [],
   "source": [
    "# Import train_test_split from sklearn\n",
    "from sklearn.model_selection import train_test_split\n",
    "\n",
    "# Split data with test size of 20%\n",
    "X_train, X_test, y_train, y_test = train_test_split(X, y, test_size=0.20)"
   ]
  },
  {
   "cell_type": "markdown",
   "metadata": {},
   "source": [
    "### Fit Model"
   ]
  },
  {
   "cell_type": "code",
   "execution_count": 34,
   "metadata": {},
   "outputs": [],
   "source": [
    "from sklearn.linear_model import LinearRegression\n",
    "\n",
    "# Initialize the linear regression model class\n",
    "linreg = LinearRegression()\n",
    "\n",
    "# Fit the model to train data\n",
    "linreg.fit(X_train, y_train)\n",
    "\n",
    "# Calculate predictions on test set\n",
    "y_hat_test = linreg.predict(X_test)"
   ]
  },
  {
   "cell_type": "markdown",
   "metadata": {},
   "source": [
    "### Cross Validate Model"
   ]
  },
  {
   "cell_type": "code",
   "execution_count": 35,
   "metadata": {},
   "outputs": [
    {
     "name": "stdout",
     "output_type": "stream",
     "text": [
      "RMSE: 0.056516192444690444\n"
     ]
    }
   ],
   "source": [
    "from sklearn.metrics import mean_squared_error, make_scorer\n",
    "from sklearn.model_selection import cross_val_score\n",
    "\n",
    "mse = make_scorer(mean_squared_error)\n",
    "\n",
    "# Test Errors Results\n",
    "cv_5_results = cross_val_score(linreg, X, y, cv=5, scoring=mse)\n",
    "cv_5_results\n",
    "\n",
    "\n",
    "print(f\"RMSE: {np.sqrt(cv_5_results.mean())}\")"
   ]
  },
  {
   "cell_type": "code",
   "execution_count": 36,
   "metadata": {},
   "outputs": [
    {
     "data": {
      "text/plain": [
       "0.7584191469177272"
      ]
     },
     "execution_count": 36,
     "metadata": {},
     "output_type": "execute_result"
    }
   ],
   "source": [
    "from sklearn.model_selection import KFold\n",
    "\n",
    "crossval = KFold(n_splits=3, shuffle=True, random_state=1)\n",
    "\n",
    "baseline_R2 = np.mean(cross_val_score(linreg, X, y, scoring='r2', cv=crossval))\n",
    "baseline_R2"
   ]
  },
  {
   "cell_type": "markdown",
   "metadata": {},
   "source": [
    "### Statsmodel (OLS)"
   ]
  },
  {
   "cell_type": "code",
   "execution_count": 37,
   "metadata": {},
   "outputs": [
    {
     "name": "stderr",
     "output_type": "stream",
     "text": [
      "/opt/anaconda3/envs/learn-env/lib/python3.6/site-packages/numpy/core/fromnumeric.py:2389: FutureWarning: Method .ptp is deprecated and will be removed in a future version. Use numpy.ptp instead.\n",
      "  return ptp(axis=axis, out=out, **kwargs)\n"
     ]
    },
    {
     "data": {
      "text/html": [
       "<table class=\"simpletable\">\n",
       "<caption>OLS Regression Results</caption>\n",
       "<tr>\n",
       "  <th>Dep. Variable:</th>        <td>price_log</td>    <th>  R-squared:         </th>  <td>   0.759</td> \n",
       "</tr>\n",
       "<tr>\n",
       "  <th>Model:</th>                   <td>OLS</td>       <th>  Adj. R-squared:    </th>  <td>   0.759</td> \n",
       "</tr>\n",
       "<tr>\n",
       "  <th>Method:</th>             <td>Least Squares</td>  <th>  F-statistic:       </th>  <td>   3785.</td> \n",
       "</tr>\n",
       "<tr>\n",
       "  <th>Date:</th>             <td>Mon, 11 May 2020</td> <th>  Prob (F-statistic):</th>   <td>  0.00</td>  \n",
       "</tr>\n",
       "<tr>\n",
       "  <th>Time:</th>                 <td>16:42:36</td>     <th>  Log-Likelihood:    </th>  <td>  31514.</td> \n",
       "</tr>\n",
       "<tr>\n",
       "  <th>No. Observations:</th>      <td> 21596</td>      <th>  AIC:               </th> <td>-6.299e+04</td>\n",
       "</tr>\n",
       "<tr>\n",
       "  <th>Df Residuals:</th>          <td> 21577</td>      <th>  BIC:               </th> <td>-6.284e+04</td>\n",
       "</tr>\n",
       "<tr>\n",
       "  <th>Df Model:</th>              <td>    18</td>      <th>                     </th>      <td> </td>    \n",
       "</tr>\n",
       "<tr>\n",
       "  <th>Covariance Type:</th>      <td>nonrobust</td>    <th>                     </th>      <td> </td>    \n",
       "</tr>\n",
       "</table>\n",
       "<table class=\"simpletable\">\n",
       "<tr>\n",
       "              <td></td>                 <th>coef</th>     <th>std err</th>      <th>t</th>      <th>P>|t|</th>  <th>[0.025</th>    <th>0.975]</th>  \n",
       "</tr>\n",
       "<tr>\n",
       "  <th>const</th>                     <td>  -17.4478</td> <td>    0.491</td> <td>  -35.563</td> <td> 0.000</td> <td>  -18.409</td> <td>  -16.486</td>\n",
       "</tr>\n",
       "<tr>\n",
       "  <th>bedrooms</th>                  <td>   -0.0085</td> <td>    0.001</td> <td>  -14.738</td> <td> 0.000</td> <td>   -0.010</td> <td>   -0.007</td>\n",
       "</tr>\n",
       "<tr>\n",
       "  <th>bathrooms</th>                 <td>    0.0173</td> <td>    0.001</td> <td>   19.220</td> <td> 0.000</td> <td>    0.016</td> <td>    0.019</td>\n",
       "</tr>\n",
       "<tr>\n",
       "  <th>floors</th>                    <td>    0.0124</td> <td>    0.001</td> <td>   11.233</td> <td> 0.000</td> <td>    0.010</td> <td>    0.015</td>\n",
       "</tr>\n",
       "<tr>\n",
       "  <th>condition</th>                 <td>    0.0132</td> <td>    0.001</td> <td>   20.303</td> <td> 0.000</td> <td>    0.012</td> <td>    0.015</td>\n",
       "</tr>\n",
       "<tr>\n",
       "  <th>grade</th>                     <td>    0.0379</td> <td>    0.001</td> <td>   65.120</td> <td> 0.000</td> <td>    0.037</td> <td>    0.039</td>\n",
       "</tr>\n",
       "<tr>\n",
       "  <th>lat</th>                       <td>    0.2894</td> <td>    0.003</td> <td>   96.303</td> <td> 0.000</td> <td>    0.284</td> <td>    0.295</td>\n",
       "</tr>\n",
       "<tr>\n",
       "  <th>long</th>                      <td>    0.0293</td> <td>    0.004</td> <td>    7.848</td> <td> 0.000</td> <td>    0.022</td> <td>    0.037</td>\n",
       "</tr>\n",
       "<tr>\n",
       "  <th>sqft_basement_(109, 450]</th>  <td>    0.0184</td> <td>    0.002</td> <td>   10.827</td> <td> 0.000</td> <td>    0.015</td> <td>    0.022</td>\n",
       "</tr>\n",
       "<tr>\n",
       "  <th>sqft_basement_(450, 980]</th>  <td>    0.0148</td> <td>    0.002</td> <td>    6.609</td> <td> 0.000</td> <td>    0.010</td> <td>    0.019</td>\n",
       "</tr>\n",
       "<tr>\n",
       "  <th>sqft_basement_(980, 5000]</th> <td>    0.0292</td> <td>    0.003</td> <td>    9.621</td> <td> 0.000</td> <td>    0.023</td> <td>    0.035</td>\n",
       "</tr>\n",
       "<tr>\n",
       "  <th>date_log</th>                  <td>    0.0170</td> <td>    0.001</td> <td>   12.854</td> <td> 0.000</td> <td>    0.014</td> <td>    0.020</td>\n",
       "</tr>\n",
       "<tr>\n",
       "  <th>sqft_living_log</th>           <td>    0.1412</td> <td>    0.019</td> <td>    7.625</td> <td> 0.000</td> <td>    0.105</td> <td>    0.177</td>\n",
       "</tr>\n",
       "<tr>\n",
       "  <th>sqft_lot_log</th>              <td>    0.0302</td> <td>    0.009</td> <td>    3.342</td> <td> 0.001</td> <td>    0.012</td> <td>    0.048</td>\n",
       "</tr>\n",
       "<tr>\n",
       "  <th>sqft_above_log</th>            <td>    0.1139</td> <td>    0.016</td> <td>    7.263</td> <td> 0.000</td> <td>    0.083</td> <td>    0.145</td>\n",
       "</tr>\n",
       "<tr>\n",
       "  <th>yr_built_log</th>              <td>   -0.1084</td> <td>    0.002</td> <td>  -49.260</td> <td> 0.000</td> <td>   -0.113</td> <td>   -0.104</td>\n",
       "</tr>\n",
       "<tr>\n",
       "  <th>sqft_living15_log</th>         <td>    0.1459</td> <td>    0.005</td> <td>   27.136</td> <td> 0.000</td> <td>    0.135</td> <td>    0.156</td>\n",
       "</tr>\n",
       "<tr>\n",
       "  <th>sqft_lot15_log</th>            <td>   -0.0528</td> <td>    0.009</td> <td>   -6.044</td> <td> 0.000</td> <td>   -0.070</td> <td>   -0.036</td>\n",
       "</tr>\n",
       "<tr>\n",
       "  <th>zipcode_log</th>               <td>   -0.0214</td> <td>    0.002</td> <td>  -11.771</td> <td> 0.000</td> <td>   -0.025</td> <td>   -0.018</td>\n",
       "</tr>\n",
       "</table>\n",
       "<table class=\"simpletable\">\n",
       "<tr>\n",
       "  <th>Omnibus:</th>       <td>504.430</td> <th>  Durbin-Watson:     </th> <td>   1.988</td> \n",
       "</tr>\n",
       "<tr>\n",
       "  <th>Prob(Omnibus):</th> <td> 0.000</td>  <th>  Jarque-Bera (JB):  </th> <td> 905.245</td> \n",
       "</tr>\n",
       "<tr>\n",
       "  <th>Skew:</th>          <td> 0.190</td>  <th>  Prob(JB):          </th> <td>2.68e-197</td>\n",
       "</tr>\n",
       "<tr>\n",
       "  <th>Kurtosis:</th>      <td> 3.929</td>  <th>  Cond. No.          </th> <td>1.69e+05</td> \n",
       "</tr>\n",
       "</table><br/><br/>Warnings:<br/>[1] Standard Errors assume that the covariance matrix of the errors is correctly specified.<br/>[2] The condition number is large, 1.69e+05. This might indicate that there are<br/>strong multicollinearity or other numerical problems."
      ],
      "text/plain": [
       "<class 'statsmodels.iolib.summary.Summary'>\n",
       "\"\"\"\n",
       "                            OLS Regression Results                            \n",
       "==============================================================================\n",
       "Dep. Variable:              price_log   R-squared:                       0.759\n",
       "Model:                            OLS   Adj. R-squared:                  0.759\n",
       "Method:                 Least Squares   F-statistic:                     3785.\n",
       "Date:                Mon, 11 May 2020   Prob (F-statistic):               0.00\n",
       "Time:                        16:42:36   Log-Likelihood:                 31514.\n",
       "No. Observations:               21596   AIC:                        -6.299e+04\n",
       "Df Residuals:                   21577   BIC:                        -6.284e+04\n",
       "Df Model:                          18                                         \n",
       "Covariance Type:            nonrobust                                         \n",
       "=============================================================================================\n",
       "                                coef    std err          t      P>|t|      [0.025      0.975]\n",
       "---------------------------------------------------------------------------------------------\n",
       "const                       -17.4478      0.491    -35.563      0.000     -18.409     -16.486\n",
       "bedrooms                     -0.0085      0.001    -14.738      0.000      -0.010      -0.007\n",
       "bathrooms                     0.0173      0.001     19.220      0.000       0.016       0.019\n",
       "floors                        0.0124      0.001     11.233      0.000       0.010       0.015\n",
       "condition                     0.0132      0.001     20.303      0.000       0.012       0.015\n",
       "grade                         0.0379      0.001     65.120      0.000       0.037       0.039\n",
       "lat                           0.2894      0.003     96.303      0.000       0.284       0.295\n",
       "long                          0.0293      0.004      7.848      0.000       0.022       0.037\n",
       "sqft_basement_(109, 450]      0.0184      0.002     10.827      0.000       0.015       0.022\n",
       "sqft_basement_(450, 980]      0.0148      0.002      6.609      0.000       0.010       0.019\n",
       "sqft_basement_(980, 5000]     0.0292      0.003      9.621      0.000       0.023       0.035\n",
       "date_log                      0.0170      0.001     12.854      0.000       0.014       0.020\n",
       "sqft_living_log               0.1412      0.019      7.625      0.000       0.105       0.177\n",
       "sqft_lot_log                  0.0302      0.009      3.342      0.001       0.012       0.048\n",
       "sqft_above_log                0.1139      0.016      7.263      0.000       0.083       0.145\n",
       "yr_built_log                 -0.1084      0.002    -49.260      0.000      -0.113      -0.104\n",
       "sqft_living15_log             0.1459      0.005     27.136      0.000       0.135       0.156\n",
       "sqft_lot15_log               -0.0528      0.009     -6.044      0.000      -0.070      -0.036\n",
       "zipcode_log                  -0.0214      0.002    -11.771      0.000      -0.025      -0.018\n",
       "==============================================================================\n",
       "Omnibus:                      504.430   Durbin-Watson:                   1.988\n",
       "Prob(Omnibus):                  0.000   Jarque-Bera (JB):              905.245\n",
       "Skew:                           0.190   Prob(JB):                    2.68e-197\n",
       "Kurtosis:                       3.929   Cond. No.                     1.69e+05\n",
       "==============================================================================\n",
       "\n",
       "Warnings:\n",
       "[1] Standard Errors assume that the covariance matrix of the errors is correctly specified.\n",
       "[2] The condition number is large, 1.69e+05. This might indicate that there are\n",
       "strong multicollinearity or other numerical problems.\n",
       "\"\"\""
      ]
     },
     "execution_count": 37,
     "metadata": {},
     "output_type": "execute_result"
    }
   ],
   "source": [
    "import statsmodels.api as sm\n",
    "X = sm.add_constant(X)\n",
    "model = sm.OLS(y,X)\n",
    "results = model.fit()\n",
    "\n",
    "results.summary()"
   ]
  },
  {
   "cell_type": "markdown",
   "metadata": {},
   "source": [
    "### Interactions"
   ]
  },
  {
   "cell_type": "code",
   "execution_count": 38,
   "metadata": {},
   "outputs": [
    {
     "name": "stdout",
     "output_type": "stream",
     "text": [
      "Top 3 interactions: [('lat', 'sqft_lot15_log', 0.7659), ('lat', 'sqft_lot_log', 0.76565), ('long', 'zipcode_log', 0.7635)]\n"
     ]
    }
   ],
   "source": [
    "from itertools import combinations\n",
    "\n",
    "# Find top interactions by R^2 value\n",
    "\n",
    "# Use combinations from itertools to create all possible combinations of two features\n",
    "feat_combinations = combinations(X_train.columns, 2)\n",
    "\n",
    "# Empty list to fill for interactons values\n",
    "interactions = []\n",
    "\n",
    "# for i, (feature1,feature2) in feature_combinations:\n",
    "for i, (a, b) in enumerate(feat_combinations):\n",
    "    # fill interatctions list with feature a * feature b\n",
    "    X_train['interaction'] = X_train[a] * X_train[b]\n",
    "    R2 = np.mean(cross_val_score(linreg, X_train, y_train, scoring='r2', cv=crossval))\n",
    "    if R2 > baseline_R2:\n",
    "        interactions.append((a, b, round(R2,5)))\n",
    "            \n",
    "print('Top 3 interactions: %s' %sorted(interactions, key=lambda inter: inter[2], reverse=True)[:3])"
   ]
  },
  {
   "cell_type": "markdown",
   "metadata": {},
   "source": [
    "# Best Performing Model - So Far"
   ]
  },
  {
   "cell_type": "code",
   "execution_count": 39,
   "metadata": {},
   "outputs": [
    {
     "name": "stdout",
     "output_type": "stream",
     "text": [
      "0.771268996216908\n"
     ]
    },
    {
     "name": "stderr",
     "output_type": "stream",
     "text": [
      "/opt/anaconda3/envs/learn-env/lib/python3.6/site-packages/numpy/core/fromnumeric.py:2389: FutureWarning: Method .ptp is deprecated and will be removed in a future version. Use numpy.ptp instead.\n",
      "  return ptp(axis=axis, out=out, **kwargs)\n"
     ]
    },
    {
     "data": {
      "text/html": [
       "<table class=\"simpletable\">\n",
       "<caption>OLS Regression Results</caption>\n",
       "<tr>\n",
       "  <th>Dep. Variable:</th>        <td>price_log</td>    <th>  R-squared:         </th>  <td>   0.772</td> \n",
       "</tr>\n",
       "<tr>\n",
       "  <th>Model:</th>                   <td>OLS</td>       <th>  Adj. R-squared:    </th>  <td>   0.772</td> \n",
       "</tr>\n",
       "<tr>\n",
       "  <th>Method:</th>             <td>Least Squares</td>  <th>  F-statistic:       </th>  <td>   3325.</td> \n",
       "</tr>\n",
       "<tr>\n",
       "  <th>Date:</th>             <td>Mon, 11 May 2020</td> <th>  Prob (F-statistic):</th>   <td>  0.00</td>  \n",
       "</tr>\n",
       "<tr>\n",
       "  <th>Time:</th>                 <td>16:42:42</td>     <th>  Log-Likelihood:    </th>  <td>  32104.</td> \n",
       "</tr>\n",
       "<tr>\n",
       "  <th>No. Observations:</th>      <td> 21596</td>      <th>  AIC:               </th> <td>-6.416e+04</td>\n",
       "</tr>\n",
       "<tr>\n",
       "  <th>Df Residuals:</th>          <td> 21573</td>      <th>  BIC:               </th> <td>-6.398e+04</td>\n",
       "</tr>\n",
       "<tr>\n",
       "  <th>Df Model:</th>              <td>    22</td>      <th>                     </th>      <td> </td>    \n",
       "</tr>\n",
       "<tr>\n",
       "  <th>Covariance Type:</th>      <td>nonrobust</td>    <th>                     </th>      <td> </td>    \n",
       "</tr>\n",
       "</table>\n",
       "<table class=\"simpletable\">\n",
       "<tr>\n",
       "              <td></td>                 <th>coef</th>     <th>std err</th>      <th>t</th>      <th>P>|t|</th>  <th>[0.025</th>    <th>0.975]</th>  \n",
       "</tr>\n",
       "<tr>\n",
       "  <th>const</th>                     <td> 1243.7997</td> <td>  134.548</td> <td>    9.244</td> <td> 0.000</td> <td>  980.077</td> <td> 1507.523</td>\n",
       "</tr>\n",
       "<tr>\n",
       "  <th>bedrooms</th>                  <td>   -0.0074</td> <td>    0.001</td> <td>  -13.297</td> <td> 0.000</td> <td>   -0.009</td> <td>   -0.006</td>\n",
       "</tr>\n",
       "<tr>\n",
       "  <th>bathrooms</th>                 <td>    0.0165</td> <td>    0.001</td> <td>   18.854</td> <td> 0.000</td> <td>    0.015</td> <td>    0.018</td>\n",
       "</tr>\n",
       "<tr>\n",
       "  <th>floors</th>                    <td>    0.0063</td> <td>    0.001</td> <td>    5.776</td> <td> 0.000</td> <td>    0.004</td> <td>    0.008</td>\n",
       "</tr>\n",
       "<tr>\n",
       "  <th>condition</th>                 <td>    0.0121</td> <td>    0.001</td> <td>   19.008</td> <td> 0.000</td> <td>    0.011</td> <td>    0.013</td>\n",
       "</tr>\n",
       "<tr>\n",
       "  <th>grade</th>                     <td>    0.0368</td> <td>    0.001</td> <td>   64.921</td> <td> 0.000</td> <td>    0.036</td> <td>    0.038</td>\n",
       "</tr>\n",
       "<tr>\n",
       "  <th>lat</th>                       <td>  -26.0074</td> <td>    2.834</td> <td>   -9.176</td> <td> 0.000</td> <td>  -31.563</td> <td>  -20.452</td>\n",
       "</tr>\n",
       "<tr>\n",
       "  <th>long</th>                      <td>  -10.3679</td> <td>    1.100</td> <td>   -9.427</td> <td> 0.000</td> <td>  -12.524</td> <td>   -8.212</td>\n",
       "</tr>\n",
       "<tr>\n",
       "  <th>sqft_basement_(109, 450]</th>  <td>    0.0157</td> <td>    0.002</td> <td>    9.501</td> <td> 0.000</td> <td>    0.012</td> <td>    0.019</td>\n",
       "</tr>\n",
       "<tr>\n",
       "  <th>sqft_basement_(450, 980]</th>  <td>    0.0131</td> <td>    0.002</td> <td>    6.034</td> <td> 0.000</td> <td>    0.009</td> <td>    0.017</td>\n",
       "</tr>\n",
       "<tr>\n",
       "  <th>sqft_basement_(980, 5000]</th> <td>    0.0254</td> <td>    0.003</td> <td>    8.589</td> <td> 0.000</td> <td>    0.020</td> <td>    0.031</td>\n",
       "</tr>\n",
       "<tr>\n",
       "  <th>date_log</th>                  <td>    0.0170</td> <td>    0.001</td> <td>   13.186</td> <td> 0.000</td> <td>    0.014</td> <td>    0.020</td>\n",
       "</tr>\n",
       "<tr>\n",
       "  <th>sqft_living_log</th>           <td>    0.1431</td> <td>    0.018</td> <td>    7.938</td> <td> 0.000</td> <td>    0.108</td> <td>    0.178</td>\n",
       "</tr>\n",
       "<tr>\n",
       "  <th>sqft_lot_log</th>              <td>    8.1453</td> <td>    2.928</td> <td>    2.782</td> <td> 0.005</td> <td>    2.406</td> <td>   13.884</td>\n",
       "</tr>\n",
       "<tr>\n",
       "  <th>sqft_above_log</th>            <td>    0.1293</td> <td>    0.015</td> <td>    8.458</td> <td> 0.000</td> <td>    0.099</td> <td>    0.159</td>\n",
       "</tr>\n",
       "<tr>\n",
       "  <th>yr_built_log</th>              <td>   -0.1017</td> <td>    0.002</td> <td>  -47.175</td> <td> 0.000</td> <td>   -0.106</td> <td>   -0.097</td>\n",
       "</tr>\n",
       "<tr>\n",
       "  <th>sqft_living15_log</th>         <td>    0.1661</td> <td>    0.005</td> <td>   31.492</td> <td> 0.000</td> <td>    0.156</td> <td>    0.176</td>\n",
       "</tr>\n",
       "<tr>\n",
       "  <th>sqft_lot15_log</th>            <td>   17.4410</td> <td>    2.891</td> <td>    6.032</td> <td> 0.000</td> <td>   11.774</td> <td>   23.108</td>\n",
       "</tr>\n",
       "<tr>\n",
       "  <th>zipcode_log</th>               <td>  -39.9407</td> <td>    2.171</td> <td>  -18.395</td> <td> 0.000</td> <td>  -44.197</td> <td>  -35.685</td>\n",
       "</tr>\n",
       "<tr>\n",
       "  <th>lat*sqft_lot15_log</th>        <td>   -0.3680</td> <td>    0.061</td> <td>   -6.052</td> <td> 0.000</td> <td>   -0.487</td> <td>   -0.249</td>\n",
       "</tr>\n",
       "<tr>\n",
       "  <th>lat*sqft_lot_log</th>          <td>   -0.1708</td> <td>    0.062</td> <td>   -2.773</td> <td> 0.006</td> <td>   -0.291</td> <td>   -0.050</td>\n",
       "</tr>\n",
       "<tr>\n",
       "  <th>long*zipcode_log</th>          <td>    0.3264</td> <td>    0.018</td> <td>   18.382</td> <td> 0.000</td> <td>    0.292</td> <td>    0.361</td>\n",
       "</tr>\n",
       "<tr>\n",
       "  <th>lat*long</th>                  <td>    0.2168</td> <td>    0.023</td> <td>    9.357</td> <td> 0.000</td> <td>    0.171</td> <td>    0.262</td>\n",
       "</tr>\n",
       "</table>\n",
       "<table class=\"simpletable\">\n",
       "<tr>\n",
       "  <th>Omnibus:</th>       <td>599.029</td> <th>  Durbin-Watson:     </th> <td>   1.987</td> \n",
       "</tr>\n",
       "<tr>\n",
       "  <th>Prob(Omnibus):</th> <td> 0.000</td>  <th>  Jarque-Bera (JB):  </th> <td>1250.630</td> \n",
       "</tr>\n",
       "<tr>\n",
       "  <th>Skew:</th>          <td> 0.173</td>  <th>  Prob(JB):          </th> <td>2.69e-272</td>\n",
       "</tr>\n",
       "<tr>\n",
       "  <th>Kurtosis:</th>      <td> 4.127</td>  <th>  Cond. No.          </th> <td>2.10e+09</td> \n",
       "</tr>\n",
       "</table><br/><br/>Warnings:<br/>[1] Standard Errors assume that the covariance matrix of the errors is correctly specified.<br/>[2] The condition number is large, 2.1e+09. This might indicate that there are<br/>strong multicollinearity or other numerical problems."
      ],
      "text/plain": [
       "<class 'statsmodels.iolib.summary.Summary'>\n",
       "\"\"\"\n",
       "                            OLS Regression Results                            \n",
       "==============================================================================\n",
       "Dep. Variable:              price_log   R-squared:                       0.772\n",
       "Model:                            OLS   Adj. R-squared:                  0.772\n",
       "Method:                 Least Squares   F-statistic:                     3325.\n",
       "Date:                Mon, 11 May 2020   Prob (F-statistic):               0.00\n",
       "Time:                        16:42:42   Log-Likelihood:                 32104.\n",
       "No. Observations:               21596   AIC:                        -6.416e+04\n",
       "Df Residuals:                   21573   BIC:                        -6.398e+04\n",
       "Df Model:                          22                                         \n",
       "Covariance Type:            nonrobust                                         \n",
       "=============================================================================================\n",
       "                                coef    std err          t      P>|t|      [0.025      0.975]\n",
       "---------------------------------------------------------------------------------------------\n",
       "const                      1243.7997    134.548      9.244      0.000     980.077    1507.523\n",
       "bedrooms                     -0.0074      0.001    -13.297      0.000      -0.009      -0.006\n",
       "bathrooms                     0.0165      0.001     18.854      0.000       0.015       0.018\n",
       "floors                        0.0063      0.001      5.776      0.000       0.004       0.008\n",
       "condition                     0.0121      0.001     19.008      0.000       0.011       0.013\n",
       "grade                         0.0368      0.001     64.921      0.000       0.036       0.038\n",
       "lat                         -26.0074      2.834     -9.176      0.000     -31.563     -20.452\n",
       "long                        -10.3679      1.100     -9.427      0.000     -12.524      -8.212\n",
       "sqft_basement_(109, 450]      0.0157      0.002      9.501      0.000       0.012       0.019\n",
       "sqft_basement_(450, 980]      0.0131      0.002      6.034      0.000       0.009       0.017\n",
       "sqft_basement_(980, 5000]     0.0254      0.003      8.589      0.000       0.020       0.031\n",
       "date_log                      0.0170      0.001     13.186      0.000       0.014       0.020\n",
       "sqft_living_log               0.1431      0.018      7.938      0.000       0.108       0.178\n",
       "sqft_lot_log                  8.1453      2.928      2.782      0.005       2.406      13.884\n",
       "sqft_above_log                0.1293      0.015      8.458      0.000       0.099       0.159\n",
       "yr_built_log                 -0.1017      0.002    -47.175      0.000      -0.106      -0.097\n",
       "sqft_living15_log             0.1661      0.005     31.492      0.000       0.156       0.176\n",
       "sqft_lot15_log               17.4410      2.891      6.032      0.000      11.774      23.108\n",
       "zipcode_log                 -39.9407      2.171    -18.395      0.000     -44.197     -35.685\n",
       "lat*sqft_lot15_log           -0.3680      0.061     -6.052      0.000      -0.487      -0.249\n",
       "lat*sqft_lot_log             -0.1708      0.062     -2.773      0.006      -0.291      -0.050\n",
       "long*zipcode_log              0.3264      0.018     18.382      0.000       0.292       0.361\n",
       "lat*long                      0.2168      0.023      9.357      0.000       0.171       0.262\n",
       "==============================================================================\n",
       "Omnibus:                      599.029   Durbin-Watson:                   1.987\n",
       "Prob(Omnibus):                  0.000   Jarque-Bera (JB):             1250.630\n",
       "Skew:                           0.173   Prob(JB):                    2.69e-272\n",
       "Kurtosis:                       4.127   Cond. No.                     2.10e+09\n",
       "==============================================================================\n",
       "\n",
       "Warnings:\n",
       "[1] Standard Errors assume that the covariance matrix of the errors is correctly specified.\n",
       "[2] The condition number is large, 2.1e+09. This might indicate that there are\n",
       "strong multicollinearity or other numerical problems.\n",
       "\"\"\""
      ]
     },
     "execution_count": 39,
     "metadata": {},
     "output_type": "execute_result"
    }
   ],
   "source": [
    "#Build a final model with interactions\n",
    "#Use 10-fold cross-validation to build a model using the above interaction.\n",
    "\n",
    "crossval = KFold(n_splits=10, shuffle=True, random_state=1)\n",
    "final = X.copy()\n",
    "\n",
    "final['lat*sqft_lot15_log'] = final['lat'] * final['sqft_lot15_log']\n",
    "final['lat*sqft_lot_log'] = final['lat'] * final['sqft_lot_log']\n",
    "#final['sqft_lot_log*sqft_lot15_log'] = final['sqft_lot_log'] * final['sqft_lot15_log']\n",
    "final['long*zipcode_log'] = final['long'] * final['zipcode_log']\n",
    "\n",
    "final['lat*long'] = final['lat'] * final['long']\n",
    "\n",
    "final_model_R2 = np.mean(cross_val_score(linreg, final, y, scoring='r2', cv=crossval))\n",
    "\n",
    "print(final_model_R2)\n",
    "\n",
    "import statsmodels.api as sm\n",
    "df_inter_sm = sm.add_constant(final)\n",
    "model = sm.OLS(y,final)\n",
    "results = model.fit()\n",
    "\n",
    "results.summary()"
   ]
  },
  {
   "cell_type": "code",
   "execution_count": 40,
   "metadata": {},
   "outputs": [
    {
     "name": "stdout",
     "output_type": "stream",
     "text": [
      "RMSE: 0.054981774712325016\n"
     ]
    }
   ],
   "source": [
    "# Test Errors Results\n",
    "cv_5_results = cross_val_score(linreg, final, y, cv=5, scoring=mse)\n",
    "cv_5_results\n",
    "\n",
    "\n",
    "print(f\"RMSE: {np.sqrt(cv_5_results.mean())}\")"
   ]
  },
  {
   "cell_type": "code",
   "execution_count": null,
   "metadata": {},
   "outputs": [],
   "source": []
  },
  {
   "cell_type": "code",
   "execution_count": 41,
   "metadata": {},
   "outputs": [
    {
     "data": {
      "image/png": "[encoded data removed]",
      "text/plain": [
       "<Figure size 432x288 with 1 Axes>"
      ]
     },
     "metadata": {
      "needs_background": "light"
     },
     "output_type": "display_data"
    }
   ],
   "source": [
    "fig = sm.graphics.qqplot(results.resid, dist=stats.norm, line='45', fit=True)"
   ]
  },
  {
   "cell_type": "code",
   "execution_count": 42,
   "metadata": {},
   "outputs": [
    {
     "name": "stdout",
     "output_type": "stream",
     "text": [
      "0.7709538511967806\n"
     ]
    },
    {
     "name": "stderr",
     "output_type": "stream",
     "text": [
      "/opt/anaconda3/envs/learn-env/lib/python3.6/site-packages/numpy/core/fromnumeric.py:2389: FutureWarning: Method .ptp is deprecated and will be removed in a future version. Use numpy.ptp instead.\n",
      "  return ptp(axis=axis, out=out, **kwargs)\n"
     ]
    },
    {
     "data": {
      "text/html": [
       "<table class=\"simpletable\">\n",
       "<caption>OLS Regression Results</caption>\n",
       "<tr>\n",
       "  <th>Dep. Variable:</th>        <td>price_log</td>    <th>  R-squared:         </th>  <td>   0.772</td> \n",
       "</tr>\n",
       "<tr>\n",
       "  <th>Model:</th>                   <td>OLS</td>       <th>  Adj. R-squared:    </th>  <td>   0.772</td> \n",
       "</tr>\n",
       "<tr>\n",
       "  <th>Method:</th>             <td>Least Squares</td>  <th>  F-statistic:       </th>  <td>   3476.</td> \n",
       "</tr>\n",
       "<tr>\n",
       "  <th>Date:</th>             <td>Mon, 11 May 2020</td> <th>  Prob (F-statistic):</th>   <td>  0.00</td>  \n",
       "</tr>\n",
       "<tr>\n",
       "  <th>Time:</th>                 <td>16:42:43</td>     <th>  Log-Likelihood:    </th>  <td>  32087.</td> \n",
       "</tr>\n",
       "<tr>\n",
       "  <th>No. Observations:</th>      <td> 21596</td>      <th>  AIC:               </th> <td>-6.413e+04</td>\n",
       "</tr>\n",
       "<tr>\n",
       "  <th>Df Residuals:</th>          <td> 21574</td>      <th>  BIC:               </th> <td>-6.395e+04</td>\n",
       "</tr>\n",
       "<tr>\n",
       "  <th>Df Model:</th>              <td>    21</td>      <th>                     </th>      <td> </td>    \n",
       "</tr>\n",
       "<tr>\n",
       "  <th>Covariance Type:</th>      <td>nonrobust</td>    <th>                     </th>      <td> </td>    \n",
       "</tr>\n",
       "</table>\n",
       "<table class=\"simpletable\">\n",
       "<tr>\n",
       "              <td></td>                 <th>coef</th>     <th>std err</th>      <th>t</th>      <th>P>|t|</th>  <th>[0.025</th>    <th>0.975]</th>  \n",
       "</tr>\n",
       "<tr>\n",
       "  <th>const</th>                     <td> 1243.9335</td> <td>  134.648</td> <td>    9.238</td> <td> 0.000</td> <td>  980.013</td> <td> 1507.854</td>\n",
       "</tr>\n",
       "<tr>\n",
       "  <th>bedrooms</th>                  <td>   -0.0076</td> <td>    0.001</td> <td>  -13.601</td> <td> 0.000</td> <td>   -0.009</td> <td>   -0.007</td>\n",
       "</tr>\n",
       "<tr>\n",
       "  <th>bathrooms</th>                 <td>    0.0175</td> <td>    0.001</td> <td>   20.417</td> <td> 0.000</td> <td>    0.016</td> <td>    0.019</td>\n",
       "</tr>\n",
       "<tr>\n",
       "  <th>condition</th>                 <td>    0.0118</td> <td>    0.001</td> <td>   18.653</td> <td> 0.000</td> <td>    0.011</td> <td>    0.013</td>\n",
       "</tr>\n",
       "<tr>\n",
       "  <th>grade</th>                     <td>    0.0370</td> <td>    0.001</td> <td>   65.199</td> <td> 0.000</td> <td>    0.036</td> <td>    0.038</td>\n",
       "</tr>\n",
       "<tr>\n",
       "  <th>lat</th>                       <td>  -26.0063</td> <td>    2.836</td> <td>   -9.169</td> <td> 0.000</td> <td>  -31.566</td> <td>  -20.447</td>\n",
       "</tr>\n",
       "<tr>\n",
       "  <th>long</th>                      <td>  -10.3729</td> <td>    1.101</td> <td>   -9.424</td> <td> 0.000</td> <td>  -12.530</td> <td>   -8.216</td>\n",
       "</tr>\n",
       "<tr>\n",
       "  <th>sqft_basement_(109, 450]</th>  <td>    0.0155</td> <td>    0.002</td> <td>    9.350</td> <td> 0.000</td> <td>    0.012</td> <td>    0.019</td>\n",
       "</tr>\n",
       "<tr>\n",
       "  <th>sqft_basement_(450, 980]</th>  <td>    0.0127</td> <td>    0.002</td> <td>    5.845</td> <td> 0.000</td> <td>    0.008</td> <td>    0.017</td>\n",
       "</tr>\n",
       "<tr>\n",
       "  <th>sqft_basement_(980, 5000]</th> <td>    0.0247</td> <td>    0.003</td> <td>    8.349</td> <td> 0.000</td> <td>    0.019</td> <td>    0.030</td>\n",
       "</tr>\n",
       "<tr>\n",
       "  <th>date_log</th>                  <td>    0.0169</td> <td>    0.001</td> <td>   13.089</td> <td> 0.000</td> <td>    0.014</td> <td>    0.019</td>\n",
       "</tr>\n",
       "<tr>\n",
       "  <th>sqft_living_log</th>           <td>    0.1342</td> <td>    0.018</td> <td>    7.467</td> <td> 0.000</td> <td>    0.099</td> <td>    0.169</td>\n",
       "</tr>\n",
       "<tr>\n",
       "  <th>sqft_lot_log</th>              <td>    9.3774</td> <td>    2.922</td> <td>    3.209</td> <td> 0.001</td> <td>    3.649</td> <td>   15.105</td>\n",
       "</tr>\n",
       "<tr>\n",
       "  <th>sqft_above_log</th>            <td>    0.1481</td> <td>    0.015</td> <td>    9.911</td> <td> 0.000</td> <td>    0.119</td> <td>    0.177</td>\n",
       "</tr>\n",
       "<tr>\n",
       "  <th>yr_built_log</th>              <td>   -0.0996</td> <td>    0.002</td> <td>  -46.829</td> <td> 0.000</td> <td>   -0.104</td> <td>   -0.095</td>\n",
       "</tr>\n",
       "<tr>\n",
       "  <th>sqft_living15_log</th>         <td>    0.1648</td> <td>    0.005</td> <td>   31.250</td> <td> 0.000</td> <td>    0.154</td> <td>    0.175</td>\n",
       "</tr>\n",
       "<tr>\n",
       "  <th>sqft_lot15_log</th>            <td>   17.4401</td> <td>    2.893</td> <td>    6.027</td> <td> 0.000</td> <td>   11.769</td> <td>   23.112</td>\n",
       "</tr>\n",
       "<tr>\n",
       "  <th>zipcode_log</th>               <td>  -40.4333</td> <td>    2.171</td> <td>  -18.622</td> <td> 0.000</td> <td>  -44.689</td> <td>  -36.177</td>\n",
       "</tr>\n",
       "<tr>\n",
       "  <th>lat*sqft_lot15_log</th>        <td>   -0.3680</td> <td>    0.061</td> <td>   -6.048</td> <td> 0.000</td> <td>   -0.487</td> <td>   -0.249</td>\n",
       "</tr>\n",
       "<tr>\n",
       "  <th>lat*sqft_lot_log</th>          <td>   -0.1968</td> <td>    0.061</td> <td>   -3.202</td> <td> 0.001</td> <td>   -0.317</td> <td>   -0.076</td>\n",
       "</tr>\n",
       "<tr>\n",
       "  <th>long*zipcode_log</th>          <td>    0.3305</td> <td>    0.018</td> <td>   18.610</td> <td> 0.000</td> <td>    0.296</td> <td>    0.365</td>\n",
       "</tr>\n",
       "<tr>\n",
       "  <th>lat*long</th>                  <td>    0.2169</td> <td>    0.023</td> <td>    9.353</td> <td> 0.000</td> <td>    0.171</td> <td>    0.262</td>\n",
       "</tr>\n",
       "</table>\n",
       "<table class=\"simpletable\">\n",
       "<tr>\n",
       "  <th>Omnibus:</th>       <td>593.714</td> <th>  Durbin-Watson:     </th> <td>   1.985</td> \n",
       "</tr>\n",
       "<tr>\n",
       "  <th>Prob(Omnibus):</th> <td> 0.000</td>  <th>  Jarque-Bera (JB):  </th> <td>1235.286</td> \n",
       "</tr>\n",
       "<tr>\n",
       "  <th>Skew:</th>          <td> 0.172</td>  <th>  Prob(JB):          </th> <td>5.77e-269</td>\n",
       "</tr>\n",
       "<tr>\n",
       "  <th>Kurtosis:</th>      <td> 4.120</td>  <th>  Cond. No.          </th> <td>2.10e+09</td> \n",
       "</tr>\n",
       "</table><br/><br/>Warnings:<br/>[1] Standard Errors assume that the covariance matrix of the errors is correctly specified.<br/>[2] The condition number is large, 2.1e+09. This might indicate that there are<br/>strong multicollinearity or other numerical problems."
      ],
      "text/plain": [
       "<class 'statsmodels.iolib.summary.Summary'>\n",
       "\"\"\"\n",
       "                            OLS Regression Results                            \n",
       "==============================================================================\n",
       "Dep. Variable:              price_log   R-squared:                       0.772\n",
       "Model:                            OLS   Adj. R-squared:                  0.772\n",
       "Method:                 Least Squares   F-statistic:                     3476.\n",
       "Date:                Mon, 11 May 2020   Prob (F-statistic):               0.00\n",
       "Time:                        16:42:43   Log-Likelihood:                 32087.\n",
       "No. Observations:               21596   AIC:                        -6.413e+04\n",
       "Df Residuals:                   21574   BIC:                        -6.395e+04\n",
       "Df Model:                          21                                         \n",
       "Covariance Type:            nonrobust                                         \n",
       "=============================================================================================\n",
       "                                coef    std err          t      P>|t|      [0.025      0.975]\n",
       "---------------------------------------------------------------------------------------------\n",
       "const                      1243.9335    134.648      9.238      0.000     980.013    1507.854\n",
       "bedrooms                     -0.0076      0.001    -13.601      0.000      -0.009      -0.007\n",
       "bathrooms                     0.0175      0.001     20.417      0.000       0.016       0.019\n",
       "condition                     0.0118      0.001     18.653      0.000       0.011       0.013\n",
       "grade                         0.0370      0.001     65.199      0.000       0.036       0.038\n",
       "lat                         -26.0063      2.836     -9.169      0.000     -31.566     -20.447\n",
       "long                        -10.3729      1.101     -9.424      0.000     -12.530      -8.216\n",
       "sqft_basement_(109, 450]      0.0155      0.002      9.350      0.000       0.012       0.019\n",
       "sqft_basement_(450, 980]      0.0127      0.002      5.845      0.000       0.008       0.017\n",
       "sqft_basement_(980, 5000]     0.0247      0.003      8.349      0.000       0.019       0.030\n",
       "date_log                      0.0169      0.001     13.089      0.000       0.014       0.019\n",
       "sqft_living_log               0.1342      0.018      7.467      0.000       0.099       0.169\n",
       "sqft_lot_log                  9.3774      2.922      3.209      0.001       3.649      15.105\n",
       "sqft_above_log                0.1481      0.015      9.911      0.000       0.119       0.177\n",
       "yr_built_log                 -0.0996      0.002    -46.829      0.000      -0.104      -0.095\n",
       "sqft_living15_log             0.1648      0.005     31.250      0.000       0.154       0.175\n",
       "sqft_lot15_log               17.4401      2.893      6.027      0.000      11.769      23.112\n",
       "zipcode_log                 -40.4333      2.171    -18.622      0.000     -44.689     -36.177\n",
       "lat*sqft_lot15_log           -0.3680      0.061     -6.048      0.000      -0.487      -0.249\n",
       "lat*sqft_lot_log             -0.1968      0.061     -3.202      0.001      -0.317      -0.076\n",
       "long*zipcode_log              0.3305      0.018     18.610      0.000       0.296       0.365\n",
       "lat*long                      0.2169      0.023      9.353      0.000       0.171       0.262\n",
       "==============================================================================\n",
       "Omnibus:                      593.714   Durbin-Watson:                   1.985\n",
       "Prob(Omnibus):                  0.000   Jarque-Bera (JB):             1235.286\n",
       "Skew:                           0.172   Prob(JB):                    5.77e-269\n",
       "Kurtosis:                       4.120   Cond. No.                     2.10e+09\n",
       "==============================================================================\n",
       "\n",
       "Warnings:\n",
       "[1] Standard Errors assume that the covariance matrix of the errors is correctly specified.\n",
       "[2] The condition number is large, 2.1e+09. This might indicate that there are\n",
       "strong multicollinearity or other numerical problems.\n",
       "\"\"\""
      ]
     },
     "execution_count": 42,
     "metadata": {},
     "output_type": "execute_result"
    }
   ],
   "source": [
    "final = final.drop(['floors'],axis=1)\n",
    "\n",
    "final_model_R2 = np.mean(cross_val_score(linreg, final, y, scoring='r2', cv=crossval))\n",
    "\n",
    "print(final_model_R2)\n",
    "\n",
    "import statsmodels.api as sm\n",
    "df_inter_sm = sm.add_constant(final)\n",
    "model = sm.OLS(y,final)\n",
    "results = model.fit()\n",
    "\n",
    "results.summary()"
   ]
  },
  {
   "cell_type": "code",
   "execution_count": null,
   "metadata": {},
   "outputs": [],
   "source": [
    "# Test Errors Results\n",
    "cv_5_results = cross_val_score(linreg, final, y, cv=5, scoring=mse)\n",
    "cv_5_results\n",
    "\n",
    "\n",
    "print(f\"RMSE: {np.sqrt(cv_5_results.mean())}\")"
   ]
  },
  {
   "cell_type": "code",
   "execution_count": null,
   "metadata": {},
   "outputs": [],
   "source": [
    "abs(final.corr() > 0.75)"
   ]
  },
  {
   "cell_type": "code",
   "execution_count": null,
   "metadata": {
    "scrolled": true
   },
   "outputs": [],
   "source": [
    "#final = final.drop(['sqft_lot15_log','lat*sqft_lot15_log','sqft_lot_log*sqft_lot15_log'],axis=1)\n",
    "#final = final.drop(['sqft_lot15_log','lat*sqft_lot15_log'],axis=1)\n",
    "final = final.drop(['sqft_lot15_log','lat*sqft_lot15_log','sqft_lot_log*sqft_lot15_log'],axis=1)\n",
    "\n",
    "final_model_R2 = np.mean(cross_val_score(linreg, final, y, scoring='r2', cv=crossval))\n",
    "\n",
    "print(final_model_R2)\n",
    "\n",
    "import statsmodels.api as sm\n",
    "df_inter_sm = sm.add_constant(final)\n",
    "model = sm.OLS(y,final)\n",
    "results = model.fit()\n",
    "\n",
    "results.summary()"
   ]
  },
  {
   "cell_type": "code",
   "execution_count": null,
   "metadata": {},
   "outputs": [],
   "source": [
    "# Test Errors Results\n",
    "cv_5_results = cross_val_score(linreg, final, y, cv=5, scoring=mse)\n",
    "cv_5_results\n",
    "\n",
    "\n",
    "print(f\"RMSE: {np.sqrt(cv_5_results.mean())}\")"
   ]
  },
  {
   "cell_type": "code",
   "execution_count": null,
   "metadata": {},
   "outputs": [],
   "source": []
  }
 ],
 "metadata": {
  "kernelspec": {
   "display_name": "Python [conda env:learn-env] *",
   "language": "python",
   "name": "conda-env-learn-env-py"
  },
  "language_info": {
   "codemirror_mode": {
    "name": "ipython",
    "version": 3
   },
   "file_extension": ".py",
   "mimetype": "text/x-python",
   "name": "python",
   "nbconvert_exporter": "python",
   "pygments_lexer": "ipython3",
   "version": "3.6.9"
  }
 },
 "nbformat": 4,
 "nbformat_minor": 2
}
