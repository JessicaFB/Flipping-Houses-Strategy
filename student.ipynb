{
 "cells": [
  {
   "cell_type": "markdown",
   "metadata": {},
   "source": [
    "## Final Project Submission\n",
    "\n",
    "Please fill out:\n",
    "* Student name: Jessica Forrest-Baldini\n",
    "* Student pace: Part-time\n",
    "* Scheduled project review date/time: \n",
    "* Instructor name: \n",
    "* Blog post URL:\n"
   ]
  },
  {
   "cell_type": "markdown",
   "metadata": {},
   "source": [
    "## Import Packages & Data"
   ]
  },
  {
   "cell_type": "code",
   "execution_count": 44,
   "metadata": {},
   "outputs": [],
   "source": [
    "import pandas as pd\n",
    "import numpy as np\n",
    "import seaborn as sns\n",
    "import scipy.stats as stats\n",
    "from datetime import datetime as date\n",
    "import matplotlib.pyplot as plt\n",
    "%matplotlib inline\n",
    "\n",
    "data = pd.read_csv('kc_house_data.csv') \n",
    "df = pd.DataFrame(data)\n",
    "#df.head()"
   ]
  },
  {
   "cell_type": "markdown",
   "metadata": {},
   "source": [
    "## Clean Data"
   ]
  },
  {
   "cell_type": "code",
   "execution_count": 2,
   "metadata": {
    "code_folding": []
   },
   "outputs": [],
   "source": [
    "# Drop yr_renovated - only 744 homes renovated\n",
    "# Drop waterfront - only 146 homes with waterfronts\n",
    "# Drop view - this represent if the property has been viewed\n",
    "# Drop id\n",
    "# Drop zipcode for now until I learn how to effectively utilize its data\n",
    "\n",
    "to_drop = ['yr_renovated','waterfront','view','id'] # ,'zipcode'\n",
    "df = df.drop(to_drop, axis=1)"
   ]
  },
  {
   "cell_type": "code",
   "execution_count": 3,
   "metadata": {},
   "outputs": [],
   "source": [
    "# Replace NaN basement values with 0 as there are only 454 of them \n",
    "# Test median values for these later to see if it improves model\n",
    "\n",
    "df.sqft_basement = df.sqft_basement.replace('?','0.0').astype(float)\n",
    "#df.sqft_basement = df.sqft_basement+1"
   ]
  },
  {
   "cell_type": "code",
   "execution_count": 4,
   "metadata": {},
   "outputs": [],
   "source": [
    "# Take abs of longitude for normalization later on\n",
    "df.long = abs(df.long)"
   ]
  },
  {
   "cell_type": "code",
   "execution_count": 5,
   "metadata": {},
   "outputs": [
    {
     "name": "stdout",
     "output_type": "stream",
     "text": [
      "8317\n"
     ]
    },
    {
     "data": {
      "image/png": "[encoded data removed]",
      "text/plain": [
       "<Figure size 432x288 with 1 Axes>"
      ]
     },
     "metadata": {
      "needs_background": "light"
     },
     "output_type": "display_data"
    }
   ],
   "source": [
    "#print(df.sqft_basement.describe())\n",
    "#df.sqft_basement.value_counts()\n",
    "#df[df.sqft_basement > 100].sort_values(by='sqft_basement', ascending=True).head(20)\n",
    "print(sum(df.sqft_basement > 0))\n",
    "#sns.regplot(df.sqft_basement,df.price);\n",
    "sns.regplot(df[df.sqft_basement >= 110].sqft_basement,df[df.sqft_basement >= 110].price);"
   ]
  },
  {
   "cell_type": "markdown",
   "metadata": {},
   "source": [
    "Only 8,317 of the 32,000+ homes have basements, so we're going to bin them. I used zero as one bin and then did a quartile split for all the 'sqft_basement' values for homes with basements. "
   ]
  },
  {
   "cell_type": "code",
   "execution_count": 6,
   "metadata": {
    "code_folding": [
     0
    ]
   },
   "outputs": [],
   "source": [
    "# # Bin 'sqft_basement' starting at the min square footage for homes with a basement\n",
    "# bins = pd.qcut(df.sqft_basement[df.sqft_basement >= 110],q=4)\n",
    "# bins.value_counts()"
   ]
  },
  {
   "cell_type": "code",
   "execution_count": 7,
   "metadata": {
    "code_folding": []
   },
   "outputs": [],
   "source": [
    "# # Bin sqft_basement\n",
    "\n",
    "# bins_sqft_basement = [0,109,450,980,5000]\n",
    "\n",
    "# # Bin data & return dummies\n",
    "# def binned_dummies(data, features, bins):\n",
    "#     data_bins = pd.cut(data, bins)\n",
    "#     data_bins = data_bins.cat.as_unordered()\n",
    "#     dummies = pd.get_dummies(data_bins, prefix = features, drop_first=True)\n",
    "#     return dummies\n",
    "\n",
    "# dummies_sqft_basement = binned_dummies(df.sqft_basement,'sqft_basement', bins_sqft_basement)\n",
    "\n",
    "# # Remove original column from data set\n",
    "# df = df.drop(['sqft_basement'], axis=1)\n",
    "                                            \n",
    "# # Add new columns in\n",
    "# df = pd.concat([df, dummies_sqft_basement], axis=1)"
   ]
  },
  {
   "cell_type": "code",
   "execution_count": 8,
   "metadata": {
    "code_folding": []
   },
   "outputs": [],
   "source": [
    "# plt.hist(df.grade);"
   ]
  },
  {
   "cell_type": "code",
   "execution_count": 9,
   "metadata": {},
   "outputs": [],
   "source": [
    "# plt.hist(df.condition);"
   ]
  },
  {
   "cell_type": "code",
   "execution_count": 10,
   "metadata": {},
   "outputs": [],
   "source": [
    "# df.condition.describe()"
   ]
  },
  {
   "cell_type": "code",
   "execution_count": 11,
   "metadata": {},
   "outputs": [],
   "source": [
    "# plt.hist(df.long);"
   ]
  },
  {
   "cell_type": "code",
   "execution_count": 12,
   "metadata": {},
   "outputs": [],
   "source": [
    "# Define function to convert datestr to datenum\n",
    "def datenum(datestr):\n",
    "    '''\n",
    "    Convert datestring in the format MM/DD/YYYY\n",
    "    to MATLAB style datenum\n",
    "    '''\n",
    "    datenum = date.toordinal(date((int(datestr.split('/', -1)[2])),\n",
    "                                  (int(datestr.split('/', -1)[0])),\n",
    "                                  (int(datestr.split('/', -1)[1]))\n",
    "                                 ))+366\n",
    "    return datenum\n",
    "\n",
    "# Apply to date column\n",
    "df.date = df.date.map(datenum)"
   ]
  },
  {
   "cell_type": "markdown",
   "metadata": {},
   "source": [
    "Explore the data and check for any outliers."
   ]
  },
  {
   "cell_type": "code",
   "execution_count": 13,
   "metadata": {},
   "outputs": [],
   "source": [
    "# round(df.describe(),1)"
   ]
  },
  {
   "cell_type": "markdown",
   "metadata": {},
   "source": [
    "We can see here that bedrooms has what seems to be a major outlier, 33 bedrooms. Let's take a deeper look. "
   ]
  },
  {
   "cell_type": "code",
   "execution_count": 14,
   "metadata": {
    "code_folding": [
     0
    ]
   },
   "outputs": [],
   "source": [
    "# # Compare with other homes in data set that have high number of bedrooms\n",
    "# df[df.bedrooms > 9] "
   ]
  },
  {
   "cell_type": "code",
   "execution_count": 15,
   "metadata": {
    "code_folding": [
     0
    ]
   },
   "outputs": [],
   "source": [
    "# 33 bedrooms and only 1.75 bathrooms doesn't seem right. It is a pretty big lot at 6,000sqft\n",
    "# but 33 bedrooms doesn't seem right. Remove. \n",
    "\n",
    "to_drop = df[df.bedrooms == 33].index\n",
    "df = df.drop(to_drop)"
   ]
  },
  {
   "cell_type": "markdown",
   "metadata": {},
   "source": [
    "'sqft_lot' seems to have a major outlier at 1,651,359 sqft. Let's take a closer look."
   ]
  },
  {
   "cell_type": "code",
   "execution_count": 16,
   "metadata": {
    "code_folding": [
     0
    ]
   },
   "outputs": [],
   "source": [
    "# print(df.sqft_lot.median())\n",
    "# display(df.sort_values(by='sqft_lot', ascending=False).head(5))"
   ]
  },
  {
   "cell_type": "markdown",
   "metadata": {},
   "source": [
    "This appears to be the highest, but not necessarily an outlier. Let's go ahead and leave it for now. "
   ]
  },
  {
   "cell_type": "code",
   "execution_count": 17,
   "metadata": {},
   "outputs": [],
   "source": [
    "# df.long.describe()"
   ]
  },
  {
   "cell_type": "code",
   "execution_count": 18,
   "metadata": {},
   "outputs": [],
   "source": [
    "# plt.hist(df.long);"
   ]
  },
  {
   "cell_type": "markdown",
   "metadata": {},
   "source": [
    "## Normalize, MinMax Scale, Standardize, \n",
    "One-Hot Encode"
   ]
  },
  {
   "cell_type": "markdown",
   "metadata": {},
   "source": [
    "First, check for normality, heteroscedasticity & discover categorical data. Can get a good idea of categorical features from looking at the data above, but let's explore normality, categorical and any relationships using a pairplot."
   ]
  },
  {
   "cell_type": "code",
   "execution_count": 19,
   "metadata": {},
   "outputs": [],
   "source": [
    "# Commented out because takes a long time to run\n",
    "#sns.pairplot(df)"
   ]
  },
  {
   "cell_type": "markdown",
   "metadata": {},
   "source": [
    "While 'condition' and 'grade' are technically categorical, they are on a scale, so I am going to leave them as is, and will min-max scale them. "
   ]
  },
  {
   "cell_type": "code",
   "execution_count": 20,
   "metadata": {},
   "outputs": [],
   "source": [
    "# Normalize Data\n",
    "\n",
    "# Log Transform \n",
    "\n",
    "# Continuous variables\n",
    "features = ['date','price','sqft_living', #'sqft_basement',\n",
    "            'sqft_lot','sqft_above','yr_built',\n",
    "            'sqft_living15','sqft_lot15','zipcode']\n",
    "\n",
    "df_cont_features = df[features]\n",
    "\n",
    "# Add '_log' to continuous variable column names\n",
    "log_names = [f'{column}_log' for column in df_cont_features.columns]\n",
    "\n",
    "# Log transform continuous variables\n",
    "df_log = np.log(df_cont_features)\n",
    "df_log.columns = log_names\n",
    "\n",
    "\n",
    "### Normalize (subract mean and divide by std)\n",
    "\n",
    "# Define function to normalize\n",
    "def normalize(feature):\n",
    "    return (feature - feature.mean()) / feature.std()\n",
    "\n",
    "# Apply function to normalize\n",
    "df_log_norm = df_log.apply(normalize)\n",
    "\n",
    "# Define function to min-max scale\n",
    "def minmaxscale(feature):\n",
    "    return (feature-min(feature))/(max(feature)-min(feature))\n",
    "\n",
    "# Apply function to min-max scale\n",
    "df_log_norm_scale = df_log.apply(minmaxscale)\n",
    "\n",
    "# Remove original column from data set\n",
    "df = df.drop(features, axis=1)\n",
    "\n",
    "# Add new columns in\n",
    "df = pd.concat([df, df_log_norm_scale], axis=1)"
   ]
  },
  {
   "cell_type": "code",
   "execution_count": 21,
   "metadata": {},
   "outputs": [],
   "source": [
    "# df.head()"
   ]
  },
  {
   "cell_type": "markdown",
   "metadata": {},
   "source": [
    "## Check for Multicollinearity "
   ]
  },
  {
   "cell_type": "markdown",
   "metadata": {},
   "source": [
    "### Multicollinearity"
   ]
  },
  {
   "cell_type": "code",
   "execution_count": 22,
   "metadata": {
    "code_folding": [
     0
    ]
   },
   "outputs": [
    {
     "data": {
      "text/html": [
       "<div>\n",
       "<style scoped>\n",
       "    .dataframe tbody tr th:only-of-type {\n",
       "        vertical-align: middle;\n",
       "    }\n",
       "\n",
       "    .dataframe tbody tr th {\n",
       "        vertical-align: top;\n",
       "    }\n",
       "\n",
       "    .dataframe thead th {\n",
       "        text-align: right;\n",
       "    }\n",
       "</style>\n",
       "<table border=\"1\" class=\"dataframe\">\n",
       "  <thead>\n",
       "    <tr style=\"text-align: right;\">\n",
       "      <th></th>\n",
       "      <th>bedrooms</th>\n",
       "      <th>bathrooms</th>\n",
       "      <th>floors</th>\n",
       "      <th>condition</th>\n",
       "      <th>grade</th>\n",
       "      <th>sqft_basement</th>\n",
       "      <th>lat</th>\n",
       "      <th>long</th>\n",
       "      <th>date_log</th>\n",
       "      <th>price_log</th>\n",
       "      <th>sqft_living_log</th>\n",
       "      <th>sqft_lot_log</th>\n",
       "      <th>sqft_above_log</th>\n",
       "      <th>yr_built_log</th>\n",
       "      <th>sqft_living15_log</th>\n",
       "      <th>sqft_lot15_log</th>\n",
       "      <th>zipcode_log</th>\n",
       "    </tr>\n",
       "  </thead>\n",
       "  <tbody>\n",
       "    <tr>\n",
       "      <td>bedrooms</td>\n",
       "      <td>True</td>\n",
       "      <td>False</td>\n",
       "      <td>False</td>\n",
       "      <td>False</td>\n",
       "      <td>False</td>\n",
       "      <td>False</td>\n",
       "      <td>False</td>\n",
       "      <td>False</td>\n",
       "      <td>False</td>\n",
       "      <td>False</td>\n",
       "      <td>False</td>\n",
       "      <td>False</td>\n",
       "      <td>False</td>\n",
       "      <td>False</td>\n",
       "      <td>False</td>\n",
       "      <td>False</td>\n",
       "      <td>False</td>\n",
       "    </tr>\n",
       "    <tr>\n",
       "      <td>bathrooms</td>\n",
       "      <td>False</td>\n",
       "      <td>True</td>\n",
       "      <td>False</td>\n",
       "      <td>False</td>\n",
       "      <td>False</td>\n",
       "      <td>False</td>\n",
       "      <td>False</td>\n",
       "      <td>False</td>\n",
       "      <td>False</td>\n",
       "      <td>False</td>\n",
       "      <td>True</td>\n",
       "      <td>False</td>\n",
       "      <td>False</td>\n",
       "      <td>False</td>\n",
       "      <td>False</td>\n",
       "      <td>False</td>\n",
       "      <td>False</td>\n",
       "    </tr>\n",
       "    <tr>\n",
       "      <td>floors</td>\n",
       "      <td>False</td>\n",
       "      <td>False</td>\n",
       "      <td>True</td>\n",
       "      <td>False</td>\n",
       "      <td>False</td>\n",
       "      <td>False</td>\n",
       "      <td>False</td>\n",
       "      <td>False</td>\n",
       "      <td>False</td>\n",
       "      <td>False</td>\n",
       "      <td>False</td>\n",
       "      <td>False</td>\n",
       "      <td>False</td>\n",
       "      <td>False</td>\n",
       "      <td>False</td>\n",
       "      <td>False</td>\n",
       "      <td>False</td>\n",
       "    </tr>\n",
       "    <tr>\n",
       "      <td>condition</td>\n",
       "      <td>False</td>\n",
       "      <td>False</td>\n",
       "      <td>False</td>\n",
       "      <td>True</td>\n",
       "      <td>False</td>\n",
       "      <td>False</td>\n",
       "      <td>False</td>\n",
       "      <td>False</td>\n",
       "      <td>False</td>\n",
       "      <td>False</td>\n",
       "      <td>False</td>\n",
       "      <td>False</td>\n",
       "      <td>False</td>\n",
       "      <td>False</td>\n",
       "      <td>False</td>\n",
       "      <td>False</td>\n",
       "      <td>False</td>\n",
       "    </tr>\n",
       "    <tr>\n",
       "      <td>grade</td>\n",
       "      <td>False</td>\n",
       "      <td>False</td>\n",
       "      <td>False</td>\n",
       "      <td>False</td>\n",
       "      <td>True</td>\n",
       "      <td>False</td>\n",
       "      <td>False</td>\n",
       "      <td>False</td>\n",
       "      <td>False</td>\n",
       "      <td>False</td>\n",
       "      <td>False</td>\n",
       "      <td>False</td>\n",
       "      <td>False</td>\n",
       "      <td>False</td>\n",
       "      <td>False</td>\n",
       "      <td>False</td>\n",
       "      <td>False</td>\n",
       "    </tr>\n",
       "    <tr>\n",
       "      <td>sqft_basement</td>\n",
       "      <td>False</td>\n",
       "      <td>False</td>\n",
       "      <td>False</td>\n",
       "      <td>False</td>\n",
       "      <td>False</td>\n",
       "      <td>True</td>\n",
       "      <td>False</td>\n",
       "      <td>False</td>\n",
       "      <td>False</td>\n",
       "      <td>False</td>\n",
       "      <td>False</td>\n",
       "      <td>False</td>\n",
       "      <td>False</td>\n",
       "      <td>False</td>\n",
       "      <td>False</td>\n",
       "      <td>False</td>\n",
       "      <td>False</td>\n",
       "    </tr>\n",
       "    <tr>\n",
       "      <td>lat</td>\n",
       "      <td>False</td>\n",
       "      <td>False</td>\n",
       "      <td>False</td>\n",
       "      <td>False</td>\n",
       "      <td>False</td>\n",
       "      <td>False</td>\n",
       "      <td>True</td>\n",
       "      <td>False</td>\n",
       "      <td>False</td>\n",
       "      <td>False</td>\n",
       "      <td>False</td>\n",
       "      <td>False</td>\n",
       "      <td>False</td>\n",
       "      <td>False</td>\n",
       "      <td>False</td>\n",
       "      <td>False</td>\n",
       "      <td>False</td>\n",
       "    </tr>\n",
       "    <tr>\n",
       "      <td>long</td>\n",
       "      <td>False</td>\n",
       "      <td>False</td>\n",
       "      <td>False</td>\n",
       "      <td>False</td>\n",
       "      <td>False</td>\n",
       "      <td>False</td>\n",
       "      <td>False</td>\n",
       "      <td>True</td>\n",
       "      <td>False</td>\n",
       "      <td>False</td>\n",
       "      <td>False</td>\n",
       "      <td>False</td>\n",
       "      <td>False</td>\n",
       "      <td>False</td>\n",
       "      <td>False</td>\n",
       "      <td>False</td>\n",
       "      <td>False</td>\n",
       "    </tr>\n",
       "    <tr>\n",
       "      <td>date_log</td>\n",
       "      <td>False</td>\n",
       "      <td>False</td>\n",
       "      <td>False</td>\n",
       "      <td>False</td>\n",
       "      <td>False</td>\n",
       "      <td>False</td>\n",
       "      <td>False</td>\n",
       "      <td>False</td>\n",
       "      <td>True</td>\n",
       "      <td>False</td>\n",
       "      <td>False</td>\n",
       "      <td>False</td>\n",
       "      <td>False</td>\n",
       "      <td>False</td>\n",
       "      <td>False</td>\n",
       "      <td>False</td>\n",
       "      <td>False</td>\n",
       "    </tr>\n",
       "    <tr>\n",
       "      <td>price_log</td>\n",
       "      <td>False</td>\n",
       "      <td>False</td>\n",
       "      <td>False</td>\n",
       "      <td>False</td>\n",
       "      <td>False</td>\n",
       "      <td>False</td>\n",
       "      <td>False</td>\n",
       "      <td>False</td>\n",
       "      <td>False</td>\n",
       "      <td>True</td>\n",
       "      <td>False</td>\n",
       "      <td>False</td>\n",
       "      <td>False</td>\n",
       "      <td>False</td>\n",
       "      <td>False</td>\n",
       "      <td>False</td>\n",
       "      <td>False</td>\n",
       "    </tr>\n",
       "    <tr>\n",
       "      <td>sqft_living_log</td>\n",
       "      <td>False</td>\n",
       "      <td>True</td>\n",
       "      <td>False</td>\n",
       "      <td>False</td>\n",
       "      <td>False</td>\n",
       "      <td>False</td>\n",
       "      <td>False</td>\n",
       "      <td>False</td>\n",
       "      <td>False</td>\n",
       "      <td>False</td>\n",
       "      <td>True</td>\n",
       "      <td>False</td>\n",
       "      <td>True</td>\n",
       "      <td>False</td>\n",
       "      <td>False</td>\n",
       "      <td>False</td>\n",
       "      <td>False</td>\n",
       "    </tr>\n",
       "    <tr>\n",
       "      <td>sqft_lot_log</td>\n",
       "      <td>False</td>\n",
       "      <td>False</td>\n",
       "      <td>False</td>\n",
       "      <td>False</td>\n",
       "      <td>False</td>\n",
       "      <td>False</td>\n",
       "      <td>False</td>\n",
       "      <td>False</td>\n",
       "      <td>False</td>\n",
       "      <td>False</td>\n",
       "      <td>False</td>\n",
       "      <td>True</td>\n",
       "      <td>False</td>\n",
       "      <td>False</td>\n",
       "      <td>False</td>\n",
       "      <td>True</td>\n",
       "      <td>False</td>\n",
       "    </tr>\n",
       "    <tr>\n",
       "      <td>sqft_above_log</td>\n",
       "      <td>False</td>\n",
       "      <td>False</td>\n",
       "      <td>False</td>\n",
       "      <td>False</td>\n",
       "      <td>False</td>\n",
       "      <td>False</td>\n",
       "      <td>False</td>\n",
       "      <td>False</td>\n",
       "      <td>False</td>\n",
       "      <td>False</td>\n",
       "      <td>True</td>\n",
       "      <td>False</td>\n",
       "      <td>True</td>\n",
       "      <td>False</td>\n",
       "      <td>False</td>\n",
       "      <td>False</td>\n",
       "      <td>False</td>\n",
       "    </tr>\n",
       "    <tr>\n",
       "      <td>yr_built_log</td>\n",
       "      <td>False</td>\n",
       "      <td>False</td>\n",
       "      <td>False</td>\n",
       "      <td>False</td>\n",
       "      <td>False</td>\n",
       "      <td>False</td>\n",
       "      <td>False</td>\n",
       "      <td>False</td>\n",
       "      <td>False</td>\n",
       "      <td>False</td>\n",
       "      <td>False</td>\n",
       "      <td>False</td>\n",
       "      <td>False</td>\n",
       "      <td>True</td>\n",
       "      <td>False</td>\n",
       "      <td>False</td>\n",
       "      <td>False</td>\n",
       "    </tr>\n",
       "    <tr>\n",
       "      <td>sqft_living15_log</td>\n",
       "      <td>False</td>\n",
       "      <td>False</td>\n",
       "      <td>False</td>\n",
       "      <td>False</td>\n",
       "      <td>False</td>\n",
       "      <td>False</td>\n",
       "      <td>False</td>\n",
       "      <td>False</td>\n",
       "      <td>False</td>\n",
       "      <td>False</td>\n",
       "      <td>False</td>\n",
       "      <td>False</td>\n",
       "      <td>False</td>\n",
       "      <td>False</td>\n",
       "      <td>True</td>\n",
       "      <td>False</td>\n",
       "      <td>False</td>\n",
       "    </tr>\n",
       "    <tr>\n",
       "      <td>sqft_lot15_log</td>\n",
       "      <td>False</td>\n",
       "      <td>False</td>\n",
       "      <td>False</td>\n",
       "      <td>False</td>\n",
       "      <td>False</td>\n",
       "      <td>False</td>\n",
       "      <td>False</td>\n",
       "      <td>False</td>\n",
       "      <td>False</td>\n",
       "      <td>False</td>\n",
       "      <td>False</td>\n",
       "      <td>True</td>\n",
       "      <td>False</td>\n",
       "      <td>False</td>\n",
       "      <td>False</td>\n",
       "      <td>True</td>\n",
       "      <td>False</td>\n",
       "    </tr>\n",
       "    <tr>\n",
       "      <td>zipcode_log</td>\n",
       "      <td>False</td>\n",
       "      <td>False</td>\n",
       "      <td>False</td>\n",
       "      <td>False</td>\n",
       "      <td>False</td>\n",
       "      <td>False</td>\n",
       "      <td>False</td>\n",
       "      <td>False</td>\n",
       "      <td>False</td>\n",
       "      <td>False</td>\n",
       "      <td>False</td>\n",
       "      <td>False</td>\n",
       "      <td>False</td>\n",
       "      <td>False</td>\n",
       "      <td>False</td>\n",
       "      <td>False</td>\n",
       "      <td>True</td>\n",
       "    </tr>\n",
       "  </tbody>\n",
       "</table>\n",
       "</div>"
      ],
      "text/plain": [
       "                   bedrooms  bathrooms  floors  condition  grade  \\\n",
       "bedrooms               True      False   False      False  False   \n",
       "bathrooms             False       True   False      False  False   \n",
       "floors                False      False    True      False  False   \n",
       "condition             False      False   False       True  False   \n",
       "grade                 False      False   False      False   True   \n",
       "sqft_basement         False      False   False      False  False   \n",
       "lat                   False      False   False      False  False   \n",
       "long                  False      False   False      False  False   \n",
       "date_log              False      False   False      False  False   \n",
       "price_log             False      False   False      False  False   \n",
       "sqft_living_log       False       True   False      False  False   \n",
       "sqft_lot_log          False      False   False      False  False   \n",
       "sqft_above_log        False      False   False      False  False   \n",
       "yr_built_log          False      False   False      False  False   \n",
       "sqft_living15_log     False      False   False      False  False   \n",
       "sqft_lot15_log        False      False   False      False  False   \n",
       "zipcode_log           False      False   False      False  False   \n",
       "\n",
       "                   sqft_basement    lat   long  date_log  price_log  \\\n",
       "bedrooms                   False  False  False     False      False   \n",
       "bathrooms                  False  False  False     False      False   \n",
       "floors                     False  False  False     False      False   \n",
       "condition                  False  False  False     False      False   \n",
       "grade                      False  False  False     False      False   \n",
       "sqft_basement               True  False  False     False      False   \n",
       "lat                        False   True  False     False      False   \n",
       "long                       False  False   True     False      False   \n",
       "date_log                   False  False  False      True      False   \n",
       "price_log                  False  False  False     False       True   \n",
       "sqft_living_log            False  False  False     False      False   \n",
       "sqft_lot_log               False  False  False     False      False   \n",
       "sqft_above_log             False  False  False     False      False   \n",
       "yr_built_log               False  False  False     False      False   \n",
       "sqft_living15_log          False  False  False     False      False   \n",
       "sqft_lot15_log             False  False  False     False      False   \n",
       "zipcode_log                False  False  False     False      False   \n",
       "\n",
       "                   sqft_living_log  sqft_lot_log  sqft_above_log  \\\n",
       "bedrooms                     False         False           False   \n",
       "bathrooms                     True         False           False   \n",
       "floors                       False         False           False   \n",
       "condition                    False         False           False   \n",
       "grade                        False         False           False   \n",
       "sqft_basement                False         False           False   \n",
       "lat                          False         False           False   \n",
       "long                         False         False           False   \n",
       "date_log                     False         False           False   \n",
       "price_log                    False         False           False   \n",
       "sqft_living_log               True         False            True   \n",
       "sqft_lot_log                 False          True           False   \n",
       "sqft_above_log                True         False            True   \n",
       "yr_built_log                 False         False           False   \n",
       "sqft_living15_log            False         False           False   \n",
       "sqft_lot15_log               False          True           False   \n",
       "zipcode_log                  False         False           False   \n",
       "\n",
       "                   yr_built_log  sqft_living15_log  sqft_lot15_log  \\\n",
       "bedrooms                  False              False           False   \n",
       "bathrooms                 False              False           False   \n",
       "floors                    False              False           False   \n",
       "condition                 False              False           False   \n",
       "grade                     False              False           False   \n",
       "sqft_basement             False              False           False   \n",
       "lat                       False              False           False   \n",
       "long                      False              False           False   \n",
       "date_log                  False              False           False   \n",
       "price_log                 False              False           False   \n",
       "sqft_living_log           False              False           False   \n",
       "sqft_lot_log              False              False            True   \n",
       "sqft_above_log            False              False           False   \n",
       "yr_built_log               True              False           False   \n",
       "sqft_living15_log         False               True           False   \n",
       "sqft_lot15_log            False              False            True   \n",
       "zipcode_log               False              False           False   \n",
       "\n",
       "                   zipcode_log  \n",
       "bedrooms                 False  \n",
       "bathrooms                False  \n",
       "floors                   False  \n",
       "condition                False  \n",
       "grade                    False  \n",
       "sqft_basement            False  \n",
       "lat                      False  \n",
       "long                     False  \n",
       "date_log                 False  \n",
       "price_log                False  \n",
       "sqft_living_log          False  \n",
       "sqft_lot_log             False  \n",
       "sqft_above_log           False  \n",
       "yr_built_log             False  \n",
       "sqft_living15_log        False  \n",
       "sqft_lot15_log           False  \n",
       "zipcode_log               True  "
      ]
     },
     "execution_count": 22,
     "metadata": {},
     "output_type": "execute_result"
    }
   ],
   "source": [
    "# Take a look at the correlation matrix to check for multicollinearity\n",
    "abs(df.corr()) > 0.75"
   ]
  },
  {
   "cell_type": "code",
   "execution_count": 23,
   "metadata": {
    "code_folding": [
     0
    ],
    "scrolled": false
   },
   "outputs": [],
   "source": [
    "# # Check & see if sqft_lot15 & sqft_living15 are correlated with sqft_lot & sqft_living\n",
    "# sns.regplot(df.sqft_lot,df.sqft_lot15)\n",
    "# plt.show()\n",
    "# sns.regplot(df.sqft_living,df.sqft_living15)\n",
    "# plt.show()"
   ]
  },
  {
   "cell_type": "markdown",
   "metadata": {},
   "source": [
    "We can see that 'sqft_lot15' & 'sqft_living15' are correlated with 'sqft_lot' & 'sqft_living', which makes sense because the features appended with 15 represent the average of the 15 nearest neighbors. \n",
    "\n",
    "We will remove these values to prevent multicollinearity in our model. "
   ]
  },
  {
   "cell_type": "code",
   "execution_count": 24,
   "metadata": {
    "code_folding": [
     0
    ]
   },
   "outputs": [],
   "source": [
    "# # Remove sqft_lot15 & sqft_living15\n",
    "# df = df.drop(['sqft_lot15','sqft_living15'], axis=1)"
   ]
  },
  {
   "cell_type": "code",
   "execution_count": 25,
   "metadata": {
    "code_folding": [
     0
    ]
   },
   "outputs": [],
   "source": [
    "# # Take a look at the correlation matrix to check for multicollinearity\n",
    "# df.corr() > 0.75"
   ]
  },
  {
   "cell_type": "markdown",
   "metadata": {},
   "source": [
    "We can see here that 'sqft_living' seems to be highly correlated with multiple features such as 'bathrooms', 'grade', and 'sqft_above'. 'sqft_living' represents the square footage of the entire home and seems that it would be a strong indicator of home price. The squarefoot of other features are essentially subsets of the overall home squarefootage. So for now I am going to remove it. However, it could be kept in place and other features removed later on to see if this improves the overall performance of the model."
   ]
  },
  {
   "cell_type": "code",
   "execution_count": 26,
   "metadata": {
    "code_folding": [
     0
    ]
   },
   "outputs": [],
   "source": [
    "# # Remove 'sqft_living' to prevent multicollinearity \n",
    "# # as it is highly correlated with multiple features\n",
    "\n",
    "# df = df.drop(['sqft_living'], axis=1)"
   ]
  },
  {
   "cell_type": "code",
   "execution_count": 27,
   "metadata": {},
   "outputs": [],
   "source": [
    "# abs(df.corr()) > 0.75"
   ]
  },
  {
   "cell_type": "markdown",
   "metadata": {},
   "source": [
    "It looks like 'sqft_above' and 'grade' are highly correlated, so we should only keep one to prevent multicollinearity. \n",
    "\n",
    "For now I'm going to keep 'sqft_above', but can also test removing 'sqft_above' and one-hot-encoding 'grade' later on to see if it improves performance of the model. "
   ]
  },
  {
   "cell_type": "code",
   "execution_count": 28,
   "metadata": {
    "code_folding": [
     0
    ]
   },
   "outputs": [],
   "source": [
    "# # We can see the relationship here between 'sqft_above' and 'grade', it appears to possibly\n",
    "# # be polynomial. While grade is categorical, it is continuous\n",
    "# sns.regplot(df.grade,df.sqft_above);"
   ]
  },
  {
   "cell_type": "markdown",
   "metadata": {},
   "source": [
    "Since the relationship looks slightly polynomial, and 'grade' technically is categorical, I want to look at their distributions to further explore the relationship. Let's look at the histograms/distplot."
   ]
  },
  {
   "cell_type": "code",
   "execution_count": 29,
   "metadata": {
    "code_folding": [
     0
    ]
   },
   "outputs": [],
   "source": [
    "# sns.distplot(df.sqft_above)\n",
    "# plt.show()\n",
    "# plt.hist(df.grade)\n",
    "# plt.show()"
   ]
  },
  {
   "cell_type": "markdown",
   "metadata": {},
   "source": [
    "Both do appear to be skewed in the same direction, so perhaps they are linearly related. Okay, I will remove grade. "
   ]
  },
  {
   "cell_type": "code",
   "execution_count": 30,
   "metadata": {},
   "outputs": [],
   "source": [
    "# df = df.drop(['grade'], axis=1)"
   ]
  },
  {
   "cell_type": "code",
   "execution_count": 31,
   "metadata": {},
   "outputs": [],
   "source": [
    "# df.head()"
   ]
  },
  {
   "cell_type": "markdown",
   "metadata": {},
   "source": [
    "## Start Modeling"
   ]
  },
  {
   "cell_type": "markdown",
   "metadata": {},
   "source": [
    "### Split train/test datasets"
   ]
  },
  {
   "cell_type": "code",
   "execution_count": 32,
   "metadata": {},
   "outputs": [],
   "source": [
    "# Separate target and feature variables\n",
    "\n",
    "X = df.drop(['price_log'],axis=1)\n",
    "y = df.price_log"
   ]
  },
  {
   "cell_type": "code",
   "execution_count": 33,
   "metadata": {},
   "outputs": [],
   "source": [
    "# Import train_test_split from sklearn\n",
    "from sklearn.model_selection import train_test_split\n",
    "\n",
    "# Split data with test size of 20%\n",
    "X_train, X_test, y_train, y_test = train_test_split(X, y, test_size=0.20)"
   ]
  },
  {
   "cell_type": "markdown",
   "metadata": {},
   "source": [
    "### Fit Model"
   ]
  },
  {
   "cell_type": "code",
   "execution_count": 34,
   "metadata": {},
   "outputs": [],
   "source": [
    "from sklearn.linear_model import LinearRegression\n",
    "\n",
    "# Initialize the linear regression model class\n",
    "linreg = LinearRegression()\n",
    "\n",
    "# Fit the model to train data\n",
    "linreg.fit(X_train, y_train)\n",
    "\n",
    "# Calculate predictions on test set\n",
    "y_hat_test = linreg.predict(X_test)"
   ]
  },
  {
   "cell_type": "markdown",
   "metadata": {},
   "source": [
    "### Cross Validate Model"
   ]
  },
  {
   "cell_type": "code",
   "execution_count": 35,
   "metadata": {},
   "outputs": [
    {
     "name": "stdout",
     "output_type": "stream",
     "text": [
      "RMSE: 0.056564363300698466\n"
     ]
    }
   ],
   "source": [
    "from sklearn.metrics import mean_squared_error, make_scorer\n",
    "from sklearn.model_selection import cross_val_score\n",
    "\n",
    "mse = make_scorer(mean_squared_error)\n",
    "\n",
    "# Test Errors Results\n",
    "cv_5_results = cross_val_score(linreg, X, y, cv=5, scoring=mse)\n",
    "cv_5_results\n",
    "\n",
    "\n",
    "print(f\"RMSE: {np.sqrt(cv_5_results.mean())}\")"
   ]
  },
  {
   "cell_type": "code",
   "execution_count": 36,
   "metadata": {},
   "outputs": [
    {
     "data": {
      "text/plain": [
       "0.7581578635180963"
      ]
     },
     "execution_count": 36,
     "metadata": {},
     "output_type": "execute_result"
    }
   ],
   "source": [
    "from sklearn.model_selection import KFold\n",
    "\n",
    "crossval = KFold(n_splits=3, shuffle=True, random_state=1)\n",
    "\n",
    "baseline_R2 = np.mean(cross_val_score(linreg, X, y, scoring='r2', cv=crossval))\n",
    "baseline_R2"
   ]
  },
  {
   "cell_type": "markdown",
   "metadata": {},
   "source": [
    "### Statsmodel (OLS)"
   ]
  },
  {
   "cell_type": "code",
   "execution_count": 37,
   "metadata": {},
   "outputs": [
    {
     "name": "stderr",
     "output_type": "stream",
     "text": [
      "/opt/anaconda3/envs/learn-env/lib/python3.6/site-packages/numpy/core/fromnumeric.py:2389: FutureWarning: Method .ptp is deprecated and will be removed in a future version. Use numpy.ptp instead.\n",
      "  return ptp(axis=axis, out=out, **kwargs)\n"
     ]
    },
    {
     "data": {
      "text/html": [
       "<table class=\"simpletable\">\n",
       "<caption>OLS Regression Results</caption>\n",
       "<tr>\n",
       "  <th>Dep. Variable:</th>        <td>price_log</td>    <th>  R-squared:         </th>  <td>   0.759</td> \n",
       "</tr>\n",
       "<tr>\n",
       "  <th>Model:</th>                   <td>OLS</td>       <th>  Adj. R-squared:    </th>  <td>   0.759</td> \n",
       "</tr>\n",
       "<tr>\n",
       "  <th>Method:</th>             <td>Least Squares</td>  <th>  F-statistic:       </th>  <td>   4250.</td> \n",
       "</tr>\n",
       "<tr>\n",
       "  <th>Date:</th>             <td>Thu, 30 Apr 2020</td> <th>  Prob (F-statistic):</th>   <td>  0.00</td>  \n",
       "</tr>\n",
       "<tr>\n",
       "  <th>Time:</th>                 <td>21:26:03</td>     <th>  Log-Likelihood:    </th>  <td>  31498.</td> \n",
       "</tr>\n",
       "<tr>\n",
       "  <th>No. Observations:</th>      <td> 21596</td>      <th>  AIC:               </th> <td>-6.296e+04</td>\n",
       "</tr>\n",
       "<tr>\n",
       "  <th>Df Residuals:</th>          <td> 21579</td>      <th>  BIC:               </th> <td>-6.283e+04</td>\n",
       "</tr>\n",
       "<tr>\n",
       "  <th>Df Model:</th>              <td>    16</td>      <th>                     </th>      <td> </td>    \n",
       "</tr>\n",
       "<tr>\n",
       "  <th>Covariance Type:</th>      <td>nonrobust</td>    <th>                     </th>      <td> </td>    \n",
       "</tr>\n",
       "</table>\n",
       "<table class=\"simpletable\">\n",
       "<tr>\n",
       "          <td></td>             <th>coef</th>     <th>std err</th>      <th>t</th>      <th>P>|t|</th>  <th>[0.025</th>    <th>0.975]</th>  \n",
       "</tr>\n",
       "<tr>\n",
       "  <th>const</th>             <td>  -17.5717</td> <td>    0.490</td> <td>  -35.846</td> <td> 0.000</td> <td>  -18.532</td> <td>  -16.611</td>\n",
       "</tr>\n",
       "<tr>\n",
       "  <th>bedrooms</th>          <td>   -0.0086</td> <td>    0.001</td> <td>  -14.947</td> <td> 0.000</td> <td>   -0.010</td> <td>   -0.007</td>\n",
       "</tr>\n",
       "<tr>\n",
       "  <th>bathrooms</th>         <td>    0.0170</td> <td>    0.001</td> <td>   18.843</td> <td> 0.000</td> <td>    0.015</td> <td>    0.019</td>\n",
       "</tr>\n",
       "<tr>\n",
       "  <th>floors</th>            <td>    0.0127</td> <td>    0.001</td> <td>   11.524</td> <td> 0.000</td> <td>    0.011</td> <td>    0.015</td>\n",
       "</tr>\n",
       "<tr>\n",
       "  <th>condition</th>         <td>    0.0129</td> <td>    0.001</td> <td>   19.778</td> <td> 0.000</td> <td>    0.012</td> <td>    0.014</td>\n",
       "</tr>\n",
       "<tr>\n",
       "  <th>grade</th>             <td>    0.0380</td> <td>    0.001</td> <td>   65.256</td> <td> 0.000</td> <td>    0.037</td> <td>    0.039</td>\n",
       "</tr>\n",
       "<tr>\n",
       "  <th>sqft_basement</th>     <td> 2.505e-05</td> <td> 2.26e-06</td> <td>   11.070</td> <td> 0.000</td> <td> 2.06e-05</td> <td> 2.95e-05</td>\n",
       "</tr>\n",
       "<tr>\n",
       "  <th>lat</th>               <td>    0.2901</td> <td>    0.003</td> <td>   96.480</td> <td> 0.000</td> <td>    0.284</td> <td>    0.296</td>\n",
       "</tr>\n",
       "<tr>\n",
       "  <th>long</th>              <td>    0.0301</td> <td>    0.004</td> <td>    8.068</td> <td> 0.000</td> <td>    0.023</td> <td>    0.037</td>\n",
       "</tr>\n",
       "<tr>\n",
       "  <th>date_log</th>          <td>    0.0172</td> <td>    0.001</td> <td>   12.961</td> <td> 0.000</td> <td>    0.015</td> <td>    0.020</td>\n",
       "</tr>\n",
       "<tr>\n",
       "  <th>sqft_living_log</th>   <td>    0.1192</td> <td>    0.017</td> <td>    6.961</td> <td> 0.000</td> <td>    0.086</td> <td>    0.153</td>\n",
       "</tr>\n",
       "<tr>\n",
       "  <th>sqft_lot_log</th>      <td>    0.0281</td> <td>    0.009</td> <td>    3.109</td> <td> 0.002</td> <td>    0.010</td> <td>    0.046</td>\n",
       "</tr>\n",
       "<tr>\n",
       "  <th>sqft_above_log</th>    <td>    0.1249</td> <td>    0.014</td> <td>    8.804</td> <td> 0.000</td> <td>    0.097</td> <td>    0.153</td>\n",
       "</tr>\n",
       "<tr>\n",
       "  <th>yr_built_log</th>      <td>   -0.1074</td> <td>    0.002</td> <td>  -48.730</td> <td> 0.000</td> <td>   -0.112</td> <td>   -0.103</td>\n",
       "</tr>\n",
       "<tr>\n",
       "  <th>sqft_living15_log</th> <td>    0.1468</td> <td>    0.005</td> <td>   27.271</td> <td> 0.000</td> <td>    0.136</td> <td>    0.157</td>\n",
       "</tr>\n",
       "<tr>\n",
       "  <th>sqft_lot15_log</th>    <td>   -0.0542</td> <td>    0.009</td> <td>   -6.198</td> <td> 0.000</td> <td>   -0.071</td> <td>   -0.037</td>\n",
       "</tr>\n",
       "<tr>\n",
       "  <th>zipcode_log</th>       <td>   -0.0208</td> <td>    0.002</td> <td>  -11.407</td> <td> 0.000</td> <td>   -0.024</td> <td>   -0.017</td>\n",
       "</tr>\n",
       "</table>\n",
       "<table class=\"simpletable\">\n",
       "<tr>\n",
       "  <th>Omnibus:</th>       <td>478.970</td> <th>  Durbin-Watson:     </th> <td>   1.986</td> \n",
       "</tr>\n",
       "<tr>\n",
       "  <th>Prob(Omnibus):</th> <td> 0.000</td>  <th>  Jarque-Bera (JB):  </th> <td> 856.857</td> \n",
       "</tr>\n",
       "<tr>\n",
       "  <th>Skew:</th>          <td> 0.179</td>  <th>  Prob(JB):          </th> <td>8.63e-187</td>\n",
       "</tr>\n",
       "<tr>\n",
       "  <th>Kurtosis:</th>      <td> 3.908</td>  <th>  Cond. No.          </th> <td>6.78e+05</td> \n",
       "</tr>\n",
       "</table><br/><br/>Warnings:<br/>[1] Standard Errors assume that the covariance matrix of the errors is correctly specified.<br/>[2] The condition number is large, 6.78e+05. This might indicate that there are<br/>strong multicollinearity or other numerical problems."
      ],
      "text/plain": [
       "<class 'statsmodels.iolib.summary.Summary'>\n",
       "\"\"\"\n",
       "                            OLS Regression Results                            \n",
       "==============================================================================\n",
       "Dep. Variable:              price_log   R-squared:                       0.759\n",
       "Model:                            OLS   Adj. R-squared:                  0.759\n",
       "Method:                 Least Squares   F-statistic:                     4250.\n",
       "Date:                Thu, 30 Apr 2020   Prob (F-statistic):               0.00\n",
       "Time:                        21:26:03   Log-Likelihood:                 31498.\n",
       "No. Observations:               21596   AIC:                        -6.296e+04\n",
       "Df Residuals:                   21579   BIC:                        -6.283e+04\n",
       "Df Model:                          16                                         \n",
       "Covariance Type:            nonrobust                                         \n",
       "=====================================================================================\n",
       "                        coef    std err          t      P>|t|      [0.025      0.975]\n",
       "-------------------------------------------------------------------------------------\n",
       "const               -17.5717      0.490    -35.846      0.000     -18.532     -16.611\n",
       "bedrooms             -0.0086      0.001    -14.947      0.000      -0.010      -0.007\n",
       "bathrooms             0.0170      0.001     18.843      0.000       0.015       0.019\n",
       "floors                0.0127      0.001     11.524      0.000       0.011       0.015\n",
       "condition             0.0129      0.001     19.778      0.000       0.012       0.014\n",
       "grade                 0.0380      0.001     65.256      0.000       0.037       0.039\n",
       "sqft_basement      2.505e-05   2.26e-06     11.070      0.000    2.06e-05    2.95e-05\n",
       "lat                   0.2901      0.003     96.480      0.000       0.284       0.296\n",
       "long                  0.0301      0.004      8.068      0.000       0.023       0.037\n",
       "date_log              0.0172      0.001     12.961      0.000       0.015       0.020\n",
       "sqft_living_log       0.1192      0.017      6.961      0.000       0.086       0.153\n",
       "sqft_lot_log          0.0281      0.009      3.109      0.002       0.010       0.046\n",
       "sqft_above_log        0.1249      0.014      8.804      0.000       0.097       0.153\n",
       "yr_built_log         -0.1074      0.002    -48.730      0.000      -0.112      -0.103\n",
       "sqft_living15_log     0.1468      0.005     27.271      0.000       0.136       0.157\n",
       "sqft_lot15_log       -0.0542      0.009     -6.198      0.000      -0.071      -0.037\n",
       "zipcode_log          -0.0208      0.002    -11.407      0.000      -0.024      -0.017\n",
       "==============================================================================\n",
       "Omnibus:                      478.970   Durbin-Watson:                   1.986\n",
       "Prob(Omnibus):                  0.000   Jarque-Bera (JB):              856.857\n",
       "Skew:                           0.179   Prob(JB):                    8.63e-187\n",
       "Kurtosis:                       3.908   Cond. No.                     6.78e+05\n",
       "==============================================================================\n",
       "\n",
       "Warnings:\n",
       "[1] Standard Errors assume that the covariance matrix of the errors is correctly specified.\n",
       "[2] The condition number is large, 6.78e+05. This might indicate that there are\n",
       "strong multicollinearity or other numerical problems.\n",
       "\"\"\""
      ]
     },
     "execution_count": 37,
     "metadata": {},
     "output_type": "execute_result"
    }
   ],
   "source": [
    "import statsmodels.api as sm\n",
    "X = sm.add_constant(X)\n",
    "model = sm.OLS(y,X)\n",
    "results = model.fit()\n",
    "\n",
    "results.summary()"
   ]
  },
  {
   "cell_type": "markdown",
   "metadata": {},
   "source": [
    "### Interactions"
   ]
  },
  {
   "cell_type": "code",
   "execution_count": 38,
   "metadata": {},
   "outputs": [
    {
     "name": "stdout",
     "output_type": "stream",
     "text": [
      "Top 3 interactions: [('lat', 'sqft_lot15_log', 0.7651), ('lat', 'sqft_lot_log', 0.76489), ('long', 'zipcode_log', 0.76385)]\n"
     ]
    }
   ],
   "source": [
    "from itertools import combinations\n",
    "\n",
    "# Find top interactions by R^2 value\n",
    "\n",
    "# Use combinations from itertools to create all possible combinations of two features\n",
    "feat_combinations = combinations(X_train.columns, 2)\n",
    "\n",
    "# Empty list to fill for interactons values\n",
    "interactions = []\n",
    "\n",
    "# for i, (feature1,feature2) in feature_combinations:\n",
    "for i, (a, b) in enumerate(feat_combinations):\n",
    "    # fill interatctions list with feature a * feature b\n",
    "    X_train['interaction'] = X_train[a] * X_train[b]\n",
    "    R2 = np.mean(cross_val_score(linreg, X_train, y_train, scoring='r2', cv=crossval))\n",
    "    if R2 > baseline_R2:\n",
    "        interactions.append((a, b, round(R2,5)))\n",
    "            \n",
    "print('Top 3 interactions: %s' %sorted(interactions, key=lambda inter: inter[2], reverse=True)[:3])"
   ]
  },
  {
   "cell_type": "markdown",
   "metadata": {},
   "source": [
    "# Best Performing Model - So Far"
   ]
  },
  {
   "cell_type": "code",
   "execution_count": 39,
   "metadata": {},
   "outputs": [
    {
     "name": "stdout",
     "output_type": "stream",
     "text": [
      "0.7711707915703161\n"
     ]
    },
    {
     "name": "stderr",
     "output_type": "stream",
     "text": [
      "/opt/anaconda3/envs/learn-env/lib/python3.6/site-packages/numpy/core/fromnumeric.py:2389: FutureWarning: Method .ptp is deprecated and will be removed in a future version. Use numpy.ptp instead.\n",
      "  return ptp(axis=axis, out=out, **kwargs)\n"
     ]
    },
    {
     "data": {
      "text/html": [
       "<table class=\"simpletable\">\n",
       "<caption>OLS Regression Results</caption>\n",
       "<tr>\n",
       "  <th>Dep. Variable:</th>        <td>price_log</td>    <th>  R-squared:         </th>  <td>   0.772</td> \n",
       "</tr>\n",
       "<tr>\n",
       "  <th>Model:</th>                   <td>OLS</td>       <th>  Adj. R-squared:    </th>  <td>   0.772</td> \n",
       "</tr>\n",
       "<tr>\n",
       "  <th>Method:</th>             <td>Least Squares</td>  <th>  F-statistic:       </th>  <td>   3654.</td> \n",
       "</tr>\n",
       "<tr>\n",
       "  <th>Date:</th>             <td>Thu, 30 Apr 2020</td> <th>  Prob (F-statistic):</th>   <td>  0.00</td>  \n",
       "</tr>\n",
       "<tr>\n",
       "  <th>Time:</th>                 <td>21:26:08</td>     <th>  Log-Likelihood:    </th>  <td>  32096.</td> \n",
       "</tr>\n",
       "<tr>\n",
       "  <th>No. Observations:</th>      <td> 21596</td>      <th>  AIC:               </th> <td>-6.415e+04</td>\n",
       "</tr>\n",
       "<tr>\n",
       "  <th>Df Residuals:</th>          <td> 21575</td>      <th>  BIC:               </th> <td>-6.398e+04</td>\n",
       "</tr>\n",
       "<tr>\n",
       "  <th>Df Model:</th>              <td>    20</td>      <th>                     </th>      <td> </td>    \n",
       "</tr>\n",
       "<tr>\n",
       "  <th>Covariance Type:</th>      <td>nonrobust</td>    <th>                     </th>      <td> </td>    \n",
       "</tr>\n",
       "</table>\n",
       "<table class=\"simpletable\">\n",
       "<tr>\n",
       "           <td></td>             <th>coef</th>     <th>std err</th>      <th>t</th>      <th>P>|t|</th>  <th>[0.025</th>    <th>0.975]</th>  \n",
       "</tr>\n",
       "<tr>\n",
       "  <th>const</th>              <td> 1233.3361</td> <td>  134.601</td> <td>    9.163</td> <td> 0.000</td> <td>  969.509</td> <td> 1497.163</td>\n",
       "</tr>\n",
       "<tr>\n",
       "  <th>bedrooms</th>           <td>   -0.0075</td> <td>    0.001</td> <td>  -13.469</td> <td> 0.000</td> <td>   -0.009</td> <td>   -0.006</td>\n",
       "</tr>\n",
       "<tr>\n",
       "  <th>bathrooms</th>          <td>    0.0162</td> <td>    0.001</td> <td>   18.485</td> <td> 0.000</td> <td>    0.014</td> <td>    0.018</td>\n",
       "</tr>\n",
       "<tr>\n",
       "  <th>floors</th>             <td>    0.0066</td> <td>    0.001</td> <td>    6.005</td> <td> 0.000</td> <td>    0.004</td> <td>    0.009</td>\n",
       "</tr>\n",
       "<tr>\n",
       "  <th>condition</th>          <td>    0.0118</td> <td>    0.001</td> <td>   18.557</td> <td> 0.000</td> <td>    0.011</td> <td>    0.013</td>\n",
       "</tr>\n",
       "<tr>\n",
       "  <th>grade</th>              <td>    0.0368</td> <td>    0.001</td> <td>   64.988</td> <td> 0.000</td> <td>    0.036</td> <td>    0.038</td>\n",
       "</tr>\n",
       "<tr>\n",
       "  <th>sqft_basement</th>      <td> 2.245e-05</td> <td>  2.2e-06</td> <td>   10.182</td> <td> 0.000</td> <td> 1.81e-05</td> <td> 2.68e-05</td>\n",
       "</tr>\n",
       "<tr>\n",
       "  <th>lat</th>                <td>  -25.7866</td> <td>    2.835</td> <td>   -9.094</td> <td> 0.000</td> <td>  -31.344</td> <td>  -20.229</td>\n",
       "</tr>\n",
       "<tr>\n",
       "  <th>long</th>               <td>  -10.2834</td> <td>    1.100</td> <td>   -9.346</td> <td> 0.000</td> <td>  -12.440</td> <td>   -8.127</td>\n",
       "</tr>\n",
       "<tr>\n",
       "  <th>date_log</th>           <td>    0.0171</td> <td>    0.001</td> <td>   13.285</td> <td> 0.000</td> <td>    0.015</td> <td>    0.020</td>\n",
       "</tr>\n",
       "<tr>\n",
       "  <th>sqft_living_log</th>    <td>    0.1206</td> <td>    0.017</td> <td>    7.235</td> <td> 0.000</td> <td>    0.088</td> <td>    0.153</td>\n",
       "</tr>\n",
       "<tr>\n",
       "  <th>sqft_lot_log</th>       <td>    8.6726</td> <td>    2.928</td> <td>    2.962</td> <td> 0.003</td> <td>    2.933</td> <td>   14.413</td>\n",
       "</tr>\n",
       "<tr>\n",
       "  <th>sqft_above_log</th>     <td>    0.1419</td> <td>    0.014</td> <td>   10.255</td> <td> 0.000</td> <td>    0.115</td> <td>    0.169</td>\n",
       "</tr>\n",
       "<tr>\n",
       "  <th>yr_built_log</th>       <td>   -0.1008</td> <td>    0.002</td> <td>  -46.697</td> <td> 0.000</td> <td>   -0.105</td> <td>   -0.097</td>\n",
       "</tr>\n",
       "<tr>\n",
       "  <th>sqft_living15_log</th>  <td>    0.1670</td> <td>    0.005</td> <td>   31.653</td> <td> 0.000</td> <td>    0.157</td> <td>    0.177</td>\n",
       "</tr>\n",
       "<tr>\n",
       "  <th>sqft_lot15_log</th>     <td>   17.2235</td> <td>    2.892</td> <td>    5.956</td> <td> 0.000</td> <td>   11.555</td> <td>   22.892</td>\n",
       "</tr>\n",
       "<tr>\n",
       "  <th>zipcode_log</th>        <td>  -40.2871</td> <td>    2.171</td> <td>  -18.560</td> <td> 0.000</td> <td>  -44.542</td> <td>  -36.033</td>\n",
       "</tr>\n",
       "<tr>\n",
       "  <th>lat*sqft_lot15_log</th> <td>   -0.3635</td> <td>    0.061</td> <td>   -5.975</td> <td> 0.000</td> <td>   -0.483</td> <td>   -0.244</td>\n",
       "</tr>\n",
       "<tr>\n",
       "  <th>lat*sqft_lot_log</th>   <td>   -0.1819</td> <td>    0.062</td> <td>   -2.953</td> <td> 0.003</td> <td>   -0.303</td> <td>   -0.061</td>\n",
       "</tr>\n",
       "<tr>\n",
       "  <th>long*zipcode_log</th>   <td>    0.3293</td> <td>    0.018</td> <td>   18.548</td> <td> 0.000</td> <td>    0.294</td> <td>    0.364</td>\n",
       "</tr>\n",
       "<tr>\n",
       "  <th>lat*long</th>           <td>    0.2150</td> <td>    0.023</td> <td>    9.277</td> <td> 0.000</td> <td>    0.170</td> <td>    0.260</td>\n",
       "</tr>\n",
       "</table>\n",
       "<table class=\"simpletable\">\n",
       "<tr>\n",
       "  <th>Omnibus:</th>       <td>571.308</td> <th>  Durbin-Watson:     </th> <td>   1.985</td> \n",
       "</tr>\n",
       "<tr>\n",
       "  <th>Prob(Omnibus):</th> <td> 0.000</td>  <th>  Jarque-Bera (JB):  </th> <td>1193.678</td> \n",
       "</tr>\n",
       "<tr>\n",
       "  <th>Skew:</th>          <td> 0.159</td>  <th>  Prob(JB):          </th> <td>6.25e-260</td>\n",
       "</tr>\n",
       "<tr>\n",
       "  <th>Kurtosis:</th>      <td> 4.107</td>  <th>  Cond. No.          </th> <td>2.10e+09</td> \n",
       "</tr>\n",
       "</table><br/><br/>Warnings:<br/>[1] Standard Errors assume that the covariance matrix of the errors is correctly specified.<br/>[2] The condition number is large, 2.1e+09. This might indicate that there are<br/>strong multicollinearity or other numerical problems."
      ],
      "text/plain": [
       "<class 'statsmodels.iolib.summary.Summary'>\n",
       "\"\"\"\n",
       "                            OLS Regression Results                            \n",
       "==============================================================================\n",
       "Dep. Variable:              price_log   R-squared:                       0.772\n",
       "Model:                            OLS   Adj. R-squared:                  0.772\n",
       "Method:                 Least Squares   F-statistic:                     3654.\n",
       "Date:                Thu, 30 Apr 2020   Prob (F-statistic):               0.00\n",
       "Time:                        21:26:08   Log-Likelihood:                 32096.\n",
       "No. Observations:               21596   AIC:                        -6.415e+04\n",
       "Df Residuals:                   21575   BIC:                        -6.398e+04\n",
       "Df Model:                          20                                         \n",
       "Covariance Type:            nonrobust                                         \n",
       "======================================================================================\n",
       "                         coef    std err          t      P>|t|      [0.025      0.975]\n",
       "--------------------------------------------------------------------------------------\n",
       "const               1233.3361    134.601      9.163      0.000     969.509    1497.163\n",
       "bedrooms              -0.0075      0.001    -13.469      0.000      -0.009      -0.006\n",
       "bathrooms              0.0162      0.001     18.485      0.000       0.014       0.018\n",
       "floors                 0.0066      0.001      6.005      0.000       0.004       0.009\n",
       "condition              0.0118      0.001     18.557      0.000       0.011       0.013\n",
       "grade                  0.0368      0.001     64.988      0.000       0.036       0.038\n",
       "sqft_basement       2.245e-05    2.2e-06     10.182      0.000    1.81e-05    2.68e-05\n",
       "lat                  -25.7866      2.835     -9.094      0.000     -31.344     -20.229\n",
       "long                 -10.2834      1.100     -9.346      0.000     -12.440      -8.127\n",
       "date_log               0.0171      0.001     13.285      0.000       0.015       0.020\n",
       "sqft_living_log        0.1206      0.017      7.235      0.000       0.088       0.153\n",
       "sqft_lot_log           8.6726      2.928      2.962      0.003       2.933      14.413\n",
       "sqft_above_log         0.1419      0.014     10.255      0.000       0.115       0.169\n",
       "yr_built_log          -0.1008      0.002    -46.697      0.000      -0.105      -0.097\n",
       "sqft_living15_log      0.1670      0.005     31.653      0.000       0.157       0.177\n",
       "sqft_lot15_log        17.2235      2.892      5.956      0.000      11.555      22.892\n",
       "zipcode_log          -40.2871      2.171    -18.560      0.000     -44.542     -36.033\n",
       "lat*sqft_lot15_log    -0.3635      0.061     -5.975      0.000      -0.483      -0.244\n",
       "lat*sqft_lot_log      -0.1819      0.062     -2.953      0.003      -0.303      -0.061\n",
       "long*zipcode_log       0.3293      0.018     18.548      0.000       0.294       0.364\n",
       "lat*long               0.2150      0.023      9.277      0.000       0.170       0.260\n",
       "==============================================================================\n",
       "Omnibus:                      571.308   Durbin-Watson:                   1.985\n",
       "Prob(Omnibus):                  0.000   Jarque-Bera (JB):             1193.678\n",
       "Skew:                           0.159   Prob(JB):                    6.25e-260\n",
       "Kurtosis:                       4.107   Cond. No.                     2.10e+09\n",
       "==============================================================================\n",
       "\n",
       "Warnings:\n",
       "[1] Standard Errors assume that the covariance matrix of the errors is correctly specified.\n",
       "[2] The condition number is large, 2.1e+09. This might indicate that there are\n",
       "strong multicollinearity or other numerical problems.\n",
       "\"\"\""
      ]
     },
     "execution_count": 39,
     "metadata": {},
     "output_type": "execute_result"
    }
   ],
   "source": [
    "#Build a final model with interactions\n",
    "#Use 10-fold cross-validation to build a model using the above interaction.\n",
    "\n",
    "crossval = KFold(n_splits=10, shuffle=True, random_state=1)\n",
    "final = X.copy()\n",
    "\n",
    "final['lat*sqft_lot15_log'] = final['lat'] * final['sqft_lot15_log']\n",
    "final['lat*sqft_lot_log'] = final['lat'] * final['sqft_lot_log']\n",
    "#final['sqft_lot_log*sqft_lot15_log'] = final['sqft_lot_log'] * final['sqft_lot15_log']\n",
    "final['long*zipcode_log'] = final['long'] * final['zipcode_log']\n",
    "\n",
    "final['lat*long'] = final['lat'] * final['long']\n",
    "\n",
    "final_model_R2 = np.mean(cross_val_score(linreg, final, y, scoring='r2', cv=crossval))\n",
    "\n",
    "print(final_model_R2)\n",
    "\n",
    "import statsmodels.api as sm\n",
    "df_inter_sm = sm.add_constant(final)\n",
    "model = sm.OLS(y,final)\n",
    "results = model.fit()\n",
    "\n",
    "results.summary()"
   ]
  },
  {
   "cell_type": "code",
   "execution_count": 40,
   "metadata": {},
   "outputs": [
    {
     "name": "stdout",
     "output_type": "stream",
     "text": [
      "RMSE: 0.05500516209833412\n"
     ]
    }
   ],
   "source": [
    "# Test Errors Results\n",
    "cv_5_results = cross_val_score(linreg, final, y, cv=5, scoring=mse)\n",
    "cv_5_results\n",
    "\n",
    "\n",
    "print(f\"RMSE: {np.sqrt(cv_5_results.mean())}\")"
   ]
  },
  {
   "cell_type": "code",
   "execution_count": 42,
   "metadata": {},
   "outputs": [
    {
     "data": {
      "text/plain": [
       "0       -0.031668\n",
       "1       -0.033339\n",
       "2       -0.177496\n",
       "3        0.078709\n",
       "4        0.039142\n",
       "           ...   \n",
       "21592   -0.085780\n",
       "21593   -0.011369\n",
       "21594    0.117619\n",
       "21595   -0.004617\n",
       "21596    0.061907\n",
       "Length: 21596, dtype: float64"
      ]
     },
     "execution_count": 42,
     "metadata": {},
     "output_type": "execute_result"
    }
   ],
   "source": []
  },
  {
   "cell_type": "code",
   "execution_count": 43,
   "metadata": {},
   "outputs": [
    {
     "ename": "NameError",
     "evalue": "name 'stats' is not defined",
     "output_type": "error",
     "traceback": [
      "\u001b[0;31m---------------------------------------------------------------------------\u001b[0m",
      "\u001b[0;31mNameError\u001b[0m                                 Traceback (most recent call last)",
      "\u001b[0;32m<ipython-input-43-d56f4352313b>\u001b[0m in \u001b[0;36m<module>\u001b[0;34m\u001b[0m\n\u001b[0;32m----> 1\u001b[0;31m \u001b[0mfig\u001b[0m \u001b[0;34m=\u001b[0m \u001b[0msm\u001b[0m\u001b[0;34m.\u001b[0m\u001b[0mgraphics\u001b[0m\u001b[0;34m.\u001b[0m\u001b[0mqqplot\u001b[0m\u001b[0;34m(\u001b[0m\u001b[0mresults\u001b[0m\u001b[0;34m.\u001b[0m\u001b[0mresid\u001b[0m\u001b[0;34m,\u001b[0m \u001b[0mdist\u001b[0m\u001b[0;34m=\u001b[0m\u001b[0mstats\u001b[0m\u001b[0;34m.\u001b[0m\u001b[0mnorm\u001b[0m\u001b[0;34m,\u001b[0m \u001b[0mline\u001b[0m\u001b[0;34m=\u001b[0m\u001b[0;34m'45'\u001b[0m\u001b[0;34m,\u001b[0m \u001b[0mfit\u001b[0m\u001b[0;34m=\u001b[0m\u001b[0;32mTrue\u001b[0m\u001b[0;34m)\u001b[0m\u001b[0;34m\u001b[0m\u001b[0;34m\u001b[0m\u001b[0m\n\u001b[0m",
      "\u001b[0;31mNameError\u001b[0m: name 'stats' is not defined"
     ]
    }
   ],
   "source": [
    "fig = sm.graphics.qqplot(results.resid, dist=stats.norm, line='45', fit=True)"
   ]
  },
  {
   "cell_type": "code",
   "execution_count": null,
   "metadata": {},
   "outputs": [],
   "source": [
    "final = final.drop(['floors'],axis=1)\n",
    "\n",
    "final_model_R2 = np.mean(cross_val_score(linreg, final, y, scoring='r2', cv=crossval))\n",
    "\n",
    "print(final_model_R2)\n",
    "\n",
    "import statsmodels.api as sm\n",
    "df_inter_sm = sm.add_constant(final)\n",
    "model = sm.OLS(y,final)\n",
    "results = model.fit()\n",
    "\n",
    "results.summary()"
   ]
  },
  {
   "cell_type": "code",
   "execution_count": null,
   "metadata": {},
   "outputs": [],
   "source": [
    "# Test Errors Results\n",
    "cv_5_results = cross_val_score(linreg, final, y, cv=5, scoring=mse)\n",
    "cv_5_results\n",
    "\n",
    "\n",
    "print(f\"RMSE: {np.sqrt(cv_5_results.mean())}\")"
   ]
  },
  {
   "cell_type": "code",
   "execution_count": null,
   "metadata": {},
   "outputs": [],
   "source": [
    "abs(final.corr() > 0.75)"
   ]
  },
  {
   "cell_type": "code",
   "execution_count": null,
   "metadata": {
    "scrolled": true
   },
   "outputs": [],
   "source": [
    "#final = final.drop(['sqft_lot15_log','lat*sqft_lot15_log','sqft_lot_log*sqft_lot15_log'],axis=1)\n",
    "#final = final.drop(['sqft_lot15_log','lat*sqft_lot15_log'],axis=1)\n",
    "final = final.drop(['sqft_lot15_log','lat*sqft_lot15_log','sqft_lot_log*sqft_lot15_log'],axis=1)\n",
    "\n",
    "final_model_R2 = np.mean(cross_val_score(linreg, final, y, scoring='r2', cv=crossval))\n",
    "\n",
    "print(final_model_R2)\n",
    "\n",
    "import statsmodels.api as sm\n",
    "df_inter_sm = sm.add_constant(final)\n",
    "model = sm.OLS(y,final)\n",
    "results = model.fit()\n",
    "\n",
    "results.summary()"
   ]
  },
  {
   "cell_type": "code",
   "execution_count": null,
   "metadata": {},
   "outputs": [],
   "source": [
    "# Test Errors Results\n",
    "cv_5_results = cross_val_score(linreg, final, y, cv=5, scoring=mse)\n",
    "cv_5_results\n",
    "\n",
    "\n",
    "print(f\"RMSE: {np.sqrt(cv_5_results.mean())}\")"
   ]
  },
  {
   "cell_type": "code",
   "execution_count": null,
   "metadata": {},
   "outputs": [],
   "source": []
  }
 ],
 "metadata": {
  "kernelspec": {
   "display_name": "Python [conda env:learn-env] *",
   "language": "python",
   "name": "conda-env-learn-env-py"
  },
  "language_info": {
   "codemirror_mode": {
    "name": "ipython",
    "version": 3
   },
   "file_extension": ".py",
   "mimetype": "text/x-python",
   "name": "python",
   "nbconvert_exporter": "python",
   "pygments_lexer": "ipython3",
   "version": "3.6.9"
  }
 },
 "nbformat": 4,
 "nbformat_minor": 2
}
