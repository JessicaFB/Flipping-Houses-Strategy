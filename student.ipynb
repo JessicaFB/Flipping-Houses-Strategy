{
 "cells": [
  {
   "cell_type": "markdown",
   "metadata": {},
   "source": [
    "## Final Project Submission\n",
    "\n",
    "Please fill out:\n",
    "* Student name: Jessica Forrest-Baldini\n",
    "* Student pace: Part-time\n",
    "* Scheduled project review date/time: \n",
    "* Instructor name: \n",
    "* Blog post URL:\n"
   ]
  },
  {
   "cell_type": "markdown",
   "metadata": {},
   "source": [
    "## Import Packages & Data"
   ]
  },
  {
   "cell_type": "code",
   "execution_count": 1,
   "metadata": {},
   "outputs": [],
   "source": [
    "import pandas as pd\n",
    "import numpy as np\n",
    "import seaborn as sns\n",
    "import scipy.stats as stats\n",
    "from datetime import datetime as date\n",
    "import matplotlib.pyplot as plt\n",
    "%matplotlib inline\n",
    "\n",
    "data = pd.read_csv('kc_house_data.csv') \n",
    "df = pd.DataFrame(data)"
   ]
  },
  {
   "cell_type": "markdown",
   "metadata": {},
   "source": [
    "## Clean  & Explore Data"
   ]
  },
  {
   "cell_type": "markdown",
   "metadata": {},
   "source": [
    "Let's take a look at what we're working with here and check the column names, data types and any null data there might be."
   ]
  },
  {
   "cell_type": "code",
   "execution_count": 2,
   "metadata": {},
   "outputs": [
    {
     "data": {
      "text/html": [
       "<div>\n",
       "<style scoped>\n",
       "    .dataframe tbody tr th:only-of-type {\n",
       "        vertical-align: middle;\n",
       "    }\n",
       "\n",
       "    .dataframe tbody tr th {\n",
       "        vertical-align: top;\n",
       "    }\n",
       "\n",
       "    .dataframe thead th {\n",
       "        text-align: right;\n",
       "    }\n",
       "</style>\n",
       "<table border=\"1\" class=\"dataframe\">\n",
       "  <thead>\n",
       "    <tr style=\"text-align: right;\">\n",
       "      <th></th>\n",
       "      <th>id</th>\n",
       "      <th>date</th>\n",
       "      <th>price</th>\n",
       "      <th>bedrooms</th>\n",
       "      <th>bathrooms</th>\n",
       "      <th>sqft_living</th>\n",
       "      <th>sqft_lot</th>\n",
       "      <th>floors</th>\n",
       "      <th>waterfront</th>\n",
       "      <th>view</th>\n",
       "      <th>...</th>\n",
       "      <th>grade</th>\n",
       "      <th>sqft_above</th>\n",
       "      <th>sqft_basement</th>\n",
       "      <th>yr_built</th>\n",
       "      <th>yr_renovated</th>\n",
       "      <th>zipcode</th>\n",
       "      <th>lat</th>\n",
       "      <th>long</th>\n",
       "      <th>sqft_living15</th>\n",
       "      <th>sqft_lot15</th>\n",
       "    </tr>\n",
       "  </thead>\n",
       "  <tbody>\n",
       "    <tr>\n",
       "      <td>0</td>\n",
       "      <td>7129300520</td>\n",
       "      <td>10/13/2014</td>\n",
       "      <td>221900.0</td>\n",
       "      <td>3</td>\n",
       "      <td>1.00</td>\n",
       "      <td>1180</td>\n",
       "      <td>5650</td>\n",
       "      <td>1.0</td>\n",
       "      <td>NaN</td>\n",
       "      <td>0.0</td>\n",
       "      <td>...</td>\n",
       "      <td>7</td>\n",
       "      <td>1180</td>\n",
       "      <td>0.0</td>\n",
       "      <td>1955</td>\n",
       "      <td>0.0</td>\n",
       "      <td>98178</td>\n",
       "      <td>47.5112</td>\n",
       "      <td>-122.257</td>\n",
       "      <td>1340</td>\n",
       "      <td>5650</td>\n",
       "    </tr>\n",
       "    <tr>\n",
       "      <td>1</td>\n",
       "      <td>6414100192</td>\n",
       "      <td>12/9/2014</td>\n",
       "      <td>538000.0</td>\n",
       "      <td>3</td>\n",
       "      <td>2.25</td>\n",
       "      <td>2570</td>\n",
       "      <td>7242</td>\n",
       "      <td>2.0</td>\n",
       "      <td>0.0</td>\n",
       "      <td>0.0</td>\n",
       "      <td>...</td>\n",
       "      <td>7</td>\n",
       "      <td>2170</td>\n",
       "      <td>400.0</td>\n",
       "      <td>1951</td>\n",
       "      <td>1991.0</td>\n",
       "      <td>98125</td>\n",
       "      <td>47.7210</td>\n",
       "      <td>-122.319</td>\n",
       "      <td>1690</td>\n",
       "      <td>7639</td>\n",
       "    </tr>\n",
       "    <tr>\n",
       "      <td>2</td>\n",
       "      <td>5631500400</td>\n",
       "      <td>2/25/2015</td>\n",
       "      <td>180000.0</td>\n",
       "      <td>2</td>\n",
       "      <td>1.00</td>\n",
       "      <td>770</td>\n",
       "      <td>10000</td>\n",
       "      <td>1.0</td>\n",
       "      <td>0.0</td>\n",
       "      <td>0.0</td>\n",
       "      <td>...</td>\n",
       "      <td>6</td>\n",
       "      <td>770</td>\n",
       "      <td>0.0</td>\n",
       "      <td>1933</td>\n",
       "      <td>NaN</td>\n",
       "      <td>98028</td>\n",
       "      <td>47.7379</td>\n",
       "      <td>-122.233</td>\n",
       "      <td>2720</td>\n",
       "      <td>8062</td>\n",
       "    </tr>\n",
       "    <tr>\n",
       "      <td>3</td>\n",
       "      <td>2487200875</td>\n",
       "      <td>12/9/2014</td>\n",
       "      <td>604000.0</td>\n",
       "      <td>4</td>\n",
       "      <td>3.00</td>\n",
       "      <td>1960</td>\n",
       "      <td>5000</td>\n",
       "      <td>1.0</td>\n",
       "      <td>0.0</td>\n",
       "      <td>0.0</td>\n",
       "      <td>...</td>\n",
       "      <td>7</td>\n",
       "      <td>1050</td>\n",
       "      <td>910.0</td>\n",
       "      <td>1965</td>\n",
       "      <td>0.0</td>\n",
       "      <td>98136</td>\n",
       "      <td>47.5208</td>\n",
       "      <td>-122.393</td>\n",
       "      <td>1360</td>\n",
       "      <td>5000</td>\n",
       "    </tr>\n",
       "    <tr>\n",
       "      <td>4</td>\n",
       "      <td>1954400510</td>\n",
       "      <td>2/18/2015</td>\n",
       "      <td>510000.0</td>\n",
       "      <td>3</td>\n",
       "      <td>2.00</td>\n",
       "      <td>1680</td>\n",
       "      <td>8080</td>\n",
       "      <td>1.0</td>\n",
       "      <td>0.0</td>\n",
       "      <td>0.0</td>\n",
       "      <td>...</td>\n",
       "      <td>8</td>\n",
       "      <td>1680</td>\n",
       "      <td>0.0</td>\n",
       "      <td>1987</td>\n",
       "      <td>0.0</td>\n",
       "      <td>98074</td>\n",
       "      <td>47.6168</td>\n",
       "      <td>-122.045</td>\n",
       "      <td>1800</td>\n",
       "      <td>7503</td>\n",
       "    </tr>\n",
       "  </tbody>\n",
       "</table>\n",
       "<p>5 rows × 21 columns</p>\n",
       "</div>"
      ],
      "text/plain": [
       "           id        date     price  bedrooms  bathrooms  sqft_living  \\\n",
       "0  7129300520  10/13/2014  221900.0         3       1.00         1180   \n",
       "1  6414100192   12/9/2014  538000.0         3       2.25         2570   \n",
       "2  5631500400   2/25/2015  180000.0         2       1.00          770   \n",
       "3  2487200875   12/9/2014  604000.0         4       3.00         1960   \n",
       "4  1954400510   2/18/2015  510000.0         3       2.00         1680   \n",
       "\n",
       "   sqft_lot  floors  waterfront  view  ...  grade  sqft_above  sqft_basement  \\\n",
       "0      5650     1.0         NaN   0.0  ...      7        1180            0.0   \n",
       "1      7242     2.0         0.0   0.0  ...      7        2170          400.0   \n",
       "2     10000     1.0         0.0   0.0  ...      6         770            0.0   \n",
       "3      5000     1.0         0.0   0.0  ...      7        1050          910.0   \n",
       "4      8080     1.0         0.0   0.0  ...      8        1680            0.0   \n",
       "\n",
       "  yr_built  yr_renovated  zipcode      lat     long  sqft_living15  sqft_lot15  \n",
       "0     1955           0.0    98178  47.5112 -122.257           1340        5650  \n",
       "1     1951        1991.0    98125  47.7210 -122.319           1690        7639  \n",
       "2     1933           NaN    98028  47.7379 -122.233           2720        8062  \n",
       "3     1965           0.0    98136  47.5208 -122.393           1360        5000  \n",
       "4     1987           0.0    98074  47.6168 -122.045           1800        7503  \n",
       "\n",
       "[5 rows x 21 columns]"
      ]
     },
     "execution_count": 2,
     "metadata": {},
     "output_type": "execute_result"
    }
   ],
   "source": [
    "# Look at column names and first 5 rows\n",
    "df.head()"
   ]
  },
  {
   "cell_type": "markdown",
   "metadata": {},
   "source": [
    "We'll start by dropping the columns we know we won't be using. Referenced in the file 'column_names.md' in this repository."
   ]
  },
  {
   "cell_type": "code",
   "execution_count": 3,
   "metadata": {
    "code_folding": []
   },
   "outputs": [],
   "source": [
    "# Drop waterfront - only 146 homes with waterfronts\n",
    "# Drop view - this represent if the property has been viewed\n",
    "# Drop id\n",
    "\n",
    "to_drop = ['waterfront','view','id']\n",
    "df = df.drop(to_drop, axis=1)"
   ]
  },
  {
   "cell_type": "code",
   "execution_count": 4,
   "metadata": {},
   "outputs": [
    {
     "name": "stdout",
     "output_type": "stream",
     "text": [
      "<class 'pandas.core.frame.DataFrame'>\n",
      "RangeIndex: 21597 entries, 0 to 21596\n",
      "Data columns (total 18 columns):\n",
      "date             21597 non-null object\n",
      "price            21597 non-null float64\n",
      "bedrooms         21597 non-null int64\n",
      "bathrooms        21597 non-null float64\n",
      "sqft_living      21597 non-null int64\n",
      "sqft_lot         21597 non-null int64\n",
      "floors           21597 non-null float64\n",
      "condition        21597 non-null int64\n",
      "grade            21597 non-null int64\n",
      "sqft_above       21597 non-null int64\n",
      "sqft_basement    21597 non-null object\n",
      "yr_built         21597 non-null int64\n",
      "yr_renovated     17755 non-null float64\n",
      "zipcode          21597 non-null int64\n",
      "lat              21597 non-null float64\n",
      "long             21597 non-null float64\n",
      "sqft_living15    21597 non-null int64\n",
      "sqft_lot15       21597 non-null int64\n",
      "dtypes: float64(6), int64(10), object(2)\n",
      "memory usage: 3.0+ MB\n"
     ]
    }
   ],
   "source": [
    "df.info()"
   ]
  },
  {
   "cell_type": "markdown",
   "metadata": {},
   "source": [
    "We can see date and sqft_basement are objects, so we'll go ahead and clean those."
   ]
  },
  {
   "cell_type": "code",
   "execution_count": 5,
   "metadata": {},
   "outputs": [
    {
     "data": {
      "text/plain": [
       "'10/13/2014'"
      ]
     },
     "execution_count": 5,
     "metadata": {},
     "output_type": "execute_result"
    }
   ],
   "source": [
    "# Let's take a look at date\n",
    "df.date[0]"
   ]
  },
  {
   "cell_type": "markdown",
   "metadata": {},
   "source": [
    "We can see date is in string format. Let's go ahead and clean it up by converting it to number format. I'm actually going to convert it to a MATLAB style datenumber so I can include it in the model. "
   ]
  },
  {
   "cell_type": "code",
   "execution_count": 6,
   "metadata": {},
   "outputs": [],
   "source": [
    "# Define function to convert datestr to datenum\n",
    "def datenum(datestr):\n",
    "    '''\n",
    "    Convert datestring in the format MM/DD/YYYY\n",
    "    to MATLAB style datenum\n",
    "    '''\n",
    "    datenum = date.toordinal(date((int(datestr.split('/', -1)[2])),\n",
    "                                  (int(datestr.split('/', -1)[0])),\n",
    "                                  (int(datestr.split('/', -1)[1]))\n",
    "                                 ))+366\n",
    "    return datenum\n",
    "\n",
    "# Apply to date column\n",
    "df.date = df.date.map(datenum)"
   ]
  },
  {
   "cell_type": "markdown",
   "metadata": {},
   "source": [
    "Now let's take care of sqft_basement. Let's take a look."
   ]
  },
  {
   "cell_type": "code",
   "execution_count": 7,
   "metadata": {},
   "outputs": [
    {
     "data": {
      "text/plain": [
       "array(['0.0', '400.0', '910.0', '1530.0', '?', '730.0', '1700.0', '300.0',\n",
       "       '970.0', '760.0', '720.0', '700.0', '820.0', '780.0', '790.0',\n",
       "       '330.0', '1620.0', '360.0', '588.0', '1510.0', '410.0', '990.0',\n",
       "       '600.0', '560.0', '550.0', '1000.0', '1600.0', '500.0', '1040.0',\n",
       "       '880.0', '1010.0', '240.0', '265.0', '290.0', '800.0', '540.0',\n",
       "       '710.0', '840.0', '380.0', '770.0', '480.0', '570.0', '1490.0',\n",
       "       '620.0', '1250.0', '1270.0', '120.0', '650.0', '180.0', '1130.0',\n",
       "       '450.0', '1640.0', '1460.0', '1020.0', '1030.0', '750.0', '640.0',\n",
       "       '1070.0', '490.0', '1310.0', '630.0', '2000.0', '390.0', '430.0',\n",
       "       '850.0', '210.0', '1430.0', '1950.0', '440.0', '220.0', '1160.0',\n",
       "       '860.0', '580.0', '2060.0', '1820.0', '1180.0', '200.0', '1150.0',\n",
       "       '1200.0', '680.0', '530.0', '1450.0', '1170.0', '1080.0', '960.0',\n",
       "       '280.0', '870.0', '1100.0', '460.0', '1400.0', '660.0', '1220.0',\n",
       "       '900.0', '420.0', '1580.0', '1380.0', '475.0', '690.0', '270.0',\n",
       "       '350.0', '935.0', '1370.0', '980.0', '1470.0', '160.0', '950.0',\n",
       "       '50.0', '740.0', '1780.0', '1900.0', '340.0', '470.0', '370.0',\n",
       "       '140.0', '1760.0', '130.0', '520.0', '890.0', '1110.0', '150.0',\n",
       "       '1720.0', '810.0', '190.0', '1290.0', '670.0', '1800.0', '1120.0',\n",
       "       '1810.0', '60.0', '1050.0', '940.0', '310.0', '930.0', '1390.0',\n",
       "       '610.0', '1830.0', '1300.0', '510.0', '1330.0', '1590.0', '920.0',\n",
       "       '1320.0', '1420.0', '1240.0', '1960.0', '1560.0', '2020.0',\n",
       "       '1190.0', '2110.0', '1280.0', '250.0', '2390.0', '1230.0', '170.0',\n",
       "       '830.0', '1260.0', '1410.0', '1340.0', '590.0', '1500.0', '1140.0',\n",
       "       '260.0', '100.0', '320.0', '1480.0', '1060.0', '1284.0', '1670.0',\n",
       "       '1350.0', '2570.0', '1090.0', '110.0', '2500.0', '90.0', '1940.0',\n",
       "       '1550.0', '2350.0', '2490.0', '1481.0', '1360.0', '1135.0',\n",
       "       '1520.0', '1850.0', '1660.0', '2130.0', '2600.0', '1690.0',\n",
       "       '243.0', '1210.0', '1024.0', '1798.0', '1610.0', '1440.0',\n",
       "       '1570.0', '1650.0', '704.0', '1910.0', '1630.0', '2360.0',\n",
       "       '1852.0', '2090.0', '2400.0', '1790.0', '2150.0', '230.0', '70.0',\n",
       "       '1680.0', '2100.0', '3000.0', '1870.0', '1710.0', '2030.0',\n",
       "       '875.0', '1540.0', '2850.0', '2170.0', '506.0', '906.0', '145.0',\n",
       "       '2040.0', '784.0', '1750.0', '374.0', '518.0', '2720.0', '2730.0',\n",
       "       '1840.0', '3480.0', '2160.0', '1920.0', '2330.0', '1860.0',\n",
       "       '2050.0', '4820.0', '1913.0', '80.0', '2010.0', '3260.0', '2200.0',\n",
       "       '415.0', '1730.0', '652.0', '2196.0', '1930.0', '515.0', '40.0',\n",
       "       '2080.0', '2580.0', '1548.0', '1740.0', '235.0', '861.0', '1890.0',\n",
       "       '2220.0', '792.0', '2070.0', '4130.0', '2250.0', '2240.0',\n",
       "       '1990.0', '768.0', '2550.0', '435.0', '1008.0', '2300.0', '2610.0',\n",
       "       '666.0', '3500.0', '172.0', '1816.0', '2190.0', '1245.0', '1525.0',\n",
       "       '1880.0', '862.0', '946.0', '1281.0', '414.0', '2180.0', '276.0',\n",
       "       '1248.0', '602.0', '516.0', '176.0', '225.0', '1275.0', '266.0',\n",
       "       '283.0', '65.0', '2310.0', '10.0', '1770.0', '2120.0', '295.0',\n",
       "       '207.0', '915.0', '556.0', '417.0', '143.0', '508.0', '2810.0',\n",
       "       '20.0', '274.0', '248.0'], dtype=object)"
      ]
     },
     "execution_count": 7,
     "metadata": {},
     "output_type": "execute_result"
    }
   ],
   "source": [
    "# Check out the unique values\n",
    "df.sqft_basement.unique()"
   ]
  },
  {
   "cell_type": "markdown",
   "metadata": {},
   "source": [
    "We can see the null values are input as '?' and that the column is in string format. Let's go ahead and correct that. "
   ]
  },
  {
   "cell_type": "code",
   "execution_count": 8,
   "metadata": {},
   "outputs": [],
   "source": [
    "# Replace NaN basement values with 0 as there are only 454 of them \n",
    "df.sqft_basement = df.sqft_basement.replace('?','0.0').astype(float)"
   ]
  },
  {
   "cell_type": "markdown",
   "metadata": {},
   "source": [
    "Let's take a look at the columns to see which ones have null data."
   ]
  },
  {
   "cell_type": "code",
   "execution_count": 9,
   "metadata": {},
   "outputs": [
    {
     "data": {
      "text/plain": [
       "date                0\n",
       "price               0\n",
       "bedrooms            0\n",
       "bathrooms           0\n",
       "sqft_living         0\n",
       "sqft_lot            0\n",
       "floors              0\n",
       "condition           0\n",
       "grade               0\n",
       "sqft_above          0\n",
       "sqft_basement       0\n",
       "yr_built            0\n",
       "yr_renovated     3842\n",
       "zipcode             0\n",
       "lat                 0\n",
       "long                0\n",
       "sqft_living15       0\n",
       "sqft_lot15          0\n",
       "dtype: int64"
      ]
     },
     "execution_count": 9,
     "metadata": {},
     "output_type": "execute_result"
    }
   ],
   "source": [
    "# Count NaNs in each column\n",
    "df.isna().sum()"
   ]
  },
  {
   "cell_type": "markdown",
   "metadata": {},
   "source": [
    "It looks like yr_renovated has some null values. Let's take a closer look."
   ]
  },
  {
   "cell_type": "code",
   "execution_count": 12,
   "metadata": {},
   "outputs": [
    {
     "data": {
      "text/plain": [
       "2    NaN\n",
       "12   NaN\n",
       "23   NaN\n",
       "26   NaN\n",
       "28   NaN\n",
       "Name: yr_renovated, dtype: float64"
      ]
     },
     "execution_count": 12,
     "metadata": {},
     "output_type": "execute_result"
    }
   ],
   "source": [
    "# Sort column with NaNs first\n",
    "df.yr_renovated.sort_values(na_position='first').head()"
   ]
  },
  {
   "cell_type": "code",
   "execution_count": 14,
   "metadata": {},
   "outputs": [
    {
     "data": {
      "text/plain": [
       "count    17755.000000\n",
       "mean        83.636778\n",
       "std        399.946414\n",
       "min          0.000000\n",
       "25%          0.000000\n",
       "50%          0.000000\n",
       "75%          0.000000\n",
       "max       2015.000000\n",
       "Name: yr_renovated, dtype: float64"
      ]
     },
     "execution_count": 14,
     "metadata": {},
     "output_type": "execute_result"
    }
   ],
   "source": [
    "# Let's take a look at the summary statistics\n",
    "df.yr_renovated.describe()"
   ]
  },
  {
   "cell_type": "code",
   "execution_count": 18,
   "metadata": {},
   "outputs": [
    {
     "data": {
      "text/plain": [
       "744"
      ]
     },
     "execution_count": 18,
     "metadata": {},
     "output_type": "execute_result"
    }
   ],
   "source": [
    "# How many homes were renovated? \n",
    "sum(df.yr_renovated > 0)"
   ]
  },
  {
   "cell_type": "markdown",
   "metadata": {},
   "source": [
    "It looks like there are NaN values, and also that a home not renovated is entered as '0'. Since only 744 homes have been renovated out of about 21,000, I'm going to fill the 'NaN' values with '0'. I'm not planning to bin this, so I'm going to add 1 to the year so we can log transform it later. "
   ]
  },
  {
   "cell_type": "code",
   "execution_count": 19,
   "metadata": {},
   "outputs": [],
   "source": [
    "# Fill with 0\n",
    "df.yr_renovated = df.yr_renovated.fillna(0)\n",
    "\n",
    "# Add 1 for log transformation later\n",
    "df.yr_renovated = df.yr_renovated + 1"
   ]
  },
  {
   "cell_type": "markdown",
   "metadata": {},
   "source": [
    "Let's take a look at our summary statistics for the dataset."
   ]
  },
  {
   "cell_type": "code",
   "execution_count": 20,
   "metadata": {},
   "outputs": [
    {
     "data": {
      "text/html": [
       "<div>\n",
       "<style scoped>\n",
       "    .dataframe tbody tr th:only-of-type {\n",
       "        vertical-align: middle;\n",
       "    }\n",
       "\n",
       "    .dataframe tbody tr th {\n",
       "        vertical-align: top;\n",
       "    }\n",
       "\n",
       "    .dataframe thead th {\n",
       "        text-align: right;\n",
       "    }\n",
       "</style>\n",
       "<table border=\"1\" class=\"dataframe\">\n",
       "  <thead>\n",
       "    <tr style=\"text-align: right;\">\n",
       "      <th></th>\n",
       "      <th>date</th>\n",
       "      <th>price</th>\n",
       "      <th>bedrooms</th>\n",
       "      <th>bathrooms</th>\n",
       "      <th>sqft_living</th>\n",
       "      <th>sqft_lot</th>\n",
       "      <th>floors</th>\n",
       "      <th>condition</th>\n",
       "      <th>grade</th>\n",
       "      <th>sqft_above</th>\n",
       "      <th>sqft_basement</th>\n",
       "      <th>yr_built</th>\n",
       "      <th>yr_renovated</th>\n",
       "      <th>zipcode</th>\n",
       "      <th>lat</th>\n",
       "      <th>long</th>\n",
       "      <th>sqft_living15</th>\n",
       "      <th>sqft_lot15</th>\n",
       "    </tr>\n",
       "  </thead>\n",
       "  <tbody>\n",
       "    <tr>\n",
       "      <td>count</td>\n",
       "      <td>21597.0</td>\n",
       "      <td>21597.0</td>\n",
       "      <td>21597.0</td>\n",
       "      <td>21597.0</td>\n",
       "      <td>21597.0</td>\n",
       "      <td>21597.0</td>\n",
       "      <td>21597.0</td>\n",
       "      <td>21597.0</td>\n",
       "      <td>21597.0</td>\n",
       "      <td>21597.0</td>\n",
       "      <td>21597.0</td>\n",
       "      <td>21597.0</td>\n",
       "      <td>21597.0</td>\n",
       "      <td>21597.0</td>\n",
       "      <td>21597.0</td>\n",
       "      <td>21597.0</td>\n",
       "      <td>21597.0</td>\n",
       "      <td>21597.0</td>\n",
       "    </tr>\n",
       "    <tr>\n",
       "      <td>mean</td>\n",
       "      <td>735901.0</td>\n",
       "      <td>540297.0</td>\n",
       "      <td>3.0</td>\n",
       "      <td>2.0</td>\n",
       "      <td>2080.0</td>\n",
       "      <td>15099.0</td>\n",
       "      <td>1.0</td>\n",
       "      <td>3.0</td>\n",
       "      <td>8.0</td>\n",
       "      <td>1789.0</td>\n",
       "      <td>286.0</td>\n",
       "      <td>1971.0</td>\n",
       "      <td>70.0</td>\n",
       "      <td>98078.0</td>\n",
       "      <td>48.0</td>\n",
       "      <td>-122.0</td>\n",
       "      <td>1987.0</td>\n",
       "      <td>12758.0</td>\n",
       "    </tr>\n",
       "    <tr>\n",
       "      <td>std</td>\n",
       "      <td>113.0</td>\n",
       "      <td>367368.0</td>\n",
       "      <td>1.0</td>\n",
       "      <td>1.0</td>\n",
       "      <td>918.0</td>\n",
       "      <td>41413.0</td>\n",
       "      <td>1.0</td>\n",
       "      <td>1.0</td>\n",
       "      <td>1.0</td>\n",
       "      <td>828.0</td>\n",
       "      <td>440.0</td>\n",
       "      <td>29.0</td>\n",
       "      <td>364.0</td>\n",
       "      <td>54.0</td>\n",
       "      <td>0.0</td>\n",
       "      <td>0.0</td>\n",
       "      <td>685.0</td>\n",
       "      <td>27274.0</td>\n",
       "    </tr>\n",
       "    <tr>\n",
       "      <td>min</td>\n",
       "      <td>735721.0</td>\n",
       "      <td>78000.0</td>\n",
       "      <td>1.0</td>\n",
       "      <td>0.0</td>\n",
       "      <td>370.0</td>\n",
       "      <td>520.0</td>\n",
       "      <td>1.0</td>\n",
       "      <td>1.0</td>\n",
       "      <td>3.0</td>\n",
       "      <td>370.0</td>\n",
       "      <td>0.0</td>\n",
       "      <td>1900.0</td>\n",
       "      <td>1.0</td>\n",
       "      <td>98001.0</td>\n",
       "      <td>47.0</td>\n",
       "      <td>-123.0</td>\n",
       "      <td>399.0</td>\n",
       "      <td>651.0</td>\n",
       "    </tr>\n",
       "    <tr>\n",
       "      <td>25%</td>\n",
       "      <td>735802.0</td>\n",
       "      <td>322000.0</td>\n",
       "      <td>3.0</td>\n",
       "      <td>2.0</td>\n",
       "      <td>1430.0</td>\n",
       "      <td>5040.0</td>\n",
       "      <td>1.0</td>\n",
       "      <td>3.0</td>\n",
       "      <td>7.0</td>\n",
       "      <td>1190.0</td>\n",
       "      <td>0.0</td>\n",
       "      <td>1951.0</td>\n",
       "      <td>1.0</td>\n",
       "      <td>98033.0</td>\n",
       "      <td>47.0</td>\n",
       "      <td>-122.0</td>\n",
       "      <td>1490.0</td>\n",
       "      <td>5100.0</td>\n",
       "    </tr>\n",
       "    <tr>\n",
       "      <td>50%</td>\n",
       "      <td>735888.0</td>\n",
       "      <td>450000.0</td>\n",
       "      <td>3.0</td>\n",
       "      <td>2.0</td>\n",
       "      <td>1910.0</td>\n",
       "      <td>7618.0</td>\n",
       "      <td>2.0</td>\n",
       "      <td>3.0</td>\n",
       "      <td>7.0</td>\n",
       "      <td>1560.0</td>\n",
       "      <td>0.0</td>\n",
       "      <td>1975.0</td>\n",
       "      <td>1.0</td>\n",
       "      <td>98065.0</td>\n",
       "      <td>48.0</td>\n",
       "      <td>-122.0</td>\n",
       "      <td>1840.0</td>\n",
       "      <td>7620.0</td>\n",
       "    </tr>\n",
       "    <tr>\n",
       "      <td>75%</td>\n",
       "      <td>736012.0</td>\n",
       "      <td>645000.0</td>\n",
       "      <td>4.0</td>\n",
       "      <td>2.0</td>\n",
       "      <td>2550.0</td>\n",
       "      <td>10685.0</td>\n",
       "      <td>2.0</td>\n",
       "      <td>4.0</td>\n",
       "      <td>8.0</td>\n",
       "      <td>2210.0</td>\n",
       "      <td>550.0</td>\n",
       "      <td>1997.0</td>\n",
       "      <td>1.0</td>\n",
       "      <td>98118.0</td>\n",
       "      <td>48.0</td>\n",
       "      <td>-122.0</td>\n",
       "      <td>2360.0</td>\n",
       "      <td>10083.0</td>\n",
       "    </tr>\n",
       "    <tr>\n",
       "      <td>max</td>\n",
       "      <td>736111.0</td>\n",
       "      <td>7700000.0</td>\n",
       "      <td>33.0</td>\n",
       "      <td>8.0</td>\n",
       "      <td>13540.0</td>\n",
       "      <td>1651359.0</td>\n",
       "      <td>4.0</td>\n",
       "      <td>5.0</td>\n",
       "      <td>13.0</td>\n",
       "      <td>9410.0</td>\n",
       "      <td>4820.0</td>\n",
       "      <td>2015.0</td>\n",
       "      <td>2016.0</td>\n",
       "      <td>98199.0</td>\n",
       "      <td>48.0</td>\n",
       "      <td>-121.0</td>\n",
       "      <td>6210.0</td>\n",
       "      <td>871200.0</td>\n",
       "    </tr>\n",
       "  </tbody>\n",
       "</table>\n",
       "</div>"
      ],
      "text/plain": [
       "           date      price  bedrooms  bathrooms  sqft_living   sqft_lot  \\\n",
       "count   21597.0    21597.0   21597.0    21597.0      21597.0    21597.0   \n",
       "mean   735901.0   540297.0       3.0        2.0       2080.0    15099.0   \n",
       "std       113.0   367368.0       1.0        1.0        918.0    41413.0   \n",
       "min    735721.0    78000.0       1.0        0.0        370.0      520.0   \n",
       "25%    735802.0   322000.0       3.0        2.0       1430.0     5040.0   \n",
       "50%    735888.0   450000.0       3.0        2.0       1910.0     7618.0   \n",
       "75%    736012.0   645000.0       4.0        2.0       2550.0    10685.0   \n",
       "max    736111.0  7700000.0      33.0        8.0      13540.0  1651359.0   \n",
       "\n",
       "        floors  condition    grade  sqft_above  sqft_basement  yr_built  \\\n",
       "count  21597.0    21597.0  21597.0     21597.0        21597.0   21597.0   \n",
       "mean       1.0        3.0      8.0      1789.0          286.0    1971.0   \n",
       "std        1.0        1.0      1.0       828.0          440.0      29.0   \n",
       "min        1.0        1.0      3.0       370.0            0.0    1900.0   \n",
       "25%        1.0        3.0      7.0      1190.0            0.0    1951.0   \n",
       "50%        2.0        3.0      7.0      1560.0            0.0    1975.0   \n",
       "75%        2.0        4.0      8.0      2210.0          550.0    1997.0   \n",
       "max        4.0        5.0     13.0      9410.0         4820.0    2015.0   \n",
       "\n",
       "       yr_renovated  zipcode      lat     long  sqft_living15  sqft_lot15  \n",
       "count       21597.0  21597.0  21597.0  21597.0        21597.0     21597.0  \n",
       "mean           70.0  98078.0     48.0   -122.0         1987.0     12758.0  \n",
       "std           364.0     54.0      0.0      0.0          685.0     27274.0  \n",
       "min             1.0  98001.0     47.0   -123.0          399.0       651.0  \n",
       "25%             1.0  98033.0     47.0   -122.0         1490.0      5100.0  \n",
       "50%             1.0  98065.0     48.0   -122.0         1840.0      7620.0  \n",
       "75%             1.0  98118.0     48.0   -122.0         2360.0     10083.0  \n",
       "max          2016.0  98199.0     48.0   -121.0         6210.0    871200.0  "
      ]
     },
     "execution_count": 20,
     "metadata": {},
     "output_type": "execute_result"
    }
   ],
   "source": [
    "# Summary statistics\n",
    "df.describe().round()"
   ]
  },
  {
   "cell_type": "markdown",
   "metadata": {},
   "source": [
    "It looks like bedrooms may have an oulier at 33. Let's take a closer look. "
   ]
  },
  {
   "cell_type": "code",
   "execution_count": 24,
   "metadata": {
    "code_folding": []
   },
   "outputs": [
    {
     "data": {
      "text/html": [
       "<div>\n",
       "<style scoped>\n",
       "    .dataframe tbody tr th:only-of-type {\n",
       "        vertical-align: middle;\n",
       "    }\n",
       "\n",
       "    .dataframe tbody tr th {\n",
       "        vertical-align: top;\n",
       "    }\n",
       "\n",
       "    .dataframe thead th {\n",
       "        text-align: right;\n",
       "    }\n",
       "</style>\n",
       "<table border=\"1\" class=\"dataframe\">\n",
       "  <thead>\n",
       "    <tr style=\"text-align: right;\">\n",
       "      <th></th>\n",
       "      <th>date</th>\n",
       "      <th>price</th>\n",
       "      <th>bedrooms</th>\n",
       "      <th>bathrooms</th>\n",
       "      <th>sqft_living</th>\n",
       "      <th>sqft_lot</th>\n",
       "      <th>floors</th>\n",
       "      <th>condition</th>\n",
       "      <th>grade</th>\n",
       "      <th>sqft_above</th>\n",
       "      <th>sqft_basement</th>\n",
       "      <th>yr_built</th>\n",
       "      <th>yr_renovated</th>\n",
       "      <th>zipcode</th>\n",
       "      <th>lat</th>\n",
       "      <th>long</th>\n",
       "      <th>sqft_living15</th>\n",
       "      <th>sqft_lot15</th>\n",
       "    </tr>\n",
       "  </thead>\n",
       "  <tbody>\n",
       "    <tr>\n",
       "      <td>8748</td>\n",
       "      <td>735832</td>\n",
       "      <td>520000.0</td>\n",
       "      <td>11</td>\n",
       "      <td>3.00</td>\n",
       "      <td>3000</td>\n",
       "      <td>4960</td>\n",
       "      <td>2.0</td>\n",
       "      <td>3</td>\n",
       "      <td>7</td>\n",
       "      <td>2400</td>\n",
       "      <td>600.0</td>\n",
       "      <td>1918</td>\n",
       "      <td>2000.0</td>\n",
       "      <td>98106</td>\n",
       "      <td>47.5560</td>\n",
       "      <td>-122.363</td>\n",
       "      <td>1420</td>\n",
       "      <td>4960</td>\n",
       "    </tr>\n",
       "    <tr>\n",
       "      <td>13301</td>\n",
       "      <td>735825</td>\n",
       "      <td>1150000.0</td>\n",
       "      <td>10</td>\n",
       "      <td>5.25</td>\n",
       "      <td>4590</td>\n",
       "      <td>10920</td>\n",
       "      <td>1.0</td>\n",
       "      <td>3</td>\n",
       "      <td>9</td>\n",
       "      <td>2500</td>\n",
       "      <td>2090.0</td>\n",
       "      <td>2008</td>\n",
       "      <td>1.0</td>\n",
       "      <td>98004</td>\n",
       "      <td>47.5861</td>\n",
       "      <td>-122.113</td>\n",
       "      <td>2730</td>\n",
       "      <td>10400</td>\n",
       "    </tr>\n",
       "    <tr>\n",
       "      <td>15147</td>\n",
       "      <td>735901</td>\n",
       "      <td>650000.0</td>\n",
       "      <td>10</td>\n",
       "      <td>2.00</td>\n",
       "      <td>3610</td>\n",
       "      <td>11914</td>\n",
       "      <td>2.0</td>\n",
       "      <td>4</td>\n",
       "      <td>7</td>\n",
       "      <td>3010</td>\n",
       "      <td>600.0</td>\n",
       "      <td>1958</td>\n",
       "      <td>1.0</td>\n",
       "      <td>98006</td>\n",
       "      <td>47.5705</td>\n",
       "      <td>-122.175</td>\n",
       "      <td>2040</td>\n",
       "      <td>11914</td>\n",
       "    </tr>\n",
       "    <tr>\n",
       "      <td>15856</td>\n",
       "      <td>735775</td>\n",
       "      <td>640000.0</td>\n",
       "      <td>33</td>\n",
       "      <td>1.75</td>\n",
       "      <td>1620</td>\n",
       "      <td>6000</td>\n",
       "      <td>1.0</td>\n",
       "      <td>5</td>\n",
       "      <td>7</td>\n",
       "      <td>1040</td>\n",
       "      <td>580.0</td>\n",
       "      <td>1947</td>\n",
       "      <td>1.0</td>\n",
       "      <td>98103</td>\n",
       "      <td>47.6878</td>\n",
       "      <td>-122.331</td>\n",
       "      <td>1330</td>\n",
       "      <td>4700</td>\n",
       "    </tr>\n",
       "    <tr>\n",
       "      <td>19239</td>\n",
       "      <td>735962</td>\n",
       "      <td>660000.0</td>\n",
       "      <td>10</td>\n",
       "      <td>3.00</td>\n",
       "      <td>2920</td>\n",
       "      <td>3745</td>\n",
       "      <td>2.0</td>\n",
       "      <td>4</td>\n",
       "      <td>7</td>\n",
       "      <td>1860</td>\n",
       "      <td>1060.0</td>\n",
       "      <td>1913</td>\n",
       "      <td>1.0</td>\n",
       "      <td>98105</td>\n",
       "      <td>47.6635</td>\n",
       "      <td>-122.320</td>\n",
       "      <td>1810</td>\n",
       "      <td>3745</td>\n",
       "    </tr>\n",
       "  </tbody>\n",
       "</table>\n",
       "</div>"
      ],
      "text/plain": [
       "         date      price  bedrooms  bathrooms  sqft_living  sqft_lot  floors  \\\n",
       "8748   735832   520000.0        11       3.00         3000      4960     2.0   \n",
       "13301  735825  1150000.0        10       5.25         4590     10920     1.0   \n",
       "15147  735901   650000.0        10       2.00         3610     11914     2.0   \n",
       "15856  735775   640000.0        33       1.75         1620      6000     1.0   \n",
       "19239  735962   660000.0        10       3.00         2920      3745     2.0   \n",
       "\n",
       "       condition  grade  sqft_above  sqft_basement  yr_built  yr_renovated  \\\n",
       "8748           3      7        2400          600.0      1918        2000.0   \n",
       "13301          3      9        2500         2090.0      2008           1.0   \n",
       "15147          4      7        3010          600.0      1958           1.0   \n",
       "15856          5      7        1040          580.0      1947           1.0   \n",
       "19239          4      7        1860         1060.0      1913           1.0   \n",
       "\n",
       "       zipcode      lat     long  sqft_living15  sqft_lot15  \n",
       "8748     98106  47.5560 -122.363           1420        4960  \n",
       "13301    98004  47.5861 -122.113           2730       10400  \n",
       "15147    98006  47.5705 -122.175           2040       11914  \n",
       "15856    98103  47.6878 -122.331           1330        4700  \n",
       "19239    98105  47.6635 -122.320           1810        3745  "
      ]
     },
     "execution_count": 24,
     "metadata": {},
     "output_type": "execute_result"
    }
   ],
   "source": [
    "# Compare with other homes in data set that have high number of bedrooms\n",
    "df[df.bedrooms > 9] "
   ]
  },
  {
   "cell_type": "markdown",
   "metadata": {},
   "source": [
    "33 bedrooms and only 1.75 bathrooms doesn't seem right. It is a pretty small home for 33 rooms at 1,620sqft. This may have been intended to be 3 bedrooms, so it could be changed to '3'. For now though, I'm going to remove it."
   ]
  },
  {
   "cell_type": "code",
   "execution_count": 26,
   "metadata": {
    "code_folding": []
   },
   "outputs": [],
   "source": [
    "# Drop outlier\n",
    "to_drop = df[df.bedrooms == 33].index\n",
    "df = df.drop(to_drop)"
   ]
  },
  {
   "cell_type": "markdown",
   "metadata": {},
   "source": [
    "Longitude is in negative values, but I want to include it in my model, so I'm going to take the absolute value. This way I can normalize it later on."
   ]
  },
  {
   "cell_type": "code",
   "execution_count": 28,
   "metadata": {},
   "outputs": [],
   "source": [
    "# Take abs of longitude for normalization later on\n",
    "df.long = abs(df.long)"
   ]
  },
  {
   "cell_type": "markdown",
   "metadata": {},
   "source": [
    "Let's take another look at the summary statistics."
   ]
  },
  {
   "cell_type": "code",
   "execution_count": 30,
   "metadata": {},
   "outputs": [
    {
     "data": {
      "text/html": [
       "<div>\n",
       "<style scoped>\n",
       "    .dataframe tbody tr th:only-of-type {\n",
       "        vertical-align: middle;\n",
       "    }\n",
       "\n",
       "    .dataframe tbody tr th {\n",
       "        vertical-align: top;\n",
       "    }\n",
       "\n",
       "    .dataframe thead th {\n",
       "        text-align: right;\n",
       "    }\n",
       "</style>\n",
       "<table border=\"1\" class=\"dataframe\">\n",
       "  <thead>\n",
       "    <tr style=\"text-align: right;\">\n",
       "      <th></th>\n",
       "      <th>date</th>\n",
       "      <th>price</th>\n",
       "      <th>bedrooms</th>\n",
       "      <th>bathrooms</th>\n",
       "      <th>sqft_living</th>\n",
       "      <th>sqft_lot</th>\n",
       "      <th>floors</th>\n",
       "      <th>condition</th>\n",
       "      <th>grade</th>\n",
       "      <th>sqft_above</th>\n",
       "      <th>sqft_basement</th>\n",
       "      <th>yr_built</th>\n",
       "      <th>yr_renovated</th>\n",
       "      <th>zipcode</th>\n",
       "      <th>lat</th>\n",
       "      <th>long</th>\n",
       "      <th>sqft_living15</th>\n",
       "      <th>sqft_lot15</th>\n",
       "    </tr>\n",
       "  </thead>\n",
       "  <tbody>\n",
       "    <tr>\n",
       "      <td>count</td>\n",
       "      <td>21596.0</td>\n",
       "      <td>21596.0</td>\n",
       "      <td>21596.0</td>\n",
       "      <td>21596.0</td>\n",
       "      <td>21596.0</td>\n",
       "      <td>21596.0</td>\n",
       "      <td>21596.0</td>\n",
       "      <td>21596.0</td>\n",
       "      <td>21596.0</td>\n",
       "      <td>21596.0</td>\n",
       "      <td>21596.0</td>\n",
       "      <td>21596.0</td>\n",
       "      <td>21596.0</td>\n",
       "      <td>21596.0</td>\n",
       "      <td>21596.0</td>\n",
       "      <td>21596.0</td>\n",
       "      <td>21596.0</td>\n",
       "      <td>21596.0</td>\n",
       "    </tr>\n",
       "    <tr>\n",
       "      <td>mean</td>\n",
       "      <td>735901.0</td>\n",
       "      <td>540292.0</td>\n",
       "      <td>3.0</td>\n",
       "      <td>2.0</td>\n",
       "      <td>2080.0</td>\n",
       "      <td>15100.0</td>\n",
       "      <td>1.0</td>\n",
       "      <td>3.0</td>\n",
       "      <td>8.0</td>\n",
       "      <td>1789.0</td>\n",
       "      <td>286.0</td>\n",
       "      <td>1971.0</td>\n",
       "      <td>70.0</td>\n",
       "      <td>98078.0</td>\n",
       "      <td>48.0</td>\n",
       "      <td>122.0</td>\n",
       "      <td>1987.0</td>\n",
       "      <td>12759.0</td>\n",
       "    </tr>\n",
       "    <tr>\n",
       "      <td>std</td>\n",
       "      <td>113.0</td>\n",
       "      <td>367376.0</td>\n",
       "      <td>1.0</td>\n",
       "      <td>1.0</td>\n",
       "      <td>918.0</td>\n",
       "      <td>41414.0</td>\n",
       "      <td>1.0</td>\n",
       "      <td>1.0</td>\n",
       "      <td>1.0</td>\n",
       "      <td>828.0</td>\n",
       "      <td>440.0</td>\n",
       "      <td>29.0</td>\n",
       "      <td>364.0</td>\n",
       "      <td>54.0</td>\n",
       "      <td>0.0</td>\n",
       "      <td>0.0</td>\n",
       "      <td>685.0</td>\n",
       "      <td>27275.0</td>\n",
       "    </tr>\n",
       "    <tr>\n",
       "      <td>min</td>\n",
       "      <td>735721.0</td>\n",
       "      <td>78000.0</td>\n",
       "      <td>1.0</td>\n",
       "      <td>0.0</td>\n",
       "      <td>370.0</td>\n",
       "      <td>520.0</td>\n",
       "      <td>1.0</td>\n",
       "      <td>1.0</td>\n",
       "      <td>3.0</td>\n",
       "      <td>370.0</td>\n",
       "      <td>0.0</td>\n",
       "      <td>1900.0</td>\n",
       "      <td>1.0</td>\n",
       "      <td>98001.0</td>\n",
       "      <td>47.0</td>\n",
       "      <td>121.0</td>\n",
       "      <td>399.0</td>\n",
       "      <td>651.0</td>\n",
       "    </tr>\n",
       "    <tr>\n",
       "      <td>25%</td>\n",
       "      <td>735802.0</td>\n",
       "      <td>322000.0</td>\n",
       "      <td>3.0</td>\n",
       "      <td>2.0</td>\n",
       "      <td>1430.0</td>\n",
       "      <td>5040.0</td>\n",
       "      <td>1.0</td>\n",
       "      <td>3.0</td>\n",
       "      <td>7.0</td>\n",
       "      <td>1190.0</td>\n",
       "      <td>0.0</td>\n",
       "      <td>1951.0</td>\n",
       "      <td>1.0</td>\n",
       "      <td>98033.0</td>\n",
       "      <td>47.0</td>\n",
       "      <td>122.0</td>\n",
       "      <td>1490.0</td>\n",
       "      <td>5100.0</td>\n",
       "    </tr>\n",
       "    <tr>\n",
       "      <td>50%</td>\n",
       "      <td>735888.0</td>\n",
       "      <td>450000.0</td>\n",
       "      <td>3.0</td>\n",
       "      <td>2.0</td>\n",
       "      <td>1910.0</td>\n",
       "      <td>7619.0</td>\n",
       "      <td>2.0</td>\n",
       "      <td>3.0</td>\n",
       "      <td>7.0</td>\n",
       "      <td>1560.0</td>\n",
       "      <td>0.0</td>\n",
       "      <td>1975.0</td>\n",
       "      <td>1.0</td>\n",
       "      <td>98065.0</td>\n",
       "      <td>48.0</td>\n",
       "      <td>122.0</td>\n",
       "      <td>1840.0</td>\n",
       "      <td>7620.0</td>\n",
       "    </tr>\n",
       "    <tr>\n",
       "      <td>75%</td>\n",
       "      <td>736012.0</td>\n",
       "      <td>645000.0</td>\n",
       "      <td>4.0</td>\n",
       "      <td>2.0</td>\n",
       "      <td>2550.0</td>\n",
       "      <td>10686.0</td>\n",
       "      <td>2.0</td>\n",
       "      <td>4.0</td>\n",
       "      <td>8.0</td>\n",
       "      <td>2210.0</td>\n",
       "      <td>550.0</td>\n",
       "      <td>1997.0</td>\n",
       "      <td>1.0</td>\n",
       "      <td>98118.0</td>\n",
       "      <td>48.0</td>\n",
       "      <td>122.0</td>\n",
       "      <td>2360.0</td>\n",
       "      <td>10083.0</td>\n",
       "    </tr>\n",
       "    <tr>\n",
       "      <td>max</td>\n",
       "      <td>736111.0</td>\n",
       "      <td>7700000.0</td>\n",
       "      <td>11.0</td>\n",
       "      <td>8.0</td>\n",
       "      <td>13540.0</td>\n",
       "      <td>1651359.0</td>\n",
       "      <td>4.0</td>\n",
       "      <td>5.0</td>\n",
       "      <td>13.0</td>\n",
       "      <td>9410.0</td>\n",
       "      <td>4820.0</td>\n",
       "      <td>2015.0</td>\n",
       "      <td>2016.0</td>\n",
       "      <td>98199.0</td>\n",
       "      <td>48.0</td>\n",
       "      <td>123.0</td>\n",
       "      <td>6210.0</td>\n",
       "      <td>871200.0</td>\n",
       "    </tr>\n",
       "  </tbody>\n",
       "</table>\n",
       "</div>"
      ],
      "text/plain": [
       "           date      price  bedrooms  bathrooms  sqft_living   sqft_lot  \\\n",
       "count   21596.0    21596.0   21596.0    21596.0      21596.0    21596.0   \n",
       "mean   735901.0   540292.0       3.0        2.0       2080.0    15100.0   \n",
       "std       113.0   367376.0       1.0        1.0        918.0    41414.0   \n",
       "min    735721.0    78000.0       1.0        0.0        370.0      520.0   \n",
       "25%    735802.0   322000.0       3.0        2.0       1430.0     5040.0   \n",
       "50%    735888.0   450000.0       3.0        2.0       1910.0     7619.0   \n",
       "75%    736012.0   645000.0       4.0        2.0       2550.0    10686.0   \n",
       "max    736111.0  7700000.0      11.0        8.0      13540.0  1651359.0   \n",
       "\n",
       "        floors  condition    grade  sqft_above  sqft_basement  yr_built  \\\n",
       "count  21596.0    21596.0  21596.0     21596.0        21596.0   21596.0   \n",
       "mean       1.0        3.0      8.0      1789.0          286.0    1971.0   \n",
       "std        1.0        1.0      1.0       828.0          440.0      29.0   \n",
       "min        1.0        1.0      3.0       370.0            0.0    1900.0   \n",
       "25%        1.0        3.0      7.0      1190.0            0.0    1951.0   \n",
       "50%        2.0        3.0      7.0      1560.0            0.0    1975.0   \n",
       "75%        2.0        4.0      8.0      2210.0          550.0    1997.0   \n",
       "max        4.0        5.0     13.0      9410.0         4820.0    2015.0   \n",
       "\n",
       "       yr_renovated  zipcode      lat     long  sqft_living15  sqft_lot15  \n",
       "count       21596.0  21596.0  21596.0  21596.0        21596.0     21596.0  \n",
       "mean           70.0  98078.0     48.0    122.0         1987.0     12759.0  \n",
       "std           364.0     54.0      0.0      0.0          685.0     27275.0  \n",
       "min             1.0  98001.0     47.0    121.0          399.0       651.0  \n",
       "25%             1.0  98033.0     47.0    122.0         1490.0      5100.0  \n",
       "50%             1.0  98065.0     48.0    122.0         1840.0      7620.0  \n",
       "75%             1.0  98118.0     48.0    122.0         2360.0     10083.0  \n",
       "max          2016.0  98199.0     48.0    123.0         6210.0    871200.0  "
      ]
     },
     "execution_count": 30,
     "metadata": {},
     "output_type": "execute_result"
    }
   ],
   "source": [
    "# Summary stats \n",
    "df.describe().round()"
   ]
  },
  {
   "cell_type": "markdown",
   "metadata": {},
   "source": [
    "Price looks like it has some big outliers. The 75th percentile is \\\\$ 645,000 and the max is \\\\$ 7,700,000, which is \\\\$ 7M more. \n",
    "\n",
    "In addition, sqft_lot appears to have some big outliers with the 75th percentile being just 10,686 sq. ft. while the max is 1,651,359 sq. ft.\n",
    "\n",
    "Let's take a closer look at the percentiles for each so we can remove extreme outliers. "
   ]
  },
  {
   "cell_type": "code",
   "execution_count": 66,
   "metadata": {
    "code_folding": []
   },
   "outputs": [
    {
     "name": "stdout",
     "output_type": "stream",
     "text": [
      "0.0 percentile: 154000.0\n",
      "0.01 percentile: 175000.0\n",
      "0.99 percentile: 1603400.0000000014\n",
      "1.0 percentile: 1970000.0\n"
     ]
    }
   ],
   "source": [
    "# Percentiles for price\n",
    "\n",
    "# Define percentiles\n",
    "percentiles = [0,1,99,100]\n",
    "\n",
    "# Print them out\n",
    "for i in percentiles:\n",
    "    q = i/100\n",
    "    print(\"{} percentile: {}\".format(q, df.price.quantile(q=q)))"
   ]
  },
  {
   "cell_type": "code",
   "execution_count": 67,
   "metadata": {},
   "outputs": [
    {
     "name": "stdout",
     "output_type": "stream",
     "text": [
      "Percent removed: 0.0\n"
     ]
    }
   ],
   "source": [
    "# Remove extreme outliers in the lower and upper 1%\n",
    "\n",
    "# Get original length to see percent removed\n",
    "orig_tot = len(df)\n",
    "\n",
    "# Subset to remove extreme outliers\n",
    "df = df[(df.price >= 154000.0) & (df.price <= 1970000.0)] \n",
    "\n",
    "# Calculate percent removed\n",
    "print('Percent removed:', (orig_tot -len(df))/orig_tot)"
   ]
  },
  {
   "cell_type": "markdown",
   "metadata": {},
   "source": [
    "Now for sqft_lot."
   ]
  },
  {
   "cell_type": "code",
   "execution_count": 69,
   "metadata": {
    "code_folding": []
   },
   "outputs": [
    {
     "name": "stdout",
     "output_type": "stream",
     "text": [
      "0.0 percentile: 520.0\n",
      "0.01 percentile: 1010.6600000000001\n",
      "0.99 percentile: 213008.0\n",
      "1.0 percentile: 1651359.0\n"
     ]
    }
   ],
   "source": [
    "# Percentiles for sqft_lot\n",
    "\n",
    "# Print them out\n",
    "for i in percentiles:\n",
    "    q = i/100\n",
    "    print(\"{} percentile: {}\".format(q, df.sqft_lot.quantile(q=q)))"
   ]
  },
  {
   "cell_type": "code",
   "execution_count": 70,
   "metadata": {},
   "outputs": [
    {
     "name": "stdout",
     "output_type": "stream",
     "text": [
      "Percent removed: 0.019842207209335286\n"
     ]
    }
   ],
   "source": [
    "# Remove extreme outliers in the lower and upper 1%\n",
    "\n",
    "# Get original length to see percent removed\n",
    "orig_tot = len(df)\n",
    "\n",
    "# Subset to remove extreme outliers\n",
    "df = df[(df.sqft_lot >= 1010.61) & (df.sqft_lot <= 213008.0)]\n",
    "\n",
    "# Calculate percent removed\n",
    "print('Percent removed:', (orig_tot -len(df))/orig_tot)"
   ]
  },
  {
   "cell_type": "markdown",
   "metadata": {},
   "source": [
    "Alright, it looks like out data are pretty well cleaned up. Let's continue on with our exploratory data analysis so we can gain some valuable insights before we begin modeling.\n",
    "\n",
    "We'll start by looking at our feature distributions to see which ones appear to be normally distributed and which ones are skewed. That way we'll know which ones we're going to log transform.\n",
    "\n",
    "We'll also be able to see which features are categorical and if any features require binning."
   ]
  },
  {
   "cell_type": "code",
   "execution_count": 73,
   "metadata": {},
   "outputs": [
    {
     "data": {
      "image/png": "[encoded data removed]",
      "text/plain": [
       "<Figure size 1152x1152 with 20 Axes>"
      ]
     },
     "metadata": {
      "needs_background": "light"
     },
     "output_type": "display_data"
    }
   ],
   "source": [
    "# Check out feature distributions\n",
    "df.hist(figsize=(16,16) );"
   ]
  },
  {
   "cell_type": "code",
   "execution_count": 79,
   "metadata": {},
   "outputs": [
    {
     "data": {
      "text/plain": [
       "370"
      ]
     },
     "execution_count": 79,
     "metadata": {},
     "output_type": "execute_result"
    }
   ],
   "source": [
    "df.sqft_above.min()"
   ]
  },
  {
   "cell_type": "markdown",
   "metadata": {},
   "source": [
    "### 'sqft_basement'"
   ]
  },
  {
   "cell_type": "code",
   "execution_count": null,
   "metadata": {},
   "outputs": [],
   "source": [
    "sns.regplot(df[df.sqft_basement >= 110].sqft_basement,df[df.sqft_basement >= 110].price);"
   ]
  },
  {
   "cell_type": "markdown",
   "metadata": {},
   "source": [
    "Only 8,317 of the 32,000+ homes have basements, so we're going to bin them. I used zero as one bin and then did a quartile split for all the 'sqft_basement' values for homes with basements. "
   ]
  },
  {
   "cell_type": "code",
   "execution_count": null,
   "metadata": {
    "code_folding": []
   },
   "outputs": [],
   "source": [
    "# # Bin 'sqft_basement' starting at the min square footage for homes with a basement\n",
    "# bins = pd.qcut(df.sqft_basement[df.sqft_basement >= 110],q=4)\n",
    "# bins.value_counts()"
   ]
  },
  {
   "cell_type": "code",
   "execution_count": null,
   "metadata": {
    "code_folding": []
   },
   "outputs": [],
   "source": [
    "# Bin sqft_basement\n",
    "\n",
    "bins_sqft_basement = [0,109,450,980,5000]\n",
    "\n",
    "# Bin data & return dummies\n",
    "def binned_dummies(data, features, bins):\n",
    "    data_bins = pd.cut(data, bins)\n",
    "    data_bins = data_bins.cat.as_unordered()\n",
    "    dummies = pd.get_dummies(data_bins, prefix = features, drop_first=True)\n",
    "    return dummies\n",
    "\n",
    "dummies_sqft_basement = binned_dummies(df.sqft_basement,'sqft_basement', bins_sqft_basement)\n",
    "\n",
    "# Remove original column from data set\n",
    "df = df.drop(['sqft_basement'], axis=1)\n",
    "                                            \n",
    "# Add new columns in\n",
    "df = pd.concat([df, dummies_sqft_basement], axis=1)"
   ]
  },
  {
   "cell_type": "code",
   "execution_count": null,
   "metadata": {
    "code_folding": []
   },
   "outputs": [],
   "source": [
    "# plt.hist(df.grade);"
   ]
  },
  {
   "cell_type": "code",
   "execution_count": null,
   "metadata": {},
   "outputs": [],
   "source": [
    "# plt.hist(df.condition);"
   ]
  },
  {
   "cell_type": "code",
   "execution_count": null,
   "metadata": {},
   "outputs": [],
   "source": [
    "# df.condition.describe()"
   ]
  },
  {
   "cell_type": "code",
   "execution_count": null,
   "metadata": {},
   "outputs": [],
   "source": [
    "# plt.hist(df.long);"
   ]
  },
  {
   "cell_type": "markdown",
   "metadata": {},
   "source": [
    "Explore the data and check for any outliers."
   ]
  },
  {
   "cell_type": "code",
   "execution_count": null,
   "metadata": {},
   "outputs": [],
   "source": [
    "# round(df.describe(),1)"
   ]
  },
  {
   "cell_type": "markdown",
   "metadata": {},
   "source": [
    "'sqft_lot' seems to have a major outlier at 1,651,359 sqft. Let's take a closer look."
   ]
  },
  {
   "cell_type": "code",
   "execution_count": null,
   "metadata": {
    "code_folding": [
     0
    ]
   },
   "outputs": [],
   "source": [
    "# print(df.sqft_lot.median())\n",
    "# display(df.sort_values(by='sqft_lot', ascending=False).head(5))"
   ]
  },
  {
   "cell_type": "markdown",
   "metadata": {},
   "source": [
    "This appears to be the highest, but not necessarily an outlier. Let's go ahead and leave it for now. "
   ]
  },
  {
   "cell_type": "code",
   "execution_count": null,
   "metadata": {},
   "outputs": [],
   "source": [
    "# df.long.describe()"
   ]
  },
  {
   "cell_type": "code",
   "execution_count": null,
   "metadata": {},
   "outputs": [],
   "source": [
    "# plt.hist(df.long);"
   ]
  },
  {
   "cell_type": "markdown",
   "metadata": {},
   "source": [
    "## Normalize, MinMax Scale, Standardize, \n",
    "One-Hot Encode"
   ]
  },
  {
   "cell_type": "markdown",
   "metadata": {},
   "source": [
    "First, check for normality, heteroscedasticity & discover categorical data. Can get a good idea of categorical features from looking at the data above, but let's explore normality, categorical and any relationships using a pairplot."
   ]
  },
  {
   "cell_type": "code",
   "execution_count": null,
   "metadata": {},
   "outputs": [],
   "source": [
    "# Commented out because takes a long time to run\n",
    "#sns.pairplot(df)"
   ]
  },
  {
   "cell_type": "markdown",
   "metadata": {},
   "source": [
    "While 'condition' and 'grade' are technically categorical, they are on a scale, so I am going to leave them as is, and will min-max scale them. "
   ]
  },
  {
   "cell_type": "code",
   "execution_count": null,
   "metadata": {},
   "outputs": [],
   "source": [
    "# Normalize Data\n",
    "\n",
    "# Log Transform \n",
    "\n",
    "# Continuous variables\n",
    "features = ['date','price','sqft_living','lat','long','bedrooms',\n",
    "            'bathrooms','floors','condition','grade','sqft_lot',\n",
    "            'sqft_above','yr_built','yr_renovated','sqft_living15',\n",
    "            'sqft_lot15','zipcode']\n",
    "\n",
    "df_cont_features = df[features]\n",
    "\n",
    "# Add '_log' to continuous variable column names\n",
    "#log_names = [f'{column}_log' for column in df_cont_features.columns]\n",
    "\n",
    "# Log transform continuous variables\n",
    "df_log = np.log(df_cont_features)\n",
    "#df_log.columns = log_names\n",
    "\n",
    "\n",
    "### Normalize (subract mean and divide by std)\n",
    "\n",
    "# Define function to normalize\n",
    "def normalize(feature):\n",
    "    return (feature - feature.mean()) / feature.std()\n",
    "\n",
    "# Apply function to normalize\n",
    "df_log_norm = df_log.apply(normalize)\n",
    "\n",
    "# Define function to min-max scale\n",
    "def minmaxscale(feature):\n",
    "    return (feature-min(feature))/(max(feature)-min(feature))\n",
    "\n",
    "# Apply function to min-max scale\n",
    "df_log_norm_scale = df_log.apply(minmaxscale)\n",
    "\n",
    "# Remove original column from data set\n",
    "df = df.drop(features, axis=1)\n",
    "\n",
    "# Add new columns in\n",
    "df = pd.concat([df, df_log_norm_scale], axis=1) "
   ]
  },
  {
   "cell_type": "code",
   "execution_count": null,
   "metadata": {},
   "outputs": [],
   "source": [
    "# df.head()"
   ]
  },
  {
   "cell_type": "markdown",
   "metadata": {},
   "source": [
    "## Check for Multicollinearity "
   ]
  },
  {
   "cell_type": "markdown",
   "metadata": {},
   "source": [
    "### Multicollinearity"
   ]
  },
  {
   "cell_type": "code",
   "execution_count": null,
   "metadata": {
    "code_folding": []
   },
   "outputs": [],
   "source": [
    "# Take a look at the correlation matrix to check for multicollinearity\n",
    "abs(df.corr()) > 0.75"
   ]
  },
  {
   "cell_type": "code",
   "execution_count": null,
   "metadata": {
    "code_folding": [
     0
    ],
    "scrolled": false
   },
   "outputs": [],
   "source": [
    "# # Check & see if sqft_lot15 & sqft_living15 are correlated with sqft_lot & sqft_living\n",
    "# sns.regplot(df.sqft_lot,df.sqft_lot15)\n",
    "# plt.show()\n",
    "# sns.regplot(df.sqft_living,df.sqft_living15)\n",
    "# plt.show()"
   ]
  },
  {
   "cell_type": "markdown",
   "metadata": {},
   "source": [
    "We can see that 'sqft_lot15' & 'sqft_living15' are correlated with 'sqft_lot' & 'sqft_living', which makes sense because the features appended with 15 represent the average of the 15 nearest neighbors. \n",
    "\n",
    "We will remove these values to prevent multicollinearity in our model. "
   ]
  },
  {
   "cell_type": "code",
   "execution_count": null,
   "metadata": {
    "code_folding": [
     0
    ]
   },
   "outputs": [],
   "source": [
    "# # Remove sqft_lot15 & sqft_living15\n",
    "# df = df.drop(['sqft_lot15','sqft_living15'], axis=1)"
   ]
  },
  {
   "cell_type": "code",
   "execution_count": null,
   "metadata": {
    "code_folding": [
     0
    ]
   },
   "outputs": [],
   "source": [
    "# # Take a look at the correlation matrix to check for multicollinearity\n",
    "# df.corr() > 0.75"
   ]
  },
  {
   "cell_type": "markdown",
   "metadata": {},
   "source": [
    "We can see here that 'sqft_living' seems to be highly correlated with multiple features such as 'bathrooms', 'grade', and 'sqft_above'. 'sqft_living' represents the square footage of the entire home and seems that it would be a strong indicator of home price. The squarefoot of other features are essentially subsets of the overall home squarefootage. So for now I am going to remove it. However, it could be kept in place and other features removed later on to see if this improves the overall performance of the model."
   ]
  },
  {
   "cell_type": "code",
   "execution_count": null,
   "metadata": {
    "code_folding": [
     0
    ]
   },
   "outputs": [],
   "source": [
    "# # Remove 'sqft_living' to prevent multicollinearity \n",
    "# # as it is highly correlated with multiple features\n",
    "\n",
    "# df = df.drop(['sqft_living'], axis=1)"
   ]
  },
  {
   "cell_type": "code",
   "execution_count": null,
   "metadata": {},
   "outputs": [],
   "source": [
    "# abs(df.corr()) > 0.75"
   ]
  },
  {
   "cell_type": "markdown",
   "metadata": {},
   "source": [
    "It looks like 'sqft_above' and 'grade' are highly correlated, so we should only keep one to prevent multicollinearity. \n",
    "\n",
    "For now I'm going to keep 'sqft_above', but can also test removing 'sqft_above' and one-hot-encoding 'grade' later on to see if it improves performance of the model. "
   ]
  },
  {
   "cell_type": "code",
   "execution_count": null,
   "metadata": {
    "code_folding": [
     0
    ]
   },
   "outputs": [],
   "source": [
    "# # We can see the relationship here between 'sqft_above' and 'grade', it appears to possibly\n",
    "# # be polynomial. While grade is categorical, it is continuous\n",
    "# sns.regplot(df.grade,df.sqft_above);"
   ]
  },
  {
   "cell_type": "markdown",
   "metadata": {},
   "source": [
    "Since the relationship looks slightly polynomial, and 'grade' technically is categorical, I want to look at their distributions to further explore the relationship. Let's look at the histograms/distplot."
   ]
  },
  {
   "cell_type": "code",
   "execution_count": null,
   "metadata": {
    "code_folding": [
     0
    ]
   },
   "outputs": [],
   "source": [
    "# sns.distplot(df.sqft_above)\n",
    "# plt.show()\n",
    "# plt.hist(df.grade)\n",
    "# plt.show()"
   ]
  },
  {
   "cell_type": "markdown",
   "metadata": {},
   "source": [
    "Both do appear to be skewed in the same direction, so perhaps they are linearly related. Okay, I will remove grade. "
   ]
  },
  {
   "cell_type": "code",
   "execution_count": null,
   "metadata": {},
   "outputs": [],
   "source": [
    "# df = df.drop(['grade'], axis=1)"
   ]
  },
  {
   "cell_type": "code",
   "execution_count": null,
   "metadata": {},
   "outputs": [],
   "source": [
    "# df.head()"
   ]
  },
  {
   "cell_type": "markdown",
   "metadata": {},
   "source": [
    "### Separate Target & Feature Variables"
   ]
  },
  {
   "cell_type": "code",
   "execution_count": null,
   "metadata": {},
   "outputs": [],
   "source": [
    "# Separate target and feature variables\n",
    "\n",
    "X = df.drop(['price'],axis=1)\n",
    "y = df.price"
   ]
  },
  {
   "cell_type": "markdown",
   "metadata": {},
   "source": [
    "# Start Modeling"
   ]
  },
  {
   "cell_type": "markdown",
   "metadata": {},
   "source": [
    "## First with Scikit Learn"
   ]
  },
  {
   "cell_type": "code",
   "execution_count": null,
   "metadata": {},
   "outputs": [],
   "source": [
    "# Import train_test_split from sklearn\n",
    "from sklearn.model_selection import train_test_split\n",
    "\n",
    "# Split data with test size of 20%\n",
    "X_train, X_test, y_train, y_test = train_test_split(X, y, test_size=0.20)"
   ]
  },
  {
   "cell_type": "code",
   "execution_count": null,
   "metadata": {},
   "outputs": [],
   "source": [
    "# Fit Model & Calculate Predictions\n",
    "\n",
    "# Import Packages\n",
    "from sklearn.linear_model import LinearRegression\n",
    "from sklearn.metrics import mean_squared_error, make_scorer\n",
    "\n",
    "# Initialize the linear regression model class\n",
    "linreg = LinearRegression()\n",
    "\n",
    "# Fit the model to train data\n",
    "linreg.fit(X_train, y_train)\n",
    "\n",
    "# Calculate predictions on test set\n",
    "y_hat_test = linreg.predict(X_test)\n",
    "\n",
    "# Calculate RMSE of test set\n",
    "test_mse = mean_squared_error(y_test, y_hat_test)\n",
    "\n",
    "# Assign coefficients & intercept\n",
    "intercept=linreg.intercept_\n",
    "coefficients=linreg.coef_\n",
    "\n",
    "# Output y-int, coeffs & RMSE of the test set\n",
    "print(f\"y-int: {intercept}\")\n",
    "print(f\"coeffs: {coefficients}\")\n",
    "print(f\"MSE test: {test_mse}\")"
   ]
  },
  {
   "cell_type": "markdown",
   "metadata": {},
   "source": [
    "### Cross-validate Model"
   ]
  },
  {
   "cell_type": "code",
   "execution_count": null,
   "metadata": {},
   "outputs": [],
   "source": [
    "# Cross-validate & Output RMSE & R^2 \n",
    "\n",
    "# Import Packages\n",
    "from sklearn.model_selection import cross_val_score\n",
    "\n",
    "# Cross-validate Model\n",
    "\n",
    "# Test Errors\n",
    "mse = make_scorer(mean_squared_error)\n",
    "cv_5_results = cross_val_score(linreg, X, y, cv=5, scoring=mse)\n",
    "print(f\"Crossval MSE: {cv_5_results.mean()}\")\n",
    "\n",
    "# R-squared\n",
    "from sklearn.model_selection import KFold\n",
    "crossval = KFold(n_splits=10, shuffle=True, random_state=1)\n",
    "baseline_R2 = np.mean(cross_val_score(linreg, X, y, scoring='r2', cv=crossval))\n",
    "print(f\"Baseline R^2: {baseline_R2}\")"
   ]
  },
  {
   "cell_type": "markdown",
   "metadata": {},
   "source": [
    "## Now with OLS"
   ]
  },
  {
   "cell_type": "markdown",
   "metadata": {},
   "source": [
    "### Model 1: All Features w/o Interactions"
   ]
  },
  {
   "cell_type": "code",
   "execution_count": null,
   "metadata": {},
   "outputs": [],
   "source": [
    "# Fit Model & Output Regression Results Summary\n",
    "\n",
    "# Import Package\n",
    "import statsmodels.api as sm\n",
    "from statsmodels.api import add_constant\n",
    "\n",
    "# Build Model\n",
    "X = sm.add_constant(X)\n",
    "model1 = sm.OLS(y,X)\n",
    "results1 = model1.fit()\n",
    "\n",
    "# MSE of the residuals\n",
    "print(f\"MSE: {results1.mse_resid}\")\n",
    "\n",
    "# Output Results\n",
    "results1.summary()"
   ]
  },
  {
   "cell_type": "markdown",
   "metadata": {},
   "source": [
    "We can see here that 'sqft_lot' is no longer significant. We can remove that, but first let's take a look at the residuals and the coefficients."
   ]
  },
  {
   "cell_type": "markdown",
   "metadata": {},
   "source": [
    "### Q-Q Plot of the Model Residuals\n",
    "\n",
    "Test for normality assumption."
   ]
  },
  {
   "cell_type": "code",
   "execution_count": null,
   "metadata": {
    "code_folding": [],
    "scrolled": true
   },
   "outputs": [],
   "source": [
    "# Q-Q Plot\n",
    "\n",
    "# Define function \n",
    "def qqplot(results):\n",
    "    '''\n",
    "    Takes in OLS Regression Results and outputs q-q plot \n",
    "    of the model residuals.\n",
    "    '''\n",
    "    fig = sm.graphics.qqplot(results.resid, dist=stats.norm, line='45', fit=True)\n",
    "    return plt.show()"
   ]
  },
  {
   "cell_type": "code",
   "execution_count": null,
   "metadata": {},
   "outputs": [],
   "source": [
    "qqplot(results1)"
   ]
  },
  {
   "cell_type": "markdown",
   "metadata": {},
   "source": [
    "Looks good. We previously removed extreme outliers during the cleaning of the data. There may still be some, but in order to preserve as much of the data as possible, this looks pretty good and we can leave it as is (not remove more outliers)."
   ]
  },
  {
   "cell_type": "markdown",
   "metadata": {},
   "source": [
    "### Residuals vs. Fitted Plot \n",
    "\n",
    "Test for heteroskedasticity."
   ]
  },
  {
   "cell_type": "code",
   "execution_count": null,
   "metadata": {
    "code_folding": [
     2
    ]
   },
   "outputs": [],
   "source": [
    "# Plot model residuals vs. fitted to test for heteroskedasticity\n",
    "\n",
    "def heterosk(results):\n",
    "    '''\n",
    "    Takes in results from the fitted model and outputs a plot \n",
    "    of the residuals vs. the fitted values. \n",
    "    '''\n",
    "    plt.scatter(results.fittedvalues, results.resid, alpha=0.5,s=5)\n",
    "    plt.plot(results.fittedvalues, [0 for i in range(len(results.fittedvalues))]);\n",
    "    return plt.show()"
   ]
  },
  {
   "cell_type": "code",
   "execution_count": null,
   "metadata": {},
   "outputs": [],
   "source": [
    "heterosk(results1)"
   ]
  },
  {
   "cell_type": "markdown",
   "metadata": {},
   "source": [
    "Looks homoskedastic rather than heteroskedastic. Looks good. "
   ]
  },
  {
   "cell_type": "code",
   "execution_count": null,
   "metadata": {
    "code_folding": [
     2
    ]
   },
   "outputs": [],
   "source": [
    "# Define function to output plot of the model coefficients\n",
    "\n",
    "def coefplot(results):\n",
    "    '''\n",
    "    Takes in results of OLS model and returns a plot of \n",
    "    the coefficients with 95% confidence intervals.\n",
    "    \n",
    "    Removes intercept, so if uncentered will return error.\n",
    "    '''\n",
    "    # Create dataframe of results summary \n",
    "    coef_df = pd.DataFrame(results.summary().tables[1].data)\n",
    "    \n",
    "    # Add column names\n",
    "    coef_df.columns = coef_df.iloc[0]\n",
    "\n",
    "    # Drop the extra row with column labels\n",
    "    coef_df=coef_df.drop(0)\n",
    "\n",
    "    # Set index to variable names \n",
    "    coef_df = coef_df.set_index(coef_df.columns[0])\n",
    "\n",
    "    # Change datatype from object to float\n",
    "    coef_df = coef_df.astype(float)\n",
    "\n",
    "    # Get errors; (coef - lower bound of conf interval)\n",
    "    errors = coef_df['coef'] - coef_df['[0.025']\n",
    "    \n",
    "    # Append errors column to dataframe\n",
    "    coef_df['errors'] = errors\n",
    "\n",
    "    # Drop the constant for plotting\n",
    "    coef_df = coef_df.drop(['const'])\n",
    "\n",
    "    # Sort values by coef ascending\n",
    "    coef_df = coef_df.sort_values(by=['coef'])\n",
    "\n",
    "    ### Plot Coefficients ###\n",
    "\n",
    "    # x-labels\n",
    "    variables = list(coef_df.index.values)\n",
    "    \n",
    "    # Add variables column to dataframe\n",
    "    coef_df['variables'] = variables\n",
    "\n",
    "    # Define figure, axes, and plot\n",
    "    fig, ax = plt.subplots(figsize=(15, 10))\n",
    "    # Error bars for 95% confidence interval\n",
    "    coef_df.plot(x='variables', y='coef', kind='bar',\n",
    "                 ax=ax, color='none', fontsize=18, \n",
    "                 ecolor='black',capsize=7,\n",
    "                 yerr='errors', legend=False)\n",
    "    # Set title & labels\n",
    "    plt.title('')\n",
    "    ax.set_ylabel('Coefficients',fontsize=18)\n",
    "    ax.set_xlabel('Features',fontsize=18)\n",
    "    # Coefficients\n",
    "    ax.scatter(x=pd.np.arange(coef_df.shape[0]), \n",
    "               marker='s', s=40, \n",
    "               y=coef_df['coef'], color='black')\n",
    "    # Line to define zero on the y-axis\n",
    "    ax.axhline(y=0, linestyle='--', color='red', linewidth=1);\n",
    "    return plt.show()"
   ]
  },
  {
   "cell_type": "markdown",
   "metadata": {},
   "source": [
    "Let's check out the residuals. I'm excited to see which coefficients have the greatest effect on the price of a house. (The highest coefficient that is.)"
   ]
  },
  {
   "cell_type": "code",
   "execution_count": null,
   "metadata": {},
   "outputs": [],
   "source": [
    "# Plot coefficients w/95% confidence intervals for Model 1\n",
    "coefplot(results1)"
   ]
  },
  {
   "cell_type": "markdown",
   "metadata": {},
   "source": [
    "No big suprise here. As we guessed earlier, it appears to be grade. This makes sense as higher grade is more of a luxury home and we could see the relationship appeared to be slightly exponential. \n",
    "\n",
    "We could add this as a polynomial feature instead and see how the model does, but our R^2 looks pretty good and we are able to interpret results. If need be we can always revisit later. For now let's keep moving along.\n",
    "\n",
    "Next we'll take a look at the interactions between our feature variables to see if there are any interactions going on that better predict price than the features alone."
   ]
  },
  {
   "cell_type": "markdown",
   "metadata": {},
   "source": [
    "### Interactions"
   ]
  },
  {
   "cell_type": "code",
   "execution_count": null,
   "metadata": {},
   "outputs": [],
   "source": [
    "# Import package we'll be using\n",
    "from itertools import combinations\n",
    "\n",
    "# Find top interactions using R^2 value\n",
    "\n",
    "# Use combinations from itertools to create all possible combinations of two features\n",
    "feat_combinations = combinations(X_train.columns, 2)\n",
    "\n",
    "# Initiate empty list to fill for interactons values\n",
    "interactions = []\n",
    "\n",
    "# for i, (feature1,feature2) in feature_combinations:\n",
    "for i, (a, b) in enumerate(feat_combinations):\n",
    "    # fill interatctions list with feature a * feature b\n",
    "    X_train['interaction'] = X_train[a] * X_train[b]\n",
    "    R2 = np.mean(cross_val_score(linreg, X_train, y_train, scoring='r2', cv=crossval))\n",
    "    if R2 > baseline_R2:\n",
    "        interactions.append((a, b, round(R2,5)))\n",
    "\n",
    "# Print out the top 5 interactions\n",
    "print('Top 5 interactions: %s' %sorted(interactions, key=lambda inter: inter[2], reverse=True)[:5])"
   ]
  },
  {
   "cell_type": "markdown",
   "metadata": {},
   "source": [
    "We can see here that the top 3 interactions are all between sqft_living, grade, and bathrooms. This is affirming as we could see in our EDA that these three each had apparent relationships with price.\n",
    "\n",
    "\"Top 3 interactions: [('sqft_living_log', 'grade_log', 0.74664), ('bathrooms_log', 'grade_log', 0.7455), ('sqft_living_log', 'bathrooms_log', 0.74479)]\". Each time we run this model, sometimes the 3rd one switches, but this is the one that outputs the most, so we're going to go ahead with these three.\n",
    "\n",
    "Let's add these interactions into our model one at a time to see how they affect the R^2 and MSE values of our model."
   ]
  },
  {
   "cell_type": "markdown",
   "metadata": {},
   "source": [
    "### Model 1: All Features w/Top 3 Interactions"
   ]
  },
  {
   "cell_type": "code",
   "execution_count": null,
   "metadata": {},
   "outputs": [],
   "source": [
    "#Build a final model with interactions\n",
    "\n",
    "final = X.copy()\n",
    "\n",
    "final['sqft_living*grade'] = final['sqft_living'] * final['grade']\n",
    "final['bathrooms*grade'] = final['bathrooms'] * final['grade']\n",
    "final['sqft_living*bathrooms'] = final['sqft_living'] * final['bathrooms']"
   ]
  },
  {
   "cell_type": "code",
   "execution_count": null,
   "metadata": {},
   "outputs": [],
   "source": [
    "# Build Model\n",
    "\n",
    "final = sm.add_constant(final)\n",
    "model = sm.OLS(y,final)\n",
    "results2a = model.fit()\n",
    "\n",
    "# MSE of the residuals\n",
    "print(f\"MSE: {results2a.mse_resid}\")\n",
    "\n",
    "results2a.summary()"
   ]
  },
  {
   "cell_type": "markdown",
   "metadata": {},
   "source": [
    "We can see that sqft_lot is no longer significant. Let's go ahead and remove it and see how it affects our model."
   ]
  },
  {
   "cell_type": "code",
   "execution_count": null,
   "metadata": {
    "code_folding": []
   },
   "outputs": [],
   "source": [
    "final = final.drop(['sqft_lot'], axis=1)"
   ]
  },
  {
   "cell_type": "code",
   "execution_count": null,
   "metadata": {},
   "outputs": [],
   "source": [
    "# Build Model\n",
    "\n",
    "final = sm.add_constant(final)\n",
    "model = sm.OLS(y,final)\n",
    "results2b = model.fit()\n",
    "\n",
    "# MSE of the residuals\n",
    "print(f\"MSE: {results2b.mse_resid}\")\n",
    "\n",
    "results2b.summary()"
   ]
  },
  {
   "cell_type": "code",
   "execution_count": null,
   "metadata": {},
   "outputs": [],
   "source": [
    "# Plot q-q for Model 2 residuals\n",
    "qqplot(results2b)"
   ]
  },
  {
   "cell_type": "code",
   "execution_count": null,
   "metadata": {},
   "outputs": [],
   "source": [
    "# Plot coefficients w/95% confidence intervals for Model 2\n",
    "coefplot(results2b)"
   ]
  },
  {
   "cell_type": "markdown",
   "metadata": {},
   "source": [
    "### Model 3: All Features w/Top 5 Interactions"
   ]
  },
  {
   "cell_type": "markdown",
   "metadata": {},
   "source": [
    "Since the top 5 interactions were all so close to each other in R^2 values, I'm curious to see how the Model performs with all 5, and if we can gain any additional insights with the resulting coefficients."
   ]
  },
  {
   "cell_type": "code",
   "execution_count": null,
   "metadata": {},
   "outputs": [],
   "source": [
    "# Add 4th & 5th ranked interactions\n",
    "final['sqft_living*sqft_above'] = final['sqft_living'] * final['sqft_above']\n",
    "final['grade*sqft_above'] = final['grade'] * final['sqft_above']"
   ]
  },
  {
   "cell_type": "code",
   "execution_count": null,
   "metadata": {},
   "outputs": [],
   "source": [
    "# Build Model 3\n",
    "\n",
    "final_const = sm.add_constant(final)\n",
    "model = sm.OLS(y,final_const)\n",
    "results3 = model.fit()\n",
    "\n",
    "# MSE of the residuals\n",
    "print(f\"MSE: {results3.mse_resid}\")\n",
    "\n",
    "results3.summary()"
   ]
  },
  {
   "cell_type": "code",
   "execution_count": null,
   "metadata": {},
   "outputs": [],
   "source": [
    "# Plot q-q for Model 3 residuals\n",
    "qqplot(results3)\n",
    "\n",
    "# Plot coefficients w/95% confidence intervals for Model 3\n",
    "coefplot(results3)"
   ]
  },
  {
   "cell_type": "markdown",
   "metadata": {},
   "source": [
    "## Further Research"
   ]
  },
  {
   "cell_type": "markdown",
   "metadata": {},
   "source": [
    "There appears to be a neighborhood effect. It would be great to explore the different neighborhoods by creating a map or conducting a cluster analysis [look up cluster analysis to see if it's fitting here] that shows the different neighborhoods and home prices.\n",
    "\n",
    "Getting a good deal on an older home or lower grade home that's in a higher price range neighborhood, or perhaps on the fringe of such a neighborhood, and upgrading its grade through utilizing high-end materials and luxury appliances would greatly increase the value of a home and thus the return on investment.\n",
    "\n",
    "The data in this model were normalized (log transformed) and min-max scaled to meet the normality assumption and so all features could be equally compared. For further research it would be great to create a model that may not meet the normality assumption, but without normalized data so one could enter in the prospective home details along with the grade intended to upgrade to and estimate the amount of value the upgrade would add to the home. "
   ]
  },
  {
   "cell_type": "code",
   "execution_count": null,
   "metadata": {},
   "outputs": [],
   "source": []
  }
 ],
 "metadata": {
  "kernelspec": {
   "display_name": "Python [conda env:learn-env] *",
   "language": "python",
   "name": "conda-env-learn-env-py"
  },
  "language_info": {
   "codemirror_mode": {
    "name": "ipython",
    "version": 3
   },
   "file_extension": ".py",
   "mimetype": "text/x-python",
   "name": "python",
   "nbconvert_exporter": "python",
   "pygments_lexer": "ipython3",
   "version": "3.6.9"
  }
 },
 "nbformat": 4,
 "nbformat_minor": 2
}
